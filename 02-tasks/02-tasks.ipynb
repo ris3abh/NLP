{
  "nbformat": 4,
  "nbformat_minor": 0,
  "metadata": {
    "colab": {
      "name": "02-tasks.ipynb",
      "provenance": [],
      "collapsed_sections": []
    },
    "kernelspec": {
      "display_name": "Python 3",
      "language": "python",
      "name": "python3"
    },
    "language_info": {
      "codemirror_mode": {
        "name": "ipython",
        "version": 3
      },
      "file_extension": ".py",
      "mimetype": "text/x-python",
      "name": "python",
      "nbconvert_exporter": "python",
      "pygments_lexer": "ipython3",
      "version": "3.8.5"
    },
    "widgets": {
      "application/vnd.jupyter.widget-state+json": {
        "5bbc64feca94488c830c4ecc378456f6": {
          "model_module": "@jupyter-widgets/controls",
          "model_name": "HBoxModel",
          "state": {
            "_dom_classes": [],
            "_model_module": "@jupyter-widgets/controls",
            "_model_module_version": "1.5.0",
            "_model_name": "HBoxModel",
            "_view_count": null,
            "_view_module": "@jupyter-widgets/controls",
            "_view_module_version": "1.5.0",
            "_view_name": "HBoxView",
            "box_style": "",
            "children": [
              "IPY_MODEL_c7e20ed063ef4a95b6b8b43bd26dd04f",
              "IPY_MODEL_6da507469153466e8cb977a3b8941d1e"
            ],
            "layout": "IPY_MODEL_b8d83618980d4a56841be47c75442f0f"
          }
        },
        "b8d83618980d4a56841be47c75442f0f": {
          "model_module": "@jupyter-widgets/base",
          "model_name": "LayoutModel",
          "state": {
            "_model_module": "@jupyter-widgets/base",
            "_model_module_version": "1.2.0",
            "_model_name": "LayoutModel",
            "_view_count": null,
            "_view_module": "@jupyter-widgets/base",
            "_view_module_version": "1.2.0",
            "_view_name": "LayoutView",
            "align_content": null,
            "align_items": null,
            "align_self": null,
            "border": null,
            "bottom": null,
            "display": null,
            "flex": null,
            "flex_flow": null,
            "grid_area": null,
            "grid_auto_columns": null,
            "grid_auto_flow": null,
            "grid_auto_rows": null,
            "grid_column": null,
            "grid_gap": null,
            "grid_row": null,
            "grid_template_areas": null,
            "grid_template_columns": null,
            "grid_template_rows": null,
            "height": null,
            "justify_content": null,
            "justify_items": null,
            "left": null,
            "margin": null,
            "max_height": null,
            "max_width": null,
            "min_height": null,
            "min_width": null,
            "object_fit": null,
            "object_position": null,
            "order": null,
            "overflow": null,
            "overflow_x": null,
            "overflow_y": null,
            "padding": null,
            "right": null,
            "top": null,
            "visibility": null,
            "width": null
          }
        },
        "c7e20ed063ef4a95b6b8b43bd26dd04f": {
          "model_module": "@jupyter-widgets/controls",
          "model_name": "FloatProgressModel",
          "state": {
            "_dom_classes": [],
            "_model_module": "@jupyter-widgets/controls",
            "_model_module_version": "1.5.0",
            "_model_name": "FloatProgressModel",
            "_view_count": null,
            "_view_module": "@jupyter-widgets/controls",
            "_view_module_version": "1.5.0",
            "_view_name": "ProgressView",
            "bar_style": "success",
            "description": "Downloading: ",
            "description_tooltip": null,
            "layout": "IPY_MODEL_c36749224af749e3a3a6d9a790cc1849",
            "max": 2603,
            "min": 0,
            "orientation": "horizontal",
            "style": "IPY_MODEL_4f20803af1fb4f13bca74b6325a35a95",
            "value": 2603
          }
        },
        "6da507469153466e8cb977a3b8941d1e": {
          "model_module": "@jupyter-widgets/controls",
          "model_name": "HTMLModel",
          "state": {
            "_dom_classes": [],
            "_model_module": "@jupyter-widgets/controls",
            "_model_module_version": "1.5.0",
            "_model_name": "HTMLModel",
            "_view_count": null,
            "_view_module": "@jupyter-widgets/controls",
            "_view_module_version": "1.5.0",
            "_view_name": "HTMLView",
            "description": "",
            "description_tooltip": null,
            "layout": "IPY_MODEL_5efbe28ce1a14f39bda75cbf195f75ee",
            "placeholder": "​",
            "style": "IPY_MODEL_b5c69b89981a483d946d52f2401673cb",
            "value": " 9.52k/? [00:00&lt;00:00, 12.3kB/s]"
          }
        },
        "4f20803af1fb4f13bca74b6325a35a95": {
          "model_module": "@jupyter-widgets/controls",
          "model_name": "ProgressStyleModel",
          "state": {
            "_model_module": "@jupyter-widgets/controls",
            "_model_module_version": "1.5.0",
            "_model_name": "ProgressStyleModel",
            "_view_count": null,
            "_view_module": "@jupyter-widgets/base",
            "_view_module_version": "1.2.0",
            "_view_name": "StyleView",
            "bar_color": null,
            "description_width": "initial"
          }
        },
        "c36749224af749e3a3a6d9a790cc1849": {
          "model_module": "@jupyter-widgets/base",
          "model_name": "LayoutModel",
          "state": {
            "_model_module": "@jupyter-widgets/base",
            "_model_module_version": "1.2.0",
            "_model_name": "LayoutModel",
            "_view_count": null,
            "_view_module": "@jupyter-widgets/base",
            "_view_module_version": "1.2.0",
            "_view_name": "LayoutView",
            "align_content": null,
            "align_items": null,
            "align_self": null,
            "border": null,
            "bottom": null,
            "display": null,
            "flex": null,
            "flex_flow": null,
            "grid_area": null,
            "grid_auto_columns": null,
            "grid_auto_flow": null,
            "grid_auto_rows": null,
            "grid_column": null,
            "grid_gap": null,
            "grid_row": null,
            "grid_template_areas": null,
            "grid_template_columns": null,
            "grid_template_rows": null,
            "height": null,
            "justify_content": null,
            "justify_items": null,
            "left": null,
            "margin": null,
            "max_height": null,
            "max_width": null,
            "min_height": null,
            "min_width": null,
            "object_fit": null,
            "object_position": null,
            "order": null,
            "overflow": null,
            "overflow_x": null,
            "overflow_y": null,
            "padding": null,
            "right": null,
            "top": null,
            "visibility": null,
            "width": null
          }
        },
        "b5c69b89981a483d946d52f2401673cb": {
          "model_module": "@jupyter-widgets/controls",
          "model_name": "DescriptionStyleModel",
          "state": {
            "_model_module": "@jupyter-widgets/controls",
            "_model_module_version": "1.5.0",
            "_model_name": "DescriptionStyleModel",
            "_view_count": null,
            "_view_module": "@jupyter-widgets/base",
            "_view_module_version": "1.2.0",
            "_view_name": "StyleView",
            "description_width": ""
          }
        },
        "5efbe28ce1a14f39bda75cbf195f75ee": {
          "model_module": "@jupyter-widgets/base",
          "model_name": "LayoutModel",
          "state": {
            "_model_module": "@jupyter-widgets/base",
            "_model_module_version": "1.2.0",
            "_model_name": "LayoutModel",
            "_view_count": null,
            "_view_module": "@jupyter-widgets/base",
            "_view_module_version": "1.2.0",
            "_view_name": "LayoutView",
            "align_content": null,
            "align_items": null,
            "align_self": null,
            "border": null,
            "bottom": null,
            "display": null,
            "flex": null,
            "flex_flow": null,
            "grid_area": null,
            "grid_auto_columns": null,
            "grid_auto_flow": null,
            "grid_auto_rows": null,
            "grid_column": null,
            "grid_gap": null,
            "grid_row": null,
            "grid_template_areas": null,
            "grid_template_columns": null,
            "grid_template_rows": null,
            "height": null,
            "justify_content": null,
            "justify_items": null,
            "left": null,
            "margin": null,
            "max_height": null,
            "max_width": null,
            "min_height": null,
            "min_width": null,
            "object_fit": null,
            "object_position": null,
            "order": null,
            "overflow": null,
            "overflow_x": null,
            "overflow_y": null,
            "padding": null,
            "right": null,
            "top": null,
            "visibility": null,
            "width": null
          }
        },
        "cc978379ce2f49cb8b64627319f52a75": {
          "model_module": "@jupyter-widgets/controls",
          "model_name": "HBoxModel",
          "state": {
            "_dom_classes": [],
            "_model_module": "@jupyter-widgets/controls",
            "_model_module_version": "1.5.0",
            "_model_name": "HBoxModel",
            "_view_count": null,
            "_view_module": "@jupyter-widgets/controls",
            "_view_module_version": "1.5.0",
            "_view_name": "HBoxView",
            "box_style": "",
            "children": [
              "IPY_MODEL_ed499a34627b4a9e974887592665efcc",
              "IPY_MODEL_45896bf7e7d94989bb358e665ab26154"
            ],
            "layout": "IPY_MODEL_609f7fcba27d4bd1b45c7e1a3d26ea0a"
          }
        },
        "609f7fcba27d4bd1b45c7e1a3d26ea0a": {
          "model_module": "@jupyter-widgets/base",
          "model_name": "LayoutModel",
          "state": {
            "_model_module": "@jupyter-widgets/base",
            "_model_module_version": "1.2.0",
            "_model_name": "LayoutModel",
            "_view_count": null,
            "_view_module": "@jupyter-widgets/base",
            "_view_module_version": "1.2.0",
            "_view_name": "LayoutView",
            "align_content": null,
            "align_items": null,
            "align_self": null,
            "border": null,
            "bottom": null,
            "display": null,
            "flex": null,
            "flex_flow": null,
            "grid_area": null,
            "grid_auto_columns": null,
            "grid_auto_flow": null,
            "grid_auto_rows": null,
            "grid_column": null,
            "grid_gap": null,
            "grid_row": null,
            "grid_template_areas": null,
            "grid_template_columns": null,
            "grid_template_rows": null,
            "height": null,
            "justify_content": null,
            "justify_items": null,
            "left": null,
            "margin": null,
            "max_height": null,
            "max_width": null,
            "min_height": null,
            "min_width": null,
            "object_fit": null,
            "object_position": null,
            "order": null,
            "overflow": null,
            "overflow_x": null,
            "overflow_y": null,
            "padding": null,
            "right": null,
            "top": null,
            "visibility": null,
            "width": null
          }
        },
        "ed499a34627b4a9e974887592665efcc": {
          "model_module": "@jupyter-widgets/controls",
          "model_name": "FloatProgressModel",
          "state": {
            "_dom_classes": [],
            "_model_module": "@jupyter-widgets/controls",
            "_model_module_version": "1.5.0",
            "_model_name": "FloatProgressModel",
            "_view_count": null,
            "_view_module": "@jupyter-widgets/controls",
            "_view_module_version": "1.5.0",
            "_view_name": "ProgressView",
            "bar_style": "success",
            "description": "Downloading: ",
            "description_tooltip": null,
            "layout": "IPY_MODEL_9a5015fcd26f43028e54405d6b700be4",
            "max": 1781,
            "min": 0,
            "orientation": "horizontal",
            "style": "IPY_MODEL_9b2f58d62e2c4286853950ead5189ed5",
            "value": 1781
          }
        },
        "45896bf7e7d94989bb358e665ab26154": {
          "model_module": "@jupyter-widgets/controls",
          "model_name": "HTMLModel",
          "state": {
            "_dom_classes": [],
            "_model_module": "@jupyter-widgets/controls",
            "_model_module_version": "1.5.0",
            "_model_name": "HTMLModel",
            "_view_count": null,
            "_view_module": "@jupyter-widgets/controls",
            "_view_module_version": "1.5.0",
            "_view_name": "HTMLView",
            "description": "",
            "description_tooltip": null,
            "layout": "IPY_MODEL_25b02257c2b04ad08f6c8c9d4cccea5e",
            "placeholder": "​",
            "style": "IPY_MODEL_3ff305b07ad74b7a94f58989746a0a05",
            "value": " 4.18k/? [00:00&lt;00:00, 7.46kB/s]"
          }
        },
        "9b2f58d62e2c4286853950ead5189ed5": {
          "model_module": "@jupyter-widgets/controls",
          "model_name": "ProgressStyleModel",
          "state": {
            "_model_module": "@jupyter-widgets/controls",
            "_model_module_version": "1.5.0",
            "_model_name": "ProgressStyleModel",
            "_view_count": null,
            "_view_module": "@jupyter-widgets/base",
            "_view_module_version": "1.2.0",
            "_view_name": "StyleView",
            "bar_color": null,
            "description_width": "initial"
          }
        },
        "9a5015fcd26f43028e54405d6b700be4": {
          "model_module": "@jupyter-widgets/base",
          "model_name": "LayoutModel",
          "state": {
            "_model_module": "@jupyter-widgets/base",
            "_model_module_version": "1.2.0",
            "_model_name": "LayoutModel",
            "_view_count": null,
            "_view_module": "@jupyter-widgets/base",
            "_view_module_version": "1.2.0",
            "_view_name": "LayoutView",
            "align_content": null,
            "align_items": null,
            "align_self": null,
            "border": null,
            "bottom": null,
            "display": null,
            "flex": null,
            "flex_flow": null,
            "grid_area": null,
            "grid_auto_columns": null,
            "grid_auto_flow": null,
            "grid_auto_rows": null,
            "grid_column": null,
            "grid_gap": null,
            "grid_row": null,
            "grid_template_areas": null,
            "grid_template_columns": null,
            "grid_template_rows": null,
            "height": null,
            "justify_content": null,
            "justify_items": null,
            "left": null,
            "margin": null,
            "max_height": null,
            "max_width": null,
            "min_height": null,
            "min_width": null,
            "object_fit": null,
            "object_position": null,
            "order": null,
            "overflow": null,
            "overflow_x": null,
            "overflow_y": null,
            "padding": null,
            "right": null,
            "top": null,
            "visibility": null,
            "width": null
          }
        },
        "3ff305b07ad74b7a94f58989746a0a05": {
          "model_module": "@jupyter-widgets/controls",
          "model_name": "DescriptionStyleModel",
          "state": {
            "_model_module": "@jupyter-widgets/controls",
            "_model_module_version": "1.5.0",
            "_model_name": "DescriptionStyleModel",
            "_view_count": null,
            "_view_module": "@jupyter-widgets/base",
            "_view_module_version": "1.2.0",
            "_view_name": "StyleView",
            "description_width": ""
          }
        },
        "25b02257c2b04ad08f6c8c9d4cccea5e": {
          "model_module": "@jupyter-widgets/base",
          "model_name": "LayoutModel",
          "state": {
            "_model_module": "@jupyter-widgets/base",
            "_model_module_version": "1.2.0",
            "_model_name": "LayoutModel",
            "_view_count": null,
            "_view_module": "@jupyter-widgets/base",
            "_view_module_version": "1.2.0",
            "_view_name": "LayoutView",
            "align_content": null,
            "align_items": null,
            "align_self": null,
            "border": null,
            "bottom": null,
            "display": null,
            "flex": null,
            "flex_flow": null,
            "grid_area": null,
            "grid_auto_columns": null,
            "grid_auto_flow": null,
            "grid_auto_rows": null,
            "grid_column": null,
            "grid_gap": null,
            "grid_row": null,
            "grid_template_areas": null,
            "grid_template_columns": null,
            "grid_template_rows": null,
            "height": null,
            "justify_content": null,
            "justify_items": null,
            "left": null,
            "margin": null,
            "max_height": null,
            "max_width": null,
            "min_height": null,
            "min_width": null,
            "object_fit": null,
            "object_position": null,
            "order": null,
            "overflow": null,
            "overflow_x": null,
            "overflow_y": null,
            "padding": null,
            "right": null,
            "top": null,
            "visibility": null,
            "width": null
          }
        },
        "322c61be977d49b981a5d0cd79ae3107": {
          "model_module": "@jupyter-widgets/controls",
          "model_name": "HBoxModel",
          "state": {
            "_dom_classes": [],
            "_model_module": "@jupyter-widgets/controls",
            "_model_module_version": "1.5.0",
            "_model_name": "HBoxModel",
            "_view_count": null,
            "_view_module": "@jupyter-widgets/controls",
            "_view_module_version": "1.5.0",
            "_view_name": "HBoxView",
            "box_style": "",
            "children": [
              "IPY_MODEL_bae42bcb195e407fbbb0ab201aeb50fd",
              "IPY_MODEL_7e14519499f64d8191f14ac56fcb924c"
            ],
            "layout": "IPY_MODEL_e03471c848f04923828ee382416199dd"
          }
        },
        "e03471c848f04923828ee382416199dd": {
          "model_module": "@jupyter-widgets/base",
          "model_name": "LayoutModel",
          "state": {
            "_model_module": "@jupyter-widgets/base",
            "_model_module_version": "1.2.0",
            "_model_name": "LayoutModel",
            "_view_count": null,
            "_view_module": "@jupyter-widgets/base",
            "_view_module_version": "1.2.0",
            "_view_name": "LayoutView",
            "align_content": null,
            "align_items": null,
            "align_self": null,
            "border": null,
            "bottom": null,
            "display": null,
            "flex": null,
            "flex_flow": null,
            "grid_area": null,
            "grid_auto_columns": null,
            "grid_auto_flow": null,
            "grid_auto_rows": null,
            "grid_column": null,
            "grid_gap": null,
            "grid_row": null,
            "grid_template_areas": null,
            "grid_template_columns": null,
            "grid_template_rows": null,
            "height": null,
            "justify_content": null,
            "justify_items": null,
            "left": null,
            "margin": null,
            "max_height": null,
            "max_width": null,
            "min_height": null,
            "min_width": null,
            "object_fit": null,
            "object_position": null,
            "order": null,
            "overflow": null,
            "overflow_x": null,
            "overflow_y": null,
            "padding": null,
            "right": null,
            "top": null,
            "visibility": null,
            "width": null
          }
        },
        "bae42bcb195e407fbbb0ab201aeb50fd": {
          "model_module": "@jupyter-widgets/controls",
          "model_name": "FloatProgressModel",
          "state": {
            "_dom_classes": [],
            "_model_module": "@jupyter-widgets/controls",
            "_model_module_version": "1.5.0",
            "_model_name": "FloatProgressModel",
            "_view_count": null,
            "_view_module": "@jupyter-widgets/controls",
            "_view_module_version": "1.5.0",
            "_view_name": "ProgressView",
            "bar_style": "success",
            "description": "Downloading: ",
            "description_tooltip": null,
            "layout": "IPY_MODEL_540c8ea235fc4c68836c0b21d0ae1f91",
            "max": 649539,
            "min": 0,
            "orientation": "horizontal",
            "style": "IPY_MODEL_27d85ba39fdf4ca598cd348313ee9a9c",
            "value": 649539
          }
        },
        "7e14519499f64d8191f14ac56fcb924c": {
          "model_module": "@jupyter-widgets/controls",
          "model_name": "HTMLModel",
          "state": {
            "_dom_classes": [],
            "_model_module": "@jupyter-widgets/controls",
            "_model_module_version": "1.5.0",
            "_model_name": "HTMLModel",
            "_view_count": null,
            "_view_module": "@jupyter-widgets/controls",
            "_view_module_version": "1.5.0",
            "_view_name": "HTMLView",
            "description": "",
            "description_tooltip": null,
            "layout": "IPY_MODEL_0970dcaaa60c4b72a58a68ae5e6e818d",
            "placeholder": "​",
            "style": "IPY_MODEL_74bbc4fd0b1141c488abfb029c392fe6",
            "value": " 3.28M/? [00:00&lt;00:00, 5.70MB/s]"
          }
        },
        "27d85ba39fdf4ca598cd348313ee9a9c": {
          "model_module": "@jupyter-widgets/controls",
          "model_name": "ProgressStyleModel",
          "state": {
            "_model_module": "@jupyter-widgets/controls",
            "_model_module_version": "1.5.0",
            "_model_name": "ProgressStyleModel",
            "_view_count": null,
            "_view_module": "@jupyter-widgets/base",
            "_view_module_version": "1.2.0",
            "_view_name": "StyleView",
            "bar_color": null,
            "description_width": "initial"
          }
        },
        "540c8ea235fc4c68836c0b21d0ae1f91": {
          "model_module": "@jupyter-widgets/base",
          "model_name": "LayoutModel",
          "state": {
            "_model_module": "@jupyter-widgets/base",
            "_model_module_version": "1.2.0",
            "_model_name": "LayoutModel",
            "_view_count": null,
            "_view_module": "@jupyter-widgets/base",
            "_view_module_version": "1.2.0",
            "_view_name": "LayoutView",
            "align_content": null,
            "align_items": null,
            "align_self": null,
            "border": null,
            "bottom": null,
            "display": null,
            "flex": null,
            "flex_flow": null,
            "grid_area": null,
            "grid_auto_columns": null,
            "grid_auto_flow": null,
            "grid_auto_rows": null,
            "grid_column": null,
            "grid_gap": null,
            "grid_row": null,
            "grid_template_areas": null,
            "grid_template_columns": null,
            "grid_template_rows": null,
            "height": null,
            "justify_content": null,
            "justify_items": null,
            "left": null,
            "margin": null,
            "max_height": null,
            "max_width": null,
            "min_height": null,
            "min_width": null,
            "object_fit": null,
            "object_position": null,
            "order": null,
            "overflow": null,
            "overflow_x": null,
            "overflow_y": null,
            "padding": null,
            "right": null,
            "top": null,
            "visibility": null,
            "width": null
          }
        },
        "74bbc4fd0b1141c488abfb029c392fe6": {
          "model_module": "@jupyter-widgets/controls",
          "model_name": "DescriptionStyleModel",
          "state": {
            "_model_module": "@jupyter-widgets/controls",
            "_model_module_version": "1.5.0",
            "_model_name": "DescriptionStyleModel",
            "_view_count": null,
            "_view_module": "@jupyter-widgets/base",
            "_view_module_version": "1.2.0",
            "_view_name": "StyleView",
            "description_width": ""
          }
        },
        "0970dcaaa60c4b72a58a68ae5e6e818d": {
          "model_module": "@jupyter-widgets/base",
          "model_name": "LayoutModel",
          "state": {
            "_model_module": "@jupyter-widgets/base",
            "_model_module_version": "1.2.0",
            "_model_name": "LayoutModel",
            "_view_count": null,
            "_view_module": "@jupyter-widgets/base",
            "_view_module_version": "1.2.0",
            "_view_name": "LayoutView",
            "align_content": null,
            "align_items": null,
            "align_self": null,
            "border": null,
            "bottom": null,
            "display": null,
            "flex": null,
            "flex_flow": null,
            "grid_area": null,
            "grid_auto_columns": null,
            "grid_auto_flow": null,
            "grid_auto_rows": null,
            "grid_column": null,
            "grid_gap": null,
            "grid_row": null,
            "grid_template_areas": null,
            "grid_template_columns": null,
            "grid_template_rows": null,
            "height": null,
            "justify_content": null,
            "justify_items": null,
            "left": null,
            "margin": null,
            "max_height": null,
            "max_width": null,
            "min_height": null,
            "min_width": null,
            "object_fit": null,
            "object_position": null,
            "order": null,
            "overflow": null,
            "overflow_x": null,
            "overflow_y": null,
            "padding": null,
            "right": null,
            "top": null,
            "visibility": null,
            "width": null
          }
        },
        "a00d818aaa9a47f1be470e1d71b58dc7": {
          "model_module": "@jupyter-widgets/controls",
          "model_name": "HBoxModel",
          "state": {
            "_dom_classes": [],
            "_model_module": "@jupyter-widgets/controls",
            "_model_module_version": "1.5.0",
            "_model_name": "HBoxModel",
            "_view_count": null,
            "_view_module": "@jupyter-widgets/controls",
            "_view_module_version": "1.5.0",
            "_view_name": "HBoxView",
            "box_style": "",
            "children": [
              "IPY_MODEL_c99c2809166a47afb63cdbb1074fb4be",
              "IPY_MODEL_55049d97f1ca49b4b7af2dc7a2aaa97a"
            ],
            "layout": "IPY_MODEL_5affa353ba3a45a5b727b43febc448bc"
          }
        },
        "5affa353ba3a45a5b727b43febc448bc": {
          "model_module": "@jupyter-widgets/base",
          "model_name": "LayoutModel",
          "state": {
            "_model_module": "@jupyter-widgets/base",
            "_model_module_version": "1.2.0",
            "_model_name": "LayoutModel",
            "_view_count": null,
            "_view_module": "@jupyter-widgets/base",
            "_view_module_version": "1.2.0",
            "_view_name": "LayoutView",
            "align_content": null,
            "align_items": null,
            "align_self": null,
            "border": null,
            "bottom": null,
            "display": null,
            "flex": null,
            "flex_flow": null,
            "grid_area": null,
            "grid_auto_columns": null,
            "grid_auto_flow": null,
            "grid_auto_rows": null,
            "grid_column": null,
            "grid_gap": null,
            "grid_row": null,
            "grid_template_areas": null,
            "grid_template_columns": null,
            "grid_template_rows": null,
            "height": null,
            "justify_content": null,
            "justify_items": null,
            "left": null,
            "margin": null,
            "max_height": null,
            "max_width": null,
            "min_height": null,
            "min_width": null,
            "object_fit": null,
            "object_position": null,
            "order": null,
            "overflow": null,
            "overflow_x": null,
            "overflow_y": null,
            "padding": null,
            "right": null,
            "top": null,
            "visibility": null,
            "width": null
          }
        },
        "c99c2809166a47afb63cdbb1074fb4be": {
          "model_module": "@jupyter-widgets/controls",
          "model_name": "FloatProgressModel",
          "state": {
            "_dom_classes": [],
            "_model_module": "@jupyter-widgets/controls",
            "_model_module_version": "1.5.0",
            "_model_name": "FloatProgressModel",
            "_view_count": null,
            "_view_module": "@jupyter-widgets/controls",
            "_view_module_version": "1.5.0",
            "_view_name": "ProgressView",
            "bar_style": "success",
            "description": "Downloading: ",
            "description_tooltip": null,
            "layout": "IPY_MODEL_ab4aef22647c43afbc52f1cc10c2aea5",
            "max": 162714,
            "min": 0,
            "orientation": "horizontal",
            "style": "IPY_MODEL_4167fb506f6c41a89336a49f295832fe",
            "value": 162714
          }
        },
        "55049d97f1ca49b4b7af2dc7a2aaa97a": {
          "model_module": "@jupyter-widgets/controls",
          "model_name": "HTMLModel",
          "state": {
            "_dom_classes": [],
            "_model_module": "@jupyter-widgets/controls",
            "_model_module_version": "1.5.0",
            "_model_name": "HTMLModel",
            "_view_count": null,
            "_view_module": "@jupyter-widgets/controls",
            "_view_module_version": "1.5.0",
            "_view_name": "HTMLView",
            "description": "",
            "description_tooltip": null,
            "layout": "IPY_MODEL_34cd51c72161495493ff980dd4a2d4ee",
            "placeholder": "​",
            "style": "IPY_MODEL_0e7e73055fee4ad398126ce8b8fa8046",
            "value": " 827k/? [00:00&lt;00:00, 910kB/s]"
          }
        },
        "4167fb506f6c41a89336a49f295832fe": {
          "model_module": "@jupyter-widgets/controls",
          "model_name": "ProgressStyleModel",
          "state": {
            "_model_module": "@jupyter-widgets/controls",
            "_model_module_version": "1.5.0",
            "_model_name": "ProgressStyleModel",
            "_view_count": null,
            "_view_module": "@jupyter-widgets/base",
            "_view_module_version": "1.2.0",
            "_view_name": "StyleView",
            "bar_color": null,
            "description_width": "initial"
          }
        },
        "ab4aef22647c43afbc52f1cc10c2aea5": {
          "model_module": "@jupyter-widgets/base",
          "model_name": "LayoutModel",
          "state": {
            "_model_module": "@jupyter-widgets/base",
            "_model_module_version": "1.2.0",
            "_model_name": "LayoutModel",
            "_view_count": null,
            "_view_module": "@jupyter-widgets/base",
            "_view_module_version": "1.2.0",
            "_view_name": "LayoutView",
            "align_content": null,
            "align_items": null,
            "align_self": null,
            "border": null,
            "bottom": null,
            "display": null,
            "flex": null,
            "flex_flow": null,
            "grid_area": null,
            "grid_auto_columns": null,
            "grid_auto_flow": null,
            "grid_auto_rows": null,
            "grid_column": null,
            "grid_gap": null,
            "grid_row": null,
            "grid_template_areas": null,
            "grid_template_columns": null,
            "grid_template_rows": null,
            "height": null,
            "justify_content": null,
            "justify_items": null,
            "left": null,
            "margin": null,
            "max_height": null,
            "max_width": null,
            "min_height": null,
            "min_width": null,
            "object_fit": null,
            "object_position": null,
            "order": null,
            "overflow": null,
            "overflow_x": null,
            "overflow_y": null,
            "padding": null,
            "right": null,
            "top": null,
            "visibility": null,
            "width": null
          }
        },
        "0e7e73055fee4ad398126ce8b8fa8046": {
          "model_module": "@jupyter-widgets/controls",
          "model_name": "DescriptionStyleModel",
          "state": {
            "_model_module": "@jupyter-widgets/controls",
            "_model_module_version": "1.5.0",
            "_model_name": "DescriptionStyleModel",
            "_view_count": null,
            "_view_module": "@jupyter-widgets/base",
            "_view_module_version": "1.2.0",
            "_view_name": "StyleView",
            "description_width": ""
          }
        },
        "34cd51c72161495493ff980dd4a2d4ee": {
          "model_module": "@jupyter-widgets/base",
          "model_name": "LayoutModel",
          "state": {
            "_model_module": "@jupyter-widgets/base",
            "_model_module_version": "1.2.0",
            "_model_name": "LayoutModel",
            "_view_count": null,
            "_view_module": "@jupyter-widgets/base",
            "_view_module_version": "1.2.0",
            "_view_name": "LayoutView",
            "align_content": null,
            "align_items": null,
            "align_self": null,
            "border": null,
            "bottom": null,
            "display": null,
            "flex": null,
            "flex_flow": null,
            "grid_area": null,
            "grid_auto_columns": null,
            "grid_auto_flow": null,
            "grid_auto_rows": null,
            "grid_column": null,
            "grid_gap": null,
            "grid_row": null,
            "grid_template_areas": null,
            "grid_template_columns": null,
            "grid_template_rows": null,
            "height": null,
            "justify_content": null,
            "justify_items": null,
            "left": null,
            "margin": null,
            "max_height": null,
            "max_width": null,
            "min_height": null,
            "min_width": null,
            "object_fit": null,
            "object_position": null,
            "order": null,
            "overflow": null,
            "overflow_x": null,
            "overflow_y": null,
            "padding": null,
            "right": null,
            "top": null,
            "visibility": null,
            "width": null
          }
        },
        "d618b2935f304acab2a7ec5fb4f54ca4": {
          "model_module": "@jupyter-widgets/controls",
          "model_name": "HBoxModel",
          "state": {
            "_dom_classes": [],
            "_model_module": "@jupyter-widgets/controls",
            "_model_module_version": "1.5.0",
            "_model_name": "HBoxModel",
            "_view_count": null,
            "_view_module": "@jupyter-widgets/controls",
            "_view_module_version": "1.5.0",
            "_view_name": "HBoxView",
            "box_style": "",
            "children": [
              "IPY_MODEL_818e308f62a4477ba6c78a1b36d7b726",
              "IPY_MODEL_f6612aad7acf4672994e95696d906e4a"
            ],
            "layout": "IPY_MODEL_d518195d9067406ba67bd52b7c80dfba"
          }
        },
        "d518195d9067406ba67bd52b7c80dfba": {
          "model_module": "@jupyter-widgets/base",
          "model_name": "LayoutModel",
          "state": {
            "_model_module": "@jupyter-widgets/base",
            "_model_module_version": "1.2.0",
            "_model_name": "LayoutModel",
            "_view_count": null,
            "_view_module": "@jupyter-widgets/base",
            "_view_module_version": "1.2.0",
            "_view_name": "LayoutView",
            "align_content": null,
            "align_items": null,
            "align_self": null,
            "border": null,
            "bottom": null,
            "display": null,
            "flex": null,
            "flex_flow": null,
            "grid_area": null,
            "grid_auto_columns": null,
            "grid_auto_flow": null,
            "grid_auto_rows": null,
            "grid_column": null,
            "grid_gap": null,
            "grid_row": null,
            "grid_template_areas": null,
            "grid_template_columns": null,
            "grid_template_rows": null,
            "height": null,
            "justify_content": null,
            "justify_items": null,
            "left": null,
            "margin": null,
            "max_height": null,
            "max_width": null,
            "min_height": null,
            "min_width": null,
            "object_fit": null,
            "object_position": null,
            "order": null,
            "overflow": null,
            "overflow_x": null,
            "overflow_y": null,
            "padding": null,
            "right": null,
            "top": null,
            "visibility": null,
            "width": null
          }
        },
        "818e308f62a4477ba6c78a1b36d7b726": {
          "model_module": "@jupyter-widgets/controls",
          "model_name": "FloatProgressModel",
          "state": {
            "_dom_classes": [],
            "_model_module": "@jupyter-widgets/controls",
            "_model_module_version": "1.5.0",
            "_model_name": "FloatProgressModel",
            "_view_count": null,
            "_view_module": "@jupyter-widgets/controls",
            "_view_module_version": "1.5.0",
            "_view_name": "ProgressView",
            "bar_style": "success",
            "description": "Downloading: ",
            "description_tooltip": null,
            "layout": "IPY_MODEL_e6fa0abd8664495ca88ad491ced2480c",
            "max": 145897,
            "min": 0,
            "orientation": "horizontal",
            "style": "IPY_MODEL_fe013991e83445f2895fe8ee5a4660dd",
            "value": 145897
          }
        },
        "f6612aad7acf4672994e95696d906e4a": {
          "model_module": "@jupyter-widgets/controls",
          "model_name": "HTMLModel",
          "state": {
            "_dom_classes": [],
            "_model_module": "@jupyter-widgets/controls",
            "_model_module_version": "1.5.0",
            "_model_name": "HTMLModel",
            "_view_count": null,
            "_view_module": "@jupyter-widgets/controls",
            "_view_module_version": "1.5.0",
            "_view_name": "HTMLView",
            "description": "",
            "description_tooltip": null,
            "layout": "IPY_MODEL_57bb5ae2257b448981c7bc39a755de06",
            "placeholder": "​",
            "style": "IPY_MODEL_4d377a0f332948a28dcfc5e0829425d4",
            "value": " 748k/? [00:00&lt;00:00, 4.50MB/s]"
          }
        },
        "fe013991e83445f2895fe8ee5a4660dd": {
          "model_module": "@jupyter-widgets/controls",
          "model_name": "ProgressStyleModel",
          "state": {
            "_model_module": "@jupyter-widgets/controls",
            "_model_module_version": "1.5.0",
            "_model_name": "ProgressStyleModel",
            "_view_count": null,
            "_view_module": "@jupyter-widgets/base",
            "_view_module_version": "1.2.0",
            "_view_name": "StyleView",
            "bar_color": null,
            "description_width": "initial"
          }
        },
        "e6fa0abd8664495ca88ad491ced2480c": {
          "model_module": "@jupyter-widgets/base",
          "model_name": "LayoutModel",
          "state": {
            "_model_module": "@jupyter-widgets/base",
            "_model_module_version": "1.2.0",
            "_model_name": "LayoutModel",
            "_view_count": null,
            "_view_module": "@jupyter-widgets/base",
            "_view_module_version": "1.2.0",
            "_view_name": "LayoutView",
            "align_content": null,
            "align_items": null,
            "align_self": null,
            "border": null,
            "bottom": null,
            "display": null,
            "flex": null,
            "flex_flow": null,
            "grid_area": null,
            "grid_auto_columns": null,
            "grid_auto_flow": null,
            "grid_auto_rows": null,
            "grid_column": null,
            "grid_gap": null,
            "grid_row": null,
            "grid_template_areas": null,
            "grid_template_columns": null,
            "grid_template_rows": null,
            "height": null,
            "justify_content": null,
            "justify_items": null,
            "left": null,
            "margin": null,
            "max_height": null,
            "max_width": null,
            "min_height": null,
            "min_width": null,
            "object_fit": null,
            "object_position": null,
            "order": null,
            "overflow": null,
            "overflow_x": null,
            "overflow_y": null,
            "padding": null,
            "right": null,
            "top": null,
            "visibility": null,
            "width": null
          }
        },
        "4d377a0f332948a28dcfc5e0829425d4": {
          "model_module": "@jupyter-widgets/controls",
          "model_name": "DescriptionStyleModel",
          "state": {
            "_model_module": "@jupyter-widgets/controls",
            "_model_module_version": "1.5.0",
            "_model_name": "DescriptionStyleModel",
            "_view_count": null,
            "_view_module": "@jupyter-widgets/base",
            "_view_module_version": "1.2.0",
            "_view_name": "StyleView",
            "description_width": ""
          }
        },
        "57bb5ae2257b448981c7bc39a755de06": {
          "model_module": "@jupyter-widgets/base",
          "model_name": "LayoutModel",
          "state": {
            "_model_module": "@jupyter-widgets/base",
            "_model_module_version": "1.2.0",
            "_model_name": "LayoutModel",
            "_view_count": null,
            "_view_module": "@jupyter-widgets/base",
            "_view_module_version": "1.2.0",
            "_view_name": "LayoutView",
            "align_content": null,
            "align_items": null,
            "align_self": null,
            "border": null,
            "bottom": null,
            "display": null,
            "flex": null,
            "flex_flow": null,
            "grid_area": null,
            "grid_auto_columns": null,
            "grid_auto_flow": null,
            "grid_auto_rows": null,
            "grid_column": null,
            "grid_gap": null,
            "grid_row": null,
            "grid_template_areas": null,
            "grid_template_columns": null,
            "grid_template_rows": null,
            "height": null,
            "justify_content": null,
            "justify_items": null,
            "left": null,
            "margin": null,
            "max_height": null,
            "max_width": null,
            "min_height": null,
            "min_width": null,
            "object_fit": null,
            "object_position": null,
            "order": null,
            "overflow": null,
            "overflow_x": null,
            "overflow_y": null,
            "padding": null,
            "right": null,
            "top": null,
            "visibility": null,
            "width": null
          }
        },
        "41fc135225704145911833f32b994fd3": {
          "model_module": "@jupyter-widgets/controls",
          "model_name": "HBoxModel",
          "state": {
            "_dom_classes": [],
            "_model_module": "@jupyter-widgets/controls",
            "_model_module_version": "1.5.0",
            "_model_name": "HBoxModel",
            "_view_count": null,
            "_view_module": "@jupyter-widgets/controls",
            "_view_module_version": "1.5.0",
            "_view_name": "HBoxView",
            "box_style": "",
            "children": [
              "IPY_MODEL_73f38296c3f945d6a3c5fd97cd8605a3",
              "IPY_MODEL_b52e8a89b0ca4cecb9f795c3ab895339"
            ],
            "layout": "IPY_MODEL_55811290010145bbae1475cf432ec41c"
          }
        },
        "55811290010145bbae1475cf432ec41c": {
          "model_module": "@jupyter-widgets/base",
          "model_name": "LayoutModel",
          "state": {
            "_model_module": "@jupyter-widgets/base",
            "_model_module_version": "1.2.0",
            "_model_name": "LayoutModel",
            "_view_count": null,
            "_view_module": "@jupyter-widgets/base",
            "_view_module_version": "1.2.0",
            "_view_name": "LayoutView",
            "align_content": null,
            "align_items": null,
            "align_self": null,
            "border": null,
            "bottom": null,
            "display": null,
            "flex": null,
            "flex_flow": null,
            "grid_area": null,
            "grid_auto_columns": null,
            "grid_auto_flow": null,
            "grid_auto_rows": null,
            "grid_column": null,
            "grid_gap": null,
            "grid_row": null,
            "grid_template_areas": null,
            "grid_template_columns": null,
            "grid_template_rows": null,
            "height": null,
            "justify_content": null,
            "justify_items": null,
            "left": null,
            "margin": null,
            "max_height": null,
            "max_width": null,
            "min_height": null,
            "min_width": null,
            "object_fit": null,
            "object_position": null,
            "order": null,
            "overflow": null,
            "overflow_x": null,
            "overflow_y": null,
            "padding": null,
            "right": null,
            "top": null,
            "visibility": null,
            "width": null
          }
        },
        "73f38296c3f945d6a3c5fd97cd8605a3": {
          "model_module": "@jupyter-widgets/controls",
          "model_name": "FloatProgressModel",
          "state": {
            "_dom_classes": [],
            "_model_module": "@jupyter-widgets/controls",
            "_model_module_version": "1.5.0",
            "_model_name": "FloatProgressModel",
            "_view_count": null,
            "_view_module": "@jupyter-widgets/controls",
            "_view_module_version": "1.5.0",
            "_view_name": "ProgressView",
            "bar_style": "info",
            "description": "",
            "description_tooltip": null,
            "layout": "IPY_MODEL_6b6a313886b84f4687126eede890f1bd",
            "max": 1,
            "min": 0,
            "orientation": "horizontal",
            "style": "IPY_MODEL_1759a0bf044040bebc7c382ac21070b6",
            "value": 1
          }
        },
        "b52e8a89b0ca4cecb9f795c3ab895339": {
          "model_module": "@jupyter-widgets/controls",
          "model_name": "HTMLModel",
          "state": {
            "_dom_classes": [],
            "_model_module": "@jupyter-widgets/controls",
            "_model_module_version": "1.5.0",
            "_model_name": "HTMLModel",
            "_view_count": null,
            "_view_module": "@jupyter-widgets/controls",
            "_view_module_version": "1.5.0",
            "_view_name": "HTMLView",
            "description": "",
            "description_tooltip": null,
            "layout": "IPY_MODEL_6c3b4ffff5b5490989db6128bcee3467",
            "placeholder": "​",
            "style": "IPY_MODEL_c91c3274c251423cba345d23bc377e78",
            "value": " 14041/0 [00:07&lt;00:00, 2781.39 examples/s]"
          }
        },
        "1759a0bf044040bebc7c382ac21070b6": {
          "model_module": "@jupyter-widgets/controls",
          "model_name": "ProgressStyleModel",
          "state": {
            "_model_module": "@jupyter-widgets/controls",
            "_model_module_version": "1.5.0",
            "_model_name": "ProgressStyleModel",
            "_view_count": null,
            "_view_module": "@jupyter-widgets/base",
            "_view_module_version": "1.2.0",
            "_view_name": "StyleView",
            "bar_color": null,
            "description_width": "initial"
          }
        },
        "6b6a313886b84f4687126eede890f1bd": {
          "model_module": "@jupyter-widgets/base",
          "model_name": "LayoutModel",
          "state": {
            "_model_module": "@jupyter-widgets/base",
            "_model_module_version": "1.2.0",
            "_model_name": "LayoutModel",
            "_view_count": null,
            "_view_module": "@jupyter-widgets/base",
            "_view_module_version": "1.2.0",
            "_view_name": "LayoutView",
            "align_content": null,
            "align_items": null,
            "align_self": null,
            "border": null,
            "bottom": null,
            "display": null,
            "flex": null,
            "flex_flow": null,
            "grid_area": null,
            "grid_auto_columns": null,
            "grid_auto_flow": null,
            "grid_auto_rows": null,
            "grid_column": null,
            "grid_gap": null,
            "grid_row": null,
            "grid_template_areas": null,
            "grid_template_columns": null,
            "grid_template_rows": null,
            "height": null,
            "justify_content": null,
            "justify_items": null,
            "left": null,
            "margin": null,
            "max_height": null,
            "max_width": null,
            "min_height": null,
            "min_width": null,
            "object_fit": null,
            "object_position": null,
            "order": null,
            "overflow": null,
            "overflow_x": null,
            "overflow_y": null,
            "padding": null,
            "right": null,
            "top": null,
            "visibility": null,
            "width": null
          }
        },
        "c91c3274c251423cba345d23bc377e78": {
          "model_module": "@jupyter-widgets/controls",
          "model_name": "DescriptionStyleModel",
          "state": {
            "_model_module": "@jupyter-widgets/controls",
            "_model_module_version": "1.5.0",
            "_model_name": "DescriptionStyleModel",
            "_view_count": null,
            "_view_module": "@jupyter-widgets/base",
            "_view_module_version": "1.2.0",
            "_view_name": "StyleView",
            "description_width": ""
          }
        },
        "6c3b4ffff5b5490989db6128bcee3467": {
          "model_module": "@jupyter-widgets/base",
          "model_name": "LayoutModel",
          "state": {
            "_model_module": "@jupyter-widgets/base",
            "_model_module_version": "1.2.0",
            "_model_name": "LayoutModel",
            "_view_count": null,
            "_view_module": "@jupyter-widgets/base",
            "_view_module_version": "1.2.0",
            "_view_name": "LayoutView",
            "align_content": null,
            "align_items": null,
            "align_self": null,
            "border": null,
            "bottom": null,
            "display": null,
            "flex": null,
            "flex_flow": null,
            "grid_area": null,
            "grid_auto_columns": null,
            "grid_auto_flow": null,
            "grid_auto_rows": null,
            "grid_column": null,
            "grid_gap": null,
            "grid_row": null,
            "grid_template_areas": null,
            "grid_template_columns": null,
            "grid_template_rows": null,
            "height": null,
            "justify_content": null,
            "justify_items": null,
            "left": null,
            "margin": null,
            "max_height": null,
            "max_width": null,
            "min_height": null,
            "min_width": null,
            "object_fit": null,
            "object_position": null,
            "order": null,
            "overflow": null,
            "overflow_x": null,
            "overflow_y": null,
            "padding": null,
            "right": null,
            "top": null,
            "visibility": null,
            "width": null
          }
        },
        "a4253544fe5b4f0089b782bfa7f9d29b": {
          "model_module": "@jupyter-widgets/controls",
          "model_name": "HBoxModel",
          "state": {
            "_dom_classes": [],
            "_model_module": "@jupyter-widgets/controls",
            "_model_module_version": "1.5.0",
            "_model_name": "HBoxModel",
            "_view_count": null,
            "_view_module": "@jupyter-widgets/controls",
            "_view_module_version": "1.5.0",
            "_view_name": "HBoxView",
            "box_style": "",
            "children": [
              "IPY_MODEL_69481e12ed2145f8a6f519793c499493",
              "IPY_MODEL_24b66204f59047c6a1ce9bfb5ff5753f"
            ],
            "layout": "IPY_MODEL_ebec910b1dfc42eea94ce3f34607701a"
          }
        },
        "ebec910b1dfc42eea94ce3f34607701a": {
          "model_module": "@jupyter-widgets/base",
          "model_name": "LayoutModel",
          "state": {
            "_model_module": "@jupyter-widgets/base",
            "_model_module_version": "1.2.0",
            "_model_name": "LayoutModel",
            "_view_count": null,
            "_view_module": "@jupyter-widgets/base",
            "_view_module_version": "1.2.0",
            "_view_name": "LayoutView",
            "align_content": null,
            "align_items": null,
            "align_self": null,
            "border": null,
            "bottom": null,
            "display": null,
            "flex": null,
            "flex_flow": null,
            "grid_area": null,
            "grid_auto_columns": null,
            "grid_auto_flow": null,
            "grid_auto_rows": null,
            "grid_column": null,
            "grid_gap": null,
            "grid_row": null,
            "grid_template_areas": null,
            "grid_template_columns": null,
            "grid_template_rows": null,
            "height": null,
            "justify_content": null,
            "justify_items": null,
            "left": null,
            "margin": null,
            "max_height": null,
            "max_width": null,
            "min_height": null,
            "min_width": null,
            "object_fit": null,
            "object_position": null,
            "order": null,
            "overflow": null,
            "overflow_x": null,
            "overflow_y": null,
            "padding": null,
            "right": null,
            "top": null,
            "visibility": null,
            "width": null
          }
        },
        "69481e12ed2145f8a6f519793c499493": {
          "model_module": "@jupyter-widgets/controls",
          "model_name": "FloatProgressModel",
          "state": {
            "_dom_classes": [],
            "_model_module": "@jupyter-widgets/controls",
            "_model_module_version": "1.5.0",
            "_model_name": "FloatProgressModel",
            "_view_count": null,
            "_view_module": "@jupyter-widgets/controls",
            "_view_module_version": "1.5.0",
            "_view_name": "ProgressView",
            "bar_style": "info",
            "description": "",
            "description_tooltip": null,
            "layout": "IPY_MODEL_befcd6c370f748c582d083c25fda8ba4",
            "max": 1,
            "min": 0,
            "orientation": "horizontal",
            "style": "IPY_MODEL_45ab4da1a2134d2c81c59badeafbe83c",
            "value": 1
          }
        },
        "24b66204f59047c6a1ce9bfb5ff5753f": {
          "model_module": "@jupyter-widgets/controls",
          "model_name": "HTMLModel",
          "state": {
            "_dom_classes": [],
            "_model_module": "@jupyter-widgets/controls",
            "_model_module_version": "1.5.0",
            "_model_name": "HTMLModel",
            "_view_count": null,
            "_view_module": "@jupyter-widgets/controls",
            "_view_module_version": "1.5.0",
            "_view_name": "HTMLView",
            "description": "",
            "description_tooltip": null,
            "layout": "IPY_MODEL_23a6d6aed2154e8eb158ea0842efb56e",
            "placeholder": "​",
            "style": "IPY_MODEL_fb6a230f11284471a719265c66b612a7",
            "value": " 3250/0 [00:00&lt;00:00, 3656.00 examples/s]"
          }
        },
        "45ab4da1a2134d2c81c59badeafbe83c": {
          "model_module": "@jupyter-widgets/controls",
          "model_name": "ProgressStyleModel",
          "state": {
            "_model_module": "@jupyter-widgets/controls",
            "_model_module_version": "1.5.0",
            "_model_name": "ProgressStyleModel",
            "_view_count": null,
            "_view_module": "@jupyter-widgets/base",
            "_view_module_version": "1.2.0",
            "_view_name": "StyleView",
            "bar_color": null,
            "description_width": "initial"
          }
        },
        "befcd6c370f748c582d083c25fda8ba4": {
          "model_module": "@jupyter-widgets/base",
          "model_name": "LayoutModel",
          "state": {
            "_model_module": "@jupyter-widgets/base",
            "_model_module_version": "1.2.0",
            "_model_name": "LayoutModel",
            "_view_count": null,
            "_view_module": "@jupyter-widgets/base",
            "_view_module_version": "1.2.0",
            "_view_name": "LayoutView",
            "align_content": null,
            "align_items": null,
            "align_self": null,
            "border": null,
            "bottom": null,
            "display": null,
            "flex": null,
            "flex_flow": null,
            "grid_area": null,
            "grid_auto_columns": null,
            "grid_auto_flow": null,
            "grid_auto_rows": null,
            "grid_column": null,
            "grid_gap": null,
            "grid_row": null,
            "grid_template_areas": null,
            "grid_template_columns": null,
            "grid_template_rows": null,
            "height": null,
            "justify_content": null,
            "justify_items": null,
            "left": null,
            "margin": null,
            "max_height": null,
            "max_width": null,
            "min_height": null,
            "min_width": null,
            "object_fit": null,
            "object_position": null,
            "order": null,
            "overflow": null,
            "overflow_x": null,
            "overflow_y": null,
            "padding": null,
            "right": null,
            "top": null,
            "visibility": null,
            "width": null
          }
        },
        "fb6a230f11284471a719265c66b612a7": {
          "model_module": "@jupyter-widgets/controls",
          "model_name": "DescriptionStyleModel",
          "state": {
            "_model_module": "@jupyter-widgets/controls",
            "_model_module_version": "1.5.0",
            "_model_name": "DescriptionStyleModel",
            "_view_count": null,
            "_view_module": "@jupyter-widgets/base",
            "_view_module_version": "1.2.0",
            "_view_name": "StyleView",
            "description_width": ""
          }
        },
        "23a6d6aed2154e8eb158ea0842efb56e": {
          "model_module": "@jupyter-widgets/base",
          "model_name": "LayoutModel",
          "state": {
            "_model_module": "@jupyter-widgets/base",
            "_model_module_version": "1.2.0",
            "_model_name": "LayoutModel",
            "_view_count": null,
            "_view_module": "@jupyter-widgets/base",
            "_view_module_version": "1.2.0",
            "_view_name": "LayoutView",
            "align_content": null,
            "align_items": null,
            "align_self": null,
            "border": null,
            "bottom": null,
            "display": null,
            "flex": null,
            "flex_flow": null,
            "grid_area": null,
            "grid_auto_columns": null,
            "grid_auto_flow": null,
            "grid_auto_rows": null,
            "grid_column": null,
            "grid_gap": null,
            "grid_row": null,
            "grid_template_areas": null,
            "grid_template_columns": null,
            "grid_template_rows": null,
            "height": null,
            "justify_content": null,
            "justify_items": null,
            "left": null,
            "margin": null,
            "max_height": null,
            "max_width": null,
            "min_height": null,
            "min_width": null,
            "object_fit": null,
            "object_position": null,
            "order": null,
            "overflow": null,
            "overflow_x": null,
            "overflow_y": null,
            "padding": null,
            "right": null,
            "top": null,
            "visibility": null,
            "width": null
          }
        },
        "5b130704858e4b3eb416ecb7183f36c0": {
          "model_module": "@jupyter-widgets/controls",
          "model_name": "HBoxModel",
          "state": {
            "_dom_classes": [],
            "_model_module": "@jupyter-widgets/controls",
            "_model_module_version": "1.5.0",
            "_model_name": "HBoxModel",
            "_view_count": null,
            "_view_module": "@jupyter-widgets/controls",
            "_view_module_version": "1.5.0",
            "_view_name": "HBoxView",
            "box_style": "",
            "children": [
              "IPY_MODEL_4ac5343840094fe0950c172fed9d1a8a",
              "IPY_MODEL_0e8a2a29b8c7485ca3a1699a58ba65a8"
            ],
            "layout": "IPY_MODEL_97e8575a5ade459e96703eb8450f1d43"
          }
        },
        "97e8575a5ade459e96703eb8450f1d43": {
          "model_module": "@jupyter-widgets/base",
          "model_name": "LayoutModel",
          "state": {
            "_model_module": "@jupyter-widgets/base",
            "_model_module_version": "1.2.0",
            "_model_name": "LayoutModel",
            "_view_count": null,
            "_view_module": "@jupyter-widgets/base",
            "_view_module_version": "1.2.0",
            "_view_name": "LayoutView",
            "align_content": null,
            "align_items": null,
            "align_self": null,
            "border": null,
            "bottom": null,
            "display": null,
            "flex": null,
            "flex_flow": null,
            "grid_area": null,
            "grid_auto_columns": null,
            "grid_auto_flow": null,
            "grid_auto_rows": null,
            "grid_column": null,
            "grid_gap": null,
            "grid_row": null,
            "grid_template_areas": null,
            "grid_template_columns": null,
            "grid_template_rows": null,
            "height": null,
            "justify_content": null,
            "justify_items": null,
            "left": null,
            "margin": null,
            "max_height": null,
            "max_width": null,
            "min_height": null,
            "min_width": null,
            "object_fit": null,
            "object_position": null,
            "order": null,
            "overflow": null,
            "overflow_x": null,
            "overflow_y": null,
            "padding": null,
            "right": null,
            "top": null,
            "visibility": null,
            "width": null
          }
        },
        "4ac5343840094fe0950c172fed9d1a8a": {
          "model_module": "@jupyter-widgets/controls",
          "model_name": "FloatProgressModel",
          "state": {
            "_dom_classes": [],
            "_model_module": "@jupyter-widgets/controls",
            "_model_module_version": "1.5.0",
            "_model_name": "FloatProgressModel",
            "_view_count": null,
            "_view_module": "@jupyter-widgets/controls",
            "_view_module_version": "1.5.0",
            "_view_name": "ProgressView",
            "bar_style": "info",
            "description": "",
            "description_tooltip": null,
            "layout": "IPY_MODEL_baf1b3b46e464fb38aa9252f00887e5b",
            "max": 1,
            "min": 0,
            "orientation": "horizontal",
            "style": "IPY_MODEL_ed7df59ddb3147fe8221d35e8e0c27c9",
            "value": 1
          }
        },
        "0e8a2a29b8c7485ca3a1699a58ba65a8": {
          "model_module": "@jupyter-widgets/controls",
          "model_name": "HTMLModel",
          "state": {
            "_dom_classes": [],
            "_model_module": "@jupyter-widgets/controls",
            "_model_module_version": "1.5.0",
            "_model_name": "HTMLModel",
            "_view_count": null,
            "_view_module": "@jupyter-widgets/controls",
            "_view_module_version": "1.5.0",
            "_view_name": "HTMLView",
            "description": "",
            "description_tooltip": null,
            "layout": "IPY_MODEL_44df443ff62b494a896e0c07c8fac48d",
            "placeholder": "​",
            "style": "IPY_MODEL_2592cd0c8eea409b8882dcead2c65b32",
            "value": " 3453/0 [00:00&lt;00:00, 4034.65 examples/s]"
          }
        },
        "ed7df59ddb3147fe8221d35e8e0c27c9": {
          "model_module": "@jupyter-widgets/controls",
          "model_name": "ProgressStyleModel",
          "state": {
            "_model_module": "@jupyter-widgets/controls",
            "_model_module_version": "1.5.0",
            "_model_name": "ProgressStyleModel",
            "_view_count": null,
            "_view_module": "@jupyter-widgets/base",
            "_view_module_version": "1.2.0",
            "_view_name": "StyleView",
            "bar_color": null,
            "description_width": "initial"
          }
        },
        "baf1b3b46e464fb38aa9252f00887e5b": {
          "model_module": "@jupyter-widgets/base",
          "model_name": "LayoutModel",
          "state": {
            "_model_module": "@jupyter-widgets/base",
            "_model_module_version": "1.2.0",
            "_model_name": "LayoutModel",
            "_view_count": null,
            "_view_module": "@jupyter-widgets/base",
            "_view_module_version": "1.2.0",
            "_view_name": "LayoutView",
            "align_content": null,
            "align_items": null,
            "align_self": null,
            "border": null,
            "bottom": null,
            "display": null,
            "flex": null,
            "flex_flow": null,
            "grid_area": null,
            "grid_auto_columns": null,
            "grid_auto_flow": null,
            "grid_auto_rows": null,
            "grid_column": null,
            "grid_gap": null,
            "grid_row": null,
            "grid_template_areas": null,
            "grid_template_columns": null,
            "grid_template_rows": null,
            "height": null,
            "justify_content": null,
            "justify_items": null,
            "left": null,
            "margin": null,
            "max_height": null,
            "max_width": null,
            "min_height": null,
            "min_width": null,
            "object_fit": null,
            "object_position": null,
            "order": null,
            "overflow": null,
            "overflow_x": null,
            "overflow_y": null,
            "padding": null,
            "right": null,
            "top": null,
            "visibility": null,
            "width": null
          }
        },
        "2592cd0c8eea409b8882dcead2c65b32": {
          "model_module": "@jupyter-widgets/controls",
          "model_name": "DescriptionStyleModel",
          "state": {
            "_model_module": "@jupyter-widgets/controls",
            "_model_module_version": "1.5.0",
            "_model_name": "DescriptionStyleModel",
            "_view_count": null,
            "_view_module": "@jupyter-widgets/base",
            "_view_module_version": "1.2.0",
            "_view_name": "StyleView",
            "description_width": ""
          }
        },
        "44df443ff62b494a896e0c07c8fac48d": {
          "model_module": "@jupyter-widgets/base",
          "model_name": "LayoutModel",
          "state": {
            "_model_module": "@jupyter-widgets/base",
            "_model_module_version": "1.2.0",
            "_model_name": "LayoutModel",
            "_view_count": null,
            "_view_module": "@jupyter-widgets/base",
            "_view_module_version": "1.2.0",
            "_view_name": "LayoutView",
            "align_content": null,
            "align_items": null,
            "align_self": null,
            "border": null,
            "bottom": null,
            "display": null,
            "flex": null,
            "flex_flow": null,
            "grid_area": null,
            "grid_auto_columns": null,
            "grid_auto_flow": null,
            "grid_auto_rows": null,
            "grid_column": null,
            "grid_gap": null,
            "grid_row": null,
            "grid_template_areas": null,
            "grid_template_columns": null,
            "grid_template_rows": null,
            "height": null,
            "justify_content": null,
            "justify_items": null,
            "left": null,
            "margin": null,
            "max_height": null,
            "max_width": null,
            "min_height": null,
            "min_width": null,
            "object_fit": null,
            "object_position": null,
            "order": null,
            "overflow": null,
            "overflow_x": null,
            "overflow_y": null,
            "padding": null,
            "right": null,
            "top": null,
            "visibility": null,
            "width": null
          }
        },
        "e86b4cffb1d8414687b8166ad3799faf": {
          "model_module": "@jupyter-widgets/controls",
          "model_name": "HBoxModel",
          "state": {
            "_dom_classes": [],
            "_model_module": "@jupyter-widgets/controls",
            "_model_module_version": "1.5.0",
            "_model_name": "HBoxModel",
            "_view_count": null,
            "_view_module": "@jupyter-widgets/controls",
            "_view_module_version": "1.5.0",
            "_view_name": "HBoxView",
            "box_style": "",
            "children": [
              "IPY_MODEL_ad444e55271a4e399e1b204b4b37e773",
              "IPY_MODEL_0df22fa127f7435580b8c76751d07957"
            ],
            "layout": "IPY_MODEL_52164fd03ff1428fada400e36d75ebe7"
          }
        },
        "52164fd03ff1428fada400e36d75ebe7": {
          "model_module": "@jupyter-widgets/base",
          "model_name": "LayoutModel",
          "state": {
            "_model_module": "@jupyter-widgets/base",
            "_model_module_version": "1.2.0",
            "_model_name": "LayoutModel",
            "_view_count": null,
            "_view_module": "@jupyter-widgets/base",
            "_view_module_version": "1.2.0",
            "_view_name": "LayoutView",
            "align_content": null,
            "align_items": null,
            "align_self": null,
            "border": null,
            "bottom": null,
            "display": null,
            "flex": null,
            "flex_flow": null,
            "grid_area": null,
            "grid_auto_columns": null,
            "grid_auto_flow": null,
            "grid_auto_rows": null,
            "grid_column": null,
            "grid_gap": null,
            "grid_row": null,
            "grid_template_areas": null,
            "grid_template_columns": null,
            "grid_template_rows": null,
            "height": null,
            "justify_content": null,
            "justify_items": null,
            "left": null,
            "margin": null,
            "max_height": null,
            "max_width": null,
            "min_height": null,
            "min_width": null,
            "object_fit": null,
            "object_position": null,
            "order": null,
            "overflow": null,
            "overflow_x": null,
            "overflow_y": null,
            "padding": null,
            "right": null,
            "top": null,
            "visibility": null,
            "width": null
          }
        },
        "ad444e55271a4e399e1b204b4b37e773": {
          "model_module": "@jupyter-widgets/controls",
          "model_name": "FloatProgressModel",
          "state": {
            "_dom_classes": [],
            "_model_module": "@jupyter-widgets/controls",
            "_model_module_version": "1.5.0",
            "_model_name": "FloatProgressModel",
            "_view_count": null,
            "_view_module": "@jupyter-widgets/controls",
            "_view_module_version": "1.5.0",
            "_view_name": "ProgressView",
            "bar_style": "success",
            "description": "Downloading: ",
            "description_tooltip": null,
            "layout": "IPY_MODEL_4998d9dd4a0e47de97e0a86aaab387b7",
            "max": 2507,
            "min": 0,
            "orientation": "horizontal",
            "style": "IPY_MODEL_26dd121a6f114ef28aa8e986245f5588",
            "value": 2507
          }
        },
        "0df22fa127f7435580b8c76751d07957": {
          "model_module": "@jupyter-widgets/controls",
          "model_name": "HTMLModel",
          "state": {
            "_dom_classes": [],
            "_model_module": "@jupyter-widgets/controls",
            "_model_module_version": "1.5.0",
            "_model_name": "HTMLModel",
            "_view_count": null,
            "_view_module": "@jupyter-widgets/controls",
            "_view_module_version": "1.5.0",
            "_view_name": "HTMLView",
            "description": "",
            "description_tooltip": null,
            "layout": "IPY_MODEL_9b0683ee6f4449e096ff3984450f2bd4",
            "placeholder": "​",
            "style": "IPY_MODEL_50cc886ddcf8475c84de6ea90404c6fa",
            "value": " 7.25k/? [00:00&lt;00:00, 52.7kB/s]"
          }
        },
        "26dd121a6f114ef28aa8e986245f5588": {
          "model_module": "@jupyter-widgets/controls",
          "model_name": "ProgressStyleModel",
          "state": {
            "_model_module": "@jupyter-widgets/controls",
            "_model_module_version": "1.5.0",
            "_model_name": "ProgressStyleModel",
            "_view_count": null,
            "_view_module": "@jupyter-widgets/base",
            "_view_module_version": "1.2.0",
            "_view_name": "StyleView",
            "bar_color": null,
            "description_width": "initial"
          }
        },
        "4998d9dd4a0e47de97e0a86aaab387b7": {
          "model_module": "@jupyter-widgets/base",
          "model_name": "LayoutModel",
          "state": {
            "_model_module": "@jupyter-widgets/base",
            "_model_module_version": "1.2.0",
            "_model_name": "LayoutModel",
            "_view_count": null,
            "_view_module": "@jupyter-widgets/base",
            "_view_module_version": "1.2.0",
            "_view_name": "LayoutView",
            "align_content": null,
            "align_items": null,
            "align_self": null,
            "border": null,
            "bottom": null,
            "display": null,
            "flex": null,
            "flex_flow": null,
            "grid_area": null,
            "grid_auto_columns": null,
            "grid_auto_flow": null,
            "grid_auto_rows": null,
            "grid_column": null,
            "grid_gap": null,
            "grid_row": null,
            "grid_template_areas": null,
            "grid_template_columns": null,
            "grid_template_rows": null,
            "height": null,
            "justify_content": null,
            "justify_items": null,
            "left": null,
            "margin": null,
            "max_height": null,
            "max_width": null,
            "min_height": null,
            "min_width": null,
            "object_fit": null,
            "object_position": null,
            "order": null,
            "overflow": null,
            "overflow_x": null,
            "overflow_y": null,
            "padding": null,
            "right": null,
            "top": null,
            "visibility": null,
            "width": null
          }
        },
        "50cc886ddcf8475c84de6ea90404c6fa": {
          "model_module": "@jupyter-widgets/controls",
          "model_name": "DescriptionStyleModel",
          "state": {
            "_model_module": "@jupyter-widgets/controls",
            "_model_module_version": "1.5.0",
            "_model_name": "DescriptionStyleModel",
            "_view_count": null,
            "_view_module": "@jupyter-widgets/base",
            "_view_module_version": "1.2.0",
            "_view_name": "StyleView",
            "description_width": ""
          }
        },
        "9b0683ee6f4449e096ff3984450f2bd4": {
          "model_module": "@jupyter-widgets/base",
          "model_name": "LayoutModel",
          "state": {
            "_model_module": "@jupyter-widgets/base",
            "_model_module_version": "1.2.0",
            "_model_name": "LayoutModel",
            "_view_count": null,
            "_view_module": "@jupyter-widgets/base",
            "_view_module_version": "1.2.0",
            "_view_name": "LayoutView",
            "align_content": null,
            "align_items": null,
            "align_self": null,
            "border": null,
            "bottom": null,
            "display": null,
            "flex": null,
            "flex_flow": null,
            "grid_area": null,
            "grid_auto_columns": null,
            "grid_auto_flow": null,
            "grid_auto_rows": null,
            "grid_column": null,
            "grid_gap": null,
            "grid_row": null,
            "grid_template_areas": null,
            "grid_template_columns": null,
            "grid_template_rows": null,
            "height": null,
            "justify_content": null,
            "justify_items": null,
            "left": null,
            "margin": null,
            "max_height": null,
            "max_width": null,
            "min_height": null,
            "min_width": null,
            "object_fit": null,
            "object_position": null,
            "order": null,
            "overflow": null,
            "overflow_x": null,
            "overflow_y": null,
            "padding": null,
            "right": null,
            "top": null,
            "visibility": null,
            "width": null
          }
        },
        "4b3b1dc06c88477aac4888d6bd3fe8b8": {
          "model_module": "@jupyter-widgets/controls",
          "model_name": "HBoxModel",
          "state": {
            "_dom_classes": [],
            "_model_module": "@jupyter-widgets/controls",
            "_model_module_version": "1.5.0",
            "_model_name": "HBoxModel",
            "_view_count": null,
            "_view_module": "@jupyter-widgets/controls",
            "_view_module_version": "1.5.0",
            "_view_name": "HBoxView",
            "box_style": "",
            "children": [
              "IPY_MODEL_7e4de6348c7544b0ab04b241d53b3d6e",
              "IPY_MODEL_a2416e2790ba43ed8d6e54fa2f27b7a0"
            ],
            "layout": "IPY_MODEL_eeefd00eded64db289d99cfe46a82ccd"
          }
        },
        "eeefd00eded64db289d99cfe46a82ccd": {
          "model_module": "@jupyter-widgets/base",
          "model_name": "LayoutModel",
          "state": {
            "_model_module": "@jupyter-widgets/base",
            "_model_module_version": "1.2.0",
            "_model_name": "LayoutModel",
            "_view_count": null,
            "_view_module": "@jupyter-widgets/base",
            "_view_module_version": "1.2.0",
            "_view_name": "LayoutView",
            "align_content": null,
            "align_items": null,
            "align_self": null,
            "border": null,
            "bottom": null,
            "display": null,
            "flex": null,
            "flex_flow": null,
            "grid_area": null,
            "grid_auto_columns": null,
            "grid_auto_flow": null,
            "grid_auto_rows": null,
            "grid_column": null,
            "grid_gap": null,
            "grid_row": null,
            "grid_template_areas": null,
            "grid_template_columns": null,
            "grid_template_rows": null,
            "height": null,
            "justify_content": null,
            "justify_items": null,
            "left": null,
            "margin": null,
            "max_height": null,
            "max_width": null,
            "min_height": null,
            "min_width": null,
            "object_fit": null,
            "object_position": null,
            "order": null,
            "overflow": null,
            "overflow_x": null,
            "overflow_y": null,
            "padding": null,
            "right": null,
            "top": null,
            "visibility": null,
            "width": null
          }
        },
        "7e4de6348c7544b0ab04b241d53b3d6e": {
          "model_module": "@jupyter-widgets/controls",
          "model_name": "FloatProgressModel",
          "state": {
            "_dom_classes": [],
            "_model_module": "@jupyter-widgets/controls",
            "_model_module_version": "1.5.0",
            "_model_name": "FloatProgressModel",
            "_view_count": null,
            "_view_module": "@jupyter-widgets/controls",
            "_view_module_version": "1.5.0",
            "_view_name": "ProgressView",
            "bar_style": "success",
            "description": "Downloading: ",
            "description_tooltip": null,
            "layout": "IPY_MODEL_20f8fad6130647b8966b9e41fe707928",
            "max": 1225,
            "min": 0,
            "orientation": "horizontal",
            "style": "IPY_MODEL_08b0983da65b4cf686a8cf579d39d6d7",
            "value": 1225
          }
        },
        "a2416e2790ba43ed8d6e54fa2f27b7a0": {
          "model_module": "@jupyter-widgets/controls",
          "model_name": "HTMLModel",
          "state": {
            "_dom_classes": [],
            "_model_module": "@jupyter-widgets/controls",
            "_model_module_version": "1.5.0",
            "_model_name": "HTMLModel",
            "_view_count": null,
            "_view_module": "@jupyter-widgets/controls",
            "_view_module_version": "1.5.0",
            "_view_name": "HTMLView",
            "description": "",
            "description_tooltip": null,
            "layout": "IPY_MODEL_c4a8aa52ae4149598caa0db3e758dcf2",
            "placeholder": "​",
            "style": "IPY_MODEL_d3def25dd37c42bcbed4ed35dabc7ffa",
            "value": " 2.85k/? [00:00&lt;00:00, 3.43kB/s]"
          }
        },
        "08b0983da65b4cf686a8cf579d39d6d7": {
          "model_module": "@jupyter-widgets/controls",
          "model_name": "ProgressStyleModel",
          "state": {
            "_model_module": "@jupyter-widgets/controls",
            "_model_module_version": "1.5.0",
            "_model_name": "ProgressStyleModel",
            "_view_count": null,
            "_view_module": "@jupyter-widgets/base",
            "_view_module_version": "1.2.0",
            "_view_name": "StyleView",
            "bar_color": null,
            "description_width": "initial"
          }
        },
        "20f8fad6130647b8966b9e41fe707928": {
          "model_module": "@jupyter-widgets/base",
          "model_name": "LayoutModel",
          "state": {
            "_model_module": "@jupyter-widgets/base",
            "_model_module_version": "1.2.0",
            "_model_name": "LayoutModel",
            "_view_count": null,
            "_view_module": "@jupyter-widgets/base",
            "_view_module_version": "1.2.0",
            "_view_name": "LayoutView",
            "align_content": null,
            "align_items": null,
            "align_self": null,
            "border": null,
            "bottom": null,
            "display": null,
            "flex": null,
            "flex_flow": null,
            "grid_area": null,
            "grid_auto_columns": null,
            "grid_auto_flow": null,
            "grid_auto_rows": null,
            "grid_column": null,
            "grid_gap": null,
            "grid_row": null,
            "grid_template_areas": null,
            "grid_template_columns": null,
            "grid_template_rows": null,
            "height": null,
            "justify_content": null,
            "justify_items": null,
            "left": null,
            "margin": null,
            "max_height": null,
            "max_width": null,
            "min_height": null,
            "min_width": null,
            "object_fit": null,
            "object_position": null,
            "order": null,
            "overflow": null,
            "overflow_x": null,
            "overflow_y": null,
            "padding": null,
            "right": null,
            "top": null,
            "visibility": null,
            "width": null
          }
        },
        "d3def25dd37c42bcbed4ed35dabc7ffa": {
          "model_module": "@jupyter-widgets/controls",
          "model_name": "DescriptionStyleModel",
          "state": {
            "_model_module": "@jupyter-widgets/controls",
            "_model_module_version": "1.5.0",
            "_model_name": "DescriptionStyleModel",
            "_view_count": null,
            "_view_module": "@jupyter-widgets/base",
            "_view_module_version": "1.2.0",
            "_view_name": "StyleView",
            "description_width": ""
          }
        },
        "c4a8aa52ae4149598caa0db3e758dcf2": {
          "model_module": "@jupyter-widgets/base",
          "model_name": "LayoutModel",
          "state": {
            "_model_module": "@jupyter-widgets/base",
            "_model_module_version": "1.2.0",
            "_model_name": "LayoutModel",
            "_view_count": null,
            "_view_module": "@jupyter-widgets/base",
            "_view_module_version": "1.2.0",
            "_view_name": "LayoutView",
            "align_content": null,
            "align_items": null,
            "align_self": null,
            "border": null,
            "bottom": null,
            "display": null,
            "flex": null,
            "flex_flow": null,
            "grid_area": null,
            "grid_auto_columns": null,
            "grid_auto_flow": null,
            "grid_auto_rows": null,
            "grid_column": null,
            "grid_gap": null,
            "grid_row": null,
            "grid_template_areas": null,
            "grid_template_columns": null,
            "grid_template_rows": null,
            "height": null,
            "justify_content": null,
            "justify_items": null,
            "left": null,
            "margin": null,
            "max_height": null,
            "max_width": null,
            "min_height": null,
            "min_width": null,
            "object_fit": null,
            "object_position": null,
            "order": null,
            "overflow": null,
            "overflow_x": null,
            "overflow_y": null,
            "padding": null,
            "right": null,
            "top": null,
            "visibility": null,
            "width": null
          }
        },
        "b876f42732394d91b603ea9d6fd3aa23": {
          "model_module": "@jupyter-widgets/controls",
          "model_name": "HBoxModel",
          "state": {
            "_dom_classes": [],
            "_model_module": "@jupyter-widgets/controls",
            "_model_module_version": "1.5.0",
            "_model_name": "HBoxModel",
            "_view_count": null,
            "_view_module": "@jupyter-widgets/controls",
            "_view_module_version": "1.5.0",
            "_view_name": "HBoxView",
            "box_style": "",
            "children": [
              "IPY_MODEL_9aede99e56b4453e9861f8703b8fda4a",
              "IPY_MODEL_9804b7b5b6a64bf98f1cfe0b20c08791"
            ],
            "layout": "IPY_MODEL_f27083449da74967be7d4ebf2d50d9e4"
          }
        },
        "f27083449da74967be7d4ebf2d50d9e4": {
          "model_module": "@jupyter-widgets/base",
          "model_name": "LayoutModel",
          "state": {
            "_model_module": "@jupyter-widgets/base",
            "_model_module_version": "1.2.0",
            "_model_name": "LayoutModel",
            "_view_count": null,
            "_view_module": "@jupyter-widgets/base",
            "_view_module_version": "1.2.0",
            "_view_name": "LayoutView",
            "align_content": null,
            "align_items": null,
            "align_self": null,
            "border": null,
            "bottom": null,
            "display": null,
            "flex": null,
            "flex_flow": null,
            "grid_area": null,
            "grid_auto_columns": null,
            "grid_auto_flow": null,
            "grid_auto_rows": null,
            "grid_column": null,
            "grid_gap": null,
            "grid_row": null,
            "grid_template_areas": null,
            "grid_template_columns": null,
            "grid_template_rows": null,
            "height": null,
            "justify_content": null,
            "justify_items": null,
            "left": null,
            "margin": null,
            "max_height": null,
            "max_width": null,
            "min_height": null,
            "min_width": null,
            "object_fit": null,
            "object_position": null,
            "order": null,
            "overflow": null,
            "overflow_x": null,
            "overflow_y": null,
            "padding": null,
            "right": null,
            "top": null,
            "visibility": null,
            "width": null
          }
        },
        "9aede99e56b4453e9861f8703b8fda4a": {
          "model_module": "@jupyter-widgets/controls",
          "model_name": "FloatProgressModel",
          "state": {
            "_dom_classes": [],
            "_model_module": "@jupyter-widgets/controls",
            "_model_module_version": "1.5.0",
            "_model_name": "FloatProgressModel",
            "_view_count": null,
            "_view_module": "@jupyter-widgets/controls",
            "_view_module_version": "1.5.0",
            "_view_name": "ProgressView",
            "bar_style": "success",
            "description": "Downloading: 100%",
            "description_tooltip": null,
            "layout": "IPY_MODEL_676cf350aa1044ae9cda37c005d22a64",
            "max": 646763,
            "min": 0,
            "orientation": "horizontal",
            "style": "IPY_MODEL_bb2da149265d4695b009b72ea5d51f67",
            "value": 646763
          }
        },
        "9804b7b5b6a64bf98f1cfe0b20c08791": {
          "model_module": "@jupyter-widgets/controls",
          "model_name": "HTMLModel",
          "state": {
            "_dom_classes": [],
            "_model_module": "@jupyter-widgets/controls",
            "_model_module_version": "1.5.0",
            "_model_name": "HTMLModel",
            "_view_count": null,
            "_view_module": "@jupyter-widgets/controls",
            "_view_module_version": "1.5.0",
            "_view_name": "HTMLView",
            "description": "",
            "description_tooltip": null,
            "layout": "IPY_MODEL_08a0485042e34d6191ccfc2fe5aefa28",
            "placeholder": "​",
            "style": "IPY_MODEL_41bdfc7f2cbc4f4b8bfe965ea662fe1c",
            "value": " 647k/647k [00:02&lt;00:00, 303kB/s]"
          }
        },
        "bb2da149265d4695b009b72ea5d51f67": {
          "model_module": "@jupyter-widgets/controls",
          "model_name": "ProgressStyleModel",
          "state": {
            "_model_module": "@jupyter-widgets/controls",
            "_model_module_version": "1.5.0",
            "_model_name": "ProgressStyleModel",
            "_view_count": null,
            "_view_module": "@jupyter-widgets/base",
            "_view_module_version": "1.2.0",
            "_view_name": "StyleView",
            "bar_color": null,
            "description_width": "initial"
          }
        },
        "676cf350aa1044ae9cda37c005d22a64": {
          "model_module": "@jupyter-widgets/base",
          "model_name": "LayoutModel",
          "state": {
            "_model_module": "@jupyter-widgets/base",
            "_model_module_version": "1.2.0",
            "_model_name": "LayoutModel",
            "_view_count": null,
            "_view_module": "@jupyter-widgets/base",
            "_view_module_version": "1.2.0",
            "_view_name": "LayoutView",
            "align_content": null,
            "align_items": null,
            "align_self": null,
            "border": null,
            "bottom": null,
            "display": null,
            "flex": null,
            "flex_flow": null,
            "grid_area": null,
            "grid_auto_columns": null,
            "grid_auto_flow": null,
            "grid_auto_rows": null,
            "grid_column": null,
            "grid_gap": null,
            "grid_row": null,
            "grid_template_areas": null,
            "grid_template_columns": null,
            "grid_template_rows": null,
            "height": null,
            "justify_content": null,
            "justify_items": null,
            "left": null,
            "margin": null,
            "max_height": null,
            "max_width": null,
            "min_height": null,
            "min_width": null,
            "object_fit": null,
            "object_position": null,
            "order": null,
            "overflow": null,
            "overflow_x": null,
            "overflow_y": null,
            "padding": null,
            "right": null,
            "top": null,
            "visibility": null,
            "width": null
          }
        },
        "41bdfc7f2cbc4f4b8bfe965ea662fe1c": {
          "model_module": "@jupyter-widgets/controls",
          "model_name": "DescriptionStyleModel",
          "state": {
            "_model_module": "@jupyter-widgets/controls",
            "_model_module_version": "1.5.0",
            "_model_name": "DescriptionStyleModel",
            "_view_count": null,
            "_view_module": "@jupyter-widgets/base",
            "_view_module_version": "1.2.0",
            "_view_name": "StyleView",
            "description_width": ""
          }
        },
        "08a0485042e34d6191ccfc2fe5aefa28": {
          "model_module": "@jupyter-widgets/base",
          "model_name": "LayoutModel",
          "state": {
            "_model_module": "@jupyter-widgets/base",
            "_model_module_version": "1.2.0",
            "_model_name": "LayoutModel",
            "_view_count": null,
            "_view_module": "@jupyter-widgets/base",
            "_view_module_version": "1.2.0",
            "_view_name": "LayoutView",
            "align_content": null,
            "align_items": null,
            "align_self": null,
            "border": null,
            "bottom": null,
            "display": null,
            "flex": null,
            "flex_flow": null,
            "grid_area": null,
            "grid_auto_columns": null,
            "grid_auto_flow": null,
            "grid_auto_rows": null,
            "grid_column": null,
            "grid_gap": null,
            "grid_row": null,
            "grid_template_areas": null,
            "grid_template_columns": null,
            "grid_template_rows": null,
            "height": null,
            "justify_content": null,
            "justify_items": null,
            "left": null,
            "margin": null,
            "max_height": null,
            "max_width": null,
            "min_height": null,
            "min_width": null,
            "object_fit": null,
            "object_position": null,
            "order": null,
            "overflow": null,
            "overflow_x": null,
            "overflow_y": null,
            "padding": null,
            "right": null,
            "top": null,
            "visibility": null,
            "width": null
          }
        },
        "780f220bec4f4ef592592c28df862835": {
          "model_module": "@jupyter-widgets/controls",
          "model_name": "HBoxModel",
          "state": {
            "_dom_classes": [],
            "_model_module": "@jupyter-widgets/controls",
            "_model_module_version": "1.5.0",
            "_model_name": "HBoxModel",
            "_view_count": null,
            "_view_module": "@jupyter-widgets/controls",
            "_view_module_version": "1.5.0",
            "_view_name": "HBoxView",
            "box_style": "",
            "children": [
              "IPY_MODEL_737d98b205704f2291a30c9f5d2d3b8c",
              "IPY_MODEL_1808e1308dce4b0ca3fb0b353c2eb19b"
            ],
            "layout": "IPY_MODEL_b39a6d1b07224b04856c3b4f31af4a91"
          }
        },
        "b39a6d1b07224b04856c3b4f31af4a91": {
          "model_module": "@jupyter-widgets/base",
          "model_name": "LayoutModel",
          "state": {
            "_model_module": "@jupyter-widgets/base",
            "_model_module_version": "1.2.0",
            "_model_name": "LayoutModel",
            "_view_count": null,
            "_view_module": "@jupyter-widgets/base",
            "_view_module_version": "1.2.0",
            "_view_name": "LayoutView",
            "align_content": null,
            "align_items": null,
            "align_self": null,
            "border": null,
            "bottom": null,
            "display": null,
            "flex": null,
            "flex_flow": null,
            "grid_area": null,
            "grid_auto_columns": null,
            "grid_auto_flow": null,
            "grid_auto_rows": null,
            "grid_column": null,
            "grid_gap": null,
            "grid_row": null,
            "grid_template_areas": null,
            "grid_template_columns": null,
            "grid_template_rows": null,
            "height": null,
            "justify_content": null,
            "justify_items": null,
            "left": null,
            "margin": null,
            "max_height": null,
            "max_width": null,
            "min_height": null,
            "min_width": null,
            "object_fit": null,
            "object_position": null,
            "order": null,
            "overflow": null,
            "overflow_x": null,
            "overflow_y": null,
            "padding": null,
            "right": null,
            "top": null,
            "visibility": null,
            "width": null
          }
        },
        "737d98b205704f2291a30c9f5d2d3b8c": {
          "model_module": "@jupyter-widgets/controls",
          "model_name": "FloatProgressModel",
          "state": {
            "_dom_classes": [],
            "_model_module": "@jupyter-widgets/controls",
            "_model_module_version": "1.5.0",
            "_model_name": "FloatProgressModel",
            "_view_count": null,
            "_view_module": "@jupyter-widgets/controls",
            "_view_module_version": "1.5.0",
            "_view_name": "ProgressView",
            "bar_style": "success",
            "description": "Downloading: 100%",
            "description_tooltip": null,
            "layout": "IPY_MODEL_63fd16c52d1c404eb81feba34c60066e",
            "max": 222666,
            "min": 0,
            "orientation": "horizontal",
            "style": "IPY_MODEL_c7c2f198d5f840ac816be1afaa9eae2b",
            "value": 222666
          }
        },
        "1808e1308dce4b0ca3fb0b353c2eb19b": {
          "model_module": "@jupyter-widgets/controls",
          "model_name": "HTMLModel",
          "state": {
            "_dom_classes": [],
            "_model_module": "@jupyter-widgets/controls",
            "_model_module_version": "1.5.0",
            "_model_name": "HTMLModel",
            "_view_count": null,
            "_view_module": "@jupyter-widgets/controls",
            "_view_module_version": "1.5.0",
            "_view_name": "HTMLView",
            "description": "",
            "description_tooltip": null,
            "layout": "IPY_MODEL_f2c9d18754a64fafae7c6ac52367e673",
            "placeholder": "​",
            "style": "IPY_MODEL_daa2e92fa5a84baabc9764e3527451e7",
            "value": " 223k/223k [00:01&lt;00:00, 191kB/s]"
          }
        },
        "c7c2f198d5f840ac816be1afaa9eae2b": {
          "model_module": "@jupyter-widgets/controls",
          "model_name": "ProgressStyleModel",
          "state": {
            "_model_module": "@jupyter-widgets/controls",
            "_model_module_version": "1.5.0",
            "_model_name": "ProgressStyleModel",
            "_view_count": null,
            "_view_module": "@jupyter-widgets/base",
            "_view_module_version": "1.2.0",
            "_view_name": "StyleView",
            "bar_color": null,
            "description_width": "initial"
          }
        },
        "63fd16c52d1c404eb81feba34c60066e": {
          "model_module": "@jupyter-widgets/base",
          "model_name": "LayoutModel",
          "state": {
            "_model_module": "@jupyter-widgets/base",
            "_model_module_version": "1.2.0",
            "_model_name": "LayoutModel",
            "_view_count": null,
            "_view_module": "@jupyter-widgets/base",
            "_view_module_version": "1.2.0",
            "_view_name": "LayoutView",
            "align_content": null,
            "align_items": null,
            "align_self": null,
            "border": null,
            "bottom": null,
            "display": null,
            "flex": null,
            "flex_flow": null,
            "grid_area": null,
            "grid_auto_columns": null,
            "grid_auto_flow": null,
            "grid_auto_rows": null,
            "grid_column": null,
            "grid_gap": null,
            "grid_row": null,
            "grid_template_areas": null,
            "grid_template_columns": null,
            "grid_template_rows": null,
            "height": null,
            "justify_content": null,
            "justify_items": null,
            "left": null,
            "margin": null,
            "max_height": null,
            "max_width": null,
            "min_height": null,
            "min_width": null,
            "object_fit": null,
            "object_position": null,
            "order": null,
            "overflow": null,
            "overflow_x": null,
            "overflow_y": null,
            "padding": null,
            "right": null,
            "top": null,
            "visibility": null,
            "width": null
          }
        },
        "daa2e92fa5a84baabc9764e3527451e7": {
          "model_module": "@jupyter-widgets/controls",
          "model_name": "DescriptionStyleModel",
          "state": {
            "_model_module": "@jupyter-widgets/controls",
            "_model_module_version": "1.5.0",
            "_model_name": "DescriptionStyleModel",
            "_view_count": null,
            "_view_module": "@jupyter-widgets/base",
            "_view_module_version": "1.2.0",
            "_view_name": "StyleView",
            "description_width": ""
          }
        },
        "f2c9d18754a64fafae7c6ac52367e673": {
          "model_module": "@jupyter-widgets/base",
          "model_name": "LayoutModel",
          "state": {
            "_model_module": "@jupyter-widgets/base",
            "_model_module_version": "1.2.0",
            "_model_name": "LayoutModel",
            "_view_count": null,
            "_view_module": "@jupyter-widgets/base",
            "_view_module_version": "1.2.0",
            "_view_name": "LayoutView",
            "align_content": null,
            "align_items": null,
            "align_self": null,
            "border": null,
            "bottom": null,
            "display": null,
            "flex": null,
            "flex_flow": null,
            "grid_area": null,
            "grid_auto_columns": null,
            "grid_auto_flow": null,
            "grid_auto_rows": null,
            "grid_column": null,
            "grid_gap": null,
            "grid_row": null,
            "grid_template_areas": null,
            "grid_template_columns": null,
            "grid_template_rows": null,
            "height": null,
            "justify_content": null,
            "justify_items": null,
            "left": null,
            "margin": null,
            "max_height": null,
            "max_width": null,
            "min_height": null,
            "min_width": null,
            "object_fit": null,
            "object_position": null,
            "order": null,
            "overflow": null,
            "overflow_x": null,
            "overflow_y": null,
            "padding": null,
            "right": null,
            "top": null,
            "visibility": null,
            "width": null
          }
        },
        "1316a600a741451f85a76714bba89f6c": {
          "model_module": "@jupyter-widgets/controls",
          "model_name": "HBoxModel",
          "state": {
            "_dom_classes": [],
            "_model_module": "@jupyter-widgets/controls",
            "_model_module_version": "1.5.0",
            "_model_name": "HBoxModel",
            "_view_count": null,
            "_view_module": "@jupyter-widgets/controls",
            "_view_module_version": "1.5.0",
            "_view_name": "HBoxView",
            "box_style": "",
            "children": [
              "IPY_MODEL_55ecd85e5881473ea94723dbec07ca47",
              "IPY_MODEL_8562442ba7bf406198ab6ffc76b8bb67"
            ],
            "layout": "IPY_MODEL_aa5f59d2798844989df68a4ea9355c7b"
          }
        },
        "aa5f59d2798844989df68a4ea9355c7b": {
          "model_module": "@jupyter-widgets/base",
          "model_name": "LayoutModel",
          "state": {
            "_model_module": "@jupyter-widgets/base",
            "_model_module_version": "1.2.0",
            "_model_name": "LayoutModel",
            "_view_count": null,
            "_view_module": "@jupyter-widgets/base",
            "_view_module_version": "1.2.0",
            "_view_name": "LayoutView",
            "align_content": null,
            "align_items": null,
            "align_self": null,
            "border": null,
            "bottom": null,
            "display": null,
            "flex": null,
            "flex_flow": null,
            "grid_area": null,
            "grid_auto_columns": null,
            "grid_auto_flow": null,
            "grid_auto_rows": null,
            "grid_column": null,
            "grid_gap": null,
            "grid_row": null,
            "grid_template_areas": null,
            "grid_template_columns": null,
            "grid_template_rows": null,
            "height": null,
            "justify_content": null,
            "justify_items": null,
            "left": null,
            "margin": null,
            "max_height": null,
            "max_width": null,
            "min_height": null,
            "min_width": null,
            "object_fit": null,
            "object_position": null,
            "order": null,
            "overflow": null,
            "overflow_x": null,
            "overflow_y": null,
            "padding": null,
            "right": null,
            "top": null,
            "visibility": null,
            "width": null
          }
        },
        "55ecd85e5881473ea94723dbec07ca47": {
          "model_module": "@jupyter-widgets/controls",
          "model_name": "FloatProgressModel",
          "state": {
            "_dom_classes": [],
            "_model_module": "@jupyter-widgets/controls",
            "_model_module_version": "1.5.0",
            "_model_name": "FloatProgressModel",
            "_view_count": null,
            "_view_module": "@jupyter-widgets/controls",
            "_view_module_version": "1.5.0",
            "_view_name": "ProgressView",
            "bar_style": "success",
            "description": "Downloading: 100%",
            "description_tooltip": null,
            "layout": "IPY_MODEL_5c1848b8202d4d63b7aba2f49db41aaa",
            "max": 218300,
            "min": 0,
            "orientation": "horizontal",
            "style": "IPY_MODEL_19ad46521c9a499aa089b203a225c60a",
            "value": 218300
          }
        },
        "8562442ba7bf406198ab6ffc76b8bb67": {
          "model_module": "@jupyter-widgets/controls",
          "model_name": "HTMLModel",
          "state": {
            "_dom_classes": [],
            "_model_module": "@jupyter-widgets/controls",
            "_model_module_version": "1.5.0",
            "_model_name": "HTMLModel",
            "_view_count": null,
            "_view_module": "@jupyter-widgets/controls",
            "_view_module_version": "1.5.0",
            "_view_name": "HTMLView",
            "description": "",
            "description_tooltip": null,
            "layout": "IPY_MODEL_e4d90a5012d144edaba8ab3a9fb84f58",
            "placeholder": "​",
            "style": "IPY_MODEL_1e1ae29d46f047bbb4db0421ac67cf29",
            "value": " 218k/218k [00:00&lt;00:00, 682kB/s]"
          }
        },
        "19ad46521c9a499aa089b203a225c60a": {
          "model_module": "@jupyter-widgets/controls",
          "model_name": "ProgressStyleModel",
          "state": {
            "_model_module": "@jupyter-widgets/controls",
            "_model_module_version": "1.5.0",
            "_model_name": "ProgressStyleModel",
            "_view_count": null,
            "_view_module": "@jupyter-widgets/base",
            "_view_module_version": "1.2.0",
            "_view_name": "StyleView",
            "bar_color": null,
            "description_width": "initial"
          }
        },
        "5c1848b8202d4d63b7aba2f49db41aaa": {
          "model_module": "@jupyter-widgets/base",
          "model_name": "LayoutModel",
          "state": {
            "_model_module": "@jupyter-widgets/base",
            "_model_module_version": "1.2.0",
            "_model_name": "LayoutModel",
            "_view_count": null,
            "_view_module": "@jupyter-widgets/base",
            "_view_module_version": "1.2.0",
            "_view_name": "LayoutView",
            "align_content": null,
            "align_items": null,
            "align_self": null,
            "border": null,
            "bottom": null,
            "display": null,
            "flex": null,
            "flex_flow": null,
            "grid_area": null,
            "grid_auto_columns": null,
            "grid_auto_flow": null,
            "grid_auto_rows": null,
            "grid_column": null,
            "grid_gap": null,
            "grid_row": null,
            "grid_template_areas": null,
            "grid_template_columns": null,
            "grid_template_rows": null,
            "height": null,
            "justify_content": null,
            "justify_items": null,
            "left": null,
            "margin": null,
            "max_height": null,
            "max_width": null,
            "min_height": null,
            "min_width": null,
            "object_fit": null,
            "object_position": null,
            "order": null,
            "overflow": null,
            "overflow_x": null,
            "overflow_y": null,
            "padding": null,
            "right": null,
            "top": null,
            "visibility": null,
            "width": null
          }
        },
        "1e1ae29d46f047bbb4db0421ac67cf29": {
          "model_module": "@jupyter-widgets/controls",
          "model_name": "DescriptionStyleModel",
          "state": {
            "_model_module": "@jupyter-widgets/controls",
            "_model_module_version": "1.5.0",
            "_model_name": "DescriptionStyleModel",
            "_view_count": null,
            "_view_module": "@jupyter-widgets/base",
            "_view_module_version": "1.2.0",
            "_view_name": "StyleView",
            "description_width": ""
          }
        },
        "e4d90a5012d144edaba8ab3a9fb84f58": {
          "model_module": "@jupyter-widgets/base",
          "model_name": "LayoutModel",
          "state": {
            "_model_module": "@jupyter-widgets/base",
            "_model_module_version": "1.2.0",
            "_model_name": "LayoutModel",
            "_view_count": null,
            "_view_module": "@jupyter-widgets/base",
            "_view_module_version": "1.2.0",
            "_view_name": "LayoutView",
            "align_content": null,
            "align_items": null,
            "align_self": null,
            "border": null,
            "bottom": null,
            "display": null,
            "flex": null,
            "flex_flow": null,
            "grid_area": null,
            "grid_auto_columns": null,
            "grid_auto_flow": null,
            "grid_auto_rows": null,
            "grid_column": null,
            "grid_gap": null,
            "grid_row": null,
            "grid_template_areas": null,
            "grid_template_columns": null,
            "grid_template_rows": null,
            "height": null,
            "justify_content": null,
            "justify_items": null,
            "left": null,
            "margin": null,
            "max_height": null,
            "max_width": null,
            "min_height": null,
            "min_width": null,
            "object_fit": null,
            "object_position": null,
            "order": null,
            "overflow": null,
            "overflow_x": null,
            "overflow_y": null,
            "padding": null,
            "right": null,
            "top": null,
            "visibility": null,
            "width": null
          }
        },
        "be87980b4cca4b2da1f4e9d239157d98": {
          "model_module": "@jupyter-widgets/controls",
          "model_name": "HBoxModel",
          "state": {
            "_dom_classes": [],
            "_model_module": "@jupyter-widgets/controls",
            "_model_module_version": "1.5.0",
            "_model_name": "HBoxModel",
            "_view_count": null,
            "_view_module": "@jupyter-widgets/controls",
            "_view_module_version": "1.5.0",
            "_view_name": "HBoxView",
            "box_style": "",
            "children": [
              "IPY_MODEL_6e6a18459cf74af7a36e9118606edc8a",
              "IPY_MODEL_843d9d0bf66443e1a56097c53161f071"
            ],
            "layout": "IPY_MODEL_68b94fb6eda245c984c6bef20f96eeaf"
          }
        },
        "68b94fb6eda245c984c6bef20f96eeaf": {
          "model_module": "@jupyter-widgets/base",
          "model_name": "LayoutModel",
          "state": {
            "_model_module": "@jupyter-widgets/base",
            "_model_module_version": "1.2.0",
            "_model_name": "LayoutModel",
            "_view_count": null,
            "_view_module": "@jupyter-widgets/base",
            "_view_module_version": "1.2.0",
            "_view_name": "LayoutView",
            "align_content": null,
            "align_items": null,
            "align_self": null,
            "border": null,
            "bottom": null,
            "display": null,
            "flex": null,
            "flex_flow": null,
            "grid_area": null,
            "grid_auto_columns": null,
            "grid_auto_flow": null,
            "grid_auto_rows": null,
            "grid_column": null,
            "grid_gap": null,
            "grid_row": null,
            "grid_template_areas": null,
            "grid_template_columns": null,
            "grid_template_rows": null,
            "height": null,
            "justify_content": null,
            "justify_items": null,
            "left": null,
            "margin": null,
            "max_height": null,
            "max_width": null,
            "min_height": null,
            "min_width": null,
            "object_fit": null,
            "object_position": null,
            "order": null,
            "overflow": null,
            "overflow_x": null,
            "overflow_y": null,
            "padding": null,
            "right": null,
            "top": null,
            "visibility": null,
            "width": null
          }
        },
        "6e6a18459cf74af7a36e9118606edc8a": {
          "model_module": "@jupyter-widgets/controls",
          "model_name": "FloatProgressModel",
          "state": {
            "_dom_classes": [],
            "_model_module": "@jupyter-widgets/controls",
            "_model_module_version": "1.5.0",
            "_model_name": "FloatProgressModel",
            "_view_count": null,
            "_view_module": "@jupyter-widgets/controls",
            "_view_module_version": "1.5.0",
            "_view_name": "ProgressView",
            "bar_style": "info",
            "description": "",
            "description_tooltip": null,
            "layout": "IPY_MODEL_9dadcbd3518b4c76826b518837ccc447",
            "max": 1,
            "min": 0,
            "orientation": "horizontal",
            "style": "IPY_MODEL_597095f036e24d28b21d7869d62f131f",
            "value": 1
          }
        },
        "843d9d0bf66443e1a56097c53161f071": {
          "model_module": "@jupyter-widgets/controls",
          "model_name": "HTMLModel",
          "state": {
            "_dom_classes": [],
            "_model_module": "@jupyter-widgets/controls",
            "_model_module_version": "1.5.0",
            "_model_name": "HTMLModel",
            "_view_count": null,
            "_view_module": "@jupyter-widgets/controls",
            "_view_module_version": "1.5.0",
            "_view_name": "HTMLView",
            "description": "",
            "description_tooltip": null,
            "layout": "IPY_MODEL_68bd0ed6218445f1af1922c9778e22dd",
            "placeholder": "​",
            "style": "IPY_MODEL_8368b99be89b4ccbbc7cc51e6a7d3729",
            "value": " 6414/0 [00:00&lt;00:00, 5463.40 examples/s]"
          }
        },
        "597095f036e24d28b21d7869d62f131f": {
          "model_module": "@jupyter-widgets/controls",
          "model_name": "ProgressStyleModel",
          "state": {
            "_model_module": "@jupyter-widgets/controls",
            "_model_module_version": "1.5.0",
            "_model_name": "ProgressStyleModel",
            "_view_count": null,
            "_view_module": "@jupyter-widgets/base",
            "_view_module_version": "1.2.0",
            "_view_name": "StyleView",
            "bar_color": null,
            "description_width": "initial"
          }
        },
        "9dadcbd3518b4c76826b518837ccc447": {
          "model_module": "@jupyter-widgets/base",
          "model_name": "LayoutModel",
          "state": {
            "_model_module": "@jupyter-widgets/base",
            "_model_module_version": "1.2.0",
            "_model_name": "LayoutModel",
            "_view_count": null,
            "_view_module": "@jupyter-widgets/base",
            "_view_module_version": "1.2.0",
            "_view_name": "LayoutView",
            "align_content": null,
            "align_items": null,
            "align_self": null,
            "border": null,
            "bottom": null,
            "display": null,
            "flex": null,
            "flex_flow": null,
            "grid_area": null,
            "grid_auto_columns": null,
            "grid_auto_flow": null,
            "grid_auto_rows": null,
            "grid_column": null,
            "grid_gap": null,
            "grid_row": null,
            "grid_template_areas": null,
            "grid_template_columns": null,
            "grid_template_rows": null,
            "height": null,
            "justify_content": null,
            "justify_items": null,
            "left": null,
            "margin": null,
            "max_height": null,
            "max_width": null,
            "min_height": null,
            "min_width": null,
            "object_fit": null,
            "object_position": null,
            "order": null,
            "overflow": null,
            "overflow_x": null,
            "overflow_y": null,
            "padding": null,
            "right": null,
            "top": null,
            "visibility": null,
            "width": null
          }
        },
        "8368b99be89b4ccbbc7cc51e6a7d3729": {
          "model_module": "@jupyter-widgets/controls",
          "model_name": "DescriptionStyleModel",
          "state": {
            "_model_module": "@jupyter-widgets/controls",
            "_model_module_version": "1.5.0",
            "_model_name": "DescriptionStyleModel",
            "_view_count": null,
            "_view_module": "@jupyter-widgets/base",
            "_view_module_version": "1.2.0",
            "_view_name": "StyleView",
            "description_width": ""
          }
        },
        "68bd0ed6218445f1af1922c9778e22dd": {
          "model_module": "@jupyter-widgets/base",
          "model_name": "LayoutModel",
          "state": {
            "_model_module": "@jupyter-widgets/base",
            "_model_module_version": "1.2.0",
            "_model_name": "LayoutModel",
            "_view_count": null,
            "_view_module": "@jupyter-widgets/base",
            "_view_module_version": "1.2.0",
            "_view_name": "LayoutView",
            "align_content": null,
            "align_items": null,
            "align_self": null,
            "border": null,
            "bottom": null,
            "display": null,
            "flex": null,
            "flex_flow": null,
            "grid_area": null,
            "grid_auto_columns": null,
            "grid_auto_flow": null,
            "grid_auto_rows": null,
            "grid_column": null,
            "grid_gap": null,
            "grid_row": null,
            "grid_template_areas": null,
            "grid_template_columns": null,
            "grid_template_rows": null,
            "height": null,
            "justify_content": null,
            "justify_items": null,
            "left": null,
            "margin": null,
            "max_height": null,
            "max_width": null,
            "min_height": null,
            "min_width": null,
            "object_fit": null,
            "object_position": null,
            "order": null,
            "overflow": null,
            "overflow_x": null,
            "overflow_y": null,
            "padding": null,
            "right": null,
            "top": null,
            "visibility": null,
            "width": null
          }
        },
        "6e6f3b6315f54b34bca0637fa6b91e2a": {
          "model_module": "@jupyter-widgets/controls",
          "model_name": "HBoxModel",
          "state": {
            "_dom_classes": [],
            "_model_module": "@jupyter-widgets/controls",
            "_model_module_version": "1.5.0",
            "_model_name": "HBoxModel",
            "_view_count": null,
            "_view_module": "@jupyter-widgets/controls",
            "_view_module_version": "1.5.0",
            "_view_name": "HBoxView",
            "box_style": "",
            "children": [
              "IPY_MODEL_5b74bc816f254dd18729d171519d10c7",
              "IPY_MODEL_64f07d24bd124936a9ffe33d55c0db10"
            ],
            "layout": "IPY_MODEL_1554f13e9af7444d822d304de67e2cb7"
          }
        },
        "1554f13e9af7444d822d304de67e2cb7": {
          "model_module": "@jupyter-widgets/base",
          "model_name": "LayoutModel",
          "state": {
            "_model_module": "@jupyter-widgets/base",
            "_model_module_version": "1.2.0",
            "_model_name": "LayoutModel",
            "_view_count": null,
            "_view_module": "@jupyter-widgets/base",
            "_view_module_version": "1.2.0",
            "_view_name": "LayoutView",
            "align_content": null,
            "align_items": null,
            "align_self": null,
            "border": null,
            "bottom": null,
            "display": null,
            "flex": null,
            "flex_flow": null,
            "grid_area": null,
            "grid_auto_columns": null,
            "grid_auto_flow": null,
            "grid_auto_rows": null,
            "grid_column": null,
            "grid_gap": null,
            "grid_row": null,
            "grid_template_areas": null,
            "grid_template_columns": null,
            "grid_template_rows": null,
            "height": null,
            "justify_content": null,
            "justify_items": null,
            "left": null,
            "margin": null,
            "max_height": null,
            "max_width": null,
            "min_height": null,
            "min_width": null,
            "object_fit": null,
            "object_position": null,
            "order": null,
            "overflow": null,
            "overflow_x": null,
            "overflow_y": null,
            "padding": null,
            "right": null,
            "top": null,
            "visibility": null,
            "width": null
          }
        },
        "5b74bc816f254dd18729d171519d10c7": {
          "model_module": "@jupyter-widgets/controls",
          "model_name": "FloatProgressModel",
          "state": {
            "_dom_classes": [],
            "_model_module": "@jupyter-widgets/controls",
            "_model_module_version": "1.5.0",
            "_model_name": "FloatProgressModel",
            "_view_count": null,
            "_view_module": "@jupyter-widgets/controls",
            "_view_module_version": "1.5.0",
            "_view_name": "ProgressView",
            "bar_style": "info",
            "description": "",
            "description_tooltip": null,
            "layout": "IPY_MODEL_d58af3ac8c6640ce846dd70fc2d442a0",
            "max": 1,
            "min": 0,
            "orientation": "horizontal",
            "style": "IPY_MODEL_070985c91dad4049ad82ea68a01f1600",
            "value": 1
          }
        },
        "64f07d24bd124936a9ffe33d55c0db10": {
          "model_module": "@jupyter-widgets/controls",
          "model_name": "HTMLModel",
          "state": {
            "_dom_classes": [],
            "_model_module": "@jupyter-widgets/controls",
            "_model_module_version": "1.5.0",
            "_model_name": "HTMLModel",
            "_view_count": null,
            "_view_module": "@jupyter-widgets/controls",
            "_view_module_version": "1.5.0",
            "_view_name": "HTMLView",
            "description": "",
            "description_tooltip": null,
            "layout": "IPY_MODEL_c19ab6b795ef411baba573e4ced8c90f",
            "placeholder": "​",
            "style": "IPY_MODEL_3dd457cd2b5d4df9ab4f121483462cfb",
            "value": " 2183/0 [00:00&lt;00:00, 4358.26 examples/s]"
          }
        },
        "070985c91dad4049ad82ea68a01f1600": {
          "model_module": "@jupyter-widgets/controls",
          "model_name": "ProgressStyleModel",
          "state": {
            "_model_module": "@jupyter-widgets/controls",
            "_model_module_version": "1.5.0",
            "_model_name": "ProgressStyleModel",
            "_view_count": null,
            "_view_module": "@jupyter-widgets/base",
            "_view_module_version": "1.2.0",
            "_view_name": "StyleView",
            "bar_color": null,
            "description_width": "initial"
          }
        },
        "d58af3ac8c6640ce846dd70fc2d442a0": {
          "model_module": "@jupyter-widgets/base",
          "model_name": "LayoutModel",
          "state": {
            "_model_module": "@jupyter-widgets/base",
            "_model_module_version": "1.2.0",
            "_model_name": "LayoutModel",
            "_view_count": null,
            "_view_module": "@jupyter-widgets/base",
            "_view_module_version": "1.2.0",
            "_view_name": "LayoutView",
            "align_content": null,
            "align_items": null,
            "align_self": null,
            "border": null,
            "bottom": null,
            "display": null,
            "flex": null,
            "flex_flow": null,
            "grid_area": null,
            "grid_auto_columns": null,
            "grid_auto_flow": null,
            "grid_auto_rows": null,
            "grid_column": null,
            "grid_gap": null,
            "grid_row": null,
            "grid_template_areas": null,
            "grid_template_columns": null,
            "grid_template_rows": null,
            "height": null,
            "justify_content": null,
            "justify_items": null,
            "left": null,
            "margin": null,
            "max_height": null,
            "max_width": null,
            "min_height": null,
            "min_width": null,
            "object_fit": null,
            "object_position": null,
            "order": null,
            "overflow": null,
            "overflow_x": null,
            "overflow_y": null,
            "padding": null,
            "right": null,
            "top": null,
            "visibility": null,
            "width": null
          }
        },
        "3dd457cd2b5d4df9ab4f121483462cfb": {
          "model_module": "@jupyter-widgets/controls",
          "model_name": "DescriptionStyleModel",
          "state": {
            "_model_module": "@jupyter-widgets/controls",
            "_model_module_version": "1.5.0",
            "_model_name": "DescriptionStyleModel",
            "_view_count": null,
            "_view_module": "@jupyter-widgets/base",
            "_view_module_version": "1.2.0",
            "_view_name": "StyleView",
            "description_width": ""
          }
        },
        "c19ab6b795ef411baba573e4ced8c90f": {
          "model_module": "@jupyter-widgets/base",
          "model_name": "LayoutModel",
          "state": {
            "_model_module": "@jupyter-widgets/base",
            "_model_module_version": "1.2.0",
            "_model_name": "LayoutModel",
            "_view_count": null,
            "_view_module": "@jupyter-widgets/base",
            "_view_module_version": "1.2.0",
            "_view_name": "LayoutView",
            "align_content": null,
            "align_items": null,
            "align_self": null,
            "border": null,
            "bottom": null,
            "display": null,
            "flex": null,
            "flex_flow": null,
            "grid_area": null,
            "grid_auto_columns": null,
            "grid_auto_flow": null,
            "grid_auto_rows": null,
            "grid_column": null,
            "grid_gap": null,
            "grid_row": null,
            "grid_template_areas": null,
            "grid_template_columns": null,
            "grid_template_rows": null,
            "height": null,
            "justify_content": null,
            "justify_items": null,
            "left": null,
            "margin": null,
            "max_height": null,
            "max_width": null,
            "min_height": null,
            "min_width": null,
            "object_fit": null,
            "object_position": null,
            "order": null,
            "overflow": null,
            "overflow_x": null,
            "overflow_y": null,
            "padding": null,
            "right": null,
            "top": null,
            "visibility": null,
            "width": null
          }
        },
        "38c4207f4cf94848bc678f9ec194ec53": {
          "model_module": "@jupyter-widgets/controls",
          "model_name": "HBoxModel",
          "state": {
            "_dom_classes": [],
            "_model_module": "@jupyter-widgets/controls",
            "_model_module_version": "1.5.0",
            "_model_name": "HBoxModel",
            "_view_count": null,
            "_view_module": "@jupyter-widgets/controls",
            "_view_module_version": "1.5.0",
            "_view_name": "HBoxView",
            "box_style": "",
            "children": [
              "IPY_MODEL_89013219aa34482bbb7852f1f183edd7",
              "IPY_MODEL_ddbda6b47aa84c3a87aed3c112d4a5df"
            ],
            "layout": "IPY_MODEL_41964bd20bdb494288c486a77e5bf07e"
          }
        },
        "41964bd20bdb494288c486a77e5bf07e": {
          "model_module": "@jupyter-widgets/base",
          "model_name": "LayoutModel",
          "state": {
            "_model_module": "@jupyter-widgets/base",
            "_model_module_version": "1.2.0",
            "_model_name": "LayoutModel",
            "_view_count": null,
            "_view_module": "@jupyter-widgets/base",
            "_view_module_version": "1.2.0",
            "_view_name": "LayoutView",
            "align_content": null,
            "align_items": null,
            "align_self": null,
            "border": null,
            "bottom": null,
            "display": null,
            "flex": null,
            "flex_flow": null,
            "grid_area": null,
            "grid_auto_columns": null,
            "grid_auto_flow": null,
            "grid_auto_rows": null,
            "grid_column": null,
            "grid_gap": null,
            "grid_row": null,
            "grid_template_areas": null,
            "grid_template_columns": null,
            "grid_template_rows": null,
            "height": null,
            "justify_content": null,
            "justify_items": null,
            "left": null,
            "margin": null,
            "max_height": null,
            "max_width": null,
            "min_height": null,
            "min_width": null,
            "object_fit": null,
            "object_position": null,
            "order": null,
            "overflow": null,
            "overflow_x": null,
            "overflow_y": null,
            "padding": null,
            "right": null,
            "top": null,
            "visibility": null,
            "width": null
          }
        },
        "89013219aa34482bbb7852f1f183edd7": {
          "model_module": "@jupyter-widgets/controls",
          "model_name": "FloatProgressModel",
          "state": {
            "_dom_classes": [],
            "_model_module": "@jupyter-widgets/controls",
            "_model_module_version": "1.5.0",
            "_model_name": "FloatProgressModel",
            "_view_count": null,
            "_view_module": "@jupyter-widgets/controls",
            "_view_module_version": "1.5.0",
            "_view_name": "ProgressView",
            "bar_style": "info",
            "description": "",
            "description_tooltip": null,
            "layout": "IPY_MODEL_e84b8ac306db4f56a3f8db2a409423d4",
            "max": 1,
            "min": 0,
            "orientation": "horizontal",
            "style": "IPY_MODEL_521c9cc0de464a559a4d3a3bf692fc28",
            "value": 1
          }
        },
        "ddbda6b47aa84c3a87aed3c112d4a5df": {
          "model_module": "@jupyter-widgets/controls",
          "model_name": "HTMLModel",
          "state": {
            "_dom_classes": [],
            "_model_module": "@jupyter-widgets/controls",
            "_model_module_version": "1.5.0",
            "_model_name": "HTMLModel",
            "_view_count": null,
            "_view_module": "@jupyter-widgets/controls",
            "_view_module_version": "1.5.0",
            "_view_name": "HTMLView",
            "description": "",
            "description_tooltip": null,
            "layout": "IPY_MODEL_c1e16f7cd9964043b964b59cc1849970",
            "placeholder": "​",
            "style": "IPY_MODEL_45d50fae4f0449e7ab772f5a41983ce2",
            "value": " 2201/0 [00:00&lt;00:00, 5296.63 examples/s]"
          }
        },
        "521c9cc0de464a559a4d3a3bf692fc28": {
          "model_module": "@jupyter-widgets/controls",
          "model_name": "ProgressStyleModel",
          "state": {
            "_model_module": "@jupyter-widgets/controls",
            "_model_module_version": "1.5.0",
            "_model_name": "ProgressStyleModel",
            "_view_count": null,
            "_view_module": "@jupyter-widgets/base",
            "_view_module_version": "1.2.0",
            "_view_name": "StyleView",
            "bar_color": null,
            "description_width": "initial"
          }
        },
        "e84b8ac306db4f56a3f8db2a409423d4": {
          "model_module": "@jupyter-widgets/base",
          "model_name": "LayoutModel",
          "state": {
            "_model_module": "@jupyter-widgets/base",
            "_model_module_version": "1.2.0",
            "_model_name": "LayoutModel",
            "_view_count": null,
            "_view_module": "@jupyter-widgets/base",
            "_view_module_version": "1.2.0",
            "_view_name": "LayoutView",
            "align_content": null,
            "align_items": null,
            "align_self": null,
            "border": null,
            "bottom": null,
            "display": null,
            "flex": null,
            "flex_flow": null,
            "grid_area": null,
            "grid_auto_columns": null,
            "grid_auto_flow": null,
            "grid_auto_rows": null,
            "grid_column": null,
            "grid_gap": null,
            "grid_row": null,
            "grid_template_areas": null,
            "grid_template_columns": null,
            "grid_template_rows": null,
            "height": null,
            "justify_content": null,
            "justify_items": null,
            "left": null,
            "margin": null,
            "max_height": null,
            "max_width": null,
            "min_height": null,
            "min_width": null,
            "object_fit": null,
            "object_position": null,
            "order": null,
            "overflow": null,
            "overflow_x": null,
            "overflow_y": null,
            "padding": null,
            "right": null,
            "top": null,
            "visibility": null,
            "width": null
          }
        },
        "45d50fae4f0449e7ab772f5a41983ce2": {
          "model_module": "@jupyter-widgets/controls",
          "model_name": "DescriptionStyleModel",
          "state": {
            "_model_module": "@jupyter-widgets/controls",
            "_model_module_version": "1.5.0",
            "_model_name": "DescriptionStyleModel",
            "_view_count": null,
            "_view_module": "@jupyter-widgets/base",
            "_view_module_version": "1.2.0",
            "_view_name": "StyleView",
            "description_width": ""
          }
        },
        "c1e16f7cd9964043b964b59cc1849970": {
          "model_module": "@jupyter-widgets/base",
          "model_name": "LayoutModel",
          "state": {
            "_model_module": "@jupyter-widgets/base",
            "_model_module_version": "1.2.0",
            "_model_name": "LayoutModel",
            "_view_count": null,
            "_view_module": "@jupyter-widgets/base",
            "_view_module_version": "1.2.0",
            "_view_name": "LayoutView",
            "align_content": null,
            "align_items": null,
            "align_self": null,
            "border": null,
            "bottom": null,
            "display": null,
            "flex": null,
            "flex_flow": null,
            "grid_area": null,
            "grid_auto_columns": null,
            "grid_auto_flow": null,
            "grid_auto_rows": null,
            "grid_column": null,
            "grid_gap": null,
            "grid_row": null,
            "grid_template_areas": null,
            "grid_template_columns": null,
            "grid_template_rows": null,
            "height": null,
            "justify_content": null,
            "justify_items": null,
            "left": null,
            "margin": null,
            "max_height": null,
            "max_width": null,
            "min_height": null,
            "min_width": null,
            "object_fit": null,
            "object_position": null,
            "order": null,
            "overflow": null,
            "overflow_x": null,
            "overflow_y": null,
            "padding": null,
            "right": null,
            "top": null,
            "visibility": null,
            "width": null
          }
        },
        "c33415565f3849bc8936e2541a45e9c5": {
          "model_module": "@jupyter-widgets/controls",
          "model_name": "HBoxModel",
          "state": {
            "_dom_classes": [],
            "_model_module": "@jupyter-widgets/controls",
            "_model_module_version": "1.5.0",
            "_model_name": "HBoxModel",
            "_view_count": null,
            "_view_module": "@jupyter-widgets/controls",
            "_view_module_version": "1.5.0",
            "_view_name": "HBoxView",
            "box_style": "",
            "children": [
              "IPY_MODEL_2b81bf1e7c934a07a9b10745c3da8060",
              "IPY_MODEL_878f48616c0b4115b0a81e2397eb3824"
            ],
            "layout": "IPY_MODEL_fd15d492a0b84b14be73d48a0f50cf53"
          }
        },
        "fd15d492a0b84b14be73d48a0f50cf53": {
          "model_module": "@jupyter-widgets/base",
          "model_name": "LayoutModel",
          "state": {
            "_model_module": "@jupyter-widgets/base",
            "_model_module_version": "1.2.0",
            "_model_name": "LayoutModel",
            "_view_count": null,
            "_view_module": "@jupyter-widgets/base",
            "_view_module_version": "1.2.0",
            "_view_name": "LayoutView",
            "align_content": null,
            "align_items": null,
            "align_self": null,
            "border": null,
            "bottom": null,
            "display": null,
            "flex": null,
            "flex_flow": null,
            "grid_area": null,
            "grid_auto_columns": null,
            "grid_auto_flow": null,
            "grid_auto_rows": null,
            "grid_column": null,
            "grid_gap": null,
            "grid_row": null,
            "grid_template_areas": null,
            "grid_template_columns": null,
            "grid_template_rows": null,
            "height": null,
            "justify_content": null,
            "justify_items": null,
            "left": null,
            "margin": null,
            "max_height": null,
            "max_width": null,
            "min_height": null,
            "min_width": null,
            "object_fit": null,
            "object_position": null,
            "order": null,
            "overflow": null,
            "overflow_x": null,
            "overflow_y": null,
            "padding": null,
            "right": null,
            "top": null,
            "visibility": null,
            "width": null
          }
        },
        "2b81bf1e7c934a07a9b10745c3da8060": {
          "model_module": "@jupyter-widgets/controls",
          "model_name": "FloatProgressModel",
          "state": {
            "_dom_classes": [],
            "_model_module": "@jupyter-widgets/controls",
            "_model_module_version": "1.5.0",
            "_model_name": "FloatProgressModel",
            "_view_count": null,
            "_view_module": "@jupyter-widgets/controls",
            "_view_module_version": "1.5.0",
            "_view_name": "ProgressView",
            "bar_style": "success",
            "description": "Downloading: ",
            "description_tooltip": null,
            "layout": "IPY_MODEL_1317434055e54da88857b6061b5c8433",
            "max": 2983,
            "min": 0,
            "orientation": "horizontal",
            "style": "IPY_MODEL_9d949c67d0fc4c30a4439b4b0454eca9",
            "value": 2983
          }
        },
        "878f48616c0b4115b0a81e2397eb3824": {
          "model_module": "@jupyter-widgets/controls",
          "model_name": "HTMLModel",
          "state": {
            "_dom_classes": [],
            "_model_module": "@jupyter-widgets/controls",
            "_model_module_version": "1.5.0",
            "_model_name": "HTMLModel",
            "_view_count": null,
            "_view_module": "@jupyter-widgets/controls",
            "_view_module_version": "1.5.0",
            "_view_name": "HTMLView",
            "description": "",
            "description_tooltip": null,
            "layout": "IPY_MODEL_5c120aa2b89f408e9fe4466a874328a9",
            "placeholder": "​",
            "style": "IPY_MODEL_1945524a59c1455bb99a367e4246d79d",
            "value": " 11.1k/? [00:00&lt;00:00, 16.7kB/s]"
          }
        },
        "9d949c67d0fc4c30a4439b4b0454eca9": {
          "model_module": "@jupyter-widgets/controls",
          "model_name": "ProgressStyleModel",
          "state": {
            "_model_module": "@jupyter-widgets/controls",
            "_model_module_version": "1.5.0",
            "_model_name": "ProgressStyleModel",
            "_view_count": null,
            "_view_module": "@jupyter-widgets/base",
            "_view_module_version": "1.2.0",
            "_view_name": "StyleView",
            "bar_color": null,
            "description_width": "initial"
          }
        },
        "1317434055e54da88857b6061b5c8433": {
          "model_module": "@jupyter-widgets/base",
          "model_name": "LayoutModel",
          "state": {
            "_model_module": "@jupyter-widgets/base",
            "_model_module_version": "1.2.0",
            "_model_name": "LayoutModel",
            "_view_count": null,
            "_view_module": "@jupyter-widgets/base",
            "_view_module_version": "1.2.0",
            "_view_name": "LayoutView",
            "align_content": null,
            "align_items": null,
            "align_self": null,
            "border": null,
            "bottom": null,
            "display": null,
            "flex": null,
            "flex_flow": null,
            "grid_area": null,
            "grid_auto_columns": null,
            "grid_auto_flow": null,
            "grid_auto_rows": null,
            "grid_column": null,
            "grid_gap": null,
            "grid_row": null,
            "grid_template_areas": null,
            "grid_template_columns": null,
            "grid_template_rows": null,
            "height": null,
            "justify_content": null,
            "justify_items": null,
            "left": null,
            "margin": null,
            "max_height": null,
            "max_width": null,
            "min_height": null,
            "min_width": null,
            "object_fit": null,
            "object_position": null,
            "order": null,
            "overflow": null,
            "overflow_x": null,
            "overflow_y": null,
            "padding": null,
            "right": null,
            "top": null,
            "visibility": null,
            "width": null
          }
        },
        "1945524a59c1455bb99a367e4246d79d": {
          "model_module": "@jupyter-widgets/controls",
          "model_name": "DescriptionStyleModel",
          "state": {
            "_model_module": "@jupyter-widgets/controls",
            "_model_module_version": "1.5.0",
            "_model_name": "DescriptionStyleModel",
            "_view_count": null,
            "_view_module": "@jupyter-widgets/base",
            "_view_module_version": "1.2.0",
            "_view_name": "StyleView",
            "description_width": ""
          }
        },
        "5c120aa2b89f408e9fe4466a874328a9": {
          "model_module": "@jupyter-widgets/base",
          "model_name": "LayoutModel",
          "state": {
            "_model_module": "@jupyter-widgets/base",
            "_model_module_version": "1.2.0",
            "_model_name": "LayoutModel",
            "_view_count": null,
            "_view_module": "@jupyter-widgets/base",
            "_view_module_version": "1.2.0",
            "_view_name": "LayoutView",
            "align_content": null,
            "align_items": null,
            "align_self": null,
            "border": null,
            "bottom": null,
            "display": null,
            "flex": null,
            "flex_flow": null,
            "grid_area": null,
            "grid_auto_columns": null,
            "grid_auto_flow": null,
            "grid_auto_rows": null,
            "grid_column": null,
            "grid_gap": null,
            "grid_row": null,
            "grid_template_areas": null,
            "grid_template_columns": null,
            "grid_template_rows": null,
            "height": null,
            "justify_content": null,
            "justify_items": null,
            "left": null,
            "margin": null,
            "max_height": null,
            "max_width": null,
            "min_height": null,
            "min_width": null,
            "object_fit": null,
            "object_position": null,
            "order": null,
            "overflow": null,
            "overflow_x": null,
            "overflow_y": null,
            "padding": null,
            "right": null,
            "top": null,
            "visibility": null,
            "width": null
          }
        },
        "72f07f4eeea24096914fbf1116fb0144": {
          "model_module": "@jupyter-widgets/controls",
          "model_name": "HBoxModel",
          "state": {
            "_dom_classes": [],
            "_model_module": "@jupyter-widgets/controls",
            "_model_module_version": "1.5.0",
            "_model_name": "HBoxModel",
            "_view_count": null,
            "_view_module": "@jupyter-widgets/controls",
            "_view_module_version": "1.5.0",
            "_view_name": "HBoxView",
            "box_style": "",
            "children": [
              "IPY_MODEL_0f75bf96778743e8a0bad939feb98263",
              "IPY_MODEL_349d74dfdf1c48dea34548887a89ae13"
            ],
            "layout": "IPY_MODEL_996c30bb904a4b8baa9e8e13fe2c48e4"
          }
        },
        "996c30bb904a4b8baa9e8e13fe2c48e4": {
          "model_module": "@jupyter-widgets/base",
          "model_name": "LayoutModel",
          "state": {
            "_model_module": "@jupyter-widgets/base",
            "_model_module_version": "1.2.0",
            "_model_name": "LayoutModel",
            "_view_count": null,
            "_view_module": "@jupyter-widgets/base",
            "_view_module_version": "1.2.0",
            "_view_name": "LayoutView",
            "align_content": null,
            "align_items": null,
            "align_self": null,
            "border": null,
            "bottom": null,
            "display": null,
            "flex": null,
            "flex_flow": null,
            "grid_area": null,
            "grid_auto_columns": null,
            "grid_auto_flow": null,
            "grid_auto_rows": null,
            "grid_column": null,
            "grid_gap": null,
            "grid_row": null,
            "grid_template_areas": null,
            "grid_template_columns": null,
            "grid_template_rows": null,
            "height": null,
            "justify_content": null,
            "justify_items": null,
            "left": null,
            "margin": null,
            "max_height": null,
            "max_width": null,
            "min_height": null,
            "min_width": null,
            "object_fit": null,
            "object_position": null,
            "order": null,
            "overflow": null,
            "overflow_x": null,
            "overflow_y": null,
            "padding": null,
            "right": null,
            "top": null,
            "visibility": null,
            "width": null
          }
        },
        "0f75bf96778743e8a0bad939feb98263": {
          "model_module": "@jupyter-widgets/controls",
          "model_name": "FloatProgressModel",
          "state": {
            "_dom_classes": [],
            "_model_module": "@jupyter-widgets/controls",
            "_model_module_version": "1.5.0",
            "_model_name": "FloatProgressModel",
            "_view_count": null,
            "_view_module": "@jupyter-widgets/controls",
            "_view_module_version": "1.5.0",
            "_view_name": "ProgressView",
            "bar_style": "success",
            "description": "Downloading: ",
            "description_tooltip": null,
            "layout": "IPY_MODEL_820dd9114c444f63837cdbf761b46a96",
            "max": 1385,
            "min": 0,
            "orientation": "horizontal",
            "style": "IPY_MODEL_1c588f4adb36496894a264d0542e77ad",
            "value": 1385
          }
        },
        "349d74dfdf1c48dea34548887a89ae13": {
          "model_module": "@jupyter-widgets/controls",
          "model_name": "HTMLModel",
          "state": {
            "_dom_classes": [],
            "_model_module": "@jupyter-widgets/controls",
            "_model_module_version": "1.5.0",
            "_model_name": "HTMLModel",
            "_view_count": null,
            "_view_module": "@jupyter-widgets/controls",
            "_view_module_version": "1.5.0",
            "_view_name": "HTMLView",
            "description": "",
            "description_tooltip": null,
            "layout": "IPY_MODEL_49c339a3dc264d00add41f52374dc36e",
            "placeholder": "​",
            "style": "IPY_MODEL_fbf221e63a8c48deaaf184d88bc7e79d",
            "value": " 5.66k/? [00:00&lt;00:00, 22.2kB/s]"
          }
        },
        "1c588f4adb36496894a264d0542e77ad": {
          "model_module": "@jupyter-widgets/controls",
          "model_name": "ProgressStyleModel",
          "state": {
            "_model_module": "@jupyter-widgets/controls",
            "_model_module_version": "1.5.0",
            "_model_name": "ProgressStyleModel",
            "_view_count": null,
            "_view_module": "@jupyter-widgets/base",
            "_view_module_version": "1.2.0",
            "_view_name": "StyleView",
            "bar_color": null,
            "description_width": "initial"
          }
        },
        "820dd9114c444f63837cdbf761b46a96": {
          "model_module": "@jupyter-widgets/base",
          "model_name": "LayoutModel",
          "state": {
            "_model_module": "@jupyter-widgets/base",
            "_model_module_version": "1.2.0",
            "_model_name": "LayoutModel",
            "_view_count": null,
            "_view_module": "@jupyter-widgets/base",
            "_view_module_version": "1.2.0",
            "_view_name": "LayoutView",
            "align_content": null,
            "align_items": null,
            "align_self": null,
            "border": null,
            "bottom": null,
            "display": null,
            "flex": null,
            "flex_flow": null,
            "grid_area": null,
            "grid_auto_columns": null,
            "grid_auto_flow": null,
            "grid_auto_rows": null,
            "grid_column": null,
            "grid_gap": null,
            "grid_row": null,
            "grid_template_areas": null,
            "grid_template_columns": null,
            "grid_template_rows": null,
            "height": null,
            "justify_content": null,
            "justify_items": null,
            "left": null,
            "margin": null,
            "max_height": null,
            "max_width": null,
            "min_height": null,
            "min_width": null,
            "object_fit": null,
            "object_position": null,
            "order": null,
            "overflow": null,
            "overflow_x": null,
            "overflow_y": null,
            "padding": null,
            "right": null,
            "top": null,
            "visibility": null,
            "width": null
          }
        },
        "fbf221e63a8c48deaaf184d88bc7e79d": {
          "model_module": "@jupyter-widgets/controls",
          "model_name": "DescriptionStyleModel",
          "state": {
            "_model_module": "@jupyter-widgets/controls",
            "_model_module_version": "1.5.0",
            "_model_name": "DescriptionStyleModel",
            "_view_count": null,
            "_view_module": "@jupyter-widgets/base",
            "_view_module_version": "1.2.0",
            "_view_name": "StyleView",
            "description_width": ""
          }
        },
        "49c339a3dc264d00add41f52374dc36e": {
          "model_module": "@jupyter-widgets/base",
          "model_name": "LayoutModel",
          "state": {
            "_model_module": "@jupyter-widgets/base",
            "_model_module_version": "1.2.0",
            "_model_name": "LayoutModel",
            "_view_count": null,
            "_view_module": "@jupyter-widgets/base",
            "_view_module_version": "1.2.0",
            "_view_name": "LayoutView",
            "align_content": null,
            "align_items": null,
            "align_self": null,
            "border": null,
            "bottom": null,
            "display": null,
            "flex": null,
            "flex_flow": null,
            "grid_area": null,
            "grid_auto_columns": null,
            "grid_auto_flow": null,
            "grid_auto_rows": null,
            "grid_column": null,
            "grid_gap": null,
            "grid_row": null,
            "grid_template_areas": null,
            "grid_template_columns": null,
            "grid_template_rows": null,
            "height": null,
            "justify_content": null,
            "justify_items": null,
            "left": null,
            "margin": null,
            "max_height": null,
            "max_width": null,
            "min_height": null,
            "min_width": null,
            "object_fit": null,
            "object_position": null,
            "order": null,
            "overflow": null,
            "overflow_x": null,
            "overflow_y": null,
            "padding": null,
            "right": null,
            "top": null,
            "visibility": null,
            "width": null
          }
        },
        "6c6d37643d214678a241a25e8c1001c5": {
          "model_module": "@jupyter-widgets/controls",
          "model_name": "HBoxModel",
          "state": {
            "_dom_classes": [],
            "_model_module": "@jupyter-widgets/controls",
            "_model_module_version": "1.5.0",
            "_model_name": "HBoxModel",
            "_view_count": null,
            "_view_module": "@jupyter-widgets/controls",
            "_view_module_version": "1.5.0",
            "_view_name": "HBoxView",
            "box_style": "",
            "children": [
              "IPY_MODEL_c73512b303f44e62bb8be0807dc657a7",
              "IPY_MODEL_ac8f42498ae64859994971f8fbd56980"
            ],
            "layout": "IPY_MODEL_57afd87906624e8c9a9799ae582adbee"
          }
        },
        "57afd87906624e8c9a9799ae582adbee": {
          "model_module": "@jupyter-widgets/base",
          "model_name": "LayoutModel",
          "state": {
            "_model_module": "@jupyter-widgets/base",
            "_model_module_version": "1.2.0",
            "_model_name": "LayoutModel",
            "_view_count": null,
            "_view_module": "@jupyter-widgets/base",
            "_view_module_version": "1.2.0",
            "_view_name": "LayoutView",
            "align_content": null,
            "align_items": null,
            "align_self": null,
            "border": null,
            "bottom": null,
            "display": null,
            "flex": null,
            "flex_flow": null,
            "grid_area": null,
            "grid_auto_columns": null,
            "grid_auto_flow": null,
            "grid_auto_rows": null,
            "grid_column": null,
            "grid_gap": null,
            "grid_row": null,
            "grid_template_areas": null,
            "grid_template_columns": null,
            "grid_template_rows": null,
            "height": null,
            "justify_content": null,
            "justify_items": null,
            "left": null,
            "margin": null,
            "max_height": null,
            "max_width": null,
            "min_height": null,
            "min_width": null,
            "object_fit": null,
            "object_position": null,
            "order": null,
            "overflow": null,
            "overflow_x": null,
            "overflow_y": null,
            "padding": null,
            "right": null,
            "top": null,
            "visibility": null,
            "width": null
          }
        },
        "c73512b303f44e62bb8be0807dc657a7": {
          "model_module": "@jupyter-widgets/controls",
          "model_name": "FloatProgressModel",
          "state": {
            "_dom_classes": [],
            "_model_module": "@jupyter-widgets/controls",
            "_model_module_version": "1.5.0",
            "_model_name": "FloatProgressModel",
            "_view_count": null,
            "_view_module": "@jupyter-widgets/controls",
            "_view_module_version": "1.5.0",
            "_view_name": "ProgressView",
            "bar_style": "success",
            "description": "Downloading: ",
            "description_tooltip": null,
            "layout": "IPY_MODEL_af1b24ef6e3e41d0a285478fe3058c37",
            "max": 1,
            "min": 0,
            "orientation": "horizontal",
            "style": "IPY_MODEL_f70e7285097c49cfb2f42bec21837dfd",
            "value": 1
          }
        },
        "ac8f42498ae64859994971f8fbd56980": {
          "model_module": "@jupyter-widgets/controls",
          "model_name": "HTMLModel",
          "state": {
            "_dom_classes": [],
            "_model_module": "@jupyter-widgets/controls",
            "_model_module_version": "1.5.0",
            "_model_name": "HTMLModel",
            "_view_count": null,
            "_view_module": "@jupyter-widgets/controls",
            "_view_module_version": "1.5.0",
            "_view_name": "HTMLView",
            "description": "",
            "description_tooltip": null,
            "layout": "IPY_MODEL_f82fa3f40cae495e9b6bb4747758615e",
            "placeholder": "​",
            "style": "IPY_MODEL_28032dcec27e4c68a8a9facf3a124587",
            "value": " 118M/? [00:12&lt;00:00, 9.54MB/s]"
          }
        },
        "f70e7285097c49cfb2f42bec21837dfd": {
          "model_module": "@jupyter-widgets/controls",
          "model_name": "ProgressStyleModel",
          "state": {
            "_model_module": "@jupyter-widgets/controls",
            "_model_module_version": "1.5.0",
            "_model_name": "ProgressStyleModel",
            "_view_count": null,
            "_view_module": "@jupyter-widgets/base",
            "_view_module_version": "1.2.0",
            "_view_name": "StyleView",
            "bar_color": null,
            "description_width": "initial"
          }
        },
        "af1b24ef6e3e41d0a285478fe3058c37": {
          "model_module": "@jupyter-widgets/base",
          "model_name": "LayoutModel",
          "state": {
            "_model_module": "@jupyter-widgets/base",
            "_model_module_version": "1.2.0",
            "_model_name": "LayoutModel",
            "_view_count": null,
            "_view_module": "@jupyter-widgets/base",
            "_view_module_version": "1.2.0",
            "_view_name": "LayoutView",
            "align_content": null,
            "align_items": null,
            "align_self": null,
            "border": null,
            "bottom": null,
            "display": null,
            "flex": null,
            "flex_flow": null,
            "grid_area": null,
            "grid_auto_columns": null,
            "grid_auto_flow": null,
            "grid_auto_rows": null,
            "grid_column": null,
            "grid_gap": null,
            "grid_row": null,
            "grid_template_areas": null,
            "grid_template_columns": null,
            "grid_template_rows": null,
            "height": null,
            "justify_content": null,
            "justify_items": null,
            "left": null,
            "margin": null,
            "max_height": null,
            "max_width": null,
            "min_height": null,
            "min_width": null,
            "object_fit": null,
            "object_position": null,
            "order": null,
            "overflow": null,
            "overflow_x": null,
            "overflow_y": null,
            "padding": null,
            "right": null,
            "top": null,
            "visibility": null,
            "width": null
          }
        },
        "28032dcec27e4c68a8a9facf3a124587": {
          "model_module": "@jupyter-widgets/controls",
          "model_name": "DescriptionStyleModel",
          "state": {
            "_model_module": "@jupyter-widgets/controls",
            "_model_module_version": "1.5.0",
            "_model_name": "DescriptionStyleModel",
            "_view_count": null,
            "_view_module": "@jupyter-widgets/base",
            "_view_module_version": "1.2.0",
            "_view_name": "StyleView",
            "description_width": ""
          }
        },
        "f82fa3f40cae495e9b6bb4747758615e": {
          "model_module": "@jupyter-widgets/base",
          "model_name": "LayoutModel",
          "state": {
            "_model_module": "@jupyter-widgets/base",
            "_model_module_version": "1.2.0",
            "_model_name": "LayoutModel",
            "_view_count": null,
            "_view_module": "@jupyter-widgets/base",
            "_view_module_version": "1.2.0",
            "_view_name": "LayoutView",
            "align_content": null,
            "align_items": null,
            "align_self": null,
            "border": null,
            "bottom": null,
            "display": null,
            "flex": null,
            "flex_flow": null,
            "grid_area": null,
            "grid_auto_columns": null,
            "grid_auto_flow": null,
            "grid_auto_rows": null,
            "grid_column": null,
            "grid_gap": null,
            "grid_row": null,
            "grid_template_areas": null,
            "grid_template_columns": null,
            "grid_template_rows": null,
            "height": null,
            "justify_content": null,
            "justify_items": null,
            "left": null,
            "margin": null,
            "max_height": null,
            "max_width": null,
            "min_height": null,
            "min_width": null,
            "object_fit": null,
            "object_position": null,
            "order": null,
            "overflow": null,
            "overflow_x": null,
            "overflow_y": null,
            "padding": null,
            "right": null,
            "top": null,
            "visibility": null,
            "width": null
          }
        },
        "fae38478fe624d84a10ec14bf0bf893c": {
          "model_module": "@jupyter-widgets/controls",
          "model_name": "HBoxModel",
          "state": {
            "_dom_classes": [],
            "_model_module": "@jupyter-widgets/controls",
            "_model_module_version": "1.5.0",
            "_model_name": "HBoxModel",
            "_view_count": null,
            "_view_module": "@jupyter-widgets/controls",
            "_view_module_version": "1.5.0",
            "_view_name": "HBoxView",
            "box_style": "",
            "children": [
              "IPY_MODEL_beb21082eadb4f8fa2af5df727da2684",
              "IPY_MODEL_8bd77f3a5ae147e497a413c8b7595512"
            ],
            "layout": "IPY_MODEL_e5105183ad554a17945e7d209a2397fd"
          }
        },
        "e5105183ad554a17945e7d209a2397fd": {
          "model_module": "@jupyter-widgets/base",
          "model_name": "LayoutModel",
          "state": {
            "_model_module": "@jupyter-widgets/base",
            "_model_module_version": "1.2.0",
            "_model_name": "LayoutModel",
            "_view_count": null,
            "_view_module": "@jupyter-widgets/base",
            "_view_module_version": "1.2.0",
            "_view_name": "LayoutView",
            "align_content": null,
            "align_items": null,
            "align_self": null,
            "border": null,
            "bottom": null,
            "display": null,
            "flex": null,
            "flex_flow": null,
            "grid_area": null,
            "grid_auto_columns": null,
            "grid_auto_flow": null,
            "grid_auto_rows": null,
            "grid_column": null,
            "grid_gap": null,
            "grid_row": null,
            "grid_template_areas": null,
            "grid_template_columns": null,
            "grid_template_rows": null,
            "height": null,
            "justify_content": null,
            "justify_items": null,
            "left": null,
            "margin": null,
            "max_height": null,
            "max_width": null,
            "min_height": null,
            "min_width": null,
            "object_fit": null,
            "object_position": null,
            "order": null,
            "overflow": null,
            "overflow_x": null,
            "overflow_y": null,
            "padding": null,
            "right": null,
            "top": null,
            "visibility": null,
            "width": null
          }
        },
        "beb21082eadb4f8fa2af5df727da2684": {
          "model_module": "@jupyter-widgets/controls",
          "model_name": "FloatProgressModel",
          "state": {
            "_dom_classes": [],
            "_model_module": "@jupyter-widgets/controls",
            "_model_module_version": "1.5.0",
            "_model_name": "FloatProgressModel",
            "_view_count": null,
            "_view_module": "@jupyter-widgets/controls",
            "_view_module_version": "1.5.0",
            "_view_name": "ProgressView",
            "bar_style": "info",
            "description": "",
            "description_tooltip": null,
            "layout": "IPY_MODEL_00f4ad51826447f889cf919ab58445a6",
            "max": 1,
            "min": 0,
            "orientation": "horizontal",
            "style": "IPY_MODEL_0b8a391cf7854feab4395c588897bc2b",
            "value": 1
          }
        },
        "8bd77f3a5ae147e497a413c8b7595512": {
          "model_module": "@jupyter-widgets/controls",
          "model_name": "HTMLModel",
          "state": {
            "_dom_classes": [],
            "_model_module": "@jupyter-widgets/controls",
            "_model_module_version": "1.5.0",
            "_model_name": "HTMLModel",
            "_view_count": null,
            "_view_module": "@jupyter-widgets/controls",
            "_view_module_version": "1.5.0",
            "_view_name": "HTMLView",
            "description": "",
            "description_tooltip": null,
            "layout": "IPY_MODEL_9d8e7740b2a04b3da2c3544110ae9194",
            "placeholder": "​",
            "style": "IPY_MODEL_4a281c6bc4494a02a98aad666ab7d9f5",
            "value": " 220616/0 [00:11&lt;00:00, 19866.51 examples/s]"
          }
        },
        "0b8a391cf7854feab4395c588897bc2b": {
          "model_module": "@jupyter-widgets/controls",
          "model_name": "ProgressStyleModel",
          "state": {
            "_model_module": "@jupyter-widgets/controls",
            "_model_module_version": "1.5.0",
            "_model_name": "ProgressStyleModel",
            "_view_count": null,
            "_view_module": "@jupyter-widgets/base",
            "_view_module_version": "1.2.0",
            "_view_name": "StyleView",
            "bar_color": null,
            "description_width": "initial"
          }
        },
        "00f4ad51826447f889cf919ab58445a6": {
          "model_module": "@jupyter-widgets/base",
          "model_name": "LayoutModel",
          "state": {
            "_model_module": "@jupyter-widgets/base",
            "_model_module_version": "1.2.0",
            "_model_name": "LayoutModel",
            "_view_count": null,
            "_view_module": "@jupyter-widgets/base",
            "_view_module_version": "1.2.0",
            "_view_name": "LayoutView",
            "align_content": null,
            "align_items": null,
            "align_self": null,
            "border": null,
            "bottom": null,
            "display": null,
            "flex": null,
            "flex_flow": null,
            "grid_area": null,
            "grid_auto_columns": null,
            "grid_auto_flow": null,
            "grid_auto_rows": null,
            "grid_column": null,
            "grid_gap": null,
            "grid_row": null,
            "grid_template_areas": null,
            "grid_template_columns": null,
            "grid_template_rows": null,
            "height": null,
            "justify_content": null,
            "justify_items": null,
            "left": null,
            "margin": null,
            "max_height": null,
            "max_width": null,
            "min_height": null,
            "min_width": null,
            "object_fit": null,
            "object_position": null,
            "order": null,
            "overflow": null,
            "overflow_x": null,
            "overflow_y": null,
            "padding": null,
            "right": null,
            "top": null,
            "visibility": null,
            "width": null
          }
        },
        "4a281c6bc4494a02a98aad666ab7d9f5": {
          "model_module": "@jupyter-widgets/controls",
          "model_name": "DescriptionStyleModel",
          "state": {
            "_model_module": "@jupyter-widgets/controls",
            "_model_module_version": "1.5.0",
            "_model_name": "DescriptionStyleModel",
            "_view_count": null,
            "_view_module": "@jupyter-widgets/base",
            "_view_module_version": "1.2.0",
            "_view_name": "StyleView",
            "description_width": ""
          }
        },
        "9d8e7740b2a04b3da2c3544110ae9194": {
          "model_module": "@jupyter-widgets/base",
          "model_name": "LayoutModel",
          "state": {
            "_model_module": "@jupyter-widgets/base",
            "_model_module_version": "1.2.0",
            "_model_name": "LayoutModel",
            "_view_count": null,
            "_view_module": "@jupyter-widgets/base",
            "_view_module_version": "1.2.0",
            "_view_name": "LayoutView",
            "align_content": null,
            "align_items": null,
            "align_self": null,
            "border": null,
            "bottom": null,
            "display": null,
            "flex": null,
            "flex_flow": null,
            "grid_area": null,
            "grid_auto_columns": null,
            "grid_auto_flow": null,
            "grid_auto_rows": null,
            "grid_column": null,
            "grid_gap": null,
            "grid_row": null,
            "grid_template_areas": null,
            "grid_template_columns": null,
            "grid_template_rows": null,
            "height": null,
            "justify_content": null,
            "justify_items": null,
            "left": null,
            "margin": null,
            "max_height": null,
            "max_width": null,
            "min_height": null,
            "min_width": null,
            "object_fit": null,
            "object_position": null,
            "order": null,
            "overflow": null,
            "overflow_x": null,
            "overflow_y": null,
            "padding": null,
            "right": null,
            "top": null,
            "visibility": null,
            "width": null
          }
        },
        "8741efd90b814643859ceb428736ec1c": {
          "model_module": "@jupyter-widgets/controls",
          "model_name": "HBoxModel",
          "state": {
            "_dom_classes": [],
            "_model_module": "@jupyter-widgets/controls",
            "_model_module_version": "1.5.0",
            "_model_name": "HBoxModel",
            "_view_count": null,
            "_view_module": "@jupyter-widgets/controls",
            "_view_module_version": "1.5.0",
            "_view_name": "HBoxView",
            "box_style": "",
            "children": [
              "IPY_MODEL_1c9522e0496346e7b5679ebc7e337d33",
              "IPY_MODEL_49dab948169c47dbbc57cfaa4c1d4773"
            ],
            "layout": "IPY_MODEL_04bf2754e8104cd490052fd452ed32e7"
          }
        },
        "04bf2754e8104cd490052fd452ed32e7": {
          "model_module": "@jupyter-widgets/base",
          "model_name": "LayoutModel",
          "state": {
            "_model_module": "@jupyter-widgets/base",
            "_model_module_version": "1.2.0",
            "_model_name": "LayoutModel",
            "_view_count": null,
            "_view_module": "@jupyter-widgets/base",
            "_view_module_version": "1.2.0",
            "_view_name": "LayoutView",
            "align_content": null,
            "align_items": null,
            "align_self": null,
            "border": null,
            "bottom": null,
            "display": null,
            "flex": null,
            "flex_flow": null,
            "grid_area": null,
            "grid_auto_columns": null,
            "grid_auto_flow": null,
            "grid_auto_rows": null,
            "grid_column": null,
            "grid_gap": null,
            "grid_row": null,
            "grid_template_areas": null,
            "grid_template_columns": null,
            "grid_template_rows": null,
            "height": null,
            "justify_content": null,
            "justify_items": null,
            "left": null,
            "margin": null,
            "max_height": null,
            "max_width": null,
            "min_height": null,
            "min_width": null,
            "object_fit": null,
            "object_position": null,
            "order": null,
            "overflow": null,
            "overflow_x": null,
            "overflow_y": null,
            "padding": null,
            "right": null,
            "top": null,
            "visibility": null,
            "width": null
          }
        },
        "1c9522e0496346e7b5679ebc7e337d33": {
          "model_module": "@jupyter-widgets/controls",
          "model_name": "FloatProgressModel",
          "state": {
            "_dom_classes": [],
            "_model_module": "@jupyter-widgets/controls",
            "_model_module_version": "1.5.0",
            "_model_name": "FloatProgressModel",
            "_view_count": null,
            "_view_module": "@jupyter-widgets/controls",
            "_view_module_version": "1.5.0",
            "_view_name": "ProgressView",
            "bar_style": "info",
            "description": "",
            "description_tooltip": null,
            "layout": "IPY_MODEL_3ce2039307774b70bfd21795ec54787a",
            "max": 1,
            "min": 0,
            "orientation": "horizontal",
            "style": "IPY_MODEL_fba136f493834930b6135c47571f9960",
            "value": 1
          }
        },
        "49dab948169c47dbbc57cfaa4c1d4773": {
          "model_module": "@jupyter-widgets/controls",
          "model_name": "HTMLModel",
          "state": {
            "_dom_classes": [],
            "_model_module": "@jupyter-widgets/controls",
            "_model_module_version": "1.5.0",
            "_model_name": "HTMLModel",
            "_view_count": null,
            "_view_module": "@jupyter-widgets/controls",
            "_view_module_version": "1.5.0",
            "_view_name": "HTMLView",
            "description": "",
            "description_tooltip": null,
            "layout": "IPY_MODEL_05bcf8101f76498abaf27844173fa465",
            "placeholder": "​",
            "style": "IPY_MODEL_87dc610af5b947289c0e4a0f815b0d27",
            "value": " 15010/0 [00:00&lt;00:00, 15912.25 examples/s]"
          }
        },
        "fba136f493834930b6135c47571f9960": {
          "model_module": "@jupyter-widgets/controls",
          "model_name": "ProgressStyleModel",
          "state": {
            "_model_module": "@jupyter-widgets/controls",
            "_model_module_version": "1.5.0",
            "_model_name": "ProgressStyleModel",
            "_view_count": null,
            "_view_module": "@jupyter-widgets/base",
            "_view_module_version": "1.2.0",
            "_view_name": "StyleView",
            "bar_color": null,
            "description_width": "initial"
          }
        },
        "3ce2039307774b70bfd21795ec54787a": {
          "model_module": "@jupyter-widgets/base",
          "model_name": "LayoutModel",
          "state": {
            "_model_module": "@jupyter-widgets/base",
            "_model_module_version": "1.2.0",
            "_model_name": "LayoutModel",
            "_view_count": null,
            "_view_module": "@jupyter-widgets/base",
            "_view_module_version": "1.2.0",
            "_view_name": "LayoutView",
            "align_content": null,
            "align_items": null,
            "align_self": null,
            "border": null,
            "bottom": null,
            "display": null,
            "flex": null,
            "flex_flow": null,
            "grid_area": null,
            "grid_auto_columns": null,
            "grid_auto_flow": null,
            "grid_auto_rows": null,
            "grid_column": null,
            "grid_gap": null,
            "grid_row": null,
            "grid_template_areas": null,
            "grid_template_columns": null,
            "grid_template_rows": null,
            "height": null,
            "justify_content": null,
            "justify_items": null,
            "left": null,
            "margin": null,
            "max_height": null,
            "max_width": null,
            "min_height": null,
            "min_width": null,
            "object_fit": null,
            "object_position": null,
            "order": null,
            "overflow": null,
            "overflow_x": null,
            "overflow_y": null,
            "padding": null,
            "right": null,
            "top": null,
            "visibility": null,
            "width": null
          }
        },
        "87dc610af5b947289c0e4a0f815b0d27": {
          "model_module": "@jupyter-widgets/controls",
          "model_name": "DescriptionStyleModel",
          "state": {
            "_model_module": "@jupyter-widgets/controls",
            "_model_module_version": "1.5.0",
            "_model_name": "DescriptionStyleModel",
            "_view_count": null,
            "_view_module": "@jupyter-widgets/base",
            "_view_module_version": "1.2.0",
            "_view_name": "StyleView",
            "description_width": ""
          }
        },
        "05bcf8101f76498abaf27844173fa465": {
          "model_module": "@jupyter-widgets/base",
          "model_name": "LayoutModel",
          "state": {
            "_model_module": "@jupyter-widgets/base",
            "_model_module_version": "1.2.0",
            "_model_name": "LayoutModel",
            "_view_count": null,
            "_view_module": "@jupyter-widgets/base",
            "_view_module_version": "1.2.0",
            "_view_name": "LayoutView",
            "align_content": null,
            "align_items": null,
            "align_self": null,
            "border": null,
            "bottom": null,
            "display": null,
            "flex": null,
            "flex_flow": null,
            "grid_area": null,
            "grid_auto_columns": null,
            "grid_auto_flow": null,
            "grid_auto_rows": null,
            "grid_column": null,
            "grid_gap": null,
            "grid_row": null,
            "grid_template_areas": null,
            "grid_template_columns": null,
            "grid_template_rows": null,
            "height": null,
            "justify_content": null,
            "justify_items": null,
            "left": null,
            "margin": null,
            "max_height": null,
            "max_width": null,
            "min_height": null,
            "min_width": null,
            "object_fit": null,
            "object_position": null,
            "order": null,
            "overflow": null,
            "overflow_x": null,
            "overflow_y": null,
            "padding": null,
            "right": null,
            "top": null,
            "visibility": null,
            "width": null
          }
        },
        "3b7189b079e649c8855f76563b8b2c89": {
          "model_module": "@jupyter-widgets/controls",
          "model_name": "HBoxModel",
          "state": {
            "_dom_classes": [],
            "_model_module": "@jupyter-widgets/controls",
            "_model_module_version": "1.5.0",
            "_model_name": "HBoxModel",
            "_view_count": null,
            "_view_module": "@jupyter-widgets/controls",
            "_view_module_version": "1.5.0",
            "_view_name": "HBoxView",
            "box_style": "",
            "children": [
              "IPY_MODEL_5c12e6ecdaab4e249bd83dfdf5183ea0",
              "IPY_MODEL_31e057a01cec458bbf5b3ad6de43e1d0"
            ],
            "layout": "IPY_MODEL_dcbc342ae34b43e9aa75f017c2c20932"
          }
        },
        "dcbc342ae34b43e9aa75f017c2c20932": {
          "model_module": "@jupyter-widgets/base",
          "model_name": "LayoutModel",
          "state": {
            "_model_module": "@jupyter-widgets/base",
            "_model_module_version": "1.2.0",
            "_model_name": "LayoutModel",
            "_view_count": null,
            "_view_module": "@jupyter-widgets/base",
            "_view_module_version": "1.2.0",
            "_view_name": "LayoutView",
            "align_content": null,
            "align_items": null,
            "align_self": null,
            "border": null,
            "bottom": null,
            "display": null,
            "flex": null,
            "flex_flow": null,
            "grid_area": null,
            "grid_auto_columns": null,
            "grid_auto_flow": null,
            "grid_auto_rows": null,
            "grid_column": null,
            "grid_gap": null,
            "grid_row": null,
            "grid_template_areas": null,
            "grid_template_columns": null,
            "grid_template_rows": null,
            "height": null,
            "justify_content": null,
            "justify_items": null,
            "left": null,
            "margin": null,
            "max_height": null,
            "max_width": null,
            "min_height": null,
            "min_width": null,
            "object_fit": null,
            "object_position": null,
            "order": null,
            "overflow": null,
            "overflow_x": null,
            "overflow_y": null,
            "padding": null,
            "right": null,
            "top": null,
            "visibility": null,
            "width": null
          }
        },
        "5c12e6ecdaab4e249bd83dfdf5183ea0": {
          "model_module": "@jupyter-widgets/controls",
          "model_name": "FloatProgressModel",
          "state": {
            "_dom_classes": [],
            "_model_module": "@jupyter-widgets/controls",
            "_model_module_version": "1.5.0",
            "_model_name": "FloatProgressModel",
            "_view_count": null,
            "_view_module": "@jupyter-widgets/controls",
            "_view_module_version": "1.5.0",
            "_view_name": "ProgressView",
            "bar_style": "info",
            "description": "",
            "description_tooltip": null,
            "layout": "IPY_MODEL_c77776fd1e694a79b8e62172ffc00299",
            "max": 1,
            "min": 0,
            "orientation": "horizontal",
            "style": "IPY_MODEL_6f27c3bac3784cb29bc1005d05c13211",
            "value": 1
          }
        },
        "31e057a01cec458bbf5b3ad6de43e1d0": {
          "model_module": "@jupyter-widgets/controls",
          "model_name": "HTMLModel",
          "state": {
            "_dom_classes": [],
            "_model_module": "@jupyter-widgets/controls",
            "_model_module_version": "1.5.0",
            "_model_name": "HTMLModel",
            "_view_count": null,
            "_view_module": "@jupyter-widgets/controls",
            "_view_module_version": "1.5.0",
            "_view_name": "HTMLView",
            "description": "",
            "description_tooltip": null,
            "layout": "IPY_MODEL_6ebf12d3cc62487c9c8a45a623efa14e",
            "placeholder": "​",
            "style": "IPY_MODEL_74ef268cf6d64f64afb00e4a8f372614",
            "value": " 12510/0 [00:00&lt;00:00, 14594.29 examples/s]"
          }
        },
        "6f27c3bac3784cb29bc1005d05c13211": {
          "model_module": "@jupyter-widgets/controls",
          "model_name": "ProgressStyleModel",
          "state": {
            "_model_module": "@jupyter-widgets/controls",
            "_model_module_version": "1.5.0",
            "_model_name": "ProgressStyleModel",
            "_view_count": null,
            "_view_module": "@jupyter-widgets/base",
            "_view_module_version": "1.2.0",
            "_view_name": "StyleView",
            "bar_color": null,
            "description_width": "initial"
          }
        },
        "c77776fd1e694a79b8e62172ffc00299": {
          "model_module": "@jupyter-widgets/base",
          "model_name": "LayoutModel",
          "state": {
            "_model_module": "@jupyter-widgets/base",
            "_model_module_version": "1.2.0",
            "_model_name": "LayoutModel",
            "_view_count": null,
            "_view_module": "@jupyter-widgets/base",
            "_view_module_version": "1.2.0",
            "_view_name": "LayoutView",
            "align_content": null,
            "align_items": null,
            "align_self": null,
            "border": null,
            "bottom": null,
            "display": null,
            "flex": null,
            "flex_flow": null,
            "grid_area": null,
            "grid_auto_columns": null,
            "grid_auto_flow": null,
            "grid_auto_rows": null,
            "grid_column": null,
            "grid_gap": null,
            "grid_row": null,
            "grid_template_areas": null,
            "grid_template_columns": null,
            "grid_template_rows": null,
            "height": null,
            "justify_content": null,
            "justify_items": null,
            "left": null,
            "margin": null,
            "max_height": null,
            "max_width": null,
            "min_height": null,
            "min_width": null,
            "object_fit": null,
            "object_position": null,
            "order": null,
            "overflow": null,
            "overflow_x": null,
            "overflow_y": null,
            "padding": null,
            "right": null,
            "top": null,
            "visibility": null,
            "width": null
          }
        },
        "74ef268cf6d64f64afb00e4a8f372614": {
          "model_module": "@jupyter-widgets/controls",
          "model_name": "DescriptionStyleModel",
          "state": {
            "_model_module": "@jupyter-widgets/controls",
            "_model_module_version": "1.5.0",
            "_model_name": "DescriptionStyleModel",
            "_view_count": null,
            "_view_module": "@jupyter-widgets/base",
            "_view_module_version": "1.2.0",
            "_view_name": "StyleView",
            "description_width": ""
          }
        },
        "6ebf12d3cc62487c9c8a45a623efa14e": {
          "model_module": "@jupyter-widgets/base",
          "model_name": "LayoutModel",
          "state": {
            "_model_module": "@jupyter-widgets/base",
            "_model_module_version": "1.2.0",
            "_model_name": "LayoutModel",
            "_view_count": null,
            "_view_module": "@jupyter-widgets/base",
            "_view_module_version": "1.2.0",
            "_view_name": "LayoutView",
            "align_content": null,
            "align_items": null,
            "align_self": null,
            "border": null,
            "bottom": null,
            "display": null,
            "flex": null,
            "flex_flow": null,
            "grid_area": null,
            "grid_auto_columns": null,
            "grid_auto_flow": null,
            "grid_auto_rows": null,
            "grid_column": null,
            "grid_gap": null,
            "grid_row": null,
            "grid_template_areas": null,
            "grid_template_columns": null,
            "grid_template_rows": null,
            "height": null,
            "justify_content": null,
            "justify_items": null,
            "left": null,
            "margin": null,
            "max_height": null,
            "max_width": null,
            "min_height": null,
            "min_width": null,
            "object_fit": null,
            "object_position": null,
            "order": null,
            "overflow": null,
            "overflow_x": null,
            "overflow_y": null,
            "padding": null,
            "right": null,
            "top": null,
            "visibility": null,
            "width": null
          }
        },
        "79e7ab52929548ddbb540d74c3c6b0aa": {
          "model_module": "@jupyter-widgets/controls",
          "model_name": "HBoxModel",
          "state": {
            "_dom_classes": [],
            "_model_module": "@jupyter-widgets/controls",
            "_model_module_version": "1.5.0",
            "_model_name": "HBoxModel",
            "_view_count": null,
            "_view_module": "@jupyter-widgets/controls",
            "_view_module_version": "1.5.0",
            "_view_name": "HBoxView",
            "box_style": "",
            "children": [
              "IPY_MODEL_64a9a47708ac4c4aaed0bd1d0084482b",
              "IPY_MODEL_efca9fc34c9141e8a540129301aba3a6"
            ],
            "layout": "IPY_MODEL_07c9e0567aff4228a5bdb79d9020ce73"
          }
        },
        "07c9e0567aff4228a5bdb79d9020ce73": {
          "model_module": "@jupyter-widgets/base",
          "model_name": "LayoutModel",
          "state": {
            "_model_module": "@jupyter-widgets/base",
            "_model_module_version": "1.2.0",
            "_model_name": "LayoutModel",
            "_view_count": null,
            "_view_module": "@jupyter-widgets/base",
            "_view_module_version": "1.2.0",
            "_view_name": "LayoutView",
            "align_content": null,
            "align_items": null,
            "align_self": null,
            "border": null,
            "bottom": null,
            "display": null,
            "flex": null,
            "flex_flow": null,
            "grid_area": null,
            "grid_auto_columns": null,
            "grid_auto_flow": null,
            "grid_auto_rows": null,
            "grid_column": null,
            "grid_gap": null,
            "grid_row": null,
            "grid_template_areas": null,
            "grid_template_columns": null,
            "grid_template_rows": null,
            "height": null,
            "justify_content": null,
            "justify_items": null,
            "left": null,
            "margin": null,
            "max_height": null,
            "max_width": null,
            "min_height": null,
            "min_width": null,
            "object_fit": null,
            "object_position": null,
            "order": null,
            "overflow": null,
            "overflow_x": null,
            "overflow_y": null,
            "padding": null,
            "right": null,
            "top": null,
            "visibility": null,
            "width": null
          }
        },
        "64a9a47708ac4c4aaed0bd1d0084482b": {
          "model_module": "@jupyter-widgets/controls",
          "model_name": "FloatProgressModel",
          "state": {
            "_dom_classes": [],
            "_model_module": "@jupyter-widgets/controls",
            "_model_module_version": "1.5.0",
            "_model_name": "FloatProgressModel",
            "_view_count": null,
            "_view_module": "@jupyter-widgets/controls",
            "_view_module_version": "1.5.0",
            "_view_name": "ProgressView",
            "bar_style": "success",
            "description": "Downloading: ",
            "description_tooltip": null,
            "layout": "IPY_MODEL_0a8efdc860db498a8d8b0d6216bc627e",
            "max": 2408,
            "min": 0,
            "orientation": "horizontal",
            "style": "IPY_MODEL_ed15f49a6b1f4db0b11203dc9d665a6b",
            "value": 2408
          }
        },
        "efca9fc34c9141e8a540129301aba3a6": {
          "model_module": "@jupyter-widgets/controls",
          "model_name": "HTMLModel",
          "state": {
            "_dom_classes": [],
            "_model_module": "@jupyter-widgets/controls",
            "_model_module_version": "1.5.0",
            "_model_name": "HTMLModel",
            "_view_count": null,
            "_view_module": "@jupyter-widgets/controls",
            "_view_module_version": "1.5.0",
            "_view_name": "HTMLView",
            "description": "",
            "description_tooltip": null,
            "layout": "IPY_MODEL_ba0161728db840789ac93ff3b041ea75",
            "placeholder": "​",
            "style": "IPY_MODEL_e44da59468974c25a1d8b8b17bb72a97",
            "value": " 6.80k/? [00:00&lt;00:00, 24.6kB/s]"
          }
        },
        "ed15f49a6b1f4db0b11203dc9d665a6b": {
          "model_module": "@jupyter-widgets/controls",
          "model_name": "ProgressStyleModel",
          "state": {
            "_model_module": "@jupyter-widgets/controls",
            "_model_module_version": "1.5.0",
            "_model_name": "ProgressStyleModel",
            "_view_count": null,
            "_view_module": "@jupyter-widgets/base",
            "_view_module_version": "1.2.0",
            "_view_name": "StyleView",
            "bar_color": null,
            "description_width": "initial"
          }
        },
        "0a8efdc860db498a8d8b0d6216bc627e": {
          "model_module": "@jupyter-widgets/base",
          "model_name": "LayoutModel",
          "state": {
            "_model_module": "@jupyter-widgets/base",
            "_model_module_version": "1.2.0",
            "_model_name": "LayoutModel",
            "_view_count": null,
            "_view_module": "@jupyter-widgets/base",
            "_view_module_version": "1.2.0",
            "_view_name": "LayoutView",
            "align_content": null,
            "align_items": null,
            "align_self": null,
            "border": null,
            "bottom": null,
            "display": null,
            "flex": null,
            "flex_flow": null,
            "grid_area": null,
            "grid_auto_columns": null,
            "grid_auto_flow": null,
            "grid_auto_rows": null,
            "grid_column": null,
            "grid_gap": null,
            "grid_row": null,
            "grid_template_areas": null,
            "grid_template_columns": null,
            "grid_template_rows": null,
            "height": null,
            "justify_content": null,
            "justify_items": null,
            "left": null,
            "margin": null,
            "max_height": null,
            "max_width": null,
            "min_height": null,
            "min_width": null,
            "object_fit": null,
            "object_position": null,
            "order": null,
            "overflow": null,
            "overflow_x": null,
            "overflow_y": null,
            "padding": null,
            "right": null,
            "top": null,
            "visibility": null,
            "width": null
          }
        },
        "e44da59468974c25a1d8b8b17bb72a97": {
          "model_module": "@jupyter-widgets/controls",
          "model_name": "DescriptionStyleModel",
          "state": {
            "_model_module": "@jupyter-widgets/controls",
            "_model_module_version": "1.5.0",
            "_model_name": "DescriptionStyleModel",
            "_view_count": null,
            "_view_module": "@jupyter-widgets/base",
            "_view_module_version": "1.2.0",
            "_view_name": "StyleView",
            "description_width": ""
          }
        },
        "ba0161728db840789ac93ff3b041ea75": {
          "model_module": "@jupyter-widgets/base",
          "model_name": "LayoutModel",
          "state": {
            "_model_module": "@jupyter-widgets/base",
            "_model_module_version": "1.2.0",
            "_model_name": "LayoutModel",
            "_view_count": null,
            "_view_module": "@jupyter-widgets/base",
            "_view_module_version": "1.2.0",
            "_view_name": "LayoutView",
            "align_content": null,
            "align_items": null,
            "align_self": null,
            "border": null,
            "bottom": null,
            "display": null,
            "flex": null,
            "flex_flow": null,
            "grid_area": null,
            "grid_auto_columns": null,
            "grid_auto_flow": null,
            "grid_auto_rows": null,
            "grid_column": null,
            "grid_gap": null,
            "grid_row": null,
            "grid_template_areas": null,
            "grid_template_columns": null,
            "grid_template_rows": null,
            "height": null,
            "justify_content": null,
            "justify_items": null,
            "left": null,
            "margin": null,
            "max_height": null,
            "max_width": null,
            "min_height": null,
            "min_width": null,
            "object_fit": null,
            "object_position": null,
            "order": null,
            "overflow": null,
            "overflow_x": null,
            "overflow_y": null,
            "padding": null,
            "right": null,
            "top": null,
            "visibility": null,
            "width": null
          }
        },
        "24212f45f8e04550bb2d9bbe769e350b": {
          "model_module": "@jupyter-widgets/controls",
          "model_name": "HBoxModel",
          "state": {
            "_dom_classes": [],
            "_model_module": "@jupyter-widgets/controls",
            "_model_module_version": "1.5.0",
            "_model_name": "HBoxModel",
            "_view_count": null,
            "_view_module": "@jupyter-widgets/controls",
            "_view_module_version": "1.5.0",
            "_view_name": "HBoxView",
            "box_style": "",
            "children": [
              "IPY_MODEL_366c9343671d4bf283be0088d54422b1",
              "IPY_MODEL_ad35de526e714f71a73a694796a6adfb"
            ],
            "layout": "IPY_MODEL_8abd3318adf1499381ec55f7ff842da8"
          }
        },
        "8abd3318adf1499381ec55f7ff842da8": {
          "model_module": "@jupyter-widgets/base",
          "model_name": "LayoutModel",
          "state": {
            "_model_module": "@jupyter-widgets/base",
            "_model_module_version": "1.2.0",
            "_model_name": "LayoutModel",
            "_view_count": null,
            "_view_module": "@jupyter-widgets/base",
            "_view_module_version": "1.2.0",
            "_view_name": "LayoutView",
            "align_content": null,
            "align_items": null,
            "align_self": null,
            "border": null,
            "bottom": null,
            "display": null,
            "flex": null,
            "flex_flow": null,
            "grid_area": null,
            "grid_auto_columns": null,
            "grid_auto_flow": null,
            "grid_auto_rows": null,
            "grid_column": null,
            "grid_gap": null,
            "grid_row": null,
            "grid_template_areas": null,
            "grid_template_columns": null,
            "grid_template_rows": null,
            "height": null,
            "justify_content": null,
            "justify_items": null,
            "left": null,
            "margin": null,
            "max_height": null,
            "max_width": null,
            "min_height": null,
            "min_width": null,
            "object_fit": null,
            "object_position": null,
            "order": null,
            "overflow": null,
            "overflow_x": null,
            "overflow_y": null,
            "padding": null,
            "right": null,
            "top": null,
            "visibility": null,
            "width": null
          }
        },
        "366c9343671d4bf283be0088d54422b1": {
          "model_module": "@jupyter-widgets/controls",
          "model_name": "FloatProgressModel",
          "state": {
            "_dom_classes": [],
            "_model_module": "@jupyter-widgets/controls",
            "_model_module_version": "1.5.0",
            "_model_name": "FloatProgressModel",
            "_view_count": null,
            "_view_module": "@jupyter-widgets/controls",
            "_view_module_version": "1.5.0",
            "_view_name": "ProgressView",
            "bar_style": "success",
            "description": "Downloading: ",
            "description_tooltip": null,
            "layout": "IPY_MODEL_7e7cdd0b8d2449bfa9532464e2a479e4",
            "max": 1665,
            "min": 0,
            "orientation": "horizontal",
            "style": "IPY_MODEL_de35d1efc17d4349841cd56ae00d18a1",
            "value": 1665
          }
        },
        "ad35de526e714f71a73a694796a6adfb": {
          "model_module": "@jupyter-widgets/controls",
          "model_name": "HTMLModel",
          "state": {
            "_dom_classes": [],
            "_model_module": "@jupyter-widgets/controls",
            "_model_module_version": "1.5.0",
            "_model_name": "HTMLModel",
            "_view_count": null,
            "_view_module": "@jupyter-widgets/controls",
            "_view_module_version": "1.5.0",
            "_view_name": "HTMLView",
            "description": "",
            "description_tooltip": null,
            "layout": "IPY_MODEL_f0f7c967c9c24a42a206b75a154d37b8",
            "placeholder": "​",
            "style": "IPY_MODEL_7105e3e93e23450e81eb9b96ed904a96",
            "value": " 5.81k/? [00:00&lt;00:00, 55.7kB/s]"
          }
        },
        "de35d1efc17d4349841cd56ae00d18a1": {
          "model_module": "@jupyter-widgets/controls",
          "model_name": "ProgressStyleModel",
          "state": {
            "_model_module": "@jupyter-widgets/controls",
            "_model_module_version": "1.5.0",
            "_model_name": "ProgressStyleModel",
            "_view_count": null,
            "_view_module": "@jupyter-widgets/base",
            "_view_module_version": "1.2.0",
            "_view_name": "StyleView",
            "bar_color": null,
            "description_width": "initial"
          }
        },
        "7e7cdd0b8d2449bfa9532464e2a479e4": {
          "model_module": "@jupyter-widgets/base",
          "model_name": "LayoutModel",
          "state": {
            "_model_module": "@jupyter-widgets/base",
            "_model_module_version": "1.2.0",
            "_model_name": "LayoutModel",
            "_view_count": null,
            "_view_module": "@jupyter-widgets/base",
            "_view_module_version": "1.2.0",
            "_view_name": "LayoutView",
            "align_content": null,
            "align_items": null,
            "align_self": null,
            "border": null,
            "bottom": null,
            "display": null,
            "flex": null,
            "flex_flow": null,
            "grid_area": null,
            "grid_auto_columns": null,
            "grid_auto_flow": null,
            "grid_auto_rows": null,
            "grid_column": null,
            "grid_gap": null,
            "grid_row": null,
            "grid_template_areas": null,
            "grid_template_columns": null,
            "grid_template_rows": null,
            "height": null,
            "justify_content": null,
            "justify_items": null,
            "left": null,
            "margin": null,
            "max_height": null,
            "max_width": null,
            "min_height": null,
            "min_width": null,
            "object_fit": null,
            "object_position": null,
            "order": null,
            "overflow": null,
            "overflow_x": null,
            "overflow_y": null,
            "padding": null,
            "right": null,
            "top": null,
            "visibility": null,
            "width": null
          }
        },
        "7105e3e93e23450e81eb9b96ed904a96": {
          "model_module": "@jupyter-widgets/controls",
          "model_name": "DescriptionStyleModel",
          "state": {
            "_model_module": "@jupyter-widgets/controls",
            "_model_module_version": "1.5.0",
            "_model_name": "DescriptionStyleModel",
            "_view_count": null,
            "_view_module": "@jupyter-widgets/base",
            "_view_module_version": "1.2.0",
            "_view_name": "StyleView",
            "description_width": ""
          }
        },
        "f0f7c967c9c24a42a206b75a154d37b8": {
          "model_module": "@jupyter-widgets/base",
          "model_name": "LayoutModel",
          "state": {
            "_model_module": "@jupyter-widgets/base",
            "_model_module_version": "1.2.0",
            "_model_name": "LayoutModel",
            "_view_count": null,
            "_view_module": "@jupyter-widgets/base",
            "_view_module_version": "1.2.0",
            "_view_name": "LayoutView",
            "align_content": null,
            "align_items": null,
            "align_self": null,
            "border": null,
            "bottom": null,
            "display": null,
            "flex": null,
            "flex_flow": null,
            "grid_area": null,
            "grid_auto_columns": null,
            "grid_auto_flow": null,
            "grid_auto_rows": null,
            "grid_column": null,
            "grid_gap": null,
            "grid_row": null,
            "grid_template_areas": null,
            "grid_template_columns": null,
            "grid_template_rows": null,
            "height": null,
            "justify_content": null,
            "justify_items": null,
            "left": null,
            "margin": null,
            "max_height": null,
            "max_width": null,
            "min_height": null,
            "min_width": null,
            "object_fit": null,
            "object_position": null,
            "order": null,
            "overflow": null,
            "overflow_x": null,
            "overflow_y": null,
            "padding": null,
            "right": null,
            "top": null,
            "visibility": null,
            "width": null
          }
        },
        "afe3b8bd55394ce9bc81ac60946613fd": {
          "model_module": "@jupyter-widgets/controls",
          "model_name": "HBoxModel",
          "state": {
            "_dom_classes": [],
            "_model_module": "@jupyter-widgets/controls",
            "_model_module_version": "1.5.0",
            "_model_name": "HBoxModel",
            "_view_count": null,
            "_view_module": "@jupyter-widgets/controls",
            "_view_module_version": "1.5.0",
            "_view_name": "HBoxView",
            "box_style": "",
            "children": [
              "IPY_MODEL_3f92d36d54914c32913cf165a0f20d0e",
              "IPY_MODEL_c5861bc162d74ef899d6db812404518e"
            ],
            "layout": "IPY_MODEL_125a78b9333f4e19936fdac8cf8a5f19"
          }
        },
        "125a78b9333f4e19936fdac8cf8a5f19": {
          "model_module": "@jupyter-widgets/base",
          "model_name": "LayoutModel",
          "state": {
            "_model_module": "@jupyter-widgets/base",
            "_model_module_version": "1.2.0",
            "_model_name": "LayoutModel",
            "_view_count": null,
            "_view_module": "@jupyter-widgets/base",
            "_view_module_version": "1.2.0",
            "_view_name": "LayoutView",
            "align_content": null,
            "align_items": null,
            "align_self": null,
            "border": null,
            "bottom": null,
            "display": null,
            "flex": null,
            "flex_flow": null,
            "grid_area": null,
            "grid_auto_columns": null,
            "grid_auto_flow": null,
            "grid_auto_rows": null,
            "grid_column": null,
            "grid_gap": null,
            "grid_row": null,
            "grid_template_areas": null,
            "grid_template_columns": null,
            "grid_template_rows": null,
            "height": null,
            "justify_content": null,
            "justify_items": null,
            "left": null,
            "margin": null,
            "max_height": null,
            "max_width": null,
            "min_height": null,
            "min_width": null,
            "object_fit": null,
            "object_position": null,
            "order": null,
            "overflow": null,
            "overflow_x": null,
            "overflow_y": null,
            "padding": null,
            "right": null,
            "top": null,
            "visibility": null,
            "width": null
          }
        },
        "3f92d36d54914c32913cf165a0f20d0e": {
          "model_module": "@jupyter-widgets/controls",
          "model_name": "FloatProgressModel",
          "state": {
            "_dom_classes": [],
            "_model_module": "@jupyter-widgets/controls",
            "_model_module_version": "1.5.0",
            "_model_name": "FloatProgressModel",
            "_view_count": null,
            "_view_module": "@jupyter-widgets/controls",
            "_view_module_version": "1.5.0",
            "_view_name": "ProgressView",
            "bar_style": "success",
            "description": "Downloading: ",
            "description_tooltip": null,
            "layout": "IPY_MODEL_76712ef852094c07b38236e1ee500ea4",
            "max": 3311158,
            "min": 0,
            "orientation": "horizontal",
            "style": "IPY_MODEL_af5f65e295da47ed85e2e67a089619b2",
            "value": 3311158
          }
        },
        "c5861bc162d74ef899d6db812404518e": {
          "model_module": "@jupyter-widgets/controls",
          "model_name": "HTMLModel",
          "state": {
            "_dom_classes": [],
            "_model_module": "@jupyter-widgets/controls",
            "_model_module_version": "1.5.0",
            "_model_name": "HTMLModel",
            "_view_count": null,
            "_view_module": "@jupyter-widgets/controls",
            "_view_module_version": "1.5.0",
            "_view_name": "HTMLView",
            "description": "",
            "description_tooltip": null,
            "layout": "IPY_MODEL_080cf7cbf2f64ed599d3ac09894ff2e2",
            "placeholder": "​",
            "style": "IPY_MODEL_e7d103404f0b435ea9bd6885c137f54b",
            "value": " 14.4M/? [00:01&lt;00:00, 8.96MB/s]"
          }
        },
        "af5f65e295da47ed85e2e67a089619b2": {
          "model_module": "@jupyter-widgets/controls",
          "model_name": "ProgressStyleModel",
          "state": {
            "_model_module": "@jupyter-widgets/controls",
            "_model_module_version": "1.5.0",
            "_model_name": "ProgressStyleModel",
            "_view_count": null,
            "_view_module": "@jupyter-widgets/base",
            "_view_module_version": "1.2.0",
            "_view_name": "StyleView",
            "bar_color": null,
            "description_width": "initial"
          }
        },
        "76712ef852094c07b38236e1ee500ea4": {
          "model_module": "@jupyter-widgets/base",
          "model_name": "LayoutModel",
          "state": {
            "_model_module": "@jupyter-widgets/base",
            "_model_module_version": "1.2.0",
            "_model_name": "LayoutModel",
            "_view_count": null,
            "_view_module": "@jupyter-widgets/base",
            "_view_module_version": "1.2.0",
            "_view_name": "LayoutView",
            "align_content": null,
            "align_items": null,
            "align_self": null,
            "border": null,
            "bottom": null,
            "display": null,
            "flex": null,
            "flex_flow": null,
            "grid_area": null,
            "grid_auto_columns": null,
            "grid_auto_flow": null,
            "grid_auto_rows": null,
            "grid_column": null,
            "grid_gap": null,
            "grid_row": null,
            "grid_template_areas": null,
            "grid_template_columns": null,
            "grid_template_rows": null,
            "height": null,
            "justify_content": null,
            "justify_items": null,
            "left": null,
            "margin": null,
            "max_height": null,
            "max_width": null,
            "min_height": null,
            "min_width": null,
            "object_fit": null,
            "object_position": null,
            "order": null,
            "overflow": null,
            "overflow_x": null,
            "overflow_y": null,
            "padding": null,
            "right": null,
            "top": null,
            "visibility": null,
            "width": null
          }
        },
        "e7d103404f0b435ea9bd6885c137f54b": {
          "model_module": "@jupyter-widgets/controls",
          "model_name": "DescriptionStyleModel",
          "state": {
            "_model_module": "@jupyter-widgets/controls",
            "_model_module_version": "1.5.0",
            "_model_name": "DescriptionStyleModel",
            "_view_count": null,
            "_view_module": "@jupyter-widgets/base",
            "_view_module_version": "1.2.0",
            "_view_name": "StyleView",
            "description_width": ""
          }
        },
        "080cf7cbf2f64ed599d3ac09894ff2e2": {
          "model_module": "@jupyter-widgets/base",
          "model_name": "LayoutModel",
          "state": {
            "_model_module": "@jupyter-widgets/base",
            "_model_module_version": "1.2.0",
            "_model_name": "LayoutModel",
            "_view_count": null,
            "_view_module": "@jupyter-widgets/base",
            "_view_module_version": "1.2.0",
            "_view_name": "LayoutView",
            "align_content": null,
            "align_items": null,
            "align_self": null,
            "border": null,
            "bottom": null,
            "display": null,
            "flex": null,
            "flex_flow": null,
            "grid_area": null,
            "grid_auto_columns": null,
            "grid_auto_flow": null,
            "grid_auto_rows": null,
            "grid_column": null,
            "grid_gap": null,
            "grid_row": null,
            "grid_template_areas": null,
            "grid_template_columns": null,
            "grid_template_rows": null,
            "height": null,
            "justify_content": null,
            "justify_items": null,
            "left": null,
            "margin": null,
            "max_height": null,
            "max_width": null,
            "min_height": null,
            "min_width": null,
            "object_fit": null,
            "object_position": null,
            "order": null,
            "overflow": null,
            "overflow_x": null,
            "overflow_y": null,
            "padding": null,
            "right": null,
            "top": null,
            "visibility": null,
            "width": null
          }
        },
        "6c09438856334c22b9f20a2a78ddd42d": {
          "model_module": "@jupyter-widgets/controls",
          "model_name": "HBoxModel",
          "state": {
            "_dom_classes": [],
            "_model_module": "@jupyter-widgets/controls",
            "_model_module_version": "1.5.0",
            "_model_name": "HBoxModel",
            "_view_count": null,
            "_view_module": "@jupyter-widgets/controls",
            "_view_module_version": "1.5.0",
            "_view_name": "HBoxView",
            "box_style": "",
            "children": [
              "IPY_MODEL_c34db475bd474f4db634aa586d89902e",
              "IPY_MODEL_4c4b25b31d5942998788d624fedca89e"
            ],
            "layout": "IPY_MODEL_45f65e383107443a8245242ff975a082"
          }
        },
        "45f65e383107443a8245242ff975a082": {
          "model_module": "@jupyter-widgets/base",
          "model_name": "LayoutModel",
          "state": {
            "_model_module": "@jupyter-widgets/base",
            "_model_module_version": "1.2.0",
            "_model_name": "LayoutModel",
            "_view_count": null,
            "_view_module": "@jupyter-widgets/base",
            "_view_module_version": "1.2.0",
            "_view_name": "LayoutView",
            "align_content": null,
            "align_items": null,
            "align_self": null,
            "border": null,
            "bottom": null,
            "display": null,
            "flex": null,
            "flex_flow": null,
            "grid_area": null,
            "grid_auto_columns": null,
            "grid_auto_flow": null,
            "grid_auto_rows": null,
            "grid_column": null,
            "grid_gap": null,
            "grid_row": null,
            "grid_template_areas": null,
            "grid_template_columns": null,
            "grid_template_rows": null,
            "height": null,
            "justify_content": null,
            "justify_items": null,
            "left": null,
            "margin": null,
            "max_height": null,
            "max_width": null,
            "min_height": null,
            "min_width": null,
            "object_fit": null,
            "object_position": null,
            "order": null,
            "overflow": null,
            "overflow_x": null,
            "overflow_y": null,
            "padding": null,
            "right": null,
            "top": null,
            "visibility": null,
            "width": null
          }
        },
        "c34db475bd474f4db634aa586d89902e": {
          "model_module": "@jupyter-widgets/controls",
          "model_name": "FloatProgressModel",
          "state": {
            "_dom_classes": [],
            "_model_module": "@jupyter-widgets/controls",
            "_model_module_version": "1.5.0",
            "_model_name": "FloatProgressModel",
            "_view_count": null,
            "_view_module": "@jupyter-widgets/controls",
            "_view_module_version": "1.5.0",
            "_view_name": "ProgressView",
            "bar_style": "success",
            "description": "Downloading: ",
            "description_tooltip": null,
            "layout": "IPY_MODEL_acbe186de4834ee7b5bfa9bb7a1aa305",
            "max": 515456,
            "min": 0,
            "orientation": "horizontal",
            "style": "IPY_MODEL_eeb79cce9ef0495081282c4048485b07",
            "value": 515456
          }
        },
        "4c4b25b31d5942998788d624fedca89e": {
          "model_module": "@jupyter-widgets/controls",
          "model_name": "HTMLModel",
          "state": {
            "_dom_classes": [],
            "_model_module": "@jupyter-widgets/controls",
            "_model_module_version": "1.5.0",
            "_model_name": "HTMLModel",
            "_view_count": null,
            "_view_module": "@jupyter-widgets/controls",
            "_view_module_version": "1.5.0",
            "_view_name": "HTMLView",
            "description": "",
            "description_tooltip": null,
            "layout": "IPY_MODEL_c88fa23c2ddc40d4999ff639caddbf4e",
            "placeholder": "​",
            "style": "IPY_MODEL_eb10884da15e4b7eb1bce151bf401ad4",
            "value": " 2.29M/? [00:00&lt;00:00, 3.66MB/s]"
          }
        },
        "eeb79cce9ef0495081282c4048485b07": {
          "model_module": "@jupyter-widgets/controls",
          "model_name": "ProgressStyleModel",
          "state": {
            "_model_module": "@jupyter-widgets/controls",
            "_model_module_version": "1.5.0",
            "_model_name": "ProgressStyleModel",
            "_view_count": null,
            "_view_module": "@jupyter-widgets/base",
            "_view_module_version": "1.2.0",
            "_view_name": "StyleView",
            "bar_color": null,
            "description_width": "initial"
          }
        },
        "acbe186de4834ee7b5bfa9bb7a1aa305": {
          "model_module": "@jupyter-widgets/base",
          "model_name": "LayoutModel",
          "state": {
            "_model_module": "@jupyter-widgets/base",
            "_model_module_version": "1.2.0",
            "_model_name": "LayoutModel",
            "_view_count": null,
            "_view_module": "@jupyter-widgets/base",
            "_view_module_version": "1.2.0",
            "_view_name": "LayoutView",
            "align_content": null,
            "align_items": null,
            "align_self": null,
            "border": null,
            "bottom": null,
            "display": null,
            "flex": null,
            "flex_flow": null,
            "grid_area": null,
            "grid_auto_columns": null,
            "grid_auto_flow": null,
            "grid_auto_rows": null,
            "grid_column": null,
            "grid_gap": null,
            "grid_row": null,
            "grid_template_areas": null,
            "grid_template_columns": null,
            "grid_template_rows": null,
            "height": null,
            "justify_content": null,
            "justify_items": null,
            "left": null,
            "margin": null,
            "max_height": null,
            "max_width": null,
            "min_height": null,
            "min_width": null,
            "object_fit": null,
            "object_position": null,
            "order": null,
            "overflow": null,
            "overflow_x": null,
            "overflow_y": null,
            "padding": null,
            "right": null,
            "top": null,
            "visibility": null,
            "width": null
          }
        },
        "eb10884da15e4b7eb1bce151bf401ad4": {
          "model_module": "@jupyter-widgets/controls",
          "model_name": "DescriptionStyleModel",
          "state": {
            "_model_module": "@jupyter-widgets/controls",
            "_model_module_version": "1.5.0",
            "_model_name": "DescriptionStyleModel",
            "_view_count": null,
            "_view_module": "@jupyter-widgets/base",
            "_view_module_version": "1.2.0",
            "_view_name": "StyleView",
            "description_width": ""
          }
        },
        "c88fa23c2ddc40d4999ff639caddbf4e": {
          "model_module": "@jupyter-widgets/base",
          "model_name": "LayoutModel",
          "state": {
            "_model_module": "@jupyter-widgets/base",
            "_model_module_version": "1.2.0",
            "_model_name": "LayoutModel",
            "_view_count": null,
            "_view_module": "@jupyter-widgets/base",
            "_view_module_version": "1.2.0",
            "_view_name": "LayoutView",
            "align_content": null,
            "align_items": null,
            "align_self": null,
            "border": null,
            "bottom": null,
            "display": null,
            "flex": null,
            "flex_flow": null,
            "grid_area": null,
            "grid_auto_columns": null,
            "grid_auto_flow": null,
            "grid_auto_rows": null,
            "grid_column": null,
            "grid_gap": null,
            "grid_row": null,
            "grid_template_areas": null,
            "grid_template_columns": null,
            "grid_template_rows": null,
            "height": null,
            "justify_content": null,
            "justify_items": null,
            "left": null,
            "margin": null,
            "max_height": null,
            "max_width": null,
            "min_height": null,
            "min_width": null,
            "object_fit": null,
            "object_position": null,
            "order": null,
            "overflow": null,
            "overflow_x": null,
            "overflow_y": null,
            "padding": null,
            "right": null,
            "top": null,
            "visibility": null,
            "width": null
          }
        },
        "d67199c982a840d89d4984f7d091f009": {
          "model_module": "@jupyter-widgets/controls",
          "model_name": "HBoxModel",
          "state": {
            "_dom_classes": [],
            "_model_module": "@jupyter-widgets/controls",
            "_model_module_version": "1.5.0",
            "_model_name": "HBoxModel",
            "_view_count": null,
            "_view_module": "@jupyter-widgets/controls",
            "_view_module_version": "1.5.0",
            "_view_name": "HBoxView",
            "box_style": "",
            "children": [
              "IPY_MODEL_fc3d3f1012ef4f0480206082e8168273",
              "IPY_MODEL_7ec76eaf797f4456b4200117d26666d0"
            ],
            "layout": "IPY_MODEL_d7f83196243c4c93b4951d197f145f4c"
          }
        },
        "d7f83196243c4c93b4951d197f145f4c": {
          "model_module": "@jupyter-widgets/base",
          "model_name": "LayoutModel",
          "state": {
            "_model_module": "@jupyter-widgets/base",
            "_model_module_version": "1.2.0",
            "_model_name": "LayoutModel",
            "_view_count": null,
            "_view_module": "@jupyter-widgets/base",
            "_view_module_version": "1.2.0",
            "_view_name": "LayoutView",
            "align_content": null,
            "align_items": null,
            "align_self": null,
            "border": null,
            "bottom": null,
            "display": null,
            "flex": null,
            "flex_flow": null,
            "grid_area": null,
            "grid_auto_columns": null,
            "grid_auto_flow": null,
            "grid_auto_rows": null,
            "grid_column": null,
            "grid_gap": null,
            "grid_row": null,
            "grid_template_areas": null,
            "grid_template_columns": null,
            "grid_template_rows": null,
            "height": null,
            "justify_content": null,
            "justify_items": null,
            "left": null,
            "margin": null,
            "max_height": null,
            "max_width": null,
            "min_height": null,
            "min_width": null,
            "object_fit": null,
            "object_position": null,
            "order": null,
            "overflow": null,
            "overflow_x": null,
            "overflow_y": null,
            "padding": null,
            "right": null,
            "top": null,
            "visibility": null,
            "width": null
          }
        },
        "fc3d3f1012ef4f0480206082e8168273": {
          "model_module": "@jupyter-widgets/controls",
          "model_name": "FloatProgressModel",
          "state": {
            "_dom_classes": [],
            "_model_module": "@jupyter-widgets/controls",
            "_model_module_version": "1.5.0",
            "_model_name": "FloatProgressModel",
            "_view_count": null,
            "_view_module": "@jupyter-widgets/controls",
            "_view_module_version": "1.5.0",
            "_view_name": "ProgressView",
            "bar_style": "success",
            "description": "Downloading: ",
            "description_tooltip": null,
            "layout": "IPY_MODEL_f8b24cec10ac45a2994eccaffd9f4194",
            "max": 824940,
            "min": 0,
            "orientation": "horizontal",
            "style": "IPY_MODEL_e54632450a8f4a13a45c1335ea2e007e",
            "value": 824940
          }
        },
        "7ec76eaf797f4456b4200117d26666d0": {
          "model_module": "@jupyter-widgets/controls",
          "model_name": "HTMLModel",
          "state": {
            "_dom_classes": [],
            "_model_module": "@jupyter-widgets/controls",
            "_model_module_version": "1.5.0",
            "_model_name": "HTMLModel",
            "_view_count": null,
            "_view_module": "@jupyter-widgets/controls",
            "_view_module_version": "1.5.0",
            "_view_name": "HTMLView",
            "description": "",
            "description_tooltip": null,
            "layout": "IPY_MODEL_05946153fdcc44ddadc078bc480535c3",
            "placeholder": "​",
            "style": "IPY_MODEL_2add51b8e773459c934dd9f0f6e98b7e",
            "value": " 3.83M/? [00:00&lt;00:00, 5.11MB/s]"
          }
        },
        "e54632450a8f4a13a45c1335ea2e007e": {
          "model_module": "@jupyter-widgets/controls",
          "model_name": "ProgressStyleModel",
          "state": {
            "_model_module": "@jupyter-widgets/controls",
            "_model_module_version": "1.5.0",
            "_model_name": "ProgressStyleModel",
            "_view_count": null,
            "_view_module": "@jupyter-widgets/base",
            "_view_module_version": "1.2.0",
            "_view_name": "StyleView",
            "bar_color": null,
            "description_width": "initial"
          }
        },
        "f8b24cec10ac45a2994eccaffd9f4194": {
          "model_module": "@jupyter-widgets/base",
          "model_name": "LayoutModel",
          "state": {
            "_model_module": "@jupyter-widgets/base",
            "_model_module_version": "1.2.0",
            "_model_name": "LayoutModel",
            "_view_count": null,
            "_view_module": "@jupyter-widgets/base",
            "_view_module_version": "1.2.0",
            "_view_name": "LayoutView",
            "align_content": null,
            "align_items": null,
            "align_self": null,
            "border": null,
            "bottom": null,
            "display": null,
            "flex": null,
            "flex_flow": null,
            "grid_area": null,
            "grid_auto_columns": null,
            "grid_auto_flow": null,
            "grid_auto_rows": null,
            "grid_column": null,
            "grid_gap": null,
            "grid_row": null,
            "grid_template_areas": null,
            "grid_template_columns": null,
            "grid_template_rows": null,
            "height": null,
            "justify_content": null,
            "justify_items": null,
            "left": null,
            "margin": null,
            "max_height": null,
            "max_width": null,
            "min_height": null,
            "min_width": null,
            "object_fit": null,
            "object_position": null,
            "order": null,
            "overflow": null,
            "overflow_x": null,
            "overflow_y": null,
            "padding": null,
            "right": null,
            "top": null,
            "visibility": null,
            "width": null
          }
        },
        "2add51b8e773459c934dd9f0f6e98b7e": {
          "model_module": "@jupyter-widgets/controls",
          "model_name": "DescriptionStyleModel",
          "state": {
            "_model_module": "@jupyter-widgets/controls",
            "_model_module_version": "1.5.0",
            "_model_name": "DescriptionStyleModel",
            "_view_count": null,
            "_view_module": "@jupyter-widgets/base",
            "_view_module_version": "1.2.0",
            "_view_name": "StyleView",
            "description_width": ""
          }
        },
        "05946153fdcc44ddadc078bc480535c3": {
          "model_module": "@jupyter-widgets/base",
          "model_name": "LayoutModel",
          "state": {
            "_model_module": "@jupyter-widgets/base",
            "_model_module_version": "1.2.0",
            "_model_name": "LayoutModel",
            "_view_count": null,
            "_view_module": "@jupyter-widgets/base",
            "_view_module_version": "1.2.0",
            "_view_name": "LayoutView",
            "align_content": null,
            "align_items": null,
            "align_self": null,
            "border": null,
            "bottom": null,
            "display": null,
            "flex": null,
            "flex_flow": null,
            "grid_area": null,
            "grid_auto_columns": null,
            "grid_auto_flow": null,
            "grid_auto_rows": null,
            "grid_column": null,
            "grid_gap": null,
            "grid_row": null,
            "grid_template_areas": null,
            "grid_template_columns": null,
            "grid_template_rows": null,
            "height": null,
            "justify_content": null,
            "justify_items": null,
            "left": null,
            "margin": null,
            "max_height": null,
            "max_width": null,
            "min_height": null,
            "min_width": null,
            "object_fit": null,
            "object_position": null,
            "order": null,
            "overflow": null,
            "overflow_x": null,
            "overflow_y": null,
            "padding": null,
            "right": null,
            "top": null,
            "visibility": null,
            "width": null
          }
        },
        "a835ceb909cd45e0aa70955304e8f4b1": {
          "model_module": "@jupyter-widgets/controls",
          "model_name": "HBoxModel",
          "state": {
            "_dom_classes": [],
            "_model_module": "@jupyter-widgets/controls",
            "_model_module_version": "1.5.0",
            "_model_name": "HBoxModel",
            "_view_count": null,
            "_view_module": "@jupyter-widgets/controls",
            "_view_module_version": "1.5.0",
            "_view_name": "HBoxView",
            "box_style": "",
            "children": [
              "IPY_MODEL_267995b8d9fb4b0db7bf255c6a6b3c68",
              "IPY_MODEL_bbf9f416ef374f9e9e998b24dd096666"
            ],
            "layout": "IPY_MODEL_044b268a144949b091ecdff14c51696e"
          }
        },
        "044b268a144949b091ecdff14c51696e": {
          "model_module": "@jupyter-widgets/base",
          "model_name": "LayoutModel",
          "state": {
            "_model_module": "@jupyter-widgets/base",
            "_model_module_version": "1.2.0",
            "_model_name": "LayoutModel",
            "_view_count": null,
            "_view_module": "@jupyter-widgets/base",
            "_view_module_version": "1.2.0",
            "_view_name": "LayoutView",
            "align_content": null,
            "align_items": null,
            "align_self": null,
            "border": null,
            "bottom": null,
            "display": null,
            "flex": null,
            "flex_flow": null,
            "grid_area": null,
            "grid_auto_columns": null,
            "grid_auto_flow": null,
            "grid_auto_rows": null,
            "grid_column": null,
            "grid_gap": null,
            "grid_row": null,
            "grid_template_areas": null,
            "grid_template_columns": null,
            "grid_template_rows": null,
            "height": null,
            "justify_content": null,
            "justify_items": null,
            "left": null,
            "margin": null,
            "max_height": null,
            "max_width": null,
            "min_height": null,
            "min_width": null,
            "object_fit": null,
            "object_position": null,
            "order": null,
            "overflow": null,
            "overflow_x": null,
            "overflow_y": null,
            "padding": null,
            "right": null,
            "top": null,
            "visibility": null,
            "width": null
          }
        },
        "267995b8d9fb4b0db7bf255c6a6b3c68": {
          "model_module": "@jupyter-widgets/controls",
          "model_name": "FloatProgressModel",
          "state": {
            "_dom_classes": [],
            "_model_module": "@jupyter-widgets/controls",
            "_model_module_version": "1.5.0",
            "_model_name": "FloatProgressModel",
            "_view_count": null,
            "_view_module": "@jupyter-widgets/controls",
            "_view_module_version": "1.5.0",
            "_view_name": "ProgressView",
            "bar_style": "success",
            "description": "Downloading: ",
            "description_tooltip": null,
            "layout": "IPY_MODEL_0c42d913777f4255997d786bbdd99706",
            "max": 599513,
            "min": 0,
            "orientation": "horizontal",
            "style": "IPY_MODEL_4f4aedded78c41edaa2375d0a29895a7",
            "value": 599513
          }
        },
        "bbf9f416ef374f9e9e998b24dd096666": {
          "model_module": "@jupyter-widgets/controls",
          "model_name": "HTMLModel",
          "state": {
            "_dom_classes": [],
            "_model_module": "@jupyter-widgets/controls",
            "_model_module_version": "1.5.0",
            "_model_name": "HTMLModel",
            "_view_count": null,
            "_view_module": "@jupyter-widgets/controls",
            "_view_module_version": "1.5.0",
            "_view_name": "HTMLView",
            "description": "",
            "description_tooltip": null,
            "layout": "IPY_MODEL_801c4b7d1d4441cb8ad32f01d0a2bfbe",
            "placeholder": "​",
            "style": "IPY_MODEL_7fbe9629d0fe497096462eaa45911b6c",
            "value": " 2.60M/? [00:00&lt;00:00, 13.4MB/s]"
          }
        },
        "4f4aedded78c41edaa2375d0a29895a7": {
          "model_module": "@jupyter-widgets/controls",
          "model_name": "ProgressStyleModel",
          "state": {
            "_model_module": "@jupyter-widgets/controls",
            "_model_module_version": "1.5.0",
            "_model_name": "ProgressStyleModel",
            "_view_count": null,
            "_view_module": "@jupyter-widgets/base",
            "_view_module_version": "1.2.0",
            "_view_name": "StyleView",
            "bar_color": null,
            "description_width": "initial"
          }
        },
        "0c42d913777f4255997d786bbdd99706": {
          "model_module": "@jupyter-widgets/base",
          "model_name": "LayoutModel",
          "state": {
            "_model_module": "@jupyter-widgets/base",
            "_model_module_version": "1.2.0",
            "_model_name": "LayoutModel",
            "_view_count": null,
            "_view_module": "@jupyter-widgets/base",
            "_view_module_version": "1.2.0",
            "_view_name": "LayoutView",
            "align_content": null,
            "align_items": null,
            "align_self": null,
            "border": null,
            "bottom": null,
            "display": null,
            "flex": null,
            "flex_flow": null,
            "grid_area": null,
            "grid_auto_columns": null,
            "grid_auto_flow": null,
            "grid_auto_rows": null,
            "grid_column": null,
            "grid_gap": null,
            "grid_row": null,
            "grid_template_areas": null,
            "grid_template_columns": null,
            "grid_template_rows": null,
            "height": null,
            "justify_content": null,
            "justify_items": null,
            "left": null,
            "margin": null,
            "max_height": null,
            "max_width": null,
            "min_height": null,
            "min_width": null,
            "object_fit": null,
            "object_position": null,
            "order": null,
            "overflow": null,
            "overflow_x": null,
            "overflow_y": null,
            "padding": null,
            "right": null,
            "top": null,
            "visibility": null,
            "width": null
          }
        },
        "7fbe9629d0fe497096462eaa45911b6c": {
          "model_module": "@jupyter-widgets/controls",
          "model_name": "DescriptionStyleModel",
          "state": {
            "_model_module": "@jupyter-widgets/controls",
            "_model_module_version": "1.5.0",
            "_model_name": "DescriptionStyleModel",
            "_view_count": null,
            "_view_module": "@jupyter-widgets/base",
            "_view_module_version": "1.2.0",
            "_view_name": "StyleView",
            "description_width": ""
          }
        },
        "801c4b7d1d4441cb8ad32f01d0a2bfbe": {
          "model_module": "@jupyter-widgets/base",
          "model_name": "LayoutModel",
          "state": {
            "_model_module": "@jupyter-widgets/base",
            "_model_module_version": "1.2.0",
            "_model_name": "LayoutModel",
            "_view_count": null,
            "_view_module": "@jupyter-widgets/base",
            "_view_module_version": "1.2.0",
            "_view_name": "LayoutView",
            "align_content": null,
            "align_items": null,
            "align_self": null,
            "border": null,
            "bottom": null,
            "display": null,
            "flex": null,
            "flex_flow": null,
            "grid_area": null,
            "grid_auto_columns": null,
            "grid_auto_flow": null,
            "grid_auto_rows": null,
            "grid_column": null,
            "grid_gap": null,
            "grid_row": null,
            "grid_template_areas": null,
            "grid_template_columns": null,
            "grid_template_rows": null,
            "height": null,
            "justify_content": null,
            "justify_items": null,
            "left": null,
            "margin": null,
            "max_height": null,
            "max_width": null,
            "min_height": null,
            "min_width": null,
            "object_fit": null,
            "object_position": null,
            "order": null,
            "overflow": null,
            "overflow_x": null,
            "overflow_y": null,
            "padding": null,
            "right": null,
            "top": null,
            "visibility": null,
            "width": null
          }
        },
        "a9f50af96d4c4e51a3ed636ae7fc899d": {
          "model_module": "@jupyter-widgets/controls",
          "model_name": "HBoxModel",
          "state": {
            "_dom_classes": [],
            "_model_module": "@jupyter-widgets/controls",
            "_model_module_version": "1.5.0",
            "_model_name": "HBoxModel",
            "_view_count": null,
            "_view_module": "@jupyter-widgets/controls",
            "_view_module_version": "1.5.0",
            "_view_name": "HBoxView",
            "box_style": "",
            "children": [
              "IPY_MODEL_80a5f1271c314718a389b3b96b376dab",
              "IPY_MODEL_7ad76554cdca434da451221acd882f23"
            ],
            "layout": "IPY_MODEL_60126f5c7672417da2478af07965b488"
          }
        },
        "60126f5c7672417da2478af07965b488": {
          "model_module": "@jupyter-widgets/base",
          "model_name": "LayoutModel",
          "state": {
            "_model_module": "@jupyter-widgets/base",
            "_model_module_version": "1.2.0",
            "_model_name": "LayoutModel",
            "_view_count": null,
            "_view_module": "@jupyter-widgets/base",
            "_view_module_version": "1.2.0",
            "_view_name": "LayoutView",
            "align_content": null,
            "align_items": null,
            "align_self": null,
            "border": null,
            "bottom": null,
            "display": null,
            "flex": null,
            "flex_flow": null,
            "grid_area": null,
            "grid_auto_columns": null,
            "grid_auto_flow": null,
            "grid_auto_rows": null,
            "grid_column": null,
            "grid_gap": null,
            "grid_row": null,
            "grid_template_areas": null,
            "grid_template_columns": null,
            "grid_template_rows": null,
            "height": null,
            "justify_content": null,
            "justify_items": null,
            "left": null,
            "margin": null,
            "max_height": null,
            "max_width": null,
            "min_height": null,
            "min_width": null,
            "object_fit": null,
            "object_position": null,
            "order": null,
            "overflow": null,
            "overflow_x": null,
            "overflow_y": null,
            "padding": null,
            "right": null,
            "top": null,
            "visibility": null,
            "width": null
          }
        },
        "80a5f1271c314718a389b3b96b376dab": {
          "model_module": "@jupyter-widgets/controls",
          "model_name": "FloatProgressModel",
          "state": {
            "_dom_classes": [],
            "_model_module": "@jupyter-widgets/controls",
            "_model_module_version": "1.5.0",
            "_model_name": "FloatProgressModel",
            "_view_count": null,
            "_view_module": "@jupyter-widgets/controls",
            "_view_module_version": "1.5.0",
            "_view_name": "ProgressView",
            "bar_style": "info",
            "description": "",
            "description_tooltip": null,
            "layout": "IPY_MODEL_7a0944d9f1c24cb6bab672dbac6720c0",
            "max": 1,
            "min": 0,
            "orientation": "horizontal",
            "style": "IPY_MODEL_940a133ce45e484cae28e0be949d99f9",
            "value": 1
          }
        },
        "7ad76554cdca434da451221acd882f23": {
          "model_module": "@jupyter-widgets/controls",
          "model_name": "HTMLModel",
          "state": {
            "_dom_classes": [],
            "_model_module": "@jupyter-widgets/controls",
            "_model_module_version": "1.5.0",
            "_model_name": "HTMLModel",
            "_view_count": null,
            "_view_module": "@jupyter-widgets/controls",
            "_view_module_version": "1.5.0",
            "_view_name": "HTMLView",
            "description": "",
            "description_tooltip": null,
            "layout": "IPY_MODEL_b5a8e89b430c4f3a9ab2a3bc96c5ffbb",
            "placeholder": "​",
            "style": "IPY_MODEL_e5df74457dfa4a89859c92602568315f",
            "value": " 3355/0 [00:00&lt;00:00, 2444.76 examples/s]"
          }
        },
        "940a133ce45e484cae28e0be949d99f9": {
          "model_module": "@jupyter-widgets/controls",
          "model_name": "ProgressStyleModel",
          "state": {
            "_model_module": "@jupyter-widgets/controls",
            "_model_module_version": "1.5.0",
            "_model_name": "ProgressStyleModel",
            "_view_count": null,
            "_view_module": "@jupyter-widgets/base",
            "_view_module_version": "1.2.0",
            "_view_name": "StyleView",
            "bar_color": null,
            "description_width": "initial"
          }
        },
        "7a0944d9f1c24cb6bab672dbac6720c0": {
          "model_module": "@jupyter-widgets/base",
          "model_name": "LayoutModel",
          "state": {
            "_model_module": "@jupyter-widgets/base",
            "_model_module_version": "1.2.0",
            "_model_name": "LayoutModel",
            "_view_count": null,
            "_view_module": "@jupyter-widgets/base",
            "_view_module_version": "1.2.0",
            "_view_name": "LayoutView",
            "align_content": null,
            "align_items": null,
            "align_self": null,
            "border": null,
            "bottom": null,
            "display": null,
            "flex": null,
            "flex_flow": null,
            "grid_area": null,
            "grid_auto_columns": null,
            "grid_auto_flow": null,
            "grid_auto_rows": null,
            "grid_column": null,
            "grid_gap": null,
            "grid_row": null,
            "grid_template_areas": null,
            "grid_template_columns": null,
            "grid_template_rows": null,
            "height": null,
            "justify_content": null,
            "justify_items": null,
            "left": null,
            "margin": null,
            "max_height": null,
            "max_width": null,
            "min_height": null,
            "min_width": null,
            "object_fit": null,
            "object_position": null,
            "order": null,
            "overflow": null,
            "overflow_x": null,
            "overflow_y": null,
            "padding": null,
            "right": null,
            "top": null,
            "visibility": null,
            "width": null
          }
        },
        "e5df74457dfa4a89859c92602568315f": {
          "model_module": "@jupyter-widgets/controls",
          "model_name": "DescriptionStyleModel",
          "state": {
            "_model_module": "@jupyter-widgets/controls",
            "_model_module_version": "1.5.0",
            "_model_name": "DescriptionStyleModel",
            "_view_count": null,
            "_view_module": "@jupyter-widgets/base",
            "_view_module_version": "1.2.0",
            "_view_name": "StyleView",
            "description_width": ""
          }
        },
        "b5a8e89b430c4f3a9ab2a3bc96c5ffbb": {
          "model_module": "@jupyter-widgets/base",
          "model_name": "LayoutModel",
          "state": {
            "_model_module": "@jupyter-widgets/base",
            "_model_module_version": "1.2.0",
            "_model_name": "LayoutModel",
            "_view_count": null,
            "_view_module": "@jupyter-widgets/base",
            "_view_module_version": "1.2.0",
            "_view_name": "LayoutView",
            "align_content": null,
            "align_items": null,
            "align_self": null,
            "border": null,
            "bottom": null,
            "display": null,
            "flex": null,
            "flex_flow": null,
            "grid_area": null,
            "grid_auto_columns": null,
            "grid_auto_flow": null,
            "grid_auto_rows": null,
            "grid_column": null,
            "grid_gap": null,
            "grid_row": null,
            "grid_template_areas": null,
            "grid_template_columns": null,
            "grid_template_rows": null,
            "height": null,
            "justify_content": null,
            "justify_items": null,
            "left": null,
            "margin": null,
            "max_height": null,
            "max_width": null,
            "min_height": null,
            "min_width": null,
            "object_fit": null,
            "object_position": null,
            "order": null,
            "overflow": null,
            "overflow_x": null,
            "overflow_y": null,
            "padding": null,
            "right": null,
            "top": null,
            "visibility": null,
            "width": null
          }
        },
        "3f7aaf1d5e214db196cf50b6155a001d": {
          "model_module": "@jupyter-widgets/controls",
          "model_name": "HBoxModel",
          "state": {
            "_dom_classes": [],
            "_model_module": "@jupyter-widgets/controls",
            "_model_module_version": "1.5.0",
            "_model_name": "HBoxModel",
            "_view_count": null,
            "_view_module": "@jupyter-widgets/controls",
            "_view_module_version": "1.5.0",
            "_view_name": "HBoxView",
            "box_style": "",
            "children": [
              "IPY_MODEL_4bad5fee89e544fabb43ea491c56f5eb",
              "IPY_MODEL_bd9dcd57deec4fdd8378f9a952597076"
            ],
            "layout": "IPY_MODEL_7bd121d875ef44c0b6bad480101f0f33"
          }
        },
        "7bd121d875ef44c0b6bad480101f0f33": {
          "model_module": "@jupyter-widgets/base",
          "model_name": "LayoutModel",
          "state": {
            "_model_module": "@jupyter-widgets/base",
            "_model_module_version": "1.2.0",
            "_model_name": "LayoutModel",
            "_view_count": null,
            "_view_module": "@jupyter-widgets/base",
            "_view_module_version": "1.2.0",
            "_view_name": "LayoutView",
            "align_content": null,
            "align_items": null,
            "align_self": null,
            "border": null,
            "bottom": null,
            "display": null,
            "flex": null,
            "flex_flow": null,
            "grid_area": null,
            "grid_auto_columns": null,
            "grid_auto_flow": null,
            "grid_auto_rows": null,
            "grid_column": null,
            "grid_gap": null,
            "grid_row": null,
            "grid_template_areas": null,
            "grid_template_columns": null,
            "grid_template_rows": null,
            "height": null,
            "justify_content": null,
            "justify_items": null,
            "left": null,
            "margin": null,
            "max_height": null,
            "max_width": null,
            "min_height": null,
            "min_width": null,
            "object_fit": null,
            "object_position": null,
            "order": null,
            "overflow": null,
            "overflow_x": null,
            "overflow_y": null,
            "padding": null,
            "right": null,
            "top": null,
            "visibility": null,
            "width": null
          }
        },
        "4bad5fee89e544fabb43ea491c56f5eb": {
          "model_module": "@jupyter-widgets/controls",
          "model_name": "FloatProgressModel",
          "state": {
            "_dom_classes": [],
            "_model_module": "@jupyter-widgets/controls",
            "_model_module_version": "1.5.0",
            "_model_name": "FloatProgressModel",
            "_view_count": null,
            "_view_module": "@jupyter-widgets/controls",
            "_view_module_version": "1.5.0",
            "_view_name": "ProgressView",
            "bar_style": "info",
            "description": "",
            "description_tooltip": null,
            "layout": "IPY_MODEL_8c58069defce445480f56b1a4518b54c",
            "max": 1,
            "min": 0,
            "orientation": "horizontal",
            "style": "IPY_MODEL_221a3ff65988477cb57841cf45f0ceac",
            "value": 1
          }
        },
        "bd9dcd57deec4fdd8378f9a952597076": {
          "model_module": "@jupyter-widgets/controls",
          "model_name": "HTMLModel",
          "state": {
            "_dom_classes": [],
            "_model_module": "@jupyter-widgets/controls",
            "_model_module_version": "1.5.0",
            "_model_name": "HTMLModel",
            "_view_count": null,
            "_view_module": "@jupyter-widgets/controls",
            "_view_module_version": "1.5.0",
            "_view_name": "HTMLView",
            "description": "",
            "description_tooltip": null,
            "layout": "IPY_MODEL_02d74c7e14294a0fb2ea97a7f5210bfa",
            "placeholder": "​",
            "style": "IPY_MODEL_444c5c12ac184064875f712cac14ad9e",
            "value": " 579/0 [00:00&lt;00:00, 1920.66 examples/s]"
          }
        },
        "221a3ff65988477cb57841cf45f0ceac": {
          "model_module": "@jupyter-widgets/controls",
          "model_name": "ProgressStyleModel",
          "state": {
            "_model_module": "@jupyter-widgets/controls",
            "_model_module_version": "1.5.0",
            "_model_name": "ProgressStyleModel",
            "_view_count": null,
            "_view_module": "@jupyter-widgets/base",
            "_view_module_version": "1.2.0",
            "_view_name": "StyleView",
            "bar_color": null,
            "description_width": "initial"
          }
        },
        "8c58069defce445480f56b1a4518b54c": {
          "model_module": "@jupyter-widgets/base",
          "model_name": "LayoutModel",
          "state": {
            "_model_module": "@jupyter-widgets/base",
            "_model_module_version": "1.2.0",
            "_model_name": "LayoutModel",
            "_view_count": null,
            "_view_module": "@jupyter-widgets/base",
            "_view_module_version": "1.2.0",
            "_view_name": "LayoutView",
            "align_content": null,
            "align_items": null,
            "align_self": null,
            "border": null,
            "bottom": null,
            "display": null,
            "flex": null,
            "flex_flow": null,
            "grid_area": null,
            "grid_auto_columns": null,
            "grid_auto_flow": null,
            "grid_auto_rows": null,
            "grid_column": null,
            "grid_gap": null,
            "grid_row": null,
            "grid_template_areas": null,
            "grid_template_columns": null,
            "grid_template_rows": null,
            "height": null,
            "justify_content": null,
            "justify_items": null,
            "left": null,
            "margin": null,
            "max_height": null,
            "max_width": null,
            "min_height": null,
            "min_width": null,
            "object_fit": null,
            "object_position": null,
            "order": null,
            "overflow": null,
            "overflow_x": null,
            "overflow_y": null,
            "padding": null,
            "right": null,
            "top": null,
            "visibility": null,
            "width": null
          }
        },
        "444c5c12ac184064875f712cac14ad9e": {
          "model_module": "@jupyter-widgets/controls",
          "model_name": "DescriptionStyleModel",
          "state": {
            "_model_module": "@jupyter-widgets/controls",
            "_model_module_version": "1.5.0",
            "_model_name": "DescriptionStyleModel",
            "_view_count": null,
            "_view_module": "@jupyter-widgets/base",
            "_view_module_version": "1.2.0",
            "_view_name": "StyleView",
            "description_width": ""
          }
        },
        "02d74c7e14294a0fb2ea97a7f5210bfa": {
          "model_module": "@jupyter-widgets/base",
          "model_name": "LayoutModel",
          "state": {
            "_model_module": "@jupyter-widgets/base",
            "_model_module_version": "1.2.0",
            "_model_name": "LayoutModel",
            "_view_count": null,
            "_view_module": "@jupyter-widgets/base",
            "_view_module_version": "1.2.0",
            "_view_name": "LayoutView",
            "align_content": null,
            "align_items": null,
            "align_self": null,
            "border": null,
            "bottom": null,
            "display": null,
            "flex": null,
            "flex_flow": null,
            "grid_area": null,
            "grid_auto_columns": null,
            "grid_auto_flow": null,
            "grid_auto_rows": null,
            "grid_column": null,
            "grid_gap": null,
            "grid_row": null,
            "grid_template_areas": null,
            "grid_template_columns": null,
            "grid_template_rows": null,
            "height": null,
            "justify_content": null,
            "justify_items": null,
            "left": null,
            "margin": null,
            "max_height": null,
            "max_width": null,
            "min_height": null,
            "min_width": null,
            "object_fit": null,
            "object_position": null,
            "order": null,
            "overflow": null,
            "overflow_x": null,
            "overflow_y": null,
            "padding": null,
            "right": null,
            "top": null,
            "visibility": null,
            "width": null
          }
        },
        "08acee7538134a478805999e6405485e": {
          "model_module": "@jupyter-widgets/controls",
          "model_name": "HBoxModel",
          "state": {
            "_dom_classes": [],
            "_model_module": "@jupyter-widgets/controls",
            "_model_module_version": "1.5.0",
            "_model_name": "HBoxModel",
            "_view_count": null,
            "_view_module": "@jupyter-widgets/controls",
            "_view_module_version": "1.5.0",
            "_view_name": "HBoxView",
            "box_style": "",
            "children": [
              "IPY_MODEL_c9a13aa2d5fa4edab93561f5b6142f44",
              "IPY_MODEL_7e21c0aeb6e94294ac38508a1e45dd2a"
            ],
            "layout": "IPY_MODEL_ce063aba924c4f3e9834b09f6bf2135c"
          }
        },
        "ce063aba924c4f3e9834b09f6bf2135c": {
          "model_module": "@jupyter-widgets/base",
          "model_name": "LayoutModel",
          "state": {
            "_model_module": "@jupyter-widgets/base",
            "_model_module_version": "1.2.0",
            "_model_name": "LayoutModel",
            "_view_count": null,
            "_view_module": "@jupyter-widgets/base",
            "_view_module_version": "1.2.0",
            "_view_name": "LayoutView",
            "align_content": null,
            "align_items": null,
            "align_self": null,
            "border": null,
            "bottom": null,
            "display": null,
            "flex": null,
            "flex_flow": null,
            "grid_area": null,
            "grid_auto_columns": null,
            "grid_auto_flow": null,
            "grid_auto_rows": null,
            "grid_column": null,
            "grid_gap": null,
            "grid_row": null,
            "grid_template_areas": null,
            "grid_template_columns": null,
            "grid_template_rows": null,
            "height": null,
            "justify_content": null,
            "justify_items": null,
            "left": null,
            "margin": null,
            "max_height": null,
            "max_width": null,
            "min_height": null,
            "min_width": null,
            "object_fit": null,
            "object_position": null,
            "order": null,
            "overflow": null,
            "overflow_x": null,
            "overflow_y": null,
            "padding": null,
            "right": null,
            "top": null,
            "visibility": null,
            "width": null
          }
        },
        "c9a13aa2d5fa4edab93561f5b6142f44": {
          "model_module": "@jupyter-widgets/controls",
          "model_name": "FloatProgressModel",
          "state": {
            "_dom_classes": [],
            "_model_module": "@jupyter-widgets/controls",
            "_model_module_version": "1.5.0",
            "_model_name": "FloatProgressModel",
            "_view_count": null,
            "_view_module": "@jupyter-widgets/controls",
            "_view_module_version": "1.5.0",
            "_view_name": "ProgressView",
            "bar_style": "info",
            "description": "",
            "description_tooltip": null,
            "layout": "IPY_MODEL_ab9f18e4351b498aa178f08dd4d6ca7f",
            "max": 1,
            "min": 0,
            "orientation": "horizontal",
            "style": "IPY_MODEL_c9d84dd927ca46998152852fa7c61092",
            "value": 1
          }
        },
        "7e21c0aeb6e94294ac38508a1e45dd2a": {
          "model_module": "@jupyter-widgets/controls",
          "model_name": "HTMLModel",
          "state": {
            "_dom_classes": [],
            "_model_module": "@jupyter-widgets/controls",
            "_model_module_version": "1.5.0",
            "_model_name": "HTMLModel",
            "_view_count": null,
            "_view_module": "@jupyter-widgets/controls",
            "_view_module_version": "1.5.0",
            "_view_name": "HTMLView",
            "description": "",
            "description_tooltip": null,
            "layout": "IPY_MODEL_9f7436b446374b6f9ed69f42843261a3",
            "placeholder": "​",
            "style": "IPY_MODEL_320f4a7b4efe414ab3bc38d1759f7c21",
            "value": " 827/0 [00:00&lt;00:00, 1764.31 examples/s]"
          }
        },
        "c9d84dd927ca46998152852fa7c61092": {
          "model_module": "@jupyter-widgets/controls",
          "model_name": "ProgressStyleModel",
          "state": {
            "_model_module": "@jupyter-widgets/controls",
            "_model_module_version": "1.5.0",
            "_model_name": "ProgressStyleModel",
            "_view_count": null,
            "_view_module": "@jupyter-widgets/base",
            "_view_module_version": "1.2.0",
            "_view_name": "StyleView",
            "bar_color": null,
            "description_width": "initial"
          }
        },
        "ab9f18e4351b498aa178f08dd4d6ca7f": {
          "model_module": "@jupyter-widgets/base",
          "model_name": "LayoutModel",
          "state": {
            "_model_module": "@jupyter-widgets/base",
            "_model_module_version": "1.2.0",
            "_model_name": "LayoutModel",
            "_view_count": null,
            "_view_module": "@jupyter-widgets/base",
            "_view_module_version": "1.2.0",
            "_view_name": "LayoutView",
            "align_content": null,
            "align_items": null,
            "align_self": null,
            "border": null,
            "bottom": null,
            "display": null,
            "flex": null,
            "flex_flow": null,
            "grid_area": null,
            "grid_auto_columns": null,
            "grid_auto_flow": null,
            "grid_auto_rows": null,
            "grid_column": null,
            "grid_gap": null,
            "grid_row": null,
            "grid_template_areas": null,
            "grid_template_columns": null,
            "grid_template_rows": null,
            "height": null,
            "justify_content": null,
            "justify_items": null,
            "left": null,
            "margin": null,
            "max_height": null,
            "max_width": null,
            "min_height": null,
            "min_width": null,
            "object_fit": null,
            "object_position": null,
            "order": null,
            "overflow": null,
            "overflow_x": null,
            "overflow_y": null,
            "padding": null,
            "right": null,
            "top": null,
            "visibility": null,
            "width": null
          }
        },
        "320f4a7b4efe414ab3bc38d1759f7c21": {
          "model_module": "@jupyter-widgets/controls",
          "model_name": "DescriptionStyleModel",
          "state": {
            "_model_module": "@jupyter-widgets/controls",
            "_model_module_version": "1.5.0",
            "_model_name": "DescriptionStyleModel",
            "_view_count": null,
            "_view_module": "@jupyter-widgets/base",
            "_view_module_version": "1.2.0",
            "_view_name": "StyleView",
            "description_width": ""
          }
        },
        "9f7436b446374b6f9ed69f42843261a3": {
          "model_module": "@jupyter-widgets/base",
          "model_name": "LayoutModel",
          "state": {
            "_model_module": "@jupyter-widgets/base",
            "_model_module_version": "1.2.0",
            "_model_name": "LayoutModel",
            "_view_count": null,
            "_view_module": "@jupyter-widgets/base",
            "_view_module_version": "1.2.0",
            "_view_name": "LayoutView",
            "align_content": null,
            "align_items": null,
            "align_self": null,
            "border": null,
            "bottom": null,
            "display": null,
            "flex": null,
            "flex_flow": null,
            "grid_area": null,
            "grid_auto_columns": null,
            "grid_auto_flow": null,
            "grid_auto_rows": null,
            "grid_column": null,
            "grid_gap": null,
            "grid_row": null,
            "grid_template_areas": null,
            "grid_template_columns": null,
            "grid_template_rows": null,
            "height": null,
            "justify_content": null,
            "justify_items": null,
            "left": null,
            "margin": null,
            "max_height": null,
            "max_width": null,
            "min_height": null,
            "min_width": null,
            "object_fit": null,
            "object_position": null,
            "order": null,
            "overflow": null,
            "overflow_x": null,
            "overflow_y": null,
            "padding": null,
            "right": null,
            "top": null,
            "visibility": null,
            "width": null
          }
        },
        "c299ad5380b9402192f609eb837b5552": {
          "model_module": "@jupyter-widgets/controls",
          "model_name": "HBoxModel",
          "state": {
            "_dom_classes": [],
            "_model_module": "@jupyter-widgets/controls",
            "_model_module_version": "1.5.0",
            "_model_name": "HBoxModel",
            "_view_count": null,
            "_view_module": "@jupyter-widgets/controls",
            "_view_module_version": "1.5.0",
            "_view_name": "HBoxView",
            "box_style": "",
            "children": [
              "IPY_MODEL_a605c45bd903488a93595b43eb6ac8f6",
              "IPY_MODEL_a90848695b9b47c1a4063f06a2dccfd3"
            ],
            "layout": "IPY_MODEL_01d8ab0e3ab84dc6a7c4588860ee3bf4"
          }
        },
        "01d8ab0e3ab84dc6a7c4588860ee3bf4": {
          "model_module": "@jupyter-widgets/base",
          "model_name": "LayoutModel",
          "state": {
            "_model_module": "@jupyter-widgets/base",
            "_model_module_version": "1.2.0",
            "_model_name": "LayoutModel",
            "_view_count": null,
            "_view_module": "@jupyter-widgets/base",
            "_view_module_version": "1.2.0",
            "_view_name": "LayoutView",
            "align_content": null,
            "align_items": null,
            "align_self": null,
            "border": null,
            "bottom": null,
            "display": null,
            "flex": null,
            "flex_flow": null,
            "grid_area": null,
            "grid_auto_columns": null,
            "grid_auto_flow": null,
            "grid_auto_rows": null,
            "grid_column": null,
            "grid_gap": null,
            "grid_row": null,
            "grid_template_areas": null,
            "grid_template_columns": null,
            "grid_template_rows": null,
            "height": null,
            "justify_content": null,
            "justify_items": null,
            "left": null,
            "margin": null,
            "max_height": null,
            "max_width": null,
            "min_height": null,
            "min_width": null,
            "object_fit": null,
            "object_position": null,
            "order": null,
            "overflow": null,
            "overflow_x": null,
            "overflow_y": null,
            "padding": null,
            "right": null,
            "top": null,
            "visibility": null,
            "width": null
          }
        },
        "a605c45bd903488a93595b43eb6ac8f6": {
          "model_module": "@jupyter-widgets/controls",
          "model_name": "FloatProgressModel",
          "state": {
            "_dom_classes": [],
            "_model_module": "@jupyter-widgets/controls",
            "_model_module_version": "1.5.0",
            "_model_name": "FloatProgressModel",
            "_view_count": null,
            "_view_module": "@jupyter-widgets/controls",
            "_view_module_version": "1.5.0",
            "_view_name": "ProgressView",
            "bar_style": "info",
            "description": "",
            "description_tooltip": null,
            "layout": "IPY_MODEL_ecc336cd7dcc45af82af2b21a617cbe4",
            "max": 1,
            "min": 0,
            "orientation": "horizontal",
            "style": "IPY_MODEL_9fe1338f880945159267e8fff6c295a9",
            "value": 1
          }
        },
        "a90848695b9b47c1a4063f06a2dccfd3": {
          "model_module": "@jupyter-widgets/controls",
          "model_name": "HTMLModel",
          "state": {
            "_dom_classes": [],
            "_model_module": "@jupyter-widgets/controls",
            "_model_module_version": "1.5.0",
            "_model_name": "HTMLModel",
            "_view_count": null,
            "_view_module": "@jupyter-widgets/controls",
            "_view_module_version": "1.5.0",
            "_view_name": "HTMLView",
            "description": "",
            "description_tooltip": null,
            "layout": "IPY_MODEL_950e8eca8d7b477db231f2503f8a2c6a",
            "placeholder": "​",
            "style": "IPY_MODEL_c5533682e3bf4b26a4849ca8eb6c6ff5",
            "value": " 578/0 [00:00&lt;00:00, 1979.51 examples/s]"
          }
        },
        "9fe1338f880945159267e8fff6c295a9": {
          "model_module": "@jupyter-widgets/controls",
          "model_name": "ProgressStyleModel",
          "state": {
            "_model_module": "@jupyter-widgets/controls",
            "_model_module_version": "1.5.0",
            "_model_name": "ProgressStyleModel",
            "_view_count": null,
            "_view_module": "@jupyter-widgets/base",
            "_view_module_version": "1.2.0",
            "_view_name": "StyleView",
            "bar_color": null,
            "description_width": "initial"
          }
        },
        "ecc336cd7dcc45af82af2b21a617cbe4": {
          "model_module": "@jupyter-widgets/base",
          "model_name": "LayoutModel",
          "state": {
            "_model_module": "@jupyter-widgets/base",
            "_model_module_version": "1.2.0",
            "_model_name": "LayoutModel",
            "_view_count": null,
            "_view_module": "@jupyter-widgets/base",
            "_view_module_version": "1.2.0",
            "_view_name": "LayoutView",
            "align_content": null,
            "align_items": null,
            "align_self": null,
            "border": null,
            "bottom": null,
            "display": null,
            "flex": null,
            "flex_flow": null,
            "grid_area": null,
            "grid_auto_columns": null,
            "grid_auto_flow": null,
            "grid_auto_rows": null,
            "grid_column": null,
            "grid_gap": null,
            "grid_row": null,
            "grid_template_areas": null,
            "grid_template_columns": null,
            "grid_template_rows": null,
            "height": null,
            "justify_content": null,
            "justify_items": null,
            "left": null,
            "margin": null,
            "max_height": null,
            "max_width": null,
            "min_height": null,
            "min_width": null,
            "object_fit": null,
            "object_position": null,
            "order": null,
            "overflow": null,
            "overflow_x": null,
            "overflow_y": null,
            "padding": null,
            "right": null,
            "top": null,
            "visibility": null,
            "width": null
          }
        },
        "c5533682e3bf4b26a4849ca8eb6c6ff5": {
          "model_module": "@jupyter-widgets/controls",
          "model_name": "DescriptionStyleModel",
          "state": {
            "_model_module": "@jupyter-widgets/controls",
            "_model_module_version": "1.5.0",
            "_model_name": "DescriptionStyleModel",
            "_view_count": null,
            "_view_module": "@jupyter-widgets/base",
            "_view_module_version": "1.2.0",
            "_view_name": "StyleView",
            "description_width": ""
          }
        },
        "950e8eca8d7b477db231f2503f8a2c6a": {
          "model_module": "@jupyter-widgets/base",
          "model_name": "LayoutModel",
          "state": {
            "_model_module": "@jupyter-widgets/base",
            "_model_module_version": "1.2.0",
            "_model_name": "LayoutModel",
            "_view_count": null,
            "_view_module": "@jupyter-widgets/base",
            "_view_module_version": "1.2.0",
            "_view_name": "LayoutView",
            "align_content": null,
            "align_items": null,
            "align_self": null,
            "border": null,
            "bottom": null,
            "display": null,
            "flex": null,
            "flex_flow": null,
            "grid_area": null,
            "grid_auto_columns": null,
            "grid_auto_flow": null,
            "grid_auto_rows": null,
            "grid_column": null,
            "grid_gap": null,
            "grid_row": null,
            "grid_template_areas": null,
            "grid_template_columns": null,
            "grid_template_rows": null,
            "height": null,
            "justify_content": null,
            "justify_items": null,
            "left": null,
            "margin": null,
            "max_height": null,
            "max_width": null,
            "min_height": null,
            "min_width": null,
            "object_fit": null,
            "object_position": null,
            "order": null,
            "overflow": null,
            "overflow_x": null,
            "overflow_y": null,
            "padding": null,
            "right": null,
            "top": null,
            "visibility": null,
            "width": null
          }
        },
        "6e0490080aad4623a34a4e01e0b7a13e": {
          "model_module": "@jupyter-widgets/controls",
          "model_name": "HBoxModel",
          "state": {
            "_dom_classes": [],
            "_model_module": "@jupyter-widgets/controls",
            "_model_module_version": "1.5.0",
            "_model_name": "HBoxModel",
            "_view_count": null,
            "_view_module": "@jupyter-widgets/controls",
            "_view_module_version": "1.5.0",
            "_view_name": "HBoxView",
            "box_style": "",
            "children": [
              "IPY_MODEL_15fd45c99bdd499981cafb709d470dfa",
              "IPY_MODEL_5d16a253ac2f451cb5cf2ab98a0c5999"
            ],
            "layout": "IPY_MODEL_579c4356ed1f488392555737258e203b"
          }
        },
        "579c4356ed1f488392555737258e203b": {
          "model_module": "@jupyter-widgets/base",
          "model_name": "LayoutModel",
          "state": {
            "_model_module": "@jupyter-widgets/base",
            "_model_module_version": "1.2.0",
            "_model_name": "LayoutModel",
            "_view_count": null,
            "_view_module": "@jupyter-widgets/base",
            "_view_module_version": "1.2.0",
            "_view_name": "LayoutView",
            "align_content": null,
            "align_items": null,
            "align_self": null,
            "border": null,
            "bottom": null,
            "display": null,
            "flex": null,
            "flex_flow": null,
            "grid_area": null,
            "grid_auto_columns": null,
            "grid_auto_flow": null,
            "grid_auto_rows": null,
            "grid_column": null,
            "grid_gap": null,
            "grid_row": null,
            "grid_template_areas": null,
            "grid_template_columns": null,
            "grid_template_rows": null,
            "height": null,
            "justify_content": null,
            "justify_items": null,
            "left": null,
            "margin": null,
            "max_height": null,
            "max_width": null,
            "min_height": null,
            "min_width": null,
            "object_fit": null,
            "object_position": null,
            "order": null,
            "overflow": null,
            "overflow_x": null,
            "overflow_y": null,
            "padding": null,
            "right": null,
            "top": null,
            "visibility": null,
            "width": null
          }
        },
        "15fd45c99bdd499981cafb709d470dfa": {
          "model_module": "@jupyter-widgets/controls",
          "model_name": "FloatProgressModel",
          "state": {
            "_dom_classes": [],
            "_model_module": "@jupyter-widgets/controls",
            "_model_module_version": "1.5.0",
            "_model_name": "FloatProgressModel",
            "_view_count": null,
            "_view_module": "@jupyter-widgets/controls",
            "_view_module_version": "1.5.0",
            "_view_name": "ProgressView",
            "bar_style": "success",
            "description": "Downloading: ",
            "description_tooltip": null,
            "layout": "IPY_MODEL_a128c5ac24e44b5d91dad66b5fbf1198",
            "max": 3443,
            "min": 0,
            "orientation": "horizontal",
            "style": "IPY_MODEL_6001617698a447efb0479272de0a464e",
            "value": 3443
          }
        },
        "5d16a253ac2f451cb5cf2ab98a0c5999": {
          "model_module": "@jupyter-widgets/controls",
          "model_name": "HTMLModel",
          "state": {
            "_dom_classes": [],
            "_model_module": "@jupyter-widgets/controls",
            "_model_module_version": "1.5.0",
            "_model_name": "HTMLModel",
            "_view_count": null,
            "_view_module": "@jupyter-widgets/controls",
            "_view_module_version": "1.5.0",
            "_view_name": "HTMLView",
            "description": "",
            "description_tooltip": null,
            "layout": "IPY_MODEL_a90d9e920fd34b64ad6337d7576e7d8f",
            "placeholder": "​",
            "style": "IPY_MODEL_e02010ad802a4d48a398bf7c19532502",
            "value": " 8.85k/? [00:02&lt;00:00, 3.81kB/s]"
          }
        },
        "6001617698a447efb0479272de0a464e": {
          "model_module": "@jupyter-widgets/controls",
          "model_name": "ProgressStyleModel",
          "state": {
            "_model_module": "@jupyter-widgets/controls",
            "_model_module_version": "1.5.0",
            "_model_name": "ProgressStyleModel",
            "_view_count": null,
            "_view_module": "@jupyter-widgets/base",
            "_view_module_version": "1.2.0",
            "_view_name": "StyleView",
            "bar_color": null,
            "description_width": "initial"
          }
        },
        "a128c5ac24e44b5d91dad66b5fbf1198": {
          "model_module": "@jupyter-widgets/base",
          "model_name": "LayoutModel",
          "state": {
            "_model_module": "@jupyter-widgets/base",
            "_model_module_version": "1.2.0",
            "_model_name": "LayoutModel",
            "_view_count": null,
            "_view_module": "@jupyter-widgets/base",
            "_view_module_version": "1.2.0",
            "_view_name": "LayoutView",
            "align_content": null,
            "align_items": null,
            "align_self": null,
            "border": null,
            "bottom": null,
            "display": null,
            "flex": null,
            "flex_flow": null,
            "grid_area": null,
            "grid_auto_columns": null,
            "grid_auto_flow": null,
            "grid_auto_rows": null,
            "grid_column": null,
            "grid_gap": null,
            "grid_row": null,
            "grid_template_areas": null,
            "grid_template_columns": null,
            "grid_template_rows": null,
            "height": null,
            "justify_content": null,
            "justify_items": null,
            "left": null,
            "margin": null,
            "max_height": null,
            "max_width": null,
            "min_height": null,
            "min_width": null,
            "object_fit": null,
            "object_position": null,
            "order": null,
            "overflow": null,
            "overflow_x": null,
            "overflow_y": null,
            "padding": null,
            "right": null,
            "top": null,
            "visibility": null,
            "width": null
          }
        },
        "e02010ad802a4d48a398bf7c19532502": {
          "model_module": "@jupyter-widgets/controls",
          "model_name": "DescriptionStyleModel",
          "state": {
            "_model_module": "@jupyter-widgets/controls",
            "_model_module_version": "1.5.0",
            "_model_name": "DescriptionStyleModel",
            "_view_count": null,
            "_view_module": "@jupyter-widgets/base",
            "_view_module_version": "1.2.0",
            "_view_name": "StyleView",
            "description_width": ""
          }
        },
        "a90d9e920fd34b64ad6337d7576e7d8f": {
          "model_module": "@jupyter-widgets/base",
          "model_name": "LayoutModel",
          "state": {
            "_model_module": "@jupyter-widgets/base",
            "_model_module_version": "1.2.0",
            "_model_name": "LayoutModel",
            "_view_count": null,
            "_view_module": "@jupyter-widgets/base",
            "_view_module_version": "1.2.0",
            "_view_name": "LayoutView",
            "align_content": null,
            "align_items": null,
            "align_self": null,
            "border": null,
            "bottom": null,
            "display": null,
            "flex": null,
            "flex_flow": null,
            "grid_area": null,
            "grid_auto_columns": null,
            "grid_auto_flow": null,
            "grid_auto_rows": null,
            "grid_column": null,
            "grid_gap": null,
            "grid_row": null,
            "grid_template_areas": null,
            "grid_template_columns": null,
            "grid_template_rows": null,
            "height": null,
            "justify_content": null,
            "justify_items": null,
            "left": null,
            "margin": null,
            "max_height": null,
            "max_width": null,
            "min_height": null,
            "min_width": null,
            "object_fit": null,
            "object_position": null,
            "order": null,
            "overflow": null,
            "overflow_x": null,
            "overflow_y": null,
            "padding": null,
            "right": null,
            "top": null,
            "visibility": null,
            "width": null
          }
        },
        "1915e6933abb467381af76d034311cb8": {
          "model_module": "@jupyter-widgets/controls",
          "model_name": "HBoxModel",
          "state": {
            "_dom_classes": [],
            "_model_module": "@jupyter-widgets/controls",
            "_model_module_version": "1.5.0",
            "_model_name": "HBoxModel",
            "_view_count": null,
            "_view_module": "@jupyter-widgets/controls",
            "_view_module_version": "1.5.0",
            "_view_name": "HBoxView",
            "box_style": "",
            "children": [
              "IPY_MODEL_a4d03d21bcd64f688757f91cbc6073cd",
              "IPY_MODEL_0a5d6c0034894ee086b620a0b118e99f"
            ],
            "layout": "IPY_MODEL_e397857fbffe40568bce1df616ea4b01"
          }
        },
        "e397857fbffe40568bce1df616ea4b01": {
          "model_module": "@jupyter-widgets/base",
          "model_name": "LayoutModel",
          "state": {
            "_model_module": "@jupyter-widgets/base",
            "_model_module_version": "1.2.0",
            "_model_name": "LayoutModel",
            "_view_count": null,
            "_view_module": "@jupyter-widgets/base",
            "_view_module_version": "1.2.0",
            "_view_name": "LayoutView",
            "align_content": null,
            "align_items": null,
            "align_self": null,
            "border": null,
            "bottom": null,
            "display": null,
            "flex": null,
            "flex_flow": null,
            "grid_area": null,
            "grid_auto_columns": null,
            "grid_auto_flow": null,
            "grid_auto_rows": null,
            "grid_column": null,
            "grid_gap": null,
            "grid_row": null,
            "grid_template_areas": null,
            "grid_template_columns": null,
            "grid_template_rows": null,
            "height": null,
            "justify_content": null,
            "justify_items": null,
            "left": null,
            "margin": null,
            "max_height": null,
            "max_width": null,
            "min_height": null,
            "min_width": null,
            "object_fit": null,
            "object_position": null,
            "order": null,
            "overflow": null,
            "overflow_x": null,
            "overflow_y": null,
            "padding": null,
            "right": null,
            "top": null,
            "visibility": null,
            "width": null
          }
        },
        "a4d03d21bcd64f688757f91cbc6073cd": {
          "model_module": "@jupyter-widgets/controls",
          "model_name": "FloatProgressModel",
          "state": {
            "_dom_classes": [],
            "_model_module": "@jupyter-widgets/controls",
            "_model_module_version": "1.5.0",
            "_model_name": "FloatProgressModel",
            "_view_count": null,
            "_view_module": "@jupyter-widgets/controls",
            "_view_module_version": "1.5.0",
            "_view_name": "ProgressView",
            "bar_style": "success",
            "description": "Downloading: ",
            "description_tooltip": null,
            "layout": "IPY_MODEL_eb895a65e3c0420c9320fcfd498e0ebd",
            "max": 2961,
            "min": 0,
            "orientation": "horizontal",
            "style": "IPY_MODEL_c9a88b15f1f94f6dae6310fba2869898",
            "value": 2961
          }
        },
        "0a5d6c0034894ee086b620a0b118e99f": {
          "model_module": "@jupyter-widgets/controls",
          "model_name": "HTMLModel",
          "state": {
            "_dom_classes": [],
            "_model_module": "@jupyter-widgets/controls",
            "_model_module_version": "1.5.0",
            "_model_name": "HTMLModel",
            "_view_count": null,
            "_view_module": "@jupyter-widgets/controls",
            "_view_module_version": "1.5.0",
            "_view_name": "HTMLView",
            "description": "",
            "description_tooltip": null,
            "layout": "IPY_MODEL_139d4522af2345b4a044db390f5d20e6",
            "placeholder": "​",
            "style": "IPY_MODEL_d52459d70fb44033a8df7d512ab2fdfd",
            "value": " 73.8k/? [00:00&lt;00:00, 798kB/s]"
          }
        },
        "c9a88b15f1f94f6dae6310fba2869898": {
          "model_module": "@jupyter-widgets/controls",
          "model_name": "ProgressStyleModel",
          "state": {
            "_model_module": "@jupyter-widgets/controls",
            "_model_module_version": "1.5.0",
            "_model_name": "ProgressStyleModel",
            "_view_count": null,
            "_view_module": "@jupyter-widgets/base",
            "_view_module_version": "1.2.0",
            "_view_name": "StyleView",
            "bar_color": null,
            "description_width": "initial"
          }
        },
        "eb895a65e3c0420c9320fcfd498e0ebd": {
          "model_module": "@jupyter-widgets/base",
          "model_name": "LayoutModel",
          "state": {
            "_model_module": "@jupyter-widgets/base",
            "_model_module_version": "1.2.0",
            "_model_name": "LayoutModel",
            "_view_count": null,
            "_view_module": "@jupyter-widgets/base",
            "_view_module_version": "1.2.0",
            "_view_name": "LayoutView",
            "align_content": null,
            "align_items": null,
            "align_self": null,
            "border": null,
            "bottom": null,
            "display": null,
            "flex": null,
            "flex_flow": null,
            "grid_area": null,
            "grid_auto_columns": null,
            "grid_auto_flow": null,
            "grid_auto_rows": null,
            "grid_column": null,
            "grid_gap": null,
            "grid_row": null,
            "grid_template_areas": null,
            "grid_template_columns": null,
            "grid_template_rows": null,
            "height": null,
            "justify_content": null,
            "justify_items": null,
            "left": null,
            "margin": null,
            "max_height": null,
            "max_width": null,
            "min_height": null,
            "min_width": null,
            "object_fit": null,
            "object_position": null,
            "order": null,
            "overflow": null,
            "overflow_x": null,
            "overflow_y": null,
            "padding": null,
            "right": null,
            "top": null,
            "visibility": null,
            "width": null
          }
        },
        "d52459d70fb44033a8df7d512ab2fdfd": {
          "model_module": "@jupyter-widgets/controls",
          "model_name": "DescriptionStyleModel",
          "state": {
            "_model_module": "@jupyter-widgets/controls",
            "_model_module_version": "1.5.0",
            "_model_name": "DescriptionStyleModel",
            "_view_count": null,
            "_view_module": "@jupyter-widgets/base",
            "_view_module_version": "1.2.0",
            "_view_name": "StyleView",
            "description_width": ""
          }
        },
        "139d4522af2345b4a044db390f5d20e6": {
          "model_module": "@jupyter-widgets/base",
          "model_name": "LayoutModel",
          "state": {
            "_model_module": "@jupyter-widgets/base",
            "_model_module_version": "1.2.0",
            "_model_name": "LayoutModel",
            "_view_count": null,
            "_view_module": "@jupyter-widgets/base",
            "_view_module_version": "1.2.0",
            "_view_name": "LayoutView",
            "align_content": null,
            "align_items": null,
            "align_self": null,
            "border": null,
            "bottom": null,
            "display": null,
            "flex": null,
            "flex_flow": null,
            "grid_area": null,
            "grid_auto_columns": null,
            "grid_auto_flow": null,
            "grid_auto_rows": null,
            "grid_column": null,
            "grid_gap": null,
            "grid_row": null,
            "grid_template_areas": null,
            "grid_template_columns": null,
            "grid_template_rows": null,
            "height": null,
            "justify_content": null,
            "justify_items": null,
            "left": null,
            "margin": null,
            "max_height": null,
            "max_width": null,
            "min_height": null,
            "min_width": null,
            "object_fit": null,
            "object_position": null,
            "order": null,
            "overflow": null,
            "overflow_x": null,
            "overflow_y": null,
            "padding": null,
            "right": null,
            "top": null,
            "visibility": null,
            "width": null
          }
        },
        "c57b45dbb05544aa893ab228c21e92f0": {
          "model_module": "@jupyter-widgets/controls",
          "model_name": "HBoxModel",
          "state": {
            "_dom_classes": [],
            "_model_module": "@jupyter-widgets/controls",
            "_model_module_version": "1.5.0",
            "_model_name": "HBoxModel",
            "_view_count": null,
            "_view_module": "@jupyter-widgets/controls",
            "_view_module_version": "1.5.0",
            "_view_name": "HBoxView",
            "box_style": "",
            "children": [
              "IPY_MODEL_022eaf66c02d44acaeace0189c14ff57",
              "IPY_MODEL_259019e96eea4e0fba6b16ad2344b1e4"
            ],
            "layout": "IPY_MODEL_dd4d63710de7491ab8532f9c35fad870"
          }
        },
        "dd4d63710de7491ab8532f9c35fad870": {
          "model_module": "@jupyter-widgets/base",
          "model_name": "LayoutModel",
          "state": {
            "_model_module": "@jupyter-widgets/base",
            "_model_module_version": "1.2.0",
            "_model_name": "LayoutModel",
            "_view_count": null,
            "_view_module": "@jupyter-widgets/base",
            "_view_module_version": "1.2.0",
            "_view_name": "LayoutView",
            "align_content": null,
            "align_items": null,
            "align_self": null,
            "border": null,
            "bottom": null,
            "display": null,
            "flex": null,
            "flex_flow": null,
            "grid_area": null,
            "grid_auto_columns": null,
            "grid_auto_flow": null,
            "grid_auto_rows": null,
            "grid_column": null,
            "grid_gap": null,
            "grid_row": null,
            "grid_template_areas": null,
            "grid_template_columns": null,
            "grid_template_rows": null,
            "height": null,
            "justify_content": null,
            "justify_items": null,
            "left": null,
            "margin": null,
            "max_height": null,
            "max_width": null,
            "min_height": null,
            "min_width": null,
            "object_fit": null,
            "object_position": null,
            "order": null,
            "overflow": null,
            "overflow_x": null,
            "overflow_y": null,
            "padding": null,
            "right": null,
            "top": null,
            "visibility": null,
            "width": null
          }
        },
        "022eaf66c02d44acaeace0189c14ff57": {
          "model_module": "@jupyter-widgets/controls",
          "model_name": "FloatProgressModel",
          "state": {
            "_dom_classes": [],
            "_model_module": "@jupyter-widgets/controls",
            "_model_module_version": "1.5.0",
            "_model_name": "FloatProgressModel",
            "_view_count": null,
            "_view_module": "@jupyter-widgets/controls",
            "_view_module_version": "1.5.0",
            "_view_name": "ProgressView",
            "bar_style": "success",
            "description": "Downloading: 100%",
            "description_tooltip": null,
            "layout": "IPY_MODEL_42536d20ab664e72acbce50d9917d0f6",
            "max": 3521416,
            "min": 0,
            "orientation": "horizontal",
            "style": "IPY_MODEL_a2b7c61e66ac4c8180612e09e002073f",
            "value": 3521416
          }
        },
        "259019e96eea4e0fba6b16ad2344b1e4": {
          "model_module": "@jupyter-widgets/controls",
          "model_name": "HTMLModel",
          "state": {
            "_dom_classes": [],
            "_model_module": "@jupyter-widgets/controls",
            "_model_module_version": "1.5.0",
            "_model_name": "HTMLModel",
            "_view_count": null,
            "_view_module": "@jupyter-widgets/controls",
            "_view_module_version": "1.5.0",
            "_view_name": "HTMLView",
            "description": "",
            "description_tooltip": null,
            "layout": "IPY_MODEL_7ccdfe7cadcd40ccb5ee1e1054d035c5",
            "placeholder": "​",
            "style": "IPY_MODEL_f58222d8ab504427a390fd22fea909dc",
            "value": " 3.52M/3.52M [00:00&lt;00:00, 4.16MB/s]"
          }
        },
        "a2b7c61e66ac4c8180612e09e002073f": {
          "model_module": "@jupyter-widgets/controls",
          "model_name": "ProgressStyleModel",
          "state": {
            "_model_module": "@jupyter-widgets/controls",
            "_model_module_version": "1.5.0",
            "_model_name": "ProgressStyleModel",
            "_view_count": null,
            "_view_module": "@jupyter-widgets/base",
            "_view_module_version": "1.2.0",
            "_view_name": "StyleView",
            "bar_color": null,
            "description_width": "initial"
          }
        },
        "42536d20ab664e72acbce50d9917d0f6": {
          "model_module": "@jupyter-widgets/base",
          "model_name": "LayoutModel",
          "state": {
            "_model_module": "@jupyter-widgets/base",
            "_model_module_version": "1.2.0",
            "_model_name": "LayoutModel",
            "_view_count": null,
            "_view_module": "@jupyter-widgets/base",
            "_view_module_version": "1.2.0",
            "_view_name": "LayoutView",
            "align_content": null,
            "align_items": null,
            "align_self": null,
            "border": null,
            "bottom": null,
            "display": null,
            "flex": null,
            "flex_flow": null,
            "grid_area": null,
            "grid_auto_columns": null,
            "grid_auto_flow": null,
            "grid_auto_rows": null,
            "grid_column": null,
            "grid_gap": null,
            "grid_row": null,
            "grid_template_areas": null,
            "grid_template_columns": null,
            "grid_template_rows": null,
            "height": null,
            "justify_content": null,
            "justify_items": null,
            "left": null,
            "margin": null,
            "max_height": null,
            "max_width": null,
            "min_height": null,
            "min_width": null,
            "object_fit": null,
            "object_position": null,
            "order": null,
            "overflow": null,
            "overflow_x": null,
            "overflow_y": null,
            "padding": null,
            "right": null,
            "top": null,
            "visibility": null,
            "width": null
          }
        },
        "f58222d8ab504427a390fd22fea909dc": {
          "model_module": "@jupyter-widgets/controls",
          "model_name": "DescriptionStyleModel",
          "state": {
            "_model_module": "@jupyter-widgets/controls",
            "_model_module_version": "1.5.0",
            "_model_name": "DescriptionStyleModel",
            "_view_count": null,
            "_view_module": "@jupyter-widgets/base",
            "_view_module_version": "1.2.0",
            "_view_name": "StyleView",
            "description_width": ""
          }
        },
        "7ccdfe7cadcd40ccb5ee1e1054d035c5": {
          "model_module": "@jupyter-widgets/base",
          "model_name": "LayoutModel",
          "state": {
            "_model_module": "@jupyter-widgets/base",
            "_model_module_version": "1.2.0",
            "_model_name": "LayoutModel",
            "_view_count": null,
            "_view_module": "@jupyter-widgets/base",
            "_view_module_version": "1.2.0",
            "_view_name": "LayoutView",
            "align_content": null,
            "align_items": null,
            "align_self": null,
            "border": null,
            "bottom": null,
            "display": null,
            "flex": null,
            "flex_flow": null,
            "grid_area": null,
            "grid_auto_columns": null,
            "grid_auto_flow": null,
            "grid_auto_rows": null,
            "grid_column": null,
            "grid_gap": null,
            "grid_row": null,
            "grid_template_areas": null,
            "grid_template_columns": null,
            "grid_template_rows": null,
            "height": null,
            "justify_content": null,
            "justify_items": null,
            "left": null,
            "margin": null,
            "max_height": null,
            "max_width": null,
            "min_height": null,
            "min_width": null,
            "object_fit": null,
            "object_position": null,
            "order": null,
            "overflow": null,
            "overflow_x": null,
            "overflow_y": null,
            "padding": null,
            "right": null,
            "top": null,
            "visibility": null,
            "width": null
          }
        },
        "ae78d55352284b508602753c5fcb117c": {
          "model_module": "@jupyter-widgets/controls",
          "model_name": "HBoxModel",
          "state": {
            "_dom_classes": [],
            "_model_module": "@jupyter-widgets/controls",
            "_model_module_version": "1.5.0",
            "_model_name": "HBoxModel",
            "_view_count": null,
            "_view_module": "@jupyter-widgets/controls",
            "_view_module_version": "1.5.0",
            "_view_name": "HBoxView",
            "box_style": "",
            "children": [
              "IPY_MODEL_1324f6ce6de04578adaf7a3310dca6b4",
              "IPY_MODEL_ee35d2b3a2a94f6f82149d9ed55503a5"
            ],
            "layout": "IPY_MODEL_6e7f14ab77a64070bda83dc30961fa7f"
          }
        },
        "6e7f14ab77a64070bda83dc30961fa7f": {
          "model_module": "@jupyter-widgets/base",
          "model_name": "LayoutModel",
          "state": {
            "_model_module": "@jupyter-widgets/base",
            "_model_module_version": "1.2.0",
            "_model_name": "LayoutModel",
            "_view_count": null,
            "_view_module": "@jupyter-widgets/base",
            "_view_module_version": "1.2.0",
            "_view_name": "LayoutView",
            "align_content": null,
            "align_items": null,
            "align_self": null,
            "border": null,
            "bottom": null,
            "display": null,
            "flex": null,
            "flex_flow": null,
            "grid_area": null,
            "grid_auto_columns": null,
            "grid_auto_flow": null,
            "grid_auto_rows": null,
            "grid_column": null,
            "grid_gap": null,
            "grid_row": null,
            "grid_template_areas": null,
            "grid_template_columns": null,
            "grid_template_rows": null,
            "height": null,
            "justify_content": null,
            "justify_items": null,
            "left": null,
            "margin": null,
            "max_height": null,
            "max_width": null,
            "min_height": null,
            "min_width": null,
            "object_fit": null,
            "object_position": null,
            "order": null,
            "overflow": null,
            "overflow_x": null,
            "overflow_y": null,
            "padding": null,
            "right": null,
            "top": null,
            "visibility": null,
            "width": null
          }
        },
        "1324f6ce6de04578adaf7a3310dca6b4": {
          "model_module": "@jupyter-widgets/controls",
          "model_name": "FloatProgressModel",
          "state": {
            "_dom_classes": [],
            "_model_module": "@jupyter-widgets/controls",
            "_model_module_version": "1.5.0",
            "_model_name": "FloatProgressModel",
            "_view_count": null,
            "_view_module": "@jupyter-widgets/controls",
            "_view_module_version": "1.5.0",
            "_view_name": "ProgressView",
            "bar_style": "info",
            "description": "",
            "description_tooltip": null,
            "layout": "IPY_MODEL_07e80bdcd09e45a4aed4bbd1bb18e5b8",
            "max": 1,
            "min": 0,
            "orientation": "horizontal",
            "style": "IPY_MODEL_4fe41590073b410a801fe7f8724877d4",
            "value": 1
          }
        },
        "ee35d2b3a2a94f6f82149d9ed55503a5": {
          "model_module": "@jupyter-widgets/controls",
          "model_name": "HTMLModel",
          "state": {
            "_dom_classes": [],
            "_model_module": "@jupyter-widgets/controls",
            "_model_module_version": "1.5.0",
            "_model_name": "HTMLModel",
            "_view_count": null,
            "_view_module": "@jupyter-widgets/controls",
            "_view_module_version": "1.5.0",
            "_view_name": "HTMLView",
            "description": "",
            "description_tooltip": null,
            "layout": "IPY_MODEL_93edac5d85fd48b9ad8ebe909575e4b6",
            "placeholder": "​",
            "style": "IPY_MODEL_e84959b5c453429f9877bd5b22c0a0cd",
            "value": " 4473/0 [00:00&lt;00:00,  7.25 examples/s]"
          }
        },
        "4fe41590073b410a801fe7f8724877d4": {
          "model_module": "@jupyter-widgets/controls",
          "model_name": "ProgressStyleModel",
          "state": {
            "_model_module": "@jupyter-widgets/controls",
            "_model_module_version": "1.5.0",
            "_model_name": "ProgressStyleModel",
            "_view_count": null,
            "_view_module": "@jupyter-widgets/base",
            "_view_module_version": "1.2.0",
            "_view_name": "StyleView",
            "bar_color": null,
            "description_width": "initial"
          }
        },
        "07e80bdcd09e45a4aed4bbd1bb18e5b8": {
          "model_module": "@jupyter-widgets/base",
          "model_name": "LayoutModel",
          "state": {
            "_model_module": "@jupyter-widgets/base",
            "_model_module_version": "1.2.0",
            "_model_name": "LayoutModel",
            "_view_count": null,
            "_view_module": "@jupyter-widgets/base",
            "_view_module_version": "1.2.0",
            "_view_name": "LayoutView",
            "align_content": null,
            "align_items": null,
            "align_self": null,
            "border": null,
            "bottom": null,
            "display": null,
            "flex": null,
            "flex_flow": null,
            "grid_area": null,
            "grid_auto_columns": null,
            "grid_auto_flow": null,
            "grid_auto_rows": null,
            "grid_column": null,
            "grid_gap": null,
            "grid_row": null,
            "grid_template_areas": null,
            "grid_template_columns": null,
            "grid_template_rows": null,
            "height": null,
            "justify_content": null,
            "justify_items": null,
            "left": null,
            "margin": null,
            "max_height": null,
            "max_width": null,
            "min_height": null,
            "min_width": null,
            "object_fit": null,
            "object_position": null,
            "order": null,
            "overflow": null,
            "overflow_x": null,
            "overflow_y": null,
            "padding": null,
            "right": null,
            "top": null,
            "visibility": null,
            "width": null
          }
        },
        "e84959b5c453429f9877bd5b22c0a0cd": {
          "model_module": "@jupyter-widgets/controls",
          "model_name": "DescriptionStyleModel",
          "state": {
            "_model_module": "@jupyter-widgets/controls",
            "_model_module_version": "1.5.0",
            "_model_name": "DescriptionStyleModel",
            "_view_count": null,
            "_view_module": "@jupyter-widgets/base",
            "_view_module_version": "1.2.0",
            "_view_name": "StyleView",
            "description_width": ""
          }
        },
        "93edac5d85fd48b9ad8ebe909575e4b6": {
          "model_module": "@jupyter-widgets/base",
          "model_name": "LayoutModel",
          "state": {
            "_model_module": "@jupyter-widgets/base",
            "_model_module_version": "1.2.0",
            "_model_name": "LayoutModel",
            "_view_count": null,
            "_view_module": "@jupyter-widgets/base",
            "_view_module_version": "1.2.0",
            "_view_name": "LayoutView",
            "align_content": null,
            "align_items": null,
            "align_self": null,
            "border": null,
            "bottom": null,
            "display": null,
            "flex": null,
            "flex_flow": null,
            "grid_area": null,
            "grid_auto_columns": null,
            "grid_auto_flow": null,
            "grid_auto_rows": null,
            "grid_column": null,
            "grid_gap": null,
            "grid_row": null,
            "grid_template_areas": null,
            "grid_template_columns": null,
            "grid_template_rows": null,
            "height": null,
            "justify_content": null,
            "justify_items": null,
            "left": null,
            "margin": null,
            "max_height": null,
            "max_width": null,
            "min_height": null,
            "min_width": null,
            "object_fit": null,
            "object_position": null,
            "order": null,
            "overflow": null,
            "overflow_x": null,
            "overflow_y": null,
            "padding": null,
            "right": null,
            "top": null,
            "visibility": null,
            "width": null
          }
        },
        "0488f8f9b009409ea26bc486791d4665": {
          "model_module": "@jupyter-widgets/controls",
          "model_name": "HBoxModel",
          "state": {
            "_dom_classes": [],
            "_model_module": "@jupyter-widgets/controls",
            "_model_module_version": "1.5.0",
            "_model_name": "HBoxModel",
            "_view_count": null,
            "_view_module": "@jupyter-widgets/controls",
            "_view_module_version": "1.5.0",
            "_view_name": "HBoxView",
            "box_style": "",
            "children": [
              "IPY_MODEL_c80aa0c23347406186ed13b699bce7ca",
              "IPY_MODEL_159fd16bc0ad4292b16d954ec0f2656c"
            ],
            "layout": "IPY_MODEL_a8ce4f1a3de94b68a66c6d6b6e5e1c46"
          }
        },
        "a8ce4f1a3de94b68a66c6d6b6e5e1c46": {
          "model_module": "@jupyter-widgets/base",
          "model_name": "LayoutModel",
          "state": {
            "_model_module": "@jupyter-widgets/base",
            "_model_module_version": "1.2.0",
            "_model_name": "LayoutModel",
            "_view_count": null,
            "_view_module": "@jupyter-widgets/base",
            "_view_module_version": "1.2.0",
            "_view_name": "LayoutView",
            "align_content": null,
            "align_items": null,
            "align_self": null,
            "border": null,
            "bottom": null,
            "display": null,
            "flex": null,
            "flex_flow": null,
            "grid_area": null,
            "grid_auto_columns": null,
            "grid_auto_flow": null,
            "grid_auto_rows": null,
            "grid_column": null,
            "grid_gap": null,
            "grid_row": null,
            "grid_template_areas": null,
            "grid_template_columns": null,
            "grid_template_rows": null,
            "height": null,
            "justify_content": null,
            "justify_items": null,
            "left": null,
            "margin": null,
            "max_height": null,
            "max_width": null,
            "min_height": null,
            "min_width": null,
            "object_fit": null,
            "object_position": null,
            "order": null,
            "overflow": null,
            "overflow_x": null,
            "overflow_y": null,
            "padding": null,
            "right": null,
            "top": null,
            "visibility": null,
            "width": null
          }
        },
        "c80aa0c23347406186ed13b699bce7ca": {
          "model_module": "@jupyter-widgets/controls",
          "model_name": "FloatProgressModel",
          "state": {
            "_dom_classes": [],
            "_model_module": "@jupyter-widgets/controls",
            "_model_module_version": "1.5.0",
            "_model_name": "FloatProgressModel",
            "_view_count": null,
            "_view_module": "@jupyter-widgets/controls",
            "_view_module_version": "1.5.0",
            "_view_name": "ProgressView",
            "bar_style": "success",
            "description": "Downloading: ",
            "description_tooltip": null,
            "layout": "IPY_MODEL_44277debf6c542298370d2db7ac76914",
            "max": 2236,
            "min": 0,
            "orientation": "horizontal",
            "style": "IPY_MODEL_f44edbb5e5494f4fadb388d27add538b",
            "value": 2236
          }
        },
        "159fd16bc0ad4292b16d954ec0f2656c": {
          "model_module": "@jupyter-widgets/controls",
          "model_name": "HTMLModel",
          "state": {
            "_dom_classes": [],
            "_model_module": "@jupyter-widgets/controls",
            "_model_module_version": "1.5.0",
            "_model_name": "HTMLModel",
            "_view_count": null,
            "_view_module": "@jupyter-widgets/controls",
            "_view_module_version": "1.5.0",
            "_view_name": "HTMLView",
            "description": "",
            "description_tooltip": null,
            "layout": "IPY_MODEL_7f801512dd2c4b0d8250d84144fade27",
            "placeholder": "​",
            "style": "IPY_MODEL_7731686414d3441d98f1448e62e2c684",
            "value": " 5.40k/? [00:00&lt;00:00, 31.9kB/s]"
          }
        },
        "f44edbb5e5494f4fadb388d27add538b": {
          "model_module": "@jupyter-widgets/controls",
          "model_name": "ProgressStyleModel",
          "state": {
            "_model_module": "@jupyter-widgets/controls",
            "_model_module_version": "1.5.0",
            "_model_name": "ProgressStyleModel",
            "_view_count": null,
            "_view_module": "@jupyter-widgets/base",
            "_view_module_version": "1.2.0",
            "_view_name": "StyleView",
            "bar_color": null,
            "description_width": "initial"
          }
        },
        "44277debf6c542298370d2db7ac76914": {
          "model_module": "@jupyter-widgets/base",
          "model_name": "LayoutModel",
          "state": {
            "_model_module": "@jupyter-widgets/base",
            "_model_module_version": "1.2.0",
            "_model_name": "LayoutModel",
            "_view_count": null,
            "_view_module": "@jupyter-widgets/base",
            "_view_module_version": "1.2.0",
            "_view_name": "LayoutView",
            "align_content": null,
            "align_items": null,
            "align_self": null,
            "border": null,
            "bottom": null,
            "display": null,
            "flex": null,
            "flex_flow": null,
            "grid_area": null,
            "grid_auto_columns": null,
            "grid_auto_flow": null,
            "grid_auto_rows": null,
            "grid_column": null,
            "grid_gap": null,
            "grid_row": null,
            "grid_template_areas": null,
            "grid_template_columns": null,
            "grid_template_rows": null,
            "height": null,
            "justify_content": null,
            "justify_items": null,
            "left": null,
            "margin": null,
            "max_height": null,
            "max_width": null,
            "min_height": null,
            "min_width": null,
            "object_fit": null,
            "object_position": null,
            "order": null,
            "overflow": null,
            "overflow_x": null,
            "overflow_y": null,
            "padding": null,
            "right": null,
            "top": null,
            "visibility": null,
            "width": null
          }
        },
        "7731686414d3441d98f1448e62e2c684": {
          "model_module": "@jupyter-widgets/controls",
          "model_name": "DescriptionStyleModel",
          "state": {
            "_model_module": "@jupyter-widgets/controls",
            "_model_module_version": "1.5.0",
            "_model_name": "DescriptionStyleModel",
            "_view_count": null,
            "_view_module": "@jupyter-widgets/base",
            "_view_module_version": "1.2.0",
            "_view_name": "StyleView",
            "description_width": ""
          }
        },
        "7f801512dd2c4b0d8250d84144fade27": {
          "model_module": "@jupyter-widgets/base",
          "model_name": "LayoutModel",
          "state": {
            "_model_module": "@jupyter-widgets/base",
            "_model_module_version": "1.2.0",
            "_model_name": "LayoutModel",
            "_view_count": null,
            "_view_module": "@jupyter-widgets/base",
            "_view_module_version": "1.2.0",
            "_view_name": "LayoutView",
            "align_content": null,
            "align_items": null,
            "align_self": null,
            "border": null,
            "bottom": null,
            "display": null,
            "flex": null,
            "flex_flow": null,
            "grid_area": null,
            "grid_auto_columns": null,
            "grid_auto_flow": null,
            "grid_auto_rows": null,
            "grid_column": null,
            "grid_gap": null,
            "grid_row": null,
            "grid_template_areas": null,
            "grid_template_columns": null,
            "grid_template_rows": null,
            "height": null,
            "justify_content": null,
            "justify_items": null,
            "left": null,
            "margin": null,
            "max_height": null,
            "max_width": null,
            "min_height": null,
            "min_width": null,
            "object_fit": null,
            "object_position": null,
            "order": null,
            "overflow": null,
            "overflow_x": null,
            "overflow_y": null,
            "padding": null,
            "right": null,
            "top": null,
            "visibility": null,
            "width": null
          }
        }
      }
    }
  },
  "cells": [
    {
      "cell_type": "markdown",
      "metadata": {
        "id": "YtdLjsL1GmgU"
      },
      "source": [
        "# DSCI 691: Natural Language Processing with Deep Learning <br> Chapter 2: Tasks, objectives, and optimization\n"
      ]
    },
    {
      "cell_type": "markdown",
      "metadata": {
        "id": "CrzOTXrz_YVF"
      },
      "source": [
        "## 2.0 Motivation\n",
        "\n",
        "While DL has certainly revolutionized NLP, at its core, NLP with DL still an area of work that must resolve specific human-like tasks as shallow ML experiments. Abstracting NLP processing tasks as optimizable objectives is no small work, and ultimately has exceptional impact on the utility of systems at their downstream function. With this in mind, the key takeaways from this section should be pipelined as understanding:\n",
        "\n",
        "1. a range of common and typical NLP problems (by no means all), their relationships, and their representations in data; sufficient to\n",
        "2. to abstract NLP tasks from problems into optimizable objectives; and\n",
        "3. apply the patterns of mathematical formulation necessary to optimze subsequent DL systems."
      ]
    },
    {
      "cell_type": "markdown",
      "metadata": {
        "id": "ersfwAU4yhYT"
      },
      "source": [
        "## 2.1 Tasks\n",
        "\n",
        "In this section we'll review some NLP tasks and their data representations. One thing we'll want to keep in mind is that by nature, tasks in NLP generally are discrete, i.e., categorical prediction tasks, whether focused on prediction at course- (e.g., on documents) or fine-grained levels (e.g., on words).\n",
        "\n",
        "### 2.1.1 Named Entity Recognition (NER)\n",
        "Oftentimes, in NLP, we are concerned with identifying the \"things\" of interest. Perhaps we're interested in constructing a model that can identify the who, what, where, and when that is contained in a text for further processing. \n",
        "\n",
        "The task of identifying these \"things\" is typically referred to as Named Entity Recognition or NER. \n",
        "\n",
        "Consider the following sentence and annotation: \n",
        "\n",
        "```\n",
        "Last night , Paris Hilton wowed in a sequin gown .\n",
        "              PER   PER\n",
        "```\n",
        "\n",
        "Here, we can see that the annotation is focused on the \"who\" aspect. Both `Paris` and `Hilton` are annotated as `PER`, or the label for a Person entity.\n",
        "\n",
        "Furthermore, even if we annotate both `Paris` and `Hilton` with the `PER` class, a proper system may need to then link these two words into a unifying entity of `Paris Hilton` the celebrity (as well as any other reference to such person). This extension takes a task beyond NER into the realm of named-entity linking (NEL).\n",
        "\n",
        "Another example could look like: \n",
        "\n",
        "```\n",
        "Samuel Quinn was arrested in the Hilton Hotel in Paris in April 1989 .\n",
        " PER    PER                       LOC    LOC      LOC      DATE DATE\n",
        "```\n",
        "\n",
        "Here, it is important to be aware of the fact that `Paris` is now part of the `LOC` class. This is important information, especially if one is intending to do entity linking downstream. Paris the city is obviously not Paris Hilton. A good system will be able to discriminate between these types.\n",
        "\n",
        "Already, one can begin to see why this task is difficult. A good NER system should be able to identify which tokens are of interest and assign them an appropriate label. Many tokens are not assigned an entity class, increasing the sparsity of the signal. \n",
        "\n",
        "Furthermore, many named entities are an open class. If I say that I went down to Fred's Pizza Shack, it is easy enough for a human to understand that I went to a location (`LOC`). But can an NER system detect that, even if it's never seen such an entity before?"
      ]
    },
    {
      "cell_type": "markdown",
      "metadata": {
        "id": "rGoQobP08yiM"
      },
      "source": [
        "#### 2.1.1.1 NER data\n",
        "\n",
        "For easy access to data, we can utilize `pip`:"
      ]
    },
    {
      "cell_type": "code",
      "metadata": {
        "colab": {
          "base_uri": "https://localhost:8080/"
        },
        "id": "U4-5vF_B8_an",
        "outputId": "1f108722-95ba-4bd5-aab1-71576f137cb6"
      },
      "source": [
        "!pip install datasets"
      ],
      "execution_count": null,
      "outputs": [
        {
          "output_type": "stream",
          "text": [
            "Collecting datasets\n",
            "\u001b[?25l  Downloading https://files.pythonhosted.org/packages/54/90/43b396481a8298c6010afb93b3c1e71d4ba6f8c10797a7da8eb005e45081/datasets-1.5.0-py3-none-any.whl (192kB)\n",
            "\u001b[K     |████████████████████████████████| 194kB 12.2MB/s \n",
            "\u001b[?25hCollecting huggingface-hub<0.1.0\n",
            "  Downloading https://files.pythonhosted.org/packages/af/07/bf95f398e6598202d878332280f36e589512174882536eb20d792532a57d/huggingface_hub-0.0.7-py3-none-any.whl\n",
            "Requirement already satisfied: tqdm<4.50.0,>=4.27 in /usr/local/lib/python3.7/dist-packages (from datasets) (4.41.1)\n",
            "Requirement already satisfied: pyarrow>=0.17.1 in /usr/local/lib/python3.7/dist-packages (from datasets) (3.0.0)\n",
            "Requirement already satisfied: multiprocess in /usr/local/lib/python3.7/dist-packages (from datasets) (0.70.11.1)\n",
            "Collecting fsspec\n",
            "\u001b[?25l  Downloading https://files.pythonhosted.org/packages/91/0d/a6bfee0ddf47b254286b9bd574e6f50978c69897647ae15b14230711806e/fsspec-0.8.7-py3-none-any.whl (103kB)\n",
            "\u001b[K     |████████████████████████████████| 112kB 39.5MB/s \n",
            "\u001b[?25hRequirement already satisfied: pandas in /usr/local/lib/python3.7/dist-packages (from datasets) (1.1.5)\n",
            "Collecting xxhash\n",
            "\u001b[?25l  Downloading https://files.pythonhosted.org/packages/e7/27/1c0b37c53a7852f1c190ba5039404d27b3ae96a55f48203a74259f8213c9/xxhash-2.0.0-cp37-cp37m-manylinux2010_x86_64.whl (243kB)\n",
            "\u001b[K     |████████████████████████████████| 245kB 41.5MB/s \n",
            "\u001b[?25hRequirement already satisfied: dill in /usr/local/lib/python3.7/dist-packages (from datasets) (0.3.3)\n",
            "Requirement already satisfied: numpy>=1.17 in /usr/local/lib/python3.7/dist-packages (from datasets) (1.19.5)\n",
            "Requirement already satisfied: requests>=2.19.0 in /usr/local/lib/python3.7/dist-packages (from datasets) (2.23.0)\n",
            "Requirement already satisfied: importlib-metadata; python_version < \"3.8\" in /usr/local/lib/python3.7/dist-packages (from datasets) (3.8.1)\n",
            "Requirement already satisfied: filelock in /usr/local/lib/python3.7/dist-packages (from huggingface-hub<0.1.0->datasets) (3.0.12)\n",
            "Requirement already satisfied: python-dateutil>=2.7.3 in /usr/local/lib/python3.7/dist-packages (from pandas->datasets) (2.8.1)\n",
            "Requirement already satisfied: pytz>=2017.2 in /usr/local/lib/python3.7/dist-packages (from pandas->datasets) (2018.9)\n",
            "Requirement already satisfied: urllib3!=1.25.0,!=1.25.1,<1.26,>=1.21.1 in /usr/local/lib/python3.7/dist-packages (from requests>=2.19.0->datasets) (1.24.3)\n",
            "Requirement already satisfied: idna<3,>=2.5 in /usr/local/lib/python3.7/dist-packages (from requests>=2.19.0->datasets) (2.10)\n",
            "Requirement already satisfied: certifi>=2017.4.17 in /usr/local/lib/python3.7/dist-packages (from requests>=2.19.0->datasets) (2020.12.5)\n",
            "Requirement already satisfied: chardet<4,>=3.0.2 in /usr/local/lib/python3.7/dist-packages (from requests>=2.19.0->datasets) (3.0.4)\n",
            "Requirement already satisfied: zipp>=0.5 in /usr/local/lib/python3.7/dist-packages (from importlib-metadata; python_version < \"3.8\"->datasets) (3.4.1)\n",
            "Requirement already satisfied: typing-extensions>=3.6.4; python_version < \"3.8\" in /usr/local/lib/python3.7/dist-packages (from importlib-metadata; python_version < \"3.8\"->datasets) (3.7.4.3)\n",
            "Requirement already satisfied: six>=1.5 in /usr/local/lib/python3.7/dist-packages (from python-dateutil>=2.7.3->pandas->datasets) (1.15.0)\n",
            "Installing collected packages: huggingface-hub, fsspec, xxhash, datasets\n",
            "Successfully installed datasets-1.5.0 fsspec-0.8.7 huggingface-hub-0.0.7 xxhash-2.0.0\n"
          ],
          "name": "stdout"
        }
      ]
    },
    {
      "cell_type": "markdown",
      "metadata": {
        "id": "0D-FFGGQtCFq"
      },
      "source": [
        "The `'conll2003'` data set has a long history in the field and will suffice for our introduction:"
      ]
    },
    {
      "cell_type": "code",
      "metadata": {
        "colab": {
          "base_uri": "https://localhost:8080/",
          "height": 566,
          "referenced_widgets": [
            "5bbc64feca94488c830c4ecc378456f6",
            "b8d83618980d4a56841be47c75442f0f",
            "c7e20ed063ef4a95b6b8b43bd26dd04f",
            "6da507469153466e8cb977a3b8941d1e",
            "4f20803af1fb4f13bca74b6325a35a95",
            "c36749224af749e3a3a6d9a790cc1849",
            "b5c69b89981a483d946d52f2401673cb",
            "5efbe28ce1a14f39bda75cbf195f75ee",
            "cc978379ce2f49cb8b64627319f52a75",
            "609f7fcba27d4bd1b45c7e1a3d26ea0a",
            "ed499a34627b4a9e974887592665efcc",
            "45896bf7e7d94989bb358e665ab26154",
            "9b2f58d62e2c4286853950ead5189ed5",
            "9a5015fcd26f43028e54405d6b700be4",
            "3ff305b07ad74b7a94f58989746a0a05",
            "25b02257c2b04ad08f6c8c9d4cccea5e",
            "322c61be977d49b981a5d0cd79ae3107",
            "e03471c848f04923828ee382416199dd",
            "bae42bcb195e407fbbb0ab201aeb50fd",
            "7e14519499f64d8191f14ac56fcb924c",
            "27d85ba39fdf4ca598cd348313ee9a9c",
            "540c8ea235fc4c68836c0b21d0ae1f91",
            "74bbc4fd0b1141c488abfb029c392fe6",
            "0970dcaaa60c4b72a58a68ae5e6e818d",
            "a00d818aaa9a47f1be470e1d71b58dc7",
            "5affa353ba3a45a5b727b43febc448bc",
            "c99c2809166a47afb63cdbb1074fb4be",
            "55049d97f1ca49b4b7af2dc7a2aaa97a",
            "4167fb506f6c41a89336a49f295832fe",
            "ab4aef22647c43afbc52f1cc10c2aea5",
            "0e7e73055fee4ad398126ce8b8fa8046",
            "34cd51c72161495493ff980dd4a2d4ee",
            "d618b2935f304acab2a7ec5fb4f54ca4",
            "d518195d9067406ba67bd52b7c80dfba",
            "818e308f62a4477ba6c78a1b36d7b726",
            "f6612aad7acf4672994e95696d906e4a",
            "fe013991e83445f2895fe8ee5a4660dd",
            "e6fa0abd8664495ca88ad491ced2480c",
            "4d377a0f332948a28dcfc5e0829425d4",
            "57bb5ae2257b448981c7bc39a755de06",
            "41fc135225704145911833f32b994fd3",
            "55811290010145bbae1475cf432ec41c",
            "73f38296c3f945d6a3c5fd97cd8605a3",
            "b52e8a89b0ca4cecb9f795c3ab895339",
            "1759a0bf044040bebc7c382ac21070b6",
            "6b6a313886b84f4687126eede890f1bd",
            "c91c3274c251423cba345d23bc377e78",
            "6c3b4ffff5b5490989db6128bcee3467",
            "a4253544fe5b4f0089b782bfa7f9d29b",
            "ebec910b1dfc42eea94ce3f34607701a",
            "69481e12ed2145f8a6f519793c499493",
            "24b66204f59047c6a1ce9bfb5ff5753f",
            "45ab4da1a2134d2c81c59badeafbe83c",
            "befcd6c370f748c582d083c25fda8ba4",
            "fb6a230f11284471a719265c66b612a7",
            "23a6d6aed2154e8eb158ea0842efb56e",
            "5b130704858e4b3eb416ecb7183f36c0",
            "97e8575a5ade459e96703eb8450f1d43",
            "4ac5343840094fe0950c172fed9d1a8a",
            "0e8a2a29b8c7485ca3a1699a58ba65a8",
            "ed7df59ddb3147fe8221d35e8e0c27c9",
            "baf1b3b46e464fb38aa9252f00887e5b",
            "2592cd0c8eea409b8882dcead2c65b32",
            "44df443ff62b494a896e0c07c8fac48d"
          ]
        },
        "id": "iYoZp3zf9DkP",
        "outputId": "8484aac9-9f38-4350-ec7e-32f04da1def6"
      },
      "source": [
        "import datasets\n",
        "\n",
        "ds = datasets.load_dataset('conll2003')\n",
        "ds"
      ],
      "execution_count": null,
      "outputs": [
        {
          "output_type": "display_data",
          "data": {
            "application/vnd.jupyter.widget-view+json": {
              "model_id": "5bbc64feca94488c830c4ecc378456f6",
              "version_major": 2,
              "version_minor": 0
            },
            "text/plain": [
              "HBox(children=(FloatProgress(value=0.0, description='Downloading', max=2603.0, style=ProgressStyle(description…"
            ]
          },
          "metadata": {
            "tags": []
          }
        },
        {
          "output_type": "stream",
          "text": [
            "\n"
          ],
          "name": "stdout"
        },
        {
          "output_type": "display_data",
          "data": {
            "application/vnd.jupyter.widget-view+json": {
              "model_id": "cc978379ce2f49cb8b64627319f52a75",
              "version_major": 2,
              "version_minor": 0
            },
            "text/plain": [
              "HBox(children=(FloatProgress(value=0.0, description='Downloading', max=1781.0, style=ProgressStyle(description…"
            ]
          },
          "metadata": {
            "tags": []
          }
        },
        {
          "output_type": "stream",
          "text": [
            "\n",
            "Downloading and preparing dataset conll2003/conll2003 (download: 4.63 MiB, generated: 9.78 MiB, post-processed: Unknown size, total: 14.41 MiB) to /root/.cache/huggingface/datasets/conll2003/conll2003/1.0.0/40e7cb6bcc374f7c349c83acd1e9352a4f09474eb691f64f364ee62eb65d0ca6...\n"
          ],
          "name": "stdout"
        },
        {
          "output_type": "display_data",
          "data": {
            "application/vnd.jupyter.widget-view+json": {
              "model_id": "322c61be977d49b981a5d0cd79ae3107",
              "version_major": 2,
              "version_minor": 0
            },
            "text/plain": [
              "HBox(children=(FloatProgress(value=0.0, description='Downloading', max=649539.0, style=ProgressStyle(descripti…"
            ]
          },
          "metadata": {
            "tags": []
          }
        },
        {
          "output_type": "stream",
          "text": [
            "\n"
          ],
          "name": "stdout"
        },
        {
          "output_type": "display_data",
          "data": {
            "application/vnd.jupyter.widget-view+json": {
              "model_id": "a00d818aaa9a47f1be470e1d71b58dc7",
              "version_major": 2,
              "version_minor": 0
            },
            "text/plain": [
              "HBox(children=(FloatProgress(value=0.0, description='Downloading', max=162714.0, style=ProgressStyle(descripti…"
            ]
          },
          "metadata": {
            "tags": []
          }
        },
        {
          "output_type": "stream",
          "text": [
            "\n"
          ],
          "name": "stdout"
        },
        {
          "output_type": "display_data",
          "data": {
            "application/vnd.jupyter.widget-view+json": {
              "model_id": "d618b2935f304acab2a7ec5fb4f54ca4",
              "version_major": 2,
              "version_minor": 0
            },
            "text/plain": [
              "HBox(children=(FloatProgress(value=0.0, description='Downloading', max=145897.0, style=ProgressStyle(descripti…"
            ]
          },
          "metadata": {
            "tags": []
          }
        },
        {
          "output_type": "stream",
          "text": [
            "\n"
          ],
          "name": "stdout"
        },
        {
          "output_type": "display_data",
          "data": {
            "application/vnd.jupyter.widget-view+json": {
              "model_id": "41fc135225704145911833f32b994fd3",
              "version_major": 2,
              "version_minor": 0
            },
            "text/plain": [
              "HBox(children=(FloatProgress(value=1.0, bar_style='info', max=1.0), HTML(value='')))"
            ]
          },
          "metadata": {
            "tags": []
          }
        },
        {
          "output_type": "stream",
          "text": [
            "\r"
          ],
          "name": "stdout"
        },
        {
          "output_type": "display_data",
          "data": {
            "application/vnd.jupyter.widget-view+json": {
              "model_id": "a4253544fe5b4f0089b782bfa7f9d29b",
              "version_major": 2,
              "version_minor": 0
            },
            "text/plain": [
              "HBox(children=(FloatProgress(value=1.0, bar_style='info', max=1.0), HTML(value='')))"
            ]
          },
          "metadata": {
            "tags": []
          }
        },
        {
          "output_type": "stream",
          "text": [
            "\r"
          ],
          "name": "stdout"
        },
        {
          "output_type": "display_data",
          "data": {
            "application/vnd.jupyter.widget-view+json": {
              "model_id": "5b130704858e4b3eb416ecb7183f36c0",
              "version_major": 2,
              "version_minor": 0
            },
            "text/plain": [
              "HBox(children=(FloatProgress(value=1.0, bar_style='info', max=1.0), HTML(value='')))"
            ]
          },
          "metadata": {
            "tags": []
          }
        },
        {
          "output_type": "stream",
          "text": [
            "Dataset conll2003 downloaded and prepared to /root/.cache/huggingface/datasets/conll2003/conll2003/1.0.0/40e7cb6bcc374f7c349c83acd1e9352a4f09474eb691f64f364ee62eb65d0ca6. Subsequent calls will reuse this data.\n"
          ],
          "name": "stdout"
        },
        {
          "output_type": "execute_result",
          "data": {
            "text/plain": [
              "DatasetDict({\n",
              "    train: Dataset({\n",
              "        features: ['id', 'tokens', 'pos_tags', 'chunk_tags', 'ner_tags'],\n",
              "        num_rows: 14041\n",
              "    })\n",
              "    validation: Dataset({\n",
              "        features: ['id', 'tokens', 'pos_tags', 'chunk_tags', 'ner_tags'],\n",
              "        num_rows: 3250\n",
              "    })\n",
              "    test: Dataset({\n",
              "        features: ['id', 'tokens', 'pos_tags', 'chunk_tags', 'ner_tags'],\n",
              "        num_rows: 3453\n",
              "    })\n",
              "})"
            ]
          },
          "metadata": {
            "tags": []
          },
          "execution_count": 4
        }
      ]
    },
    {
      "cell_type": "markdown",
      "metadata": {
        "id": "PKaoqm9T9kHn"
      },
      "source": [
        "This output tells us that our dataset is pre-split into train, validation, and test splits (each with a number fo samples denoted as the `num_rows` output). We can also see the names of the features included with the dataset. \n",
        "\n",
        "Let's take a look at a sample from the training set:"
      ]
    },
    {
      "cell_type": "code",
      "metadata": {
        "colab": {
          "base_uri": "https://localhost:8080/"
        },
        "id": "QD-a4iNB90_2",
        "outputId": "cc69c624-d602-4495-832b-4c1450c6cbb9"
      },
      "source": [
        "ds['train'][0]"
      ],
      "execution_count": null,
      "outputs": [
        {
          "output_type": "execute_result",
          "data": {
            "text/plain": [
              "{'chunk_tags': [11, 21, 11, 12, 21, 22, 11, 12, 0],\n",
              " 'id': '0',\n",
              " 'ner_tags': [3, 0, 7, 0, 0, 0, 7, 0, 0],\n",
              " 'pos_tags': [22, 42, 16, 21, 35, 37, 16, 21, 7],\n",
              " 'tokens': ['EU',\n",
              "  'rejects',\n",
              "  'German',\n",
              "  'call',\n",
              "  'to',\n",
              "  'boycott',\n",
              "  'British',\n",
              "  'lamb',\n",
              "  '.']}"
            ]
          },
          "metadata": {
            "tags": []
          },
          "execution_count": 5
        }
      ]
    },
    {
      "cell_type": "markdown",
      "metadata": {
        "id": "QbM7q3tz5w_W"
      },
      "source": [
        "Here, the NER tags are our 9 different categories that we'd like to predict for the sentence's tokens, but these are presented as integer-indexed, i.e., for a vector representation. So if we'd like to see these presented in the more intuitive format we've introduced them in, i.e., as token-level string labels, we'll need to pull the `feature_names` out of the data set's packing, associate them as `token_labels` and zip them in with the `'tokens'`:"
      ]
    },
    {
      "cell_type": "code",
      "metadata": {
        "colab": {
          "base_uri": "https://localhost:8080/"
        },
        "id": "R5VI-78K43D8",
        "outputId": "0f14ec68-dbd1-4bff-f638-67872b77501b"
      },
      "source": [
        "feature_names = ds['train'].features['ner_tags'].feature.names\n",
        "token_labels = [feature_names[i] for i in ds['train'][3]['ner_tags']]\n",
        "list(zip(ds['train'][3]['tokens'], token_labels))"
      ],
      "execution_count": null,
      "outputs": [
        {
          "output_type": "execute_result",
          "data": {
            "text/plain": [
              "[('The', 'O'),\n",
              " ('European', 'B-ORG'),\n",
              " ('Commission', 'I-ORG'),\n",
              " ('said', 'O'),\n",
              " ('on', 'O'),\n",
              " ('Thursday', 'O'),\n",
              " ('it', 'O'),\n",
              " ('disagreed', 'O'),\n",
              " ('with', 'O'),\n",
              " ('German', 'B-MISC'),\n",
              " ('advice', 'O'),\n",
              " ('to', 'O'),\n",
              " ('consumers', 'O'),\n",
              " ('to', 'O'),\n",
              " ('shun', 'O'),\n",
              " ('British', 'B-MISC'),\n",
              " ('lamb', 'O'),\n",
              " ('until', 'O'),\n",
              " ('scientists', 'O'),\n",
              " ('determine', 'O'),\n",
              " ('whether', 'O'),\n",
              " ('mad', 'O'),\n",
              " ('cow', 'O'),\n",
              " ('disease', 'O'),\n",
              " ('can', 'O'),\n",
              " ('be', 'O'),\n",
              " ('transmitted', 'O'),\n",
              " ('to', 'O'),\n",
              " ('sheep', 'O'),\n",
              " ('.', 'O')]"
            ]
          },
          "metadata": {
            "tags": []
          },
          "execution_count": 6
        }
      ]
    },
    {
      "cell_type": "markdown",
      "metadata": {
        "id": "6-e6i6Sq90AN"
      },
      "source": [
        "Here, we can see now that it is necessary to distinguish the NER label type of tokens that extend (`'I'`-type) versus begin (`B`-type) entities, and likewise, labels that distinguish the semantic category, e.g., organization (`'ORG'`) vs. person (`'PER'`) of the entities.\n",
        "\n",
        "There are other features we might consider and which are explained to some extent in the [CoNLL2003 Documentation page](https://huggingface.co/datasets/conll2003) on the HuggingFace Dataset Hub. These are: \n",
        "\n",
        "* `id`: a string feature.\n",
        "* `tokens`: a list of string features.\n",
        "* `pos_tags`: a list of classification labels, with possible values including \" (0), '' (1), # (2), $ (3), ( (4).\n",
        "* `chunk_tags`: a list of classification labels, with possible values including O (0), B-ADJP (1), I-ADJP (2), B-ADVP (3), I-ADVP (4).\n",
        "* `ner_tags`: a list of classification labels, with possible values including O (0), B-PER (1), I-PER (2), B-ORG (3), I-ORG (4).\n",
        "\n",
        "But let's instead check out our full class distribution of the training portion to get a sense of the nature of this prediction problem as a multi-class classification problem:"
      ]
    },
    {
      "cell_type": "code",
      "metadata": {
        "colab": {
          "base_uri": "https://localhost:8080/"
        },
        "id": "ZSgWIlg9FWWY",
        "outputId": "94fd757f-7afd-415b-cee0-d1c4eadadad1"
      },
      "source": [
        "from collections import Counter \n",
        "\n",
        "Counter([cls for sample in ds['train'] for cls in sample['ner_tags']])"
      ],
      "execution_count": null,
      "outputs": [
        {
          "output_type": "execute_result",
          "data": {
            "text/plain": [
              "Counter({0: 169578,\n",
              "         1: 6600,\n",
              "         2: 4528,\n",
              "         3: 6321,\n",
              "         4: 3704,\n",
              "         5: 7140,\n",
              "         6: 1157,\n",
              "         7: 3438,\n",
              "         8: 1155})"
            ]
          },
          "metadata": {
            "tags": []
          },
          "execution_count": 7
        }
      ]
    },
    {
      "cell_type": "markdown",
      "metadata": {
        "id": "XfM0h6Ec8c2I"
      },
      "source": [
        "Here, we can see that while this is not a binary classification (2-class) task, there is an extreme class imbalance with the `0`-class (not part of an entity) dominating. Hence, when it comes to evaluation, positive prediction metrics like precision, recall, and $F_1$ will be essential to interpreting the capacities of our algorithms. However, macro-or-micro averaged positive prediction metrics will not be the objectives against which we evaluate/optimize, as they are not the smoothly-learnable for our categorical prediction tasks."
      ]
    },
    {
      "cell_type": "markdown",
      "metadata": {
        "id": "RjbCJmS8-FLw"
      },
      "source": [
        "### 2.1.2 Sequence labeling, in general\n",
        "While NER might be an extremely common form of _sequence labeling_ task, it is in fact just one for which we might abstract common architectural elements for DL applications. For example, part-of-speech (POS) tags are not, a priori, known, and therefore must be predicted if they are to be used by downstream tasks:"
      ]
    },
    {
      "cell_type": "code",
      "metadata": {
        "colab": {
          "base_uri": "https://localhost:8080/"
        },
        "id": "smL0dCNx_cOv",
        "outputId": "8f457a79-4453-423d-8d21-b1d3447d97cb"
      },
      "source": [
        "feature_names = ds['train'].features['pos_tags'].feature.names\n",
        "token_labels = [feature_names[i] for i in ds['train'][3]['pos_tags']]\n",
        "list(zip(ds['train'][3]['tokens'], token_labels))"
      ],
      "execution_count": null,
      "outputs": [
        {
          "output_type": "execute_result",
          "data": {
            "text/plain": [
              "[('The', 'DT'),\n",
              " ('European', 'NNP'),\n",
              " ('Commission', 'NNP'),\n",
              " ('said', 'VBD'),\n",
              " ('on', 'IN'),\n",
              " ('Thursday', 'NNP'),\n",
              " ('it', 'PRP'),\n",
              " ('disagreed', 'VBD'),\n",
              " ('with', 'IN'),\n",
              " ('German', 'JJ'),\n",
              " ('advice', 'NN'),\n",
              " ('to', 'TO'),\n",
              " ('consumers', 'NNS'),\n",
              " ('to', 'TO'),\n",
              " ('shun', 'VB'),\n",
              " ('British', 'JJ'),\n",
              " ('lamb', 'NN'),\n",
              " ('until', 'IN'),\n",
              " ('scientists', 'NNS'),\n",
              " ('determine', 'VBP'),\n",
              " ('whether', 'IN'),\n",
              " ('mad', 'JJ'),\n",
              " ('cow', 'NN'),\n",
              " ('disease', 'NN'),\n",
              " ('can', 'MD'),\n",
              " ('be', 'VB'),\n",
              " ('transmitted', 'VBN'),\n",
              " ('to', 'TO'),\n",
              " ('sheep', 'NN'),\n",
              " ('.', '.')]"
            ]
          },
          "metadata": {
            "tags": []
          },
          "execution_count": 8
        }
      ]
    },
    {
      "cell_type": "markdown",
      "metadata": {
        "id": "5inmWiLv_dsO"
      },
      "source": [
        "In this case, POS tagging entails choice from many more classes than our 9-class tags for entities did:"
      ]
    },
    {
      "cell_type": "code",
      "metadata": {
        "colab": {
          "base_uri": "https://localhost:8080/"
        },
        "id": "eUFEkqvq-XDb",
        "outputId": "a473cb9d-e89c-47a5-e2b4-02a41322450d"
      },
      "source": [
        "Counter([cls for sample in ds['train'] for cls in sample['pos_tags']])"
      ],
      "execution_count": null,
      "outputs": [
        {
          "output_type": "execute_result",
          "data": {
            "text/plain": [
              "Counter({0: 2178,\n",
              "         1: 35,\n",
              "         3: 427,\n",
              "         4: 2866,\n",
              "         5: 2866,\n",
              "         6: 7291,\n",
              "         7: 7389,\n",
              "         8: 2386,\n",
              "         10: 3653,\n",
              "         11: 19704,\n",
              "         12: 13453,\n",
              "         13: 136,\n",
              "         14: 166,\n",
              "         15: 19064,\n",
              "         16: 11831,\n",
              "         17: 382,\n",
              "         18: 254,\n",
              "         19: 13,\n",
              "         20: 1199,\n",
              "         21: 23899,\n",
              "         22: 34392,\n",
              "         23: 684,\n",
              "         24: 9903,\n",
              "         25: 4,\n",
              "         26: 33,\n",
              "         27: 1553,\n",
              "         28: 3163,\n",
              "         29: 1520,\n",
              "         30: 3975,\n",
              "         31: 163,\n",
              "         32: 35,\n",
              "         33: 528,\n",
              "         34: 439,\n",
              "         35: 3469,\n",
              "         36: 30,\n",
              "         37: 4252,\n",
              "         38: 8293,\n",
              "         39: 2585,\n",
              "         40: 4105,\n",
              "         41: 1436,\n",
              "         42: 2426,\n",
              "         43: 506,\n",
              "         44: 528,\n",
              "         45: 23,\n",
              "         46: 384})"
            ]
          },
          "metadata": {
            "tags": []
          },
          "execution_count": 9
        }
      ]
    },
    {
      "cell_type": "markdown",
      "metadata": {
        "id": "spEBoo9b_-eQ"
      },
      "source": [
        "However, as it turns out their prediction (POS tags) is in general a more resolved task (statistically, perhaps less challenging) than NER exhibiting higher performances, overall. This (POS tagging) is not unlike the case of other grammatical sequence-labeling tasks, but in general, to get a sense of how resolved a task is and in what _domains_, or, media contexts of text data we can consult the current state-of-the-art (SOTA) systems and rankings. One such ranking is currently is provided by Sebastian Ruder's NLP Progress repository on github: \n",
        "- https://github.com/sebastianruder/NLP-progress\n",
        "\n",
        "Here, it's worth noting that a few other tasks on the list tend to generalize or specify NER-like sequence labeling tasks in different contexts, for example semantic role labeling.\n",
        "\n"
      ]
    },
    {
      "cell_type": "markdown",
      "metadata": {
        "id": "VpzH6vUDY2SW"
      },
      "source": [
        "#### 2.1.2.1 Semantic Role Labeling (SRL)\n",
        "There are in general too many different types of specific sequence labeling tasks to explore in any one course, and to some degree it would miss the point to expect to learn about all of their idiosyncrasies. Instead, our goal should be to understand the complexities that can come along with approaching sequence-labeling tasks, and where, exactly sequence-labeling tasks _can_ fit in with other more coarse-grained NLP tasks. In this effort, our next exploration will be of _semantic role labeling_, where the goal is to identify token sequences&mdash;like named entities&mdash;that _answer_ specific, role-based questions about _entities_ the text, like who, what, when, where, and why? If it's not yet clear, this task clearly connects to NER by answering summary-level questions about sentences with specific points of justification for those answers.\n",
        "```\n",
        "|     UCD     |finished|the| 2006  |championship|as|Dublin|champions|,|\n",
        "|B-who1/B-who2|   Q1   | 0 |B-what1|  I-what1   |0 |B-as1 |  I-as1  |0|\n",
        " ---------------------------------------------------------------------\n",
        "|  by  | beating |       St       | Vincents  |in|  the  | final |.| \n",
        "|B-how1|Q2/I-how1|    B-whom2     |  I-whom2  |0 |B-when2|I-when2|0|\n",
        "```\n",
        "\n",
        "The excerpt, is taken from [dataset we'll explore](https://huggingface.co/datasets/qa_srl) is once again available from the `datasets` module, and the basis for its formation can be found in the [author's document](https://homes.cs.washington.edu/~lsz/papers/hlz-emnlp15.pdf):\n"
      ]
    },
    {
      "cell_type": "code",
      "metadata": {
        "colab": {
          "base_uri": "https://localhost:8080/",
          "height": 583,
          "referenced_widgets": [
            "e86b4cffb1d8414687b8166ad3799faf",
            "52164fd03ff1428fada400e36d75ebe7",
            "ad444e55271a4e399e1b204b4b37e773",
            "0df22fa127f7435580b8c76751d07957",
            "26dd121a6f114ef28aa8e986245f5588",
            "4998d9dd4a0e47de97e0a86aaab387b7",
            "50cc886ddcf8475c84de6ea90404c6fa",
            "9b0683ee6f4449e096ff3984450f2bd4",
            "4b3b1dc06c88477aac4888d6bd3fe8b8",
            "eeefd00eded64db289d99cfe46a82ccd",
            "7e4de6348c7544b0ab04b241d53b3d6e",
            "a2416e2790ba43ed8d6e54fa2f27b7a0",
            "08b0983da65b4cf686a8cf579d39d6d7",
            "20f8fad6130647b8966b9e41fe707928",
            "d3def25dd37c42bcbed4ed35dabc7ffa",
            "c4a8aa52ae4149598caa0db3e758dcf2",
            "b876f42732394d91b603ea9d6fd3aa23",
            "f27083449da74967be7d4ebf2d50d9e4",
            "9aede99e56b4453e9861f8703b8fda4a",
            "9804b7b5b6a64bf98f1cfe0b20c08791",
            "bb2da149265d4695b009b72ea5d51f67",
            "676cf350aa1044ae9cda37c005d22a64",
            "41bdfc7f2cbc4f4b8bfe965ea662fe1c",
            "08a0485042e34d6191ccfc2fe5aefa28",
            "780f220bec4f4ef592592c28df862835",
            "b39a6d1b07224b04856c3b4f31af4a91",
            "737d98b205704f2291a30c9f5d2d3b8c",
            "1808e1308dce4b0ca3fb0b353c2eb19b",
            "c7c2f198d5f840ac816be1afaa9eae2b",
            "63fd16c52d1c404eb81feba34c60066e",
            "daa2e92fa5a84baabc9764e3527451e7",
            "f2c9d18754a64fafae7c6ac52367e673",
            "1316a600a741451f85a76714bba89f6c",
            "aa5f59d2798844989df68a4ea9355c7b",
            "55ecd85e5881473ea94723dbec07ca47",
            "8562442ba7bf406198ab6ffc76b8bb67",
            "19ad46521c9a499aa089b203a225c60a",
            "5c1848b8202d4d63b7aba2f49db41aaa",
            "1e1ae29d46f047bbb4db0421ac67cf29",
            "e4d90a5012d144edaba8ab3a9fb84f58",
            "be87980b4cca4b2da1f4e9d239157d98",
            "68b94fb6eda245c984c6bef20f96eeaf",
            "6e6a18459cf74af7a36e9118606edc8a",
            "843d9d0bf66443e1a56097c53161f071",
            "597095f036e24d28b21d7869d62f131f",
            "9dadcbd3518b4c76826b518837ccc447",
            "8368b99be89b4ccbbc7cc51e6a7d3729",
            "68bd0ed6218445f1af1922c9778e22dd",
            "6e6f3b6315f54b34bca0637fa6b91e2a",
            "1554f13e9af7444d822d304de67e2cb7",
            "5b74bc816f254dd18729d171519d10c7",
            "64f07d24bd124936a9ffe33d55c0db10",
            "070985c91dad4049ad82ea68a01f1600",
            "d58af3ac8c6640ce846dd70fc2d442a0",
            "3dd457cd2b5d4df9ab4f121483462cfb",
            "c19ab6b795ef411baba573e4ced8c90f",
            "38c4207f4cf94848bc678f9ec194ec53",
            "41964bd20bdb494288c486a77e5bf07e",
            "89013219aa34482bbb7852f1f183edd7",
            "ddbda6b47aa84c3a87aed3c112d4a5df",
            "521c9cc0de464a559a4d3a3bf692fc28",
            "e84b8ac306db4f56a3f8db2a409423d4",
            "45d50fae4f0449e7ab772f5a41983ce2",
            "c1e16f7cd9964043b964b59cc1849970"
          ]
        },
        "id": "AdjY0IZpWkbZ",
        "outputId": "81f03581-6956-4e9f-f5d9-98a4348389f2"
      },
      "source": [
        "ds = datasets.load_dataset('qa_srl')\n",
        "ds"
      ],
      "execution_count": null,
      "outputs": [
        {
          "output_type": "display_data",
          "data": {
            "application/vnd.jupyter.widget-view+json": {
              "model_id": "e86b4cffb1d8414687b8166ad3799faf",
              "version_major": 2,
              "version_minor": 0
            },
            "text/plain": [
              "HBox(children=(FloatProgress(value=0.0, description='Downloading', max=2507.0, style=ProgressStyle(description…"
            ]
          },
          "metadata": {
            "tags": []
          }
        },
        {
          "output_type": "stream",
          "text": [
            "\n"
          ],
          "name": "stdout"
        },
        {
          "output_type": "display_data",
          "data": {
            "application/vnd.jupyter.widget-view+json": {
              "model_id": "4b3b1dc06c88477aac4888d6bd3fe8b8",
              "version_major": 2,
              "version_minor": 0
            },
            "text/plain": [
              "HBox(children=(FloatProgress(value=0.0, description='Downloading', max=1225.0, style=ProgressStyle(description…"
            ]
          },
          "metadata": {
            "tags": []
          }
        },
        {
          "output_type": "stream",
          "text": [
            "No config specified, defaulting to: qa_srl/plain_text\n"
          ],
          "name": "stderr"
        },
        {
          "output_type": "stream",
          "text": [
            "\n",
            "Downloading and preparing dataset qa_srl/plain_text (download: 1.04 MiB, generated: 2.96 MiB, post-processed: Unknown size, total: 4.00 MiB) to /root/.cache/huggingface/datasets/qa_srl/plain_text/1.0.0/9b4389fd382fb4e39c73274cb5948cdcbf1de7f467ba60e4578b6b18805d9a5c...\n"
          ],
          "name": "stdout"
        },
        {
          "output_type": "display_data",
          "data": {
            "application/vnd.jupyter.widget-view+json": {
              "model_id": "b876f42732394d91b603ea9d6fd3aa23",
              "version_major": 2,
              "version_minor": 0
            },
            "text/plain": [
              "HBox(children=(FloatProgress(value=0.0, description='Downloading', max=646763.0, style=ProgressStyle(descripti…"
            ]
          },
          "metadata": {
            "tags": []
          }
        },
        {
          "output_type": "stream",
          "text": [
            "\n"
          ],
          "name": "stdout"
        },
        {
          "output_type": "display_data",
          "data": {
            "application/vnd.jupyter.widget-view+json": {
              "model_id": "780f220bec4f4ef592592c28df862835",
              "version_major": 2,
              "version_minor": 0
            },
            "text/plain": [
              "HBox(children=(FloatProgress(value=0.0, description='Downloading', max=222666.0, style=ProgressStyle(descripti…"
            ]
          },
          "metadata": {
            "tags": []
          }
        },
        {
          "output_type": "stream",
          "text": [
            "\n"
          ],
          "name": "stdout"
        },
        {
          "output_type": "display_data",
          "data": {
            "application/vnd.jupyter.widget-view+json": {
              "model_id": "1316a600a741451f85a76714bba89f6c",
              "version_major": 2,
              "version_minor": 0
            },
            "text/plain": [
              "HBox(children=(FloatProgress(value=0.0, description='Downloading', max=218300.0, style=ProgressStyle(descripti…"
            ]
          },
          "metadata": {
            "tags": []
          }
        },
        {
          "output_type": "stream",
          "text": [
            "\n"
          ],
          "name": "stdout"
        },
        {
          "output_type": "display_data",
          "data": {
            "application/vnd.jupyter.widget-view+json": {
              "model_id": "be87980b4cca4b2da1f4e9d239157d98",
              "version_major": 2,
              "version_minor": 0
            },
            "text/plain": [
              "HBox(children=(FloatProgress(value=1.0, bar_style='info', max=1.0), HTML(value='')))"
            ]
          },
          "metadata": {
            "tags": []
          }
        },
        {
          "output_type": "stream",
          "text": [
            "\r"
          ],
          "name": "stdout"
        },
        {
          "output_type": "display_data",
          "data": {
            "application/vnd.jupyter.widget-view+json": {
              "model_id": "6e6f3b6315f54b34bca0637fa6b91e2a",
              "version_major": 2,
              "version_minor": 0
            },
            "text/plain": [
              "HBox(children=(FloatProgress(value=1.0, bar_style='info', max=1.0), HTML(value='')))"
            ]
          },
          "metadata": {
            "tags": []
          }
        },
        {
          "output_type": "stream",
          "text": [
            "\r"
          ],
          "name": "stdout"
        },
        {
          "output_type": "display_data",
          "data": {
            "application/vnd.jupyter.widget-view+json": {
              "model_id": "38c4207f4cf94848bc678f9ec194ec53",
              "version_major": 2,
              "version_minor": 0
            },
            "text/plain": [
              "HBox(children=(FloatProgress(value=1.0, bar_style='info', max=1.0), HTML(value='')))"
            ]
          },
          "metadata": {
            "tags": []
          }
        },
        {
          "output_type": "stream",
          "text": [
            "Dataset qa_srl downloaded and prepared to /root/.cache/huggingface/datasets/qa_srl/plain_text/1.0.0/9b4389fd382fb4e39c73274cb5948cdcbf1de7f467ba60e4578b6b18805d9a5c. Subsequent calls will reuse this data.\n"
          ],
          "name": "stdout"
        },
        {
          "output_type": "execute_result",
          "data": {
            "text/plain": [
              "DatasetDict({\n",
              "    train: Dataset({\n",
              "        features: ['sentence', 'sent_id', 'predicate_idx', 'predicate', 'question', 'answers'],\n",
              "        num_rows: 6414\n",
              "    })\n",
              "    validation: Dataset({\n",
              "        features: ['sentence', 'sent_id', 'predicate_idx', 'predicate', 'question', 'answers'],\n",
              "        num_rows: 2183\n",
              "    })\n",
              "    test: Dataset({\n",
              "        features: ['sentence', 'sent_id', 'predicate_idx', 'predicate', 'question', 'answers'],\n",
              "        num_rows: 2201\n",
              "    })\n",
              "})"
            ]
          },
          "metadata": {
            "tags": []
          },
          "execution_count": 10
        }
      ]
    },
    {
      "cell_type": "markdown",
      "metadata": {
        "id": "9oPYuWrWkkXd"
      },
      "source": [
        "Looking again at a single instance:"
      ]
    },
    {
      "cell_type": "code",
      "metadata": {
        "colab": {
          "base_uri": "https://localhost:8080/"
        },
        "id": "2NsYtWx8WqAD",
        "outputId": "68d83866-56b0-4214-ab17-7f065c5f16da"
      },
      "source": [
        "ds['train'][25]"
      ],
      "execution_count": null,
      "outputs": [
        {
          "output_type": "execute_result",
          "data": {
            "text/plain": [
              "{'answers': ['Larger geographical areas , called Territories',\n",
              "  'Larger geographical areas',\n",
              "  'Territories'],\n",
              " 'predicate': 'led',\n",
              " 'predicate_idx': 8,\n",
              " 'question': ['what', 'is', '_', 'led', '_', '_', '_', '?'],\n",
              " 'sent_id': 'WIKI1_7',\n",
              " 'sentence': 'Larger geographical areas , called Territories , are led by a Territorial Commander , who is the highest-ranking officer in that Territory .'}"
            ]
          },
          "metadata": {
            "tags": []
          },
          "execution_count": 11
        }
      ]
    },
    {
      "cell_type": "markdown",
      "metadata": {
        "id": "XwmOoVWxkm-n"
      },
      "source": [
        "it should become clear that we've presented the concept in a slightly different way than we'll encounter here in data. This is not uncommon, as different data set will be produced for somewhat different reasons, i.e., even specifying NER as SRL doesn't entail the exact nature of the task&mdash;one must always review the data. \n",
        "\n",
        "So, going deeper, a question is predicated by a verbs in each instance. Our goal, then, is to find&mdash;potentially many overlapping&mdash;answers for one single question at a given time. Likewise, the answers to different questions can overlap, meaning tokens might be extracted as sequences to be labeled multiple times. Note as well, each question is organized as a 7-token sequence in annotation&mdash;something we'd have to expect to produce to inform out pipeline, along with the detection of predicates.\n",
        "\n",
        "As for processing, we'll have to enforce a space tokenization on the sentences to recover sequences. To put a single instance into a BIO-like format aking to NER, we can do the following:"
      ]
    },
    {
      "cell_type": "code",
      "metadata": {
        "id": "ryDTjLC2o5YU"
      },
      "source": [
        "def annotate_instance(instance):\n",
        "    tokens = instance['sentence'].split(' ')\n",
        "    for answer in instance['answers']:\n",
        "        token_labels = [\"O\"]*len(tokens)\n",
        "        token_labels[instance['predicate_idx']] = \"Q\"\n",
        "        answer_tokens = answer.split(' ')\n",
        "        answer_labels = [\"I-\"+instance['question'][0] \n",
        "                        for i in range(len(answer_tokens))]\n",
        "        answer_labels[0] = \"B\"+answer_labels[0][1:] \n",
        "        idx = [tokens.index(token) if token in tokens else -1 for token in answer_tokens]\n",
        "        if -1 in idx: \n",
        "          continue\n",
        "        prev_idx = 0\n",
        "        for i, token in enumerate(answer_tokens):\n",
        "            if idx[i] - prev_idx > 1 and prev_idx:\n",
        "                break\n",
        "        else:\n",
        "            for i, ix in enumerate(idx):\n",
        "                token_labels[ix] = answer_labels[i]\n",
        "\n",
        "            yield tokens, token_labels"
      ],
      "execution_count": null,
      "outputs": []
    },
    {
      "cell_type": "code",
      "metadata": {
        "colab": {
          "base_uri": "https://localhost:8080/"
        },
        "id": "VeV-xHbbu2WW",
        "outputId": "12f6a714-7e48-4366-96ec-8910738228fb"
      },
      "source": [
        "instance = ds['train'][25]\n",
        "tokens, token_labels = list(annotate_instance(instance))[0]\n",
        "list(zip(tokens, token_labels))"
      ],
      "execution_count": null,
      "outputs": [
        {
          "output_type": "execute_result",
          "data": {
            "text/plain": [
              "[('Larger', 'B-what'),\n",
              " ('geographical', 'I-what'),\n",
              " ('areas', 'I-what'),\n",
              " (',', 'I-what'),\n",
              " ('called', 'I-what'),\n",
              " ('Territories', 'I-what'),\n",
              " (',', 'O'),\n",
              " ('are', 'O'),\n",
              " ('led', 'Q'),\n",
              " ('by', 'O'),\n",
              " ('a', 'O'),\n",
              " ('Territorial', 'O'),\n",
              " ('Commander', 'O'),\n",
              " (',', 'O'),\n",
              " ('who', 'O'),\n",
              " ('is', 'O'),\n",
              " ('the', 'O'),\n",
              " ('highest-ranking', 'O'),\n",
              " ('officer', 'O'),\n",
              " ('in', 'O'),\n",
              " ('that', 'O'),\n",
              " ('Territory', 'O'),\n",
              " ('.', 'O')]"
            ]
          },
          "metadata": {
            "tags": []
          },
          "execution_count": 13
        }
      ]
    },
    {
      "cell_type": "markdown",
      "metadata": {
        "id": "Usgv2bVlvKVy"
      },
      "source": [
        "This then allows us (roughly) to see the class distribution, i.e., the number of points of positive prediction:"
      ]
    },
    {
      "cell_type": "code",
      "metadata": {
        "colab": {
          "base_uri": "https://localhost:8080/"
        },
        "id": "MEXG0ESnxJVw",
        "outputId": "aab73bab-9887-451d-e13c-9a867ad86112"
      },
      "source": [
        "Counter([label for instance in ds['train'] \n",
        "         for annotation in annotate_instance(instance) \n",
        "         for label in annotation[1]])"
      ],
      "execution_count": null,
      "outputs": [
        {
          "output_type": "execute_result",
          "data": {
            "text/plain": [
              "Counter({'B-how': 290,\n",
              "         'B-how much': 61,\n",
              "         'B-what': 3600,\n",
              "         'B-when': 686,\n",
              "         'B-where': 527,\n",
              "         'B-who': 1842,\n",
              "         'B-why': 208,\n",
              "         'I-how': 1352,\n",
              "         'I-how much': 117,\n",
              "         'I-what': 17281,\n",
              "         'I-when': 2089,\n",
              "         'I-where': 2147,\n",
              "         'I-who': 2747,\n",
              "         'I-why': 1545,\n",
              "         'O': 165844,\n",
              "         'Q': 7483})"
            ]
          },
          "metadata": {
            "tags": []
          },
          "execution_count": 14
        }
      ]
    },
    {
      "cell_type": "markdown",
      "metadata": {
        "id": "lrXOUA1FzQ_T"
      },
      "source": [
        "Note, that having a complex _data loader_ like this is often necessary for completion of a given application, particularly if the goal is to re-apply an existing system architecture. For example, in this case we might like to re-purpose an NER system to recognize NEs, in the context of `'Q'` predicates. One would need to have a way of converting training instances like this into, e.g., some standard input&mdash;BIO&mdash;format."
      ]
    },
    {
      "cell_type": "markdown",
      "metadata": {
        "id": "9QeaDhZkUk76"
      },
      "source": [
        "### 2.1.3 Co-reference resolution\n",
        "Moving away from thinking so much about sequence labeling and NER, while a semantic role labeling system that can predict the above might be very useful, one limitation a downstream application that uses it might face is the fact that multiple multiple answers might exist for a question, but that they might not _all_ be the same answer, in meaning. In this limited scenario and the above data, we might be asking if `'Larger geographical areas'` and `'Territories'` are entities which reference the same concept, or, are _co-references_. For a more detailed view, the example provided by Ruder is helpful:\n",
        "\n",
        "```\n",
        "              +-----------+\n",
        "              |           |\n",
        "I voted for Obama because he was most aligned with my values\", she said.\n",
        "|                                                  |            |\n",
        "+--------------------------------------------------+------------+\n",
        "```\n",
        "\n",
        "Here, models are most often trained using the data from the CoNLL-2012 shared task, which uses OntoNotes coreference annotations, distributed by the Lingustic Data Consortium (LDC). You can access trial data freely via the [CoNLL page](https://cemantix.org/conll/2012/data.html), which provides pointers for retrieving the full data (via liscence) from the LDC, however, the [huggingface's github](https://github.com/huggingface/neuralcoref/blob/master/neuralcoref/train/training.md) provides some more helpful information on how to preprocess the data set. If we wish to think about the number of positive predictions which exist in a data set, the dependence then becomes on how many references (entites) exist as annotated in a document, and then evaluate the sameness of pairs of them. This makes for a number of challenges in combinatorality and enumeration, but reduces the problem to the evaluation of binary (two class) prediction.\n",
        "\n",
        "However, to discuss the task and its use more generally, co-references are objects whose resoltion are often sought are larger scales, e.g., between sentences in a given document, or across posts on a social media network. Some readily available data from within the `datasets` module could clearly utilize co-reference resolution as a part of its task, which we do discuss more closely, next.\n",
        "\n",
        "##### 2.1.3.1 Example Use in Other Tasks: Conversational Disentanglement\n",
        "Another complex, downstream task that could utilize more basic tasks (such as NER/SRL) that we'll review next is referred to as conversational disentanglement, where the goal is to figure out which messages are in reference to which others. The data can be [found here](https://huggingface.co/datasets/irc_disentangle) and is [documented by its authors here](https://www.aclweb.org/anthology/P19-1374.pdf). "
      ]
    },
    {
      "cell_type": "code",
      "metadata": {
        "colab": {
          "base_uri": "https://localhost:8080/",
          "height": 484,
          "referenced_widgets": [
            "c33415565f3849bc8936e2541a45e9c5",
            "fd15d492a0b84b14be73d48a0f50cf53",
            "2b81bf1e7c934a07a9b10745c3da8060",
            "878f48616c0b4115b0a81e2397eb3824",
            "9d949c67d0fc4c30a4439b4b0454eca9",
            "1317434055e54da88857b6061b5c8433",
            "1945524a59c1455bb99a367e4246d79d",
            "5c120aa2b89f408e9fe4466a874328a9",
            "72f07f4eeea24096914fbf1116fb0144",
            "996c30bb904a4b8baa9e8e13fe2c48e4",
            "0f75bf96778743e8a0bad939feb98263",
            "349d74dfdf1c48dea34548887a89ae13",
            "1c588f4adb36496894a264d0542e77ad",
            "820dd9114c444f63837cdbf761b46a96",
            "fbf221e63a8c48deaaf184d88bc7e79d",
            "49c339a3dc264d00add41f52374dc36e",
            "6c6d37643d214678a241a25e8c1001c5",
            "57afd87906624e8c9a9799ae582adbee",
            "c73512b303f44e62bb8be0807dc657a7",
            "ac8f42498ae64859994971f8fbd56980",
            "f70e7285097c49cfb2f42bec21837dfd",
            "af1b24ef6e3e41d0a285478fe3058c37",
            "28032dcec27e4c68a8a9facf3a124587",
            "f82fa3f40cae495e9b6bb4747758615e",
            "fae38478fe624d84a10ec14bf0bf893c",
            "e5105183ad554a17945e7d209a2397fd",
            "beb21082eadb4f8fa2af5df727da2684",
            "8bd77f3a5ae147e497a413c8b7595512",
            "0b8a391cf7854feab4395c588897bc2b",
            "00f4ad51826447f889cf919ab58445a6",
            "4a281c6bc4494a02a98aad666ab7d9f5",
            "9d8e7740b2a04b3da2c3544110ae9194",
            "8741efd90b814643859ceb428736ec1c",
            "04bf2754e8104cd490052fd452ed32e7",
            "1c9522e0496346e7b5679ebc7e337d33",
            "49dab948169c47dbbc57cfaa4c1d4773",
            "fba136f493834930b6135c47571f9960",
            "3ce2039307774b70bfd21795ec54787a",
            "87dc610af5b947289c0e4a0f815b0d27",
            "05bcf8101f76498abaf27844173fa465",
            "3b7189b079e649c8855f76563b8b2c89",
            "dcbc342ae34b43e9aa75f017c2c20932",
            "5c12e6ecdaab4e249bd83dfdf5183ea0",
            "31e057a01cec458bbf5b3ad6de43e1d0",
            "6f27c3bac3784cb29bc1005d05c13211",
            "c77776fd1e694a79b8e62172ffc00299",
            "74ef268cf6d64f64afb00e4a8f372614",
            "6ebf12d3cc62487c9c8a45a623efa14e"
          ]
        },
        "id": "Io4LoEZJWPs9",
        "outputId": "5634c917-ed9f-4ae7-c17f-20ce2ed77702"
      },
      "source": [
        "ds = datasets.load_dataset('irc_disentangle')\n",
        "ds"
      ],
      "execution_count": null,
      "outputs": [
        {
          "output_type": "display_data",
          "data": {
            "application/vnd.jupyter.widget-view+json": {
              "model_id": "c33415565f3849bc8936e2541a45e9c5",
              "version_major": 2,
              "version_minor": 0
            },
            "text/plain": [
              "HBox(children=(FloatProgress(value=0.0, description='Downloading', max=2983.0, style=ProgressStyle(description…"
            ]
          },
          "metadata": {
            "tags": []
          }
        },
        {
          "output_type": "stream",
          "text": [
            "\n"
          ],
          "name": "stdout"
        },
        {
          "output_type": "display_data",
          "data": {
            "application/vnd.jupyter.widget-view+json": {
              "model_id": "72f07f4eeea24096914fbf1116fb0144",
              "version_major": 2,
              "version_minor": 0
            },
            "text/plain": [
              "HBox(children=(FloatProgress(value=0.0, description='Downloading', max=1385.0, style=ProgressStyle(description…"
            ]
          },
          "metadata": {
            "tags": []
          }
        },
        {
          "output_type": "stream",
          "text": [
            "No config specified, defaulting to: irc_disentangle/ubuntu\n"
          ],
          "name": "stderr"
        },
        {
          "output_type": "stream",
          "text": [
            "\n",
            "Downloading and preparing dataset irc_disentangle/ubuntu (download: 112.98 MiB, generated: 60.05 MiB, post-processed: Unknown size, total: 173.03 MiB) to /root/.cache/huggingface/datasets/irc_disentangle/ubuntu/1.0.0/049f50905c15dc7ef340726189dd2a20387507291fb132e17679c558b752628f...\n"
          ],
          "name": "stdout"
        },
        {
          "output_type": "display_data",
          "data": {
            "application/vnd.jupyter.widget-view+json": {
              "model_id": "6c6d37643d214678a241a25e8c1001c5",
              "version_major": 2,
              "version_minor": 0
            },
            "text/plain": [
              "HBox(children=(FloatProgress(value=1.0, bar_style='info', description='Downloading', max=1.0, style=ProgressSt…"
            ]
          },
          "metadata": {
            "tags": []
          }
        },
        {
          "output_type": "stream",
          "text": [
            "\n"
          ],
          "name": "stdout"
        },
        {
          "output_type": "display_data",
          "data": {
            "application/vnd.jupyter.widget-view+json": {
              "model_id": "fae38478fe624d84a10ec14bf0bf893c",
              "version_major": 2,
              "version_minor": 0
            },
            "text/plain": [
              "HBox(children=(FloatProgress(value=1.0, bar_style='info', max=1.0), HTML(value='')))"
            ]
          },
          "metadata": {
            "tags": []
          }
        },
        {
          "output_type": "stream",
          "text": [
            "\r"
          ],
          "name": "stdout"
        },
        {
          "output_type": "display_data",
          "data": {
            "application/vnd.jupyter.widget-view+json": {
              "model_id": "8741efd90b814643859ceb428736ec1c",
              "version_major": 2,
              "version_minor": 0
            },
            "text/plain": [
              "HBox(children=(FloatProgress(value=1.0, bar_style='info', max=1.0), HTML(value='')))"
            ]
          },
          "metadata": {
            "tags": []
          }
        },
        {
          "output_type": "stream",
          "text": [
            "\r"
          ],
          "name": "stdout"
        },
        {
          "output_type": "display_data",
          "data": {
            "application/vnd.jupyter.widget-view+json": {
              "model_id": "3b7189b079e649c8855f76563b8b2c89",
              "version_major": 2,
              "version_minor": 0
            },
            "text/plain": [
              "HBox(children=(FloatProgress(value=1.0, bar_style='info', max=1.0), HTML(value='')))"
            ]
          },
          "metadata": {
            "tags": []
          }
        },
        {
          "output_type": "stream",
          "text": [
            "Dataset irc_disentangle downloaded and prepared to /root/.cache/huggingface/datasets/irc_disentangle/ubuntu/1.0.0/049f50905c15dc7ef340726189dd2a20387507291fb132e17679c558b752628f. Subsequent calls will reuse this data.\n"
          ],
          "name": "stdout"
        },
        {
          "output_type": "execute_result",
          "data": {
            "text/plain": [
              "DatasetDict({\n",
              "    train: Dataset({\n",
              "        features: ['id', 'raw', 'ascii', 'tokenized', 'date', 'connections'],\n",
              "        num_rows: 220616\n",
              "    })\n",
              "    test: Dataset({\n",
              "        features: ['id', 'raw', 'ascii', 'tokenized', 'date', 'connections'],\n",
              "        num_rows: 15010\n",
              "    })\n",
              "    validation: Dataset({\n",
              "        features: ['id', 'raw', 'ascii', 'tokenized', 'date', 'connections'],\n",
              "        num_rows: 12510\n",
              "    })\n",
              "})"
            ]
          },
          "metadata": {
            "tags": []
          },
          "execution_count": 15
        }
      ]
    },
    {
      "cell_type": "markdown",
      "metadata": {
        "id": "6zPzlrWZEKZ2"
      },
      "source": [
        "Here's an example within the data where two _posts_ must have connection drawn:"
      ]
    },
    {
      "cell_type": "code",
      "metadata": {
        "colab": {
          "base_uri": "https://localhost:8080/"
        },
        "id": "I4x6K8cjWq3a",
        "outputId": "dff06b8f-81a1-4921-b5ec-6ef2f0e38620"
      },
      "source": [
        "ds['train'][1050], ds['train'][1055]"
      ],
      "execution_count": null,
      "outputs": [
        {
          "output_type": "execute_result",
          "data": {
            "text/plain": [
              "({'ascii': \"[03:57] <Xophe> (also, I'm guessing that this isn't a good place to report minor but annoying bugs... what is?)\",\n",
              "  'connections': [1048, 1054, 1055, 1072, 1073],\n",
              "  'date': '2004-12-25',\n",
              "  'id': 1050,\n",
              "  'raw': \"[03:57] <Xophe> (also, I'm guessing that this isn't a good place to report minor but annoying bugs... what is?)\",\n",
              "  'tokenized': \"<s> ( also , i 'm guessing that this is n't a good place to report minor but annoying bugs ... what is ?) </s>\"},\n",
              " {'ascii': '[03:59] <superted> Xophe: allthough the bug might be minor, it can bring down the user experience',\n",
              "  'connections': [1050, 1059, 1060],\n",
              "  'date': '2004-12-25',\n",
              "  'id': 1055,\n",
              "  'raw': '[03:59] <superted> Xophe: allthough the bug might be minor, it can bring down the user experience',\n",
              "  'tokenized': '<s> <user> : allthough the bug might be minor , it can bring down the user experience </s>'})"
            ]
          },
          "metadata": {
            "tags": []
          },
          "execution_count": 16
        }
      ]
    },
    {
      "cell_type": "markdown",
      "metadata": {
        "id": "ZCVNuT-RCUDU"
      },
      "source": [
        "The essential component we must predict is within the `'connections'` field, where we are required to identify which other messages (by index) are referred to by a given post. So perhaps in the example we find the entity:\n",
        "```\n",
        "[03:57] <Xophe> (also, I'm guessing that this isn't a good place to report minor but annoying bugs... what is?)\n",
        "           |                              |                                                    |\n",
        "           +                              +                                                    +\n",
        "          PER                            ORG                                                  MISC\n",
        "```"
      ]
    },
    {
      "cell_type": "markdown",
      "metadata": {
        "id": "QFq8pAuAEElW"
      },
      "source": [
        "if we can _link_ the `'MISC'` and`'PER'` entities well to those in another:\n",
        "```\n",
        "[03:59] <superted> Xophe: allthough the bug might be minor, it can bring down the user experience\n",
        "            |        |                   | \n",
        "            +        +                   + \n",
        "           PER      PER                 MISC\n",
        "```"
      ]
    },
    {
      "cell_type": "markdown",
      "metadata": {
        "id": "E8iXpjAYFJhJ"
      },
      "source": [
        "Then we will have formed a connection between the two posts. Once again, our evaluation can be framed as a binary classification problem (with respect to disentanglement), once again on pairs of the unit of analysis&mdash;this time, _posts_. However, the named entities and co-references we resolve (at some previously-determined accuracy) will ultimately be what we use as intermediate features for the disentanglement task. At this point, we should reflect that this scenario is essentially no different than using _predictions_ of POS tags as intermediate features used to perform NER."
      ]
    },
    {
      "cell_type": "markdown",
      "metadata": {
        "id": "qYk09X97WD4p"
      },
      "source": [
        "#### 2.1.3.2 Task data, metadata, features?\n",
        "What should become clear at this point is that there's an especially fine line between task data (dependent) and the 'text' source of our predictions. \n",
        "\n",
        "You might notice in the disentanglement data that a lot of the 'text' is actually metadata&mdash;time stamps, and perhaps reply pointers&mdash;that's been machine-serialized into the text representation. Upon inspection, you might then wonder if these two non-text features are extractable via a rule algorithm, i.e., regular expressions? If so, our sytems could benefit greatly from, e.g., never predicting a 'reply' towards a post in the future, or, to the wrong individual. So here, it might be essential to build out some intensive preprocessing for the features.\n",
        "\n",
        "To start on the routing information, it's essential to know who all exists in the conversation, so first, we might collect all identifyable user `sources` of posts. Note how we can use the timestamp as an anchor for user names in targeted posts:"
      ]
    },
    {
      "cell_type": "code",
      "metadata": {
        "id": "chQBJkl6XtiY"
      },
      "source": [
        "import re\n",
        "sources = Counter()\n",
        "for ky in ['test', 'validation', 'train']:\n",
        "    for i, post in enumerate(ds[ky]):\n",
        "        time_source = re.search(\"\\[(\\d\\d:\\d\\d)\\] <([^>]+)>\", post['raw'])\n",
        "        if time_source:\n",
        "            time, source = time_source.groups()\n",
        "            sources[source] += 1"
      ],
      "execution_count": null,
      "outputs": []
    },
    {
      "cell_type": "markdown",
      "metadata": {
        "id": "d7VgmSc3YYvf"
      },
      "source": [
        "Now that we know who's posting, we stand a chance at matching their names with who they're replying to (`targets`). Likewise, since this is a dataset of post-post relational (network) connections, it will become fast/convient to store the posts by id (`mapped_data`, below). While we're at it, we can match the regular timestamp structure and dateparse in conjunction with the pre-existing `'date'` field. Note here the lack of precision that exists in completing this task via a rule-based approach&mdash;inspecting samples of the data, it becomes clear that some `targets` are being referenced differently, even though the source names are machine produced. This mean's the `target` field will have non-trivial veracity as a metadata feature and might ultimately be best left as a component of the unstructured `'text'` feature.\n",
        "\n",
        "On the other side of this problem, note that the pre-processing code below relies on the order in which the data is presented to infer timestamps. Some posts clearly don't have them (like user sign ins/outs) and there may be other 'types' of posts&mdash;like announcements from moderators&mdash;which don't conform to the basic format given to conversational posts. Hence, to ensure a _reasonable_ timestamp exists (technically, this is imputation) for _every_ post, we can accept the rolling order of the data set and assign the most-recently observed time stamp to any post without one."
      ]
    },
    {
      "cell_type": "code",
      "metadata": {
        "colab": {
          "base_uri": "https://localhost:8080/"
        },
        "id": "9mQ5v6PXZHoO",
        "outputId": "07efcdd4-7547-420f-adc7-b28c0b157a30"
      },
      "source": [
        "from datetime import datetime as dt\n",
        "post_data = {}\n",
        "for ky in ['test', 'validation', 'train']:\n",
        "    post_data[ky] = dict()\n",
        "    time = \"00:00\"\n",
        "    for i, post in enumerate(ds[ky]):        \n",
        "        source_target = re.search(\"\\[(\\d\\d:\\d\\d)\\] <([^>]+)> ([^ :,]+)\", post['raw'])\n",
        "        source_only = re.search(\"\\[(\\d\\d:\\d\\d)\\] <([^>]+)>\", post['raw'])\n",
        "        target = \"\"\n",
        "        source = \"\"\n",
        "        if source_target:\n",
        "            time, source, target = source_target.groups()\n",
        "            if target not in sources:\n",
        "                target = \"\"\n",
        "        elif source_only:\n",
        "            time, source = source_only.groups()\n",
        "\n",
        "        post_data[ky][post['id']] = post\n",
        "        post_data[ky][post['id']]['time'] = time\n",
        "        post_data[ky][post['id']]['source'] = source\n",
        "        post_data[ky][post['id']]['target'] = target\n",
        "        post_data[ky][post['id']]['dateparsed'] = dt.strptime((post_data[ky][post['id']]['date'] + \" \" + \n",
        "                                                               post_data[ky][post['id']]['time']), \n",
        "                                                               \"%Y-%m-%d %H:%M\")\n",
        "        if not i % 10000:\n",
        "            print(\"finished pre-processing \", 100*i/len(ds[ky]), \n",
        "                  \"% of the time and routing information\")"
      ],
      "execution_count": null,
      "outputs": [
        {
          "output_type": "stream",
          "text": [
            "finished pre-processing  0.0 % of the time and routing information\n",
            "finished pre-processing  66.62225183211193 % of the time and routing information\n",
            "finished pre-processing  0.0 % of the time and routing information\n",
            "finished pre-processing  79.93605115907275 % of the time and routing information\n",
            "finished pre-processing  0.0 % of the time and routing information\n",
            "finished pre-processing  4.5327628095877 % of the time and routing information\n",
            "finished pre-processing  9.0655256191754 % of the time and routing information\n",
            "finished pre-processing  13.5982884287631 % of the time and routing information\n",
            "finished pre-processing  18.1310512383508 % of the time and routing information\n",
            "finished pre-processing  22.663814047938498 % of the time and routing information\n",
            "finished pre-processing  27.1965768575262 % of the time and routing information\n",
            "finished pre-processing  31.729339667113898 % of the time and routing information\n",
            "finished pre-processing  36.2621024767016 % of the time and routing information\n",
            "finished pre-processing  40.7948652862893 % of the time and routing information\n",
            "finished pre-processing  45.327628095876996 % of the time and routing information\n",
            "finished pre-processing  49.8603909054647 % of the time and routing information\n",
            "finished pre-processing  54.3931537150524 % of the time and routing information\n",
            "finished pre-processing  58.9259165246401 % of the time and routing information\n",
            "finished pre-processing  63.458679334227796 % of the time and routing information\n",
            "finished pre-processing  67.9914421438155 % of the time and routing information\n",
            "finished pre-processing  72.5242049534032 % of the time and routing information\n",
            "finished pre-processing  77.0569677629909 % of the time and routing information\n",
            "finished pre-processing  81.5897305725786 % of the time and routing information\n",
            "finished pre-processing  86.1224933821663 % of the time and routing information\n",
            "finished pre-processing  90.65525619175399 % of the time and routing information\n",
            "finished pre-processing  95.1880190013417 % of the time and routing information\n",
            "finished pre-processing  99.7207818109294 % of the time and routing information\n"
          ],
          "name": "stdout"
        }
      ]
    },
    {
      "cell_type": "markdown",
      "metadata": {
        "id": "AA4cj96feREG"
      },
      "source": [
        "#### 2.1.3.3 Building implied task data\n",
        "So far, we've discussed how the disentanglement task here is in fact a binary prediction task on pairs of post ids. Considering this, we should ask:\n",
        "> how do we store/sample _pairs_ of posts to binary predict on them for a connection?\n",
        "\n",
        "Unfortunately, there are problems with treating the 'all pairs' data set as our data, in particular because of the combinatorality of the space. Instead, we should is:\n",
        "> when a human interprets a conversational thread, which pairs of posts do they compare for connection?\n",
        "\n",
        "For example, we might assume a clever human reasonably assumes that it's not 'worth it' to compare posts made several years apart&mdash;this is just one reason why the parsed time stamps are so important! Likewise, we might assume that a human annotator will only consider target posts that are authored by a source's mentioned user handle. What we're _doing_ is defining a range of resonable posts to _contrast_ our known 'true' connections against. This is the essence of what's referred to as _noise contrastive estimation_, which we'll study in more depth when we get to __Chapter 3__. To start along these lines, let's collect another object which tracks all positive 'samples' of pairs:"
      ]
    },
    {
      "cell_type": "code",
      "metadata": {
        "colab": {
          "base_uri": "https://localhost:8080/"
        },
        "id": "lS_b4aB7gfi3",
        "outputId": "41ef0a0b-33e4-48ac-95a2-7b7c10e2c94e"
      },
      "source": [
        "y = {}\n",
        "for ky in ['test', 'validation', 'train']:\n",
        "    y[ky] = dict()\n",
        "    for post in ds[ky]:\n",
        "        for connection in post['connections']:\n",
        "            p1 = post_data[ky][post['id']]\n",
        "            p2 = post_data[ky][connection]\n",
        "            if ((p1['dateparsed'] - p2['dateparsed']).total_seconds() > 0):\n",
        "                target = p2\n",
        "                source = p1\n",
        "            else:\n",
        "                source = p2\n",
        "                target = p1\n",
        "            if post['id'] != connection:\n",
        "                pair = tuple([source['id'], target['id']])\n",
        "                y[ky][pair] = 1\n",
        "print(\"there were \", sum(map(len, [y[ky] for ky in ['test', 'validation', 'train']])), \n",
        "      \" positive connections across all folds\")"
      ],
      "execution_count": null,
      "outputs": [
        {
          "output_type": "stream",
          "text": [
            "there were  88900  positive connections across all folds\n"
          ],
          "name": "stdout"
        }
      ]
    },
    {
      "cell_type": "markdown",
      "metadata": {
        "id": "rrg6uW4qgyoj"
      },
      "source": [
        "Note now in the above, that we were able to use the imputed timestamps to work around potentially malformed data&mdash;looking closely, one can see that the data set (inconsistently) mixes which post, i.e., the source vs target, receives the 'gold' connection index in the original format. Here, we're able to assert which _must_ be the source vs. target since we know _when_ they ocurred.\n",
        "\n",
        "Now that we know what the positives look like in the data set, we have enough information perhaps to construct the negatives. As it turns out, there are _a lot_ of viable negatives that exist by making simple assumption like: `targets` must be from the past of their `sources`. So a simply exploratory question worth asking might be:\n",
        "> how many positive annotations exist outside of a given time horizon?\n",
        "\n",
        "Provided most connections exist over a short range of time, e.g., within 10 minutes, one might reasonably constrain the size of the negative sample drastically, while only a losing marginal capacity for recall. Along these lines, let's see what percentage of connections fall within 10 minutes of each other&mdash;again, this requires having munged the time stamps:"
      ]
    },
    {
      "cell_type": "code",
      "metadata": {
        "colab": {
          "base_uri": "https://localhost:8080/"
        },
        "id": "bnl71xHzi0t1",
        "outputId": "bcc2dc3b-f190-4b16-b222-c169f49e152f"
      },
      "source": [
        "## let's see what the largest time delta is amongst the 1's \n",
        "largest_delta = 0\n",
        "threshold = 600\n",
        "above_threshold = 0\n",
        "total_pairs = 0\n",
        "for ky in ['test', 'validation', 'train']:\n",
        "    for pair in y[ky]:\n",
        "        source = post_data[ky][pair[0]]\n",
        "        target = post_data[ky][pair[1]]\n",
        "        delta = (source['dateparsed'] - target['dateparsed']).total_seconds()\n",
        "        total_pairs += 1\n",
        "        if delta > threshold:\n",
        "            above_threshold += 1\n",
        "        if delta > largest_delta:\n",
        "            largest_delta = delta\n",
        "        if delta < 0:\n",
        "            print(ky, delta, pair[0], pair[1])\n",
        "\n",
        "print(\"there were \", above_threshold, \" positive connections above the threshold of \", \n",
        "      threshold, \" seconds apart in id/index\")\n",
        "print(\"the largest 'true' delta was: \", largest_delta)\n",
        "print(\"this threshold allows us to recover: \", \n",
        "      100*(1 - above_threshold/sum(map(len, [y[ky] for ky in ['test', 'validation', 'train']]))), \n",
        "      \" of the positives\")"
      ],
      "execution_count": null,
      "outputs": [
        {
          "output_type": "stream",
          "text": [
            "there were  834  positive connections above the threshold of  600  seconds apart in id/index\n",
            "the largest 'true' delta was:  86340.0\n",
            "this threshold allows us to recover:  99.06186726659168  of the positives\n"
          ],
          "name": "stdout"
        }
      ]
    },
    {
      "cell_type": "markdown",
      "metadata": {
        "id": "Z5ayYmuxjIB9"
      },
      "source": [
        "Considering that a 10-minute horizon would allow us to recover 99% of the true positives (at best), this seems like a pretty nice approach! So, let's see if we can construct the set of all reasonable negative samples within ten minutes of each other.\n",
        "\n",
        "With this `threshold` in place, we can work through the data set, time-sorted, in a nested (source > target) loop to draw negative connections between all viable pairs of posts. A key to this construction efficiently traverses the inner (targets) loop only over those which are viable, according to the 10-minute sampling window&mdash;and critically, keeping track of the point past which _all_ posts are already guarenteed to be beyond the 10-minute threshold: "
      ]
    },
    {
      "cell_type": "code",
      "metadata": {
        "colab": {
          "base_uri": "https://localhost:8080/"
        },
        "id": "AgamHWBZlySc",
        "outputId": "3774c452-7962-419f-a060-d6f4f2d8a645"
      },
      "source": [
        "for ky in ['test', 'validation', 'train']:\n",
        "    pids = sorted(list(post_data[ky].keys()), \n",
        "                  key = lambda x: post_data[ky][x]['dateparsed'])\n",
        "    j_low = 0\n",
        "    for i, pid in list(enumerate(pids)):\n",
        "        if not i: \n",
        "            continue\n",
        "        target_pids = list(enumerate(pids[:i]))[j_low:] \n",
        "        target_pids.reverse()\n",
        "        for j, target_pid in target_pids:\n",
        "            pair = tuple([pid, target_pid])\n",
        "            if pid != target_pid and (pair not in y[ky]):\n",
        "                source = post_data[ky][pair[0]]\n",
        "                target = post_data[ky][pair[1]]\n",
        "                delta = (source['dateparsed'] - target['dateparsed']).total_seconds()\n",
        "                if delta > threshold:\n",
        "                    j_low = j\n",
        "                    break\n",
        "                if ((source['id'] != target['id']) and \n",
        "                    ((source['target'] and source['target'] == target['source']) or \n",
        "                     (not source['target']))):\n",
        "                    y[ky][pair] = 0\n",
        "                    \n",
        "                    if not len(y[ky]) % 100000:\n",
        "                        print('percent of targets processed: ', 100*i/len(pids), \n",
        "                              'current negative to positive rate (class imbalance): ', \n",
        "                              len(y[ky])/sum(y[ky].values()))\n"
      ],
      "execution_count": null,
      "outputs": [
        {
          "output_type": "stream",
          "text": [
            "percent of targets processed:  13.810792804796803 current negative to positive rate (class imbalance):  15.913430935709739\n",
            "percent of targets processed:  24.716855429713526 current negative to positive rate (class imbalance):  31.826861871419478\n",
            "percent of targets processed:  39.57361758827448 current negative to positive rate (class imbalance):  47.740292807129215\n",
            "percent of targets processed:  67.51499000666223 current negative to positive rate (class imbalance):  63.653723742838956\n",
            "percent of targets processed:  18.089528377298162 current negative to positive rate (class imbalance):  31.55569580309246\n",
            "percent of targets processed:  30.99920063948841 current negative to positive rate (class imbalance):  63.11139160618492\n",
            "percent of targets processed:  54.96402877697842 current negative to positive rate (class imbalance):  94.66708740927737\n",
            "percent of targets processed:  82.82973621103118 current negative to positive rate (class imbalance):  126.22278321236983\n",
            "percent of targets processed:  0.4233600464154912 current negative to positive rate (class imbalance):  1.2587007690661698\n",
            "percent of targets processed:  1.4541103093157342 current negative to positive rate (class imbalance):  2.5174015381323396\n",
            "percent of targets processed:  2.41006998585778 current negative to positive rate (class imbalance):  3.7761023071985096\n",
            "percent of targets processed:  3.3596837944664033 current negative to positive rate (class imbalance):  5.034803076264679\n",
            "percent of targets processed:  4.184193349530406 current negative to positive rate (class imbalance):  6.293503845330849\n",
            "percent of targets processed:  4.953403198317439 current negative to positive rate (class imbalance):  7.552204614397019\n",
            "percent of targets processed:  5.768393951481307 current negative to positive rate (class imbalance):  8.81090538346319\n",
            "percent of targets processed:  6.627805780179135 current negative to positive rate (class imbalance):  10.069606152529358\n",
            "percent of targets processed:  7.581045799035428 current negative to positive rate (class imbalance):  11.328306921595528\n",
            "percent of targets processed:  8.4168872611234 current negative to positive rate (class imbalance):  12.587007690661698\n",
            "percent of targets processed:  8.998440729593502 current negative to positive rate (class imbalance):  13.845708459727868\n",
            "percent of targets processed:  9.806632338542988 current negative to positive rate (class imbalance):  15.104409228794038\n",
            "percent of targets processed:  10.575388911049062 current negative to positive rate (class imbalance):  16.36310999786021\n",
            "percent of targets processed:  11.117054066794793 current negative to positive rate (class imbalance):  17.62181076692638\n",
            "percent of targets processed:  11.661892156507234 current negative to positive rate (class imbalance):  18.88051153599255\n",
            "percent of targets processed:  12.217155600681728 current negative to positive rate (class imbalance):  20.139212305058717\n",
            "percent of targets processed:  12.924719875258367 current negative to positive rate (class imbalance):  21.397913074124887\n",
            "percent of targets processed:  13.626391558182544 current negative to positive rate (class imbalance):  22.656613843191057\n",
            "percent of targets processed:  14.344834463502194 current negative to positive rate (class imbalance):  23.915314612257227\n",
            "percent of targets processed:  15.232802697900425 current negative to positive rate (class imbalance):  25.174015381323397\n",
            "percent of targets processed:  15.948072669253364 current negative to positive rate (class imbalance):  26.432716150389567\n",
            "percent of targets processed:  16.507415599956484 current negative to positive rate (class imbalance):  27.691416919455737\n",
            "percent of targets processed:  17.27662544874352 current negative to positive rate (class imbalance):  28.950117688521907\n",
            "percent of targets processed:  18.05444754686877 current negative to positive rate (class imbalance):  30.208818457588077\n",
            "percent of targets processed:  18.96281321391014 current negative to positive rate (class imbalance):  31.467519226654247\n",
            "percent of targets processed:  19.474108858831634 current negative to positive rate (class imbalance):  32.72621999572042\n",
            "percent of targets processed:  19.734289444101968 current negative to positive rate (class imbalance):  33.98492076478659\n",
            "percent of targets processed:  20.070167168292418 current negative to positive rate (class imbalance):  35.24362153385276\n",
            "percent of targets processed:  20.516644305036806 current negative to positive rate (class imbalance):  36.50232230291893\n",
            "percent of targets processed:  21.07916016970664 current negative to positive rate (class imbalance):  37.7610230719851\n",
            "percent of targets processed:  21.76723356420205 current negative to positive rate (class imbalance):  39.01972384105127\n",
            "percent of targets processed:  22.264024368132866 current negative to positive rate (class imbalance):  40.27842461011743\n",
            "percent of targets processed:  22.738604634296696 current negative to positive rate (class imbalance):  41.53712537918361\n",
            "percent of targets processed:  23.433023896725533 current negative to positive rate (class imbalance):  42.79582614824977\n",
            "percent of targets processed:  24.180023207745585 current negative to positive rate (class imbalance):  44.05452691731595\n",
            "percent of targets processed:  24.872176088769628 current negative to positive rate (class imbalance):  45.31322768638211\n",
            "percent of targets processed:  25.584273126155853 current negative to positive rate (class imbalance):  46.57192845544829\n",
            "percent of targets processed:  26.20798128875512 current negative to positive rate (class imbalance):  47.83062922451445\n",
            "percent of targets processed:  26.826250135982885 current negative to positive rate (class imbalance):  49.08932999358063\n",
            "percent of targets processed:  27.522482503535556 current negative to positive rate (class imbalance):  50.34803076264679\n",
            "percent of targets processed:  28.11038183993908 current negative to positive rate (class imbalance):  51.60673153171297\n",
            "percent of targets processed:  28.799815063277368 current negative to positive rate (class imbalance):  52.86543230077913\n",
            "percent of targets processed:  29.3337745222468 current negative to positive rate (class imbalance):  54.12413306984531\n",
            "percent of targets processed:  30.179588062515865 current negative to positive rate (class imbalance):  55.38283383891147\n",
            "percent of targets processed:  30.740290822061862 current negative to positive rate (class imbalance):  56.64153460797765\n",
            "percent of targets processed:  31.123309279472025 current negative to positive rate (class imbalance):  57.90023537704381\n",
            "percent of targets processed:  31.700329985132537 current negative to positive rate (class imbalance):  59.15893614610999\n",
            "percent of targets processed:  32.2592196395547 current negative to positive rate (class imbalance):  60.41763691517615\n",
            "percent of targets processed:  32.94502665264532 current negative to positive rate (class imbalance):  61.67633768424233\n",
            "percent of targets processed:  33.381984987489574 current negative to positive rate (class imbalance):  62.93503845330849\n",
            "percent of targets processed:  33.98710882256953 current negative to positive rate (class imbalance):  64.19373922237466\n",
            "percent of targets processed:  34.549624687239366 current negative to positive rate (class imbalance):  65.45243999144084\n",
            "percent of targets processed:  35.121659353809335 current negative to positive rate (class imbalance):  66.711140760507\n",
            "percent of targets processed:  35.78978859194256 current negative to positive rate (class imbalance):  67.96984152957317\n",
            "percent of targets processed:  36.26799506835406 current negative to positive rate (class imbalance):  69.22854229863934\n",
            "percent of targets processed:  36.69271494361243 current negative to positive rate (class imbalance):  70.48724306770552\n",
            "percent of targets processed:  37.14100518548065 current negative to positive rate (class imbalance):  71.74594383677169\n",
            "percent of targets processed:  37.49818689487616 current negative to positive rate (class imbalance):  73.00464460583785\n",
            "percent of targets processed:  37.98681872574972 current negative to positive rate (class imbalance):  74.26334537490402\n",
            "percent of targets processed:  38.49131522645683 current negative to positive rate (class imbalance):  75.5220461439702\n",
            "percent of targets processed:  38.95547013815861 current negative to positive rate (class imbalance):  76.78074691303637\n",
            "percent of targets processed:  39.42415781266998 current negative to positive rate (class imbalance):  78.03944768210253\n",
            "percent of targets processed:  39.97624832287776 current negative to positive rate (class imbalance):  79.2981484511687\n",
            "percent of targets processed:  40.44810893135584 current negative to positive rate (class imbalance):  80.55684922023487\n",
            "percent of targets processed:  41.049153279907166 current negative to positive rate (class imbalance):  81.81554998930105\n",
            "percent of targets processed:  41.5314392428473 current negative to positive rate (class imbalance):  83.07425075836721\n",
            "percent of targets processed:  42.068118359502485 current negative to positive rate (class imbalance):  84.33295152743338\n",
            "percent of targets processed:  42.72944845342133 current negative to positive rate (class imbalance):  85.59165229649955\n",
            "percent of targets processed:  43.60472495195271 current negative to positive rate (class imbalance):  86.85035306556573\n",
            "percent of targets processed:  44.40294448272111 current negative to positive rate (class imbalance):  88.1090538346319\n",
            "percent of targets processed:  45.50440584545092 current negative to positive rate (class imbalance):  89.36775460369806\n",
            "percent of targets processed:  46.40189288174928 current negative to positive rate (class imbalance):  90.62645537276423\n",
            "percent of targets processed:  47.37099757043914 current negative to positive rate (class imbalance):  91.88515614183041\n",
            "percent of targets processed:  48.198226783188886 current negative to positive rate (class imbalance):  93.14385691089657\n",
            "percent of targets processed:  48.85139790405048 current negative to positive rate (class imbalance):  94.40255767996274\n",
            "percent of targets processed:  49.67228124886681 current negative to positive rate (class imbalance):  95.6612584490289\n",
            "percent of targets processed:  50.72614860209595 current negative to positive rate (class imbalance):  96.91995921809509\n",
            "percent of targets processed:  51.70975813177648 current negative to positive rate (class imbalance):  98.17865998716125\n",
            "percent of targets processed:  53.119900641839216 current negative to positive rate (class imbalance):  99.43736075622742\n",
            "percent of targets processed:  54.05908909598578 current negative to positive rate (class imbalance):  100.69606152529359\n",
            "percent of targets processed:  55.26571055589803 current negative to positive rate (class imbalance):  101.95476229435977\n",
            "percent of targets processed:  56.5874641911738 current negative to positive rate (class imbalance):  103.21346306342593\n",
            "percent of targets processed:  58.004859121731876 current negative to positive rate (class imbalance):  104.4721638324921\n",
            "percent of targets processed:  59.58815317112086 current negative to positive rate (class imbalance):  105.73086460155827\n",
            "percent of targets processed:  60.91443956920622 current negative to positive rate (class imbalance):  106.98956537062445\n",
            "percent of targets processed:  62.23528665192008 current negative to positive rate (class imbalance):  108.24826613969061\n",
            "percent of targets processed:  63.51488559306669 current negative to positive rate (class imbalance):  109.50696690875678\n",
            "percent of targets processed:  64.65215578199224 current negative to positive rate (class imbalance):  110.76566767782295\n",
            "percent of targets processed:  66.0432606882547 current negative to positive rate (class imbalance):  112.02436844688913\n",
            "percent of targets processed:  67.5834934909526 current negative to positive rate (class imbalance):  113.2830692159553\n",
            "percent of targets processed:  69.02853827464916 current negative to positive rate (class imbalance):  114.54176998502146\n",
            "percent of targets processed:  70.68073031874388 current negative to positive rate (class imbalance):  115.80047075408763\n",
            "percent of targets processed:  72.21688363491315 current negative to positive rate (class imbalance):  117.05917152315381\n",
            "percent of targets processed:  73.67643325960039 current negative to positive rate (class imbalance):  118.31787229221997\n",
            "percent of targets processed:  75.66858251441418 current negative to positive rate (class imbalance):  119.57657306128614\n",
            "percent of targets processed:  77.50027196576858 current negative to positive rate (class imbalance):  120.8352738303523\n",
            "percent of targets processed:  79.33830728505639 current negative to positive rate (class imbalance):  122.09397459941847\n",
            "percent of targets processed:  81.32320411937484 current negative to positive rate (class imbalance):  123.35267536848465\n",
            "percent of targets processed:  83.51479493781049 current negative to positive rate (class imbalance):  124.61137613755082\n",
            "percent of targets processed:  85.72179714979875 current negative to positive rate (class imbalance):  125.87007690661699\n",
            "percent of targets processed:  87.36175073430758 current negative to positive rate (class imbalance):  127.12877767568315\n",
            "percent of targets processed:  89.62722558653951 current negative to positive rate (class imbalance):  128.38747844474932\n",
            "percent of targets processed:  92.0150850346303 current negative to positive rate (class imbalance):  129.6461792138155\n",
            "percent of targets processed:  94.85395438227508 current negative to positive rate (class imbalance):  130.90487998288168\n",
            "percent of targets processed:  97.5790513833992 current negative to positive rate (class imbalance):  132.16358075194785\n"
          ],
          "name": "stdout"
        }
      ]
    },
    {
      "cell_type": "markdown",
      "metadata": {
        "id": "Zv3AWb0a2sW-"
      },
      "source": [
        "Now that we've got all of this high-quality (hopefully) contrastive information on good vs. bad connections, let's save the data in a convenient format for future predictive experiments."
      ]
    },
    {
      "cell_type": "code",
      "metadata": {
        "id": "nSsxhBe8224W"
      },
      "source": [
        "import json\n",
        "connections = {'positive': {ky: [list(map(str, connection)) \n",
        "                                 for connection in y[ky] if y[ky][connection]]\n",
        "                        for ky in y},\n",
        "               'negative': {ky: [list(map(str, connection)) \n",
        "                                 for connection in y[ky] if not y[ky][connection]]\n",
        "                        for ky in y}}\n",
        "with open('./data/connections.json', \"w\") as f:\n",
        "    f.write(json.dumps(connections))\n",
        "    \n",
        "thread =  {ky: {pid: dict(post_data[ky][pid])\n",
        "                for pid in post_data[ky]}\n",
        "           for ky in post_data}\n",
        "for ky in thread:\n",
        "    for pid in thread[ky]:\n",
        "        if 'counts' in thread[ky][pid]:\n",
        "            del(thread[ky][pid]['counts'])\n",
        "        thread[ky][pid]['dateparsed'] = thread[ky][pid]['dateparsed'].strftime(\"%Y-%m-%d %H:%M\")\n",
        "with open('./data/thread.json', \"w\") as f:\n",
        "    f.write(json.dumps(thread))"
      ],
      "execution_count": null,
      "outputs": []
    },
    {
      "cell_type": "markdown",
      "metadata": {
        "id": "-zBkjvs5VRR6"
      },
      "source": [
        "As we can see, building the data representation for learning a task at scale can be a lot of work. Often, we'll encounter different and interesting challenges just in the pre-processing work for an NLP task. As an aside, we should note that this, in and of itself, is _not_ an NLP task, but rather a conversational analysis meta-linguistic task, more focused on the connections between messages. As we get further along in NLP tasks we'll see this is more and more the case, where NLP is ultimately a means to an end for elucidating a broader, social phenomenon related to text-based communication.\n",
        "\n",
        "However, before proceeding we should ask one question:\n",
        "> should we expect that _all_ connections implied by the data are _actually_ annotated?\n",
        "\n",
        "As it turns out, even if the annotators did a _really_ good job and found highly-acccurate connections in the data, some are impossible to find! This is because there are `targets` which posted their posts before the first post in the dataset, e.g., if the oldest post in the data set replied to one from earlier, it's un-annotatable! You might then say \"well not many fall into this scenario\", but annotation is a _challenging_ task, and even good annotations often aren't complete. \n",
        "> So what's the point? \n",
        "\n",
        "Anecdotally, we should juxtapose this to, say, the NER task, which we might assume is guarenteed more completely and 'correctly' annotated. We'll often see these higher-order, social NLP tasks challenged by sampling and completeness and/or somewhat ambiguous/subjective notions of what a 'correct' answer is. For example here, a post could potentially be labeled as a reply to one or many others depending on how the annotator sees the information attaching, but ultimtately, the truth as to who the target 'was' is up to the sender of the message. These issues exist, even for the relatively straightforward objective of disentanglement, and become profound for tasks that engage diverse social groups and viewpoints, such as fact checking, etc.\n",
        "\n",
        "So at a high level, this should be taken into consideration as cautionary from a few different angles, namely, one should always assess early just how precisely predicable an NLP task is, and/or, how flexible/rigid (biased) a 'good' system be, given the community it is intended to serve. So on this note of viewpoints, a natural turn is to discuss the how NLP approaches 'what people think' about things, i.e., their sentiments and stances."
      ]
    },
    {
      "cell_type": "markdown",
      "metadata": {
        "id": "8nQsTvG2Mvkp"
      },
      "source": [
        "### 2.1.4 Sentiment and Stance\n",
        "A common entry point into NLP is through sentiment analysis, which generally might be described as anything to do with the measurement of the underlying emotion or affect of text, either at a token level (semantic norms) or with respect to a larger sentence or document. \n",
        "\n",
        "#### 2.1.4.1 Semantic norms\n",
        "For example the [LIWC](http://liwc.wpengine.com/) lexicon is (one of many) fine-grained data sources and contains sentiment, or, emotional-affect norms, $h(t)$ for tokens, $t$. These data sets generally involve human annotation with numerical scales on tokens, taken either in or out of context (depending on the model). \n",
        "\n",
        "For example, let's assume $W$ is our vocabulary of tokens and that $h:W\\rightarrow[-1,1]$. The ususal 'sentiment' norm might have `t = 'love'` with `h(t) = 0.87`, i.e., be super 'happy', and have `s = 'hate'` with `h(s) = -0.92`, i.e., be super 'sad' (regardless of context). \n",
        "\n",
        "Note that happy/sad is just one semantic norm dimension, and that [others develop lexica](https://saifmohammad.com/WebPages/lexicons.html) spanning a range emotions, such as the [NRC Emotion Lexicon](https://saifmohammad.com/WebPages/NRC-Emotion-Lexicon.htm), which covers fear, anger, anticipation, trust, surprise, positive, negative, sadness, disgust, joy. While the larger lexicon is availbe for research [by request](http://sentiment.nrc.ca/lexicons-for-research/), its downstream token-affect identification is readily available for production systems Python via pip:"
      ]
    },
    {
      "cell_type": "code",
      "metadata": {
        "colab": {
          "base_uri": "https://localhost:8080/"
        },
        "id": "sphAzNndQQge",
        "outputId": "0aa13d3b-1441-4f7e-c696-955ae375ed7e"
      },
      "source": [
        "!pip install nrclex"
      ],
      "execution_count": null,
      "outputs": [
        {
          "output_type": "stream",
          "text": [
            "Collecting nrclex\n",
            "\u001b[?25l  Downloading https://files.pythonhosted.org/packages/41/1c/0097ee39d456c8a92b2eb5dfd59f581a09a6bafede184a058fb0f19bb6ea/NRCLex-3.0.0.tar.gz (396kB)\n",
            "\u001b[K     |████████████████████████████████| 399kB 15.5MB/s eta 0:00:01\n",
            "\u001b[?25hRequirement already satisfied: textblob in /usr/local/lib/python3.7/dist-packages (from nrclex) (0.15.3)\n",
            "Requirement already satisfied: nltk>=3.1 in /usr/local/lib/python3.7/dist-packages (from textblob->nrclex) (3.2.5)\n",
            "Requirement already satisfied: six in /usr/local/lib/python3.7/dist-packages (from nltk>=3.1->textblob->nrclex) (1.15.0)\n",
            "Building wheels for collected packages: nrclex\n",
            "  Building wheel for nrclex (setup.py) ... \u001b[?25l\u001b[?25hdone\n",
            "  Created wheel for nrclex: filename=NRCLex-3.0.0-cp37-none-any.whl size=43310 sha256=d9c9d64606ea9f1ee9f94043f55573ccab0cc3aa85f2061a4509ce62b474566c\n",
            "  Stored in directory: /root/.cache/pip/wheels/17/31/64/035a8d245b4c217aeb8e8a2702d05dc91544b9c2334db72414\n",
            "Successfully built nrclex\n",
            "Installing collected packages: nrclex\n",
            "Successfully installed nrclex-3.0.0\n"
          ],
          "name": "stdout"
        }
      ]
    },
    {
      "cell_type": "markdown",
      "metadata": {
        "id": "DE2P7M-nUMPm"
      },
      "source": [
        "Here, we can see that in applying their affect-detection tool we can extract norm-specific information about a sentence, per their algorithm:"
      ]
    },
    {
      "cell_type": "code",
      "metadata": {
        "colab": {
          "base_uri": "https://localhost:8080/"
        },
        "id": "d5yUTecGKpMV",
        "outputId": "d4dd8d52-9e89-437b-db9e-74187568723e"
      },
      "source": [
        "from nrclex import NRCLex\n",
        "import nltk\n",
        "nltk.download('punkt')\n",
        "\n",
        "text_object = NRCLex(ds['train'][1055]['raw'])\n",
        "text_object.affect_dict, text_object.words"
      ],
      "execution_count": null,
      "outputs": [
        {
          "output_type": "stream",
          "text": [
            "[nltk_data] Downloading package punkt to /root/nltk_data...\n",
            "[nltk_data]   Unzipping tokenizers/punkt.zip.\n"
          ],
          "name": "stdout"
        },
        {
          "output_type": "execute_result",
          "data": {
            "text/plain": [
              "({'bug': ['disgust', 'fear', 'negative']},\n",
              " ['03:59',\n",
              "  'superted',\n",
              "  'Xophe',\n",
              "  'allthough',\n",
              "  'the',\n",
              "  'bug',\n",
              "  'might',\n",
              "  'be',\n",
              "  'minor',\n",
              "  'it',\n",
              "  'can',\n",
              "  'bring',\n",
              "  'down',\n",
              "  'the',\n",
              "  'user',\n",
              "  'experience'])"
            ]
          },
          "metadata": {
            "tags": []
          },
          "execution_count": 27
        }
      ]
    },
    {
      "cell_type": "markdown",
      "metadata": {
        "id": "rpoSjXjaKob1"
      },
      "source": [
        "#### 2.1.4.2 Structured Sentiment Analysis and Stance Detection\n",
        "These first looks into sentiment analysis and semantic norms operate the subject on a naïve, token-based level, or perhaps average across a document for an overall 'temperature' of the sentiment. However, many of the applications which involve sentiment analysis have structured objectives, such as sentiment with respect to a particular entity or subject. In other words, this might be characterized as the _stance_ of the sentiment towards a subject in question.\n",
        "\n",
        "With this general space (structured sentiment analysis) of development in mind, we'll now look at another [readily available data set](https://huggingface.co/datasets/per_sent), here focused on sentiment of an author towards the main entity in a news article. The authors describe this data set in [this document](https://arxiv.org/pdf/2011.06128.pdf)."
      ]
    },
    {
      "cell_type": "code",
      "metadata": {
        "colab": {
          "base_uri": "https://localhost:8080/",
          "height": 703,
          "referenced_widgets": [
            "79e7ab52929548ddbb540d74c3c6b0aa",
            "07c9e0567aff4228a5bdb79d9020ce73",
            "64a9a47708ac4c4aaed0bd1d0084482b",
            "efca9fc34c9141e8a540129301aba3a6",
            "ed15f49a6b1f4db0b11203dc9d665a6b",
            "0a8efdc860db498a8d8b0d6216bc627e",
            "e44da59468974c25a1d8b8b17bb72a97",
            "ba0161728db840789ac93ff3b041ea75",
            "24212f45f8e04550bb2d9bbe769e350b",
            "8abd3318adf1499381ec55f7ff842da8",
            "366c9343671d4bf283be0088d54422b1",
            "ad35de526e714f71a73a694796a6adfb",
            "de35d1efc17d4349841cd56ae00d18a1",
            "7e7cdd0b8d2449bfa9532464e2a479e4",
            "7105e3e93e23450e81eb9b96ed904a96",
            "f0f7c967c9c24a42a206b75a154d37b8",
            "afe3b8bd55394ce9bc81ac60946613fd",
            "125a78b9333f4e19936fdac8cf8a5f19",
            "3f92d36d54914c32913cf165a0f20d0e",
            "c5861bc162d74ef899d6db812404518e",
            "af5f65e295da47ed85e2e67a089619b2",
            "76712ef852094c07b38236e1ee500ea4",
            "e7d103404f0b435ea9bd6885c137f54b",
            "080cf7cbf2f64ed599d3ac09894ff2e2",
            "6c09438856334c22b9f20a2a78ddd42d",
            "45f65e383107443a8245242ff975a082",
            "c34db475bd474f4db634aa586d89902e",
            "4c4b25b31d5942998788d624fedca89e",
            "eeb79cce9ef0495081282c4048485b07",
            "acbe186de4834ee7b5bfa9bb7a1aa305",
            "eb10884da15e4b7eb1bce151bf401ad4",
            "c88fa23c2ddc40d4999ff639caddbf4e",
            "d67199c982a840d89d4984f7d091f009",
            "d7f83196243c4c93b4951d197f145f4c",
            "fc3d3f1012ef4f0480206082e8168273",
            "7ec76eaf797f4456b4200117d26666d0",
            "e54632450a8f4a13a45c1335ea2e007e",
            "f8b24cec10ac45a2994eccaffd9f4194",
            "2add51b8e773459c934dd9f0f6e98b7e",
            "05946153fdcc44ddadc078bc480535c3",
            "a835ceb909cd45e0aa70955304e8f4b1",
            "044b268a144949b091ecdff14c51696e",
            "267995b8d9fb4b0db7bf255c6a6b3c68",
            "bbf9f416ef374f9e9e998b24dd096666",
            "4f4aedded78c41edaa2375d0a29895a7",
            "0c42d913777f4255997d786bbdd99706",
            "7fbe9629d0fe497096462eaa45911b6c",
            "801c4b7d1d4441cb8ad32f01d0a2bfbe",
            "a9f50af96d4c4e51a3ed636ae7fc899d",
            "60126f5c7672417da2478af07965b488",
            "80a5f1271c314718a389b3b96b376dab",
            "7ad76554cdca434da451221acd882f23",
            "940a133ce45e484cae28e0be949d99f9",
            "7a0944d9f1c24cb6bab672dbac6720c0",
            "e5df74457dfa4a89859c92602568315f",
            "b5a8e89b430c4f3a9ab2a3bc96c5ffbb",
            "3f7aaf1d5e214db196cf50b6155a001d",
            "7bd121d875ef44c0b6bad480101f0f33",
            "4bad5fee89e544fabb43ea491c56f5eb",
            "bd9dcd57deec4fdd8378f9a952597076",
            "221a3ff65988477cb57841cf45f0ceac",
            "8c58069defce445480f56b1a4518b54c",
            "444c5c12ac184064875f712cac14ad9e",
            "02d74c7e14294a0fb2ea97a7f5210bfa",
            "08acee7538134a478805999e6405485e",
            "ce063aba924c4f3e9834b09f6bf2135c",
            "c9a13aa2d5fa4edab93561f5b6142f44",
            "7e21c0aeb6e94294ac38508a1e45dd2a",
            "c9d84dd927ca46998152852fa7c61092",
            "ab9f18e4351b498aa178f08dd4d6ca7f",
            "320f4a7b4efe414ab3bc38d1759f7c21",
            "9f7436b446374b6f9ed69f42843261a3",
            "c299ad5380b9402192f609eb837b5552",
            "01d8ab0e3ab84dc6a7c4588860ee3bf4",
            "a605c45bd903488a93595b43eb6ac8f6",
            "a90848695b9b47c1a4063f06a2dccfd3",
            "9fe1338f880945159267e8fff6c295a9",
            "ecc336cd7dcc45af82af2b21a617cbe4",
            "c5533682e3bf4b26a4849ca8eb6c6ff5",
            "950e8eca8d7b477db231f2503f8a2c6a"
          ]
        },
        "id": "CBWBiXEYM1FE",
        "outputId": "8ce36440-31cd-408c-d152-297667dc80e2"
      },
      "source": [
        "ds = datasets.load_dataset('per_sent')\n",
        "ds"
      ],
      "execution_count": null,
      "outputs": [
        {
          "output_type": "display_data",
          "data": {
            "application/vnd.jupyter.widget-view+json": {
              "model_id": "79e7ab52929548ddbb540d74c3c6b0aa",
              "version_major": 2,
              "version_minor": 0
            },
            "text/plain": [
              "HBox(children=(FloatProgress(value=0.0, description='Downloading', max=2408.0, style=ProgressStyle(description…"
            ]
          },
          "metadata": {
            "tags": []
          }
        },
        {
          "output_type": "stream",
          "text": [
            "\n"
          ],
          "name": "stdout"
        },
        {
          "output_type": "display_data",
          "data": {
            "application/vnd.jupyter.widget-view+json": {
              "model_id": "24212f45f8e04550bb2d9bbe769e350b",
              "version_major": 2,
              "version_minor": 0
            },
            "text/plain": [
              "HBox(children=(FloatProgress(value=0.0, description='Downloading', max=1665.0, style=ProgressStyle(description…"
            ]
          },
          "metadata": {
            "tags": []
          }
        },
        {
          "output_type": "stream",
          "text": [
            "\n"
          ],
          "name": "stdout"
        },
        {
          "output_type": "stream",
          "text": [
            "Using custom data configuration default\n"
          ],
          "name": "stderr"
        },
        {
          "output_type": "stream",
          "text": [
            "Downloading and preparing dataset per_sent/default (download: 22.05 MiB, generated: 22.34 MiB, post-processed: Unknown size, total: 44.39 MiB) to /root/.cache/huggingface/datasets/per_sent/default/1.1.0/f2c9b7bd72dc22e2a740b022df17e9178ff921d9144a431652ef2e7a80e8973f...\n"
          ],
          "name": "stdout"
        },
        {
          "output_type": "display_data",
          "data": {
            "application/vnd.jupyter.widget-view+json": {
              "model_id": "afe3b8bd55394ce9bc81ac60946613fd",
              "version_major": 2,
              "version_minor": 0
            },
            "text/plain": [
              "HBox(children=(FloatProgress(value=0.0, description='Downloading', max=3311158.0, style=ProgressStyle(descript…"
            ]
          },
          "metadata": {
            "tags": []
          }
        },
        {
          "output_type": "stream",
          "text": [
            "\n"
          ],
          "name": "stdout"
        },
        {
          "output_type": "display_data",
          "data": {
            "application/vnd.jupyter.widget-view+json": {
              "model_id": "6c09438856334c22b9f20a2a78ddd42d",
              "version_major": 2,
              "version_minor": 0
            },
            "text/plain": [
              "HBox(children=(FloatProgress(value=0.0, description='Downloading', max=515456.0, style=ProgressStyle(descripti…"
            ]
          },
          "metadata": {
            "tags": []
          }
        },
        {
          "output_type": "stream",
          "text": [
            "\n"
          ],
          "name": "stdout"
        },
        {
          "output_type": "display_data",
          "data": {
            "application/vnd.jupyter.widget-view+json": {
              "model_id": "d67199c982a840d89d4984f7d091f009",
              "version_major": 2,
              "version_minor": 0
            },
            "text/plain": [
              "HBox(children=(FloatProgress(value=0.0, description='Downloading', max=824940.0, style=ProgressStyle(descripti…"
            ]
          },
          "metadata": {
            "tags": []
          }
        },
        {
          "output_type": "stream",
          "text": [
            "\n"
          ],
          "name": "stdout"
        },
        {
          "output_type": "display_data",
          "data": {
            "application/vnd.jupyter.widget-view+json": {
              "model_id": "a835ceb909cd45e0aa70955304e8f4b1",
              "version_major": 2,
              "version_minor": 0
            },
            "text/plain": [
              "HBox(children=(FloatProgress(value=0.0, description='Downloading', max=599513.0, style=ProgressStyle(descripti…"
            ]
          },
          "metadata": {
            "tags": []
          }
        },
        {
          "output_type": "stream",
          "text": [
            "\n"
          ],
          "name": "stdout"
        },
        {
          "output_type": "display_data",
          "data": {
            "application/vnd.jupyter.widget-view+json": {
              "model_id": "a9f50af96d4c4e51a3ed636ae7fc899d",
              "version_major": 2,
              "version_minor": 0
            },
            "text/plain": [
              "HBox(children=(FloatProgress(value=1.0, bar_style='info', max=1.0), HTML(value='')))"
            ]
          },
          "metadata": {
            "tags": []
          }
        },
        {
          "output_type": "stream",
          "text": [
            "\r"
          ],
          "name": "stdout"
        },
        {
          "output_type": "display_data",
          "data": {
            "application/vnd.jupyter.widget-view+json": {
              "model_id": "3f7aaf1d5e214db196cf50b6155a001d",
              "version_major": 2,
              "version_minor": 0
            },
            "text/plain": [
              "HBox(children=(FloatProgress(value=1.0, bar_style='info', max=1.0), HTML(value='')))"
            ]
          },
          "metadata": {
            "tags": []
          }
        },
        {
          "output_type": "stream",
          "text": [
            "\r"
          ],
          "name": "stdout"
        },
        {
          "output_type": "display_data",
          "data": {
            "application/vnd.jupyter.widget-view+json": {
              "model_id": "08acee7538134a478805999e6405485e",
              "version_major": 2,
              "version_minor": 0
            },
            "text/plain": [
              "HBox(children=(FloatProgress(value=1.0, bar_style='info', max=1.0), HTML(value='')))"
            ]
          },
          "metadata": {
            "tags": []
          }
        },
        {
          "output_type": "stream",
          "text": [
            "\r"
          ],
          "name": "stdout"
        },
        {
          "output_type": "display_data",
          "data": {
            "application/vnd.jupyter.widget-view+json": {
              "model_id": "c299ad5380b9402192f609eb837b5552",
              "version_major": 2,
              "version_minor": 0
            },
            "text/plain": [
              "HBox(children=(FloatProgress(value=1.0, bar_style='info', max=1.0), HTML(value='')))"
            ]
          },
          "metadata": {
            "tags": []
          }
        },
        {
          "output_type": "stream",
          "text": [
            "Dataset per_sent downloaded and prepared to /root/.cache/huggingface/datasets/per_sent/default/1.1.0/f2c9b7bd72dc22e2a740b022df17e9178ff921d9144a431652ef2e7a80e8973f. Subsequent calls will reuse this data.\n"
          ],
          "name": "stdout"
        },
        {
          "output_type": "execute_result",
          "data": {
            "text/plain": [
              "DatasetDict({\n",
              "    train: Dataset({\n",
              "        features: ['DOCUMENT_INDEX', 'TITLE', 'TARGET_ENTITY', 'DOCUMENT', 'MASKED_DOCUMENT', 'TRUE_SENTIMENT', 'Paragraph0', 'Paragraph1', 'Paragraph2', 'Paragraph3', 'Paragraph4', 'Paragraph5', 'Paragraph6', 'Paragraph7', 'Paragraph8', 'Paragraph9', 'Paragraph10', 'Paragraph11', 'Paragraph12', 'Paragraph13', 'Paragraph14', 'Paragraph15'],\n",
              "        num_rows: 3355\n",
              "    })\n",
              "    test_random: Dataset({\n",
              "        features: ['DOCUMENT_INDEX', 'TITLE', 'TARGET_ENTITY', 'DOCUMENT', 'MASKED_DOCUMENT', 'TRUE_SENTIMENT', 'Paragraph0', 'Paragraph1', 'Paragraph2', 'Paragraph3', 'Paragraph4', 'Paragraph5', 'Paragraph6', 'Paragraph7', 'Paragraph8', 'Paragraph9', 'Paragraph10', 'Paragraph11', 'Paragraph12', 'Paragraph13', 'Paragraph14', 'Paragraph15'],\n",
              "        num_rows: 579\n",
              "    })\n",
              "    test_fixed: Dataset({\n",
              "        features: ['DOCUMENT_INDEX', 'TITLE', 'TARGET_ENTITY', 'DOCUMENT', 'MASKED_DOCUMENT', 'TRUE_SENTIMENT', 'Paragraph0', 'Paragraph1', 'Paragraph2', 'Paragraph3', 'Paragraph4', 'Paragraph5', 'Paragraph6', 'Paragraph7', 'Paragraph8', 'Paragraph9', 'Paragraph10', 'Paragraph11', 'Paragraph12', 'Paragraph13', 'Paragraph14', 'Paragraph15'],\n",
              "        num_rows: 827\n",
              "    })\n",
              "    validation: Dataset({\n",
              "        features: ['DOCUMENT_INDEX', 'TITLE', 'TARGET_ENTITY', 'DOCUMENT', 'MASKED_DOCUMENT', 'TRUE_SENTIMENT', 'Paragraph0', 'Paragraph1', 'Paragraph2', 'Paragraph3', 'Paragraph4', 'Paragraph5', 'Paragraph6', 'Paragraph7', 'Paragraph8', 'Paragraph9', 'Paragraph10', 'Paragraph11', 'Paragraph12', 'Paragraph13', 'Paragraph14', 'Paragraph15'],\n",
              "        num_rows: 578\n",
              "    })\n",
              "})"
            ]
          },
          "metadata": {
            "tags": []
          },
          "execution_count": 28
        }
      ]
    },
    {
      "cell_type": "markdown",
      "metadata": {
        "id": "yxjcO1KwWbpp"
      },
      "source": [
        "Looking again at a single instance, as the authors write:\n",
        "\n",
        "> Each document consists of multiple paragraphs. Each paragraph is labeled separately (Positive, Neutral, Negative) and the author’s sentiment towards the whole document is included as a document-level label. \n",
        "\n",
        "Since the authors only annotated affect for paragraphs of size 3&ndash;16, we should only pay attention to the paragaph-sentiment labels corresponding to the newline-delimited 'paragraphs' of those indices, i.e., shorter documents have been `-1`-padded with dummy annotations for up to 16 paragraphs."
      ]
    },
    {
      "cell_type": "code",
      "metadata": {
        "colab": {
          "base_uri": "https://localhost:8080/"
        },
        "id": "n_KW9tPzUViX",
        "outputId": "9f214abe-1748-4b1c-bb64-cc71ba4201c4"
      },
      "source": [
        "instance = ds['train'][6]\n",
        "instance"
      ],
      "execution_count": null,
      "outputs": [
        {
          "output_type": "execute_result",
          "data": {
            "text/plain": [
              "{'DOCUMENT': 'Lubna Hussein was among 13 women arrested July 3 in a raid by the public order police in Khartoum. Ten of the women were fined and flogged two days later. But Hussein and two others decided to go to trial.\\n Hussein said Friday she would rather go to jail than pay any fine  out of protest of the nation\\'s strict laws on women\\'s dress.\\n The case has made headlines in Sudan and around the world and Hussein used it to rally world opinion against the country\\'s morality laws based on a strict interpretation of Islam.\\n Galal al-Sayed  Hussein\\'s lawyer  said he advised her to pay the fine before appealing the decision. She refused  he said  \"She insisted.\"\\n As a U.N. staffer  Hussein should have immunity from prosecution but she has opted to resign so that she could stand trial and draw attention to the case.\\n In a column published in the British daily the Guardian Friday  Hussein said her case is not an isolated one  but is a showcase of repressive laws in a country with a long history of civil conflicts.\\n Hussein said earlier she would take the issue all the way to Sudan\\'s Constitutional Court necessary  but that if the court rules against her and orders the flogging  she\\'s ready \"to receive (even) 40 000 lashes\" if that what it takes to abolish the law.',\n",
              " 'DOCUMENT_INDEX': 7,\n",
              " 'MASKED_DOCUMENT': '[TGT] was among 13 women arrested July 3 in a raid by the public order police in Khartoum. Ten of the women were fined and flogged two days later. But [TGT] and two others decided to go to trial.\\n [TGT] said Friday she would rather go to jail than pay any fine  out of protest of the nation\\'s strict laws on women\\'s dress.\\n The case has made headlines in Sudan and around the world and [TGT] used it to rally world opinion against the country\\'s morality laws based on a strict interpretation of Islam.\\n Galal al-Sayed  [TGT]\\'s lawyer  said he advised her to pay the fine before appealing the decision. She refused  he said  \"She insisted.\"\\n As a U.N. staffer  [TGT] should have immunity from prosecution but she has opted to resign so that she could stand trial and draw attention to the case.\\n In a column published in the British daily the Guardian Friday  [TGT] said her case is not an isolated one  but is a showcase of repressive laws in a country with a long history of civil conflicts.\\n [TGT] said earlier she would take the issue all the way to Sudan\\'s Constitutional Court necessary  but that if the court rules against her and orders the flogging  she\\'s ready \"to receive (even) 40 000 lashes\" if that what it takes to abolish the law.',\n",
              " 'Paragraph0': 0,\n",
              " 'Paragraph1': 2,\n",
              " 'Paragraph10': -1,\n",
              " 'Paragraph11': -1,\n",
              " 'Paragraph12': -1,\n",
              " 'Paragraph13': -1,\n",
              " 'Paragraph14': -1,\n",
              " 'Paragraph15': -1,\n",
              " 'Paragraph2': 2,\n",
              " 'Paragraph3': 1,\n",
              " 'Paragraph4': 2,\n",
              " 'Paragraph5': 1,\n",
              " 'Paragraph6': 0,\n",
              " 'Paragraph7': -1,\n",
              " 'Paragraph8': -1,\n",
              " 'Paragraph9': -1,\n",
              " 'TARGET_ENTITY': 'Lubna Hussein',\n",
              " 'TITLE': 'Trouser-wearing women fined $200 in Sudan',\n",
              " 'TRUE_SENTIMENT': 1}"
            ]
          },
          "metadata": {
            "tags": []
          },
          "execution_count": 29
        }
      ]
    },
    {
      "cell_type": "markdown",
      "metadata": {
        "id": "TAtJ6hwnWrHq"
      },
      "source": [
        "Looking at the available paragraphs exhibited in the `'MASKED_DOCUMENT'` field, we can see that co-references to the target of the data set's sentiment analysis are resolved and annotated as `'[TGT]'` in the stream. Here, our goal is to determine the document- (whole list, below) and paragraph-level (elements of the list) sentiment of the author of the text with respect to the target of discussion:"
      ]
    },
    {
      "cell_type": "code",
      "metadata": {
        "colab": {
          "base_uri": "https://localhost:8080/"
        },
        "id": "v_xBpvIOWv_y",
        "outputId": "0b4191aa-db10-4c82-bc4c-b82c248a0a01"
      },
      "source": [
        "import re\n",
        "re.split(\" *\\n+ *\", instance['MASKED_DOCUMENT'])"
      ],
      "execution_count": null,
      "outputs": [
        {
          "output_type": "execute_result",
          "data": {
            "text/plain": [
              "['[TGT] was among 13 women arrested July 3 in a raid by the public order police in Khartoum. Ten of the women were fined and flogged two days later. But [TGT] and two others decided to go to trial.',\n",
              " \"[TGT] said Friday she would rather go to jail than pay any fine  out of protest of the nation's strict laws on women's dress.\",\n",
              " \"The case has made headlines in Sudan and around the world and [TGT] used it to rally world opinion against the country's morality laws based on a strict interpretation of Islam.\",\n",
              " 'Galal al-Sayed  [TGT]\\'s lawyer  said he advised her to pay the fine before appealing the decision. She refused  he said  \"She insisted.\"',\n",
              " 'As a U.N. staffer  [TGT] should have immunity from prosecution but she has opted to resign so that she could stand trial and draw attention to the case.',\n",
              " 'In a column published in the British daily the Guardian Friday  [TGT] said her case is not an isolated one  but is a showcase of repressive laws in a country with a long history of civil conflicts.',\n",
              " '[TGT] said earlier she would take the issue all the way to Sudan\\'s Constitutional Court necessary  but that if the court rules against her and orders the flogging  she\\'s ready \"to receive (even) 40 000 lashes\" if that what it takes to abolish the law.']"
            ]
          },
          "metadata": {
            "tags": []
          },
          "execution_count": 30
        }
      ]
    },
    {
      "cell_type": "markdown",
      "metadata": {
        "id": "tkq8moIOawsM"
      },
      "source": [
        "Here, there's a little bit of continuity in the way could evaluate such a model, but at either the paragraph or document level we could once again treat this as a categorical prediction problem with $5$ sentiment levels, i.e., classes $c\\in\\{-2, -1, 0, 1, 2\\}$."
      ]
    },
    {
      "cell_type": "markdown",
      "metadata": {
        "id": "BdrkLALRM1gW"
      },
      "source": [
        "### 2.1.4 Language Modeling\n",
        "So far, we've focused on NLP tasks and their data representations whose prediction provide information _about_ language. But how do we approach the modeling of systems whose objective should be to predict language, itself? We'll use this conceptual framing and call it _language modeling_ to characterize objectives for downstream applications that generally are required to _generate_ language, instead of predict, on it.\n",
        "\n",
        "Reductively, language models are tasked with predicting the next word, e.g., including the one right here. A model's goal is generally to characterize the probability for any sequence of $m$ tokens: $P(t_1, t_2,\\cdots, t_m)$. Supposing we wish to compute the model's probability up to the $m^\\text{th}$ token, the chain rule for conditional probability is invaluable:\n",
        "\n",
        "$$\n",
        "P(t_1, t_2,\\cdots, t_m) = \\prod_{i=1}^m P(t_i\\mid t_1,\\cdots, t_{i-1}) \n",
        "$$\n",
        "\n",
        "Here, we should observe that one may compute predictions from a language model incrementally and accumulate probabilistic information towards a given point of prediction, $t_m$.\n",
        "\n",
        "However, documents vary in size and each point of prediction, $t_{m}$, has a different ($m-1$) number of other tokens which preceed it. These aspects impose strong computational challenges. Thus, one must generally condition approximately via predictions at $t_{m}$ that utilize '$n$-gram' windows of $n>0$ previous tokens:\n",
        "\n",
        "$$\n",
        "P(t_1, t_2,\\cdots, t_m) \\approx \\prod_{i=1}^m P(t_i\\mid t_{i - n},\\cdots, t_{i-1}).\n",
        "$$\n",
        "\n",
        "These approximations allow language-model learning from corpus-based $n$-gram frequencies, so, e.g., if $f(t_1, t_2,\\cdots, t_n)$ represents the number of times the $n$-gram $\\{t_1, t_2,\\cdots, t_n\\}$ appears in a document, we can approximate the individual conditional probabilities as:\n",
        "\n",
        "$$\n",
        "\\hat{P}(t_n|t_1, t_2, \\cdots t_{n-1}) = \\frac{f(t_1, t_2,\\cdots, t_n)}{f(t_1, t_2,\\cdots, t_{n-1})}\n",
        "$$\n",
        "\n",
        "So for example, from our co-ocurrence matrix that we studied in __Chapter 1__, we can construct a $2$-gram language model! However, to go any further we'll need to discuss some inherent limitations."
      ]
    },
    {
      "cell_type": "markdown",
      "metadata": {
        "id": "hNF9FNH8RS1x"
      },
      "source": [
        "#### 2.1.4.1 Consequences of Combinatorality\n",
        "Language modeling is, in general, a task that is plagued by combinatorality. If we wish to think of it as a class-prediction problem like everything else we've studied so far (and quite reasonably), then the number of classes we must weight for prediction at any given point is $|V|$, i.e., the size of the given vocabulary. Thus is generally a _huge_ prediction space, and while we must wade into it, building combinatorial (e.g., $n$-gram) models forces us to consider storage constraints amidst sparse data that exists in vast dimensional space. In part, we've seen the effects of this in __Chapter 1__ with the co-ocurrence matrices, which were handled in part by sparse matrix representations, but some other numerics implications must be discussed.\n",
        "\n",
        "1. In calculating the numerator for any given $\\hat{P}(t_n|t_1, t_2, \\cdots t_{n-1})$ one often encounters the problem that a given $n$-gram has never before been observed in the corpus. By our formulation, the numerator becomes zero and makes the overall probability of the larger seqeunce (via the chain rule) $0$. To fix this, _smoothing_ is generally done, where a small positive value, $\\varepsilon>0$ is added to the language model's representation for each possible output:\n",
        "$$\n",
        "\\hat{P}(t_n|t_1, t_2, \\cdots t_{n-1}) = \\frac{\\varepsilon + f(t_1, t_2,\\cdots, t_n)}{\\varepsilon|V| + f(t_1, t_2,\\cdots, t_{n-1})}\n",
        "$$\n",
        "2. In considering the denominator, when even an $(n-1)$-gram hasn't been observed in the training corpus the $\\hat{P}$ model is reduced to a uniform distribution on the vocabulary size, which is generally less informative than ideal. To combat this issue, _backoff_ is often conducted, where if $f(t_1, t_2,\\cdots, t_{n-1}) = 0$, then $\\hat{P}$ is approximated instead via the next-smaller-gram model, i.e., based on the previous $n-2$ tokens (and so on), recursively: \n",
        "$$\n",
        "\\hat{P}(t_n|t_1, \\cdots t_{n-1})\\approx\\hat{P}(t_n|t_2, \\cdots t_{n-1}).$$ \n",
        "\n",
        "Generally, increasing $n$ for an $n$-gram language model improves its (yet-to-quantified) performance. However, this also makes their issues with combinatorality _worse_, including the dramatic increases in storage, i.e., memory that becomes required to operate them."
      ]
    },
    {
      "cell_type": "markdown",
      "metadata": {
        "id": "6onAvip7wXSE"
      },
      "source": [
        "#### 2.1.4.2 Sequence to Sequence Tasks\n",
        "So what can we do with language modeling? As mentioned when introduced, the general objective with language modeling is for text generation; this includes tasks where the system must:\n",
        "\n",
        "- translate, or, convert one language into another; \n",
        "- converse, or, provide an informative responses to prompts; and\n",
        "- summarize, or, edit content into a more-concise form.\n",
        "\n",
        "Traditionally, models built to satisfy language modeling tasks would consist of numerous different ML-algorithms satisfying incremental sub-tasks. These might be any of those NLP tasks discussed in this chapter prior to language modeling, and their information would be folded together as deemed appropriate at their various stages of prediction, in an ML-patchwork NLP pipeline. Note: this includes pipelines for which any one component might be 'deep' and so is in essence a characterization of the (lack of) _concurrence_ with which these model's parameters were trained, intgrated, and utilized for text generation. \n",
        "\n",
        "This aspect of language modeling as historically being satisfied by patchwork NLP pipelines speaks to its complexity. Unlike the first tasks we viewed where the objective of prediction was _about_ lanaguge, the language modeling tasks stated above are generally about producing a different variable-length sequence as response to an input sequence. Hence, they are generally called _sequence-to-sequence_, or, 'seq2seq' tasks or models etcetera. Consequently, these should be viewed as some of the most challenging NLP tasks to satisfy. \n",
        "\n",
        "The second reason we highlight this history of patchwork NLP pipelines and language generation is to reflect on how DL has critically provided a unifying modeling framework to allow seq2seq tasks to be modeled over their _full_ pipelines, i.e., from input to output sequence. What this means is that our objective while using DL in constructing language models will be to leverage end-to-end designs train all model parameters concurrently, i.e., are truly seq2seq."
      ]
    },
    {
      "cell_type": "markdown",
      "metadata": {
        "id": "7MOBTbeawe9C"
      },
      "source": [
        "#### 2.1.4.3 Machine Translation and BLEU\n",
        "Let's move straight towards the characteristic seq2seq task of machine translation with a [specific dataset](https://huggingface.co/datasets/europa_eac_tm), which conventiently allows us to specify the language pairs for which we'd like to observe translations. Documentation for this data set can be [found here](https://link.springer.com/article/10.1007/s10579-014-9277-0). Here, we load pairs for English and German:"
      ]
    },
    {
      "cell_type": "code",
      "metadata": {
        "colab": {
          "base_uri": "https://localhost:8080/",
          "height": 344,
          "referenced_widgets": [
            "6e0490080aad4623a34a4e01e0b7a13e",
            "579c4356ed1f488392555737258e203b",
            "15fd45c99bdd499981cafb709d470dfa",
            "5d16a253ac2f451cb5cf2ab98a0c5999",
            "6001617698a447efb0479272de0a464e",
            "a128c5ac24e44b5d91dad66b5fbf1198",
            "e02010ad802a4d48a398bf7c19532502",
            "a90d9e920fd34b64ad6337d7576e7d8f",
            "1915e6933abb467381af76d034311cb8",
            "e397857fbffe40568bce1df616ea4b01",
            "a4d03d21bcd64f688757f91cbc6073cd",
            "0a5d6c0034894ee086b620a0b118e99f",
            "c9a88b15f1f94f6dae6310fba2869898",
            "eb895a65e3c0420c9320fcfd498e0ebd",
            "d52459d70fb44033a8df7d512ab2fdfd",
            "139d4522af2345b4a044db390f5d20e6",
            "c57b45dbb05544aa893ab228c21e92f0",
            "dd4d63710de7491ab8532f9c35fad870",
            "022eaf66c02d44acaeace0189c14ff57",
            "259019e96eea4e0fba6b16ad2344b1e4",
            "a2b7c61e66ac4c8180612e09e002073f",
            "42536d20ab664e72acbce50d9917d0f6",
            "f58222d8ab504427a390fd22fea909dc",
            "7ccdfe7cadcd40ccb5ee1e1054d035c5",
            "ae78d55352284b508602753c5fcb117c",
            "6e7f14ab77a64070bda83dc30961fa7f",
            "1324f6ce6de04578adaf7a3310dca6b4",
            "ee35d2b3a2a94f6f82149d9ed55503a5",
            "4fe41590073b410a801fe7f8724877d4",
            "07e80bdcd09e45a4aed4bbd1bb18e5b8",
            "e84959b5c453429f9877bd5b22c0a0cd",
            "93edac5d85fd48b9ad8ebe909575e4b6"
          ]
        },
        "id": "vTJrQlUdwXtt",
        "outputId": "17c50410-c7be-47f0-85a3-18bc45643b67"
      },
      "source": [
        "ds = datasets.load_dataset('europa_eac_tm', language_pair=(\"en\", \"de\"))\n",
        "ds"
      ],
      "execution_count": null,
      "outputs": [
        {
          "output_type": "display_data",
          "data": {
            "application/vnd.jupyter.widget-view+json": {
              "model_id": "6e0490080aad4623a34a4e01e0b7a13e",
              "version_major": 2,
              "version_minor": 0
            },
            "text/plain": [
              "HBox(children=(FloatProgress(value=0.0, description='Downloading', max=3443.0, style=ProgressStyle(description…"
            ]
          },
          "metadata": {
            "tags": []
          }
        },
        {
          "output_type": "stream",
          "text": [
            "\n"
          ],
          "name": "stdout"
        },
        {
          "output_type": "display_data",
          "data": {
            "application/vnd.jupyter.widget-view+json": {
              "model_id": "1915e6933abb467381af76d034311cb8",
              "version_major": 2,
              "version_minor": 0
            },
            "text/plain": [
              "HBox(children=(FloatProgress(value=0.0, description='Downloading', max=2961.0, style=ProgressStyle(description…"
            ]
          },
          "metadata": {
            "tags": []
          }
        },
        {
          "output_type": "stream",
          "text": [
            "Using custom data configuration en2de-3ea1cf9b765fae58\n"
          ],
          "name": "stderr"
        },
        {
          "output_type": "stream",
          "text": [
            "\n",
            "Downloading and preparing dataset europa_eac_tm/en2de (download: 3.36 MiB, generated: 565.98 KiB, post-processed: Unknown size, total: 3.91 MiB) to /root/.cache/huggingface/datasets/europa_eac_tm/en2de-3ea1cf9b765fae58/0.0.0/f3a16cb432bdb8b5a8f765ffd7caf56de34b1f04dcb3a87d29ca75d6091da285...\n"
          ],
          "name": "stdout"
        },
        {
          "output_type": "display_data",
          "data": {
            "application/vnd.jupyter.widget-view+json": {
              "model_id": "c57b45dbb05544aa893ab228c21e92f0",
              "version_major": 2,
              "version_minor": 0
            },
            "text/plain": [
              "HBox(children=(FloatProgress(value=0.0, description='Downloading', max=3521416.0, style=ProgressStyle(descript…"
            ]
          },
          "metadata": {
            "tags": []
          }
        },
        {
          "output_type": "stream",
          "text": [
            "\n"
          ],
          "name": "stdout"
        },
        {
          "output_type": "display_data",
          "data": {
            "application/vnd.jupyter.widget-view+json": {
              "model_id": "ae78d55352284b508602753c5fcb117c",
              "version_major": 2,
              "version_minor": 0
            },
            "text/plain": [
              "HBox(children=(FloatProgress(value=1.0, bar_style='info', max=1.0), HTML(value='')))"
            ]
          },
          "metadata": {
            "tags": []
          }
        },
        {
          "output_type": "stream",
          "text": [
            "Dataset europa_eac_tm downloaded and prepared to /root/.cache/huggingface/datasets/europa_eac_tm/en2de-3ea1cf9b765fae58/0.0.0/f3a16cb432bdb8b5a8f765ffd7caf56de34b1f04dcb3a87d29ca75d6091da285. Subsequent calls will reuse this data.\n"
          ],
          "name": "stdout"
        },
        {
          "output_type": "execute_result",
          "data": {
            "text/plain": [
              "DatasetDict({\n",
              "    train: Dataset({\n",
              "        features: ['translation', 'sentence_type'],\n",
              "        num_rows: 4473\n",
              "    })\n",
              "})"
            ]
          },
          "metadata": {
            "tags": []
          },
          "execution_count": 31
        }
      ]
    },
    {
      "cell_type": "markdown",
      "metadata": {
        "id": "YzuX_KY4jXZo"
      },
      "source": [
        "Let's look at a single translation pair:"
      ]
    },
    {
      "cell_type": "code",
      "metadata": {
        "colab": {
          "base_uri": "https://localhost:8080/"
        },
        "id": "Wi9tfEQjjXlP",
        "outputId": "bebff0dd-09bd-4347-ef8c-f3e4528b3a9f"
      },
      "source": [
        "instance = ds['train'][2]\n",
        "instance['translation']"
      ],
      "execution_count": null,
      "outputs": [
        {
          "output_type": "execute_result",
          "data": {
            "text/plain": [
              "{'de': 'Der Förderantrag wird elektronisch verarbeitet. Alle personenbezogenen Daten (wie Namen, Adressen, CVs etc.) werden gemäß Verordnung (EG) Nr. 45/2001 des Europäischen Parlaments und des Rates vom 18. Dezember 2000 zum Schutz natürlicher Personen bei der Verarbeitung personenbezogener Daten und zum freien Datenverkehr verarbeitet. Von den Antragstellern angegebene Informationen, die für die Beurteilung ihres Förderantrags notwendig sind, werden von der für das betreffende Programm zuständigen Abteilung ausschließlich für diesen Zweck verarbeitet. Auf Wunsch des Antragstellers/der Antragstellerin können personenbezogene Daten zur Korrektur oder Vervollständigung an den Antragsteller/die Antragstellerin gesendet werden. Fragen betreffend diese Daten sind an die zuständige Agentur zu richten, bei der das Formular eingereicht werden muss. Begünstigte können jederzeit beim Europäischen Datenschutzbeauftragten eine Beschwerde gegen die Verarbeitung ihrer personenbezogenen Daten einlegen.',\n",
              " 'en': \"The grant application will be processed by computer. All personal data (such as names, addresses, CVs, etc.) will be processed in accordance with Regulation (EC) No 45/2001 of the European Parliament and of the Council of 18 December 2000 on the protection of individuals with regard to the processing of personal data by the Community institutions and bodies and on the free movement of such data. Information provided by the applicants necessary in order to assess their grant application will be processed solely for that purpose by the department responsible for the programme concerned. On the applicant's request, personal data may be sent to the applicant to be corrected or completed. Any question relating to these data, should be addressed to the appropriate Agency to which the form must be submitted. Beneficiaries may lodge a complaint against the processing of their personal data with the European Data Protection Supervisor at anytime.\"}"
            ]
          },
          "metadata": {
            "tags": []
          },
          "execution_count": 32
        }
      ]
    },
    {
      "cell_type": "markdown",
      "metadata": {
        "id": "bhideaCAmGsU"
      },
      "source": [
        "An immediate observation should be that this pair involves substantially long streams of text. Some will be (much) shorter, and this property&mdash;variable sequence length&mdash;is pervasive. Likewise, we observe that a 'good' translation here could likely just as well exchange:\n",
        "> (such as names, addresses, CVs, etc.)...\n",
        "\n",
        "with:\n",
        "> (for example names, addresses, CVs, etc.)...\n",
        "\n",
        "In other words, we shouldn't expect that one or the other is necessarily the _perfect_ translation, if we want to avoid our issues with combinatorality and sparsity. Hence, comparisons of models for machine translation are generally made according to a specially-designed metric called Bilingual Evaluation Understudy (BLEU), which works as follows. \n",
        "\n",
        "Borrowing from the $n$-gram langauge model's statistics, BLEU employs $n$-gram analysis between a prediction and reference translation. Precisely, BLEU assesses the fraction of $n$-grams that appear in the reference, with caveats that 1) an $n$-gram in the reference cannot be matched more than once, and 2) a penalty is enforced for extremely brief output, e.g., single-word outputs that are too 'concise'.\n",
        "\n",
        "To express BLEU, let's first define the numbers of tokens in the prediction and reference as $m_p$ and $m_r$ choose a maximum gram-length, $k$, and, for each $n\\leq k$ let $p_n$ be the precision-score fraction of the prediction's $n$-grams that appear in the reference. A brevity penalty is then defined by:\n",
        "$$\n",
        "\\beta = e^{\\min\\left(\\left\\{0,\\:1 - \\frac{m_r}{m_p}\\right\\}\\right)}\n",
        "$$\n",
        "\n",
        "which provides more weight&mdash;up to $e$&mdash;to longer predictions and equally-low weight (equal to $1$) to all predictions shorter than the reference. [Geometric weights](https://en.wikipedia.org/wiki/Weighted_geometric_mean), $w_n = 2^{-n}$, are then utilize to form a blending of the precision scores to define BLEU as:\n",
        "$$\n",
        "\\text{BLEU} = \\beta\\prod_{n = 1}^kp_n^{w_n}\n",
        "$$\n",
        "\n",
        "For machine translation, BLEU (and variants of it) provide an $F_1$-like score that can be used to benchmark and compare systems. The usage of BLEU is presented for convenience, below. But this point in our discussion provides a useful pivot to begin thinking about how we'll train our DL system, which as we'll see doesn't rely on the somewhat arbitrary and highly-non-smooth decision surfaces which BLEU (and $F_1$) present."
      ]
    },
    {
      "cell_type": "code",
      "metadata": {
        "colab": {
          "base_uri": "https://localhost:8080/"
        },
        "id": "XoMB6wqdywp4",
        "outputId": "2c34d672-5704-4401-952f-2b9e56135e77"
      },
      "source": [
        "!pip install sacrebleu"
      ],
      "execution_count": null,
      "outputs": [
        {
          "output_type": "stream",
          "text": [
            "Collecting sacrebleu\n",
            "\u001b[?25l  Downloading https://files.pythonhosted.org/packages/7e/57/0c7ca4e31a126189dab99c19951910bd081dea5bbd25f24b77107750eae7/sacrebleu-1.5.1-py3-none-any.whl (54kB)\n",
            "\u001b[K     |████████████████████████████████| 61kB 6.3MB/s  eta 0:00:01\n",
            "\u001b[?25hCollecting portalocker==2.0.0\n",
            "  Downloading https://files.pythonhosted.org/packages/89/a6/3814b7107e0788040870e8825eebf214d72166adf656ba7d4bf14759a06a/portalocker-2.0.0-py2.py3-none-any.whl\n",
            "Installing collected packages: portalocker, sacrebleu\n",
            "Successfully installed portalocker-2.0.0 sacrebleu-1.5.1\n"
          ],
          "name": "stdout"
        }
      ]
    },
    {
      "cell_type": "code",
      "metadata": {
        "colab": {
          "base_uri": "https://localhost:8080/",
          "height": 242,
          "referenced_widgets": [
            "0488f8f9b009409ea26bc486791d4665",
            "a8ce4f1a3de94b68a66c6d6b6e5e1c46",
            "c80aa0c23347406186ed13b699bce7ca",
            "159fd16bc0ad4292b16d954ec0f2656c",
            "f44edbb5e5494f4fadb388d27add538b",
            "44277debf6c542298370d2db7ac76914",
            "7731686414d3441d98f1448e62e2c684",
            "7f801512dd2c4b0d8250d84144fade27"
          ]
        },
        "id": "NITdWDVAwfQU",
        "outputId": "ce9602ce-7be7-453c-e81b-75f045511c8f"
      },
      "source": [
        "from datasets import load_metric\n",
        "metric = load_metric(\"sacrebleu\")\n",
        "\n",
        "test_references = [[instance['translation']['en'], \n",
        "                    re.sub(\"such as names\", \"for example names\", instance['translation']['en'])]]\n",
        "\n",
        "test_predictions = [re.sub(\"such as names\", \"including names\", instance['translation']['en'])]\n",
        "\n",
        "metric.add_batch(predictions = test_predictions, references = test_references)\n",
        "metric.compute()"
      ],
      "execution_count": null,
      "outputs": [
        {
          "output_type": "display_data",
          "data": {
            "application/vnd.jupyter.widget-view+json": {
              "model_id": "0488f8f9b009409ea26bc486791d4665",
              "version_major": 2,
              "version_minor": 0
            },
            "text/plain": [
              "HBox(children=(FloatProgress(value=0.0, description='Downloading', max=2236.0, style=ProgressStyle(description…"
            ]
          },
          "metadata": {
            "tags": []
          }
        },
        {
          "output_type": "stream",
          "text": [
            "\n"
          ],
          "name": "stdout"
        },
        {
          "output_type": "execute_result",
          "data": {
            "text/plain": [
              "{'bp': 0.9940652993697221,\n",
              " 'counts': [167, 165, 163, 161],\n",
              " 'precisions': [99.4047619047619,\n",
              "  98.80239520958084,\n",
              "  98.19277108433735,\n",
              "  97.57575757575758],\n",
              " 'ref_len': 169,\n",
              " 'score': 97.90704464864113,\n",
              " 'sys_len': 168,\n",
              " 'totals': [168, 167, 166, 165]}"
            ]
          },
          "metadata": {
            "tags": []
          },
          "execution_count": 34
        }
      ]
    },
    {
      "cell_type": "markdown",
      "metadata": {
        "id": "gPnQULP6ztc5"
      },
      "source": [
        "If we want to know what all olf this means, we can view below to see that the $n$-gram precisions and their aggregated score are all present, including the computed brevity penalty that was applied."
      ]
    },
    {
      "cell_type": "code",
      "metadata": {
        "colab": {
          "base_uri": "https://localhost:8080/"
        },
        "id": "6wh4dKoYzw5W",
        "outputId": "00a5b3ac-1785-47d0-9592-51a997919057"
      },
      "source": [
        "print(metric.inputs_description)"
      ],
      "execution_count": null,
      "outputs": [
        {
          "output_type": "stream",
          "text": [
            "\n",
            "Produces BLEU scores along with its sufficient statistics\n",
            "from a source against one or more references.\n",
            "\n",
            "Args:\n",
            "    predictions: The system stream (a sequence of segments)\n",
            "    references: A list of one or more reference streams (each a sequence of segments)\n",
            "    smooth: The smoothing method to use\n",
            "    smooth_value: For 'floor' smoothing, the floor to use\n",
            "    force: Ignore data that looks already tokenized\n",
            "    lowercase: Lowercase the data\n",
            "    tokenize: The tokenizer to use\n",
            "Returns:\n",
            "    'score': BLEU score,\n",
            "    'counts': Counts,\n",
            "    'totals': Totals,\n",
            "    'precisions': Precisions,\n",
            "    'bp': Brevity penalty,\n",
            "    'sys_len': predictions length,\n",
            "    'ref_len': reference length,\n",
            "Examples:\n",
            "\n",
            "    >>> predictions = [\"hello there general kenobi\", \"foo bar foobar\"]\n",
            "    >>> references = [[\"hello there general kenobi\", \"hello there !\"], [\"foo bar foobar\", \"foo bar foobar\"]]\n",
            "    >>> sacrebleu = datasets.load_metric(\"sacrebleu\")\n",
            "    >>> results = sacrebleu.compute(predictions=predictions, references=references)\n",
            "    >>> print(list(results.keys()))\n",
            "    ['score', 'counts', 'totals', 'precisions', 'bp', 'sys_len', 'ref_len']\n",
            "    >>> print(round(results[\"score\"], 1))\n",
            "    100.0\n",
            "\n"
          ],
          "name": "stdout"
        }
      ]
    },
    {
      "cell_type": "markdown",
      "metadata": {
        "id": "JuyNVO5A3Brh"
      },
      "source": [
        "## 2.2 Objective functions, error signals, and performance\n",
        "\n",
        "How do we evaluate how 'good' a prediction of, e.g., NER tags is? Downstream, this will tell us how to adjust the weights of a network, i.e., train it. With the machine translation example above, we were introduced to how&mdash;for _human_ interpretation and scientific evaluation&mdash;we might use BLEU or an $F_1$ metric to benchmark our algorithms on test data to express if they are 'good' enough to use. \n",
        "\n",
        "However, to teach the _algorithms_ how to be 'better,' we'll need to operate their parameter spaces _smoothly_ over training data and so will need less arbitrary objectives that can be differentiated (e.g., for gradient descent varients) to optimize our models. It turns out, that since our prediction scenarios are generally categorical, we'll generally conduct learning via the same objective&mdash;regardless of the number of prediction classes. So, whether we're predicting between $9$ different named-entity tags, or across $|W|$ different tokens in a language modeling experiment, we'll use the same _cross-entropy_ objective for learning, described below.\n",
        "\n",
        "### 2.2.1 The categorical likelihood objective\n",
        "In general, let's consider the case where there is a discrete set of classes $c\\in C$ that we'd like to predict for our data. For each $x$ in our data set of $N$ points, $X$, our goal is to determine a boolean output vector, $y\\in\\mathbb{B}^{|C|}$ of norm 1: $\\|y\\| = 1$, i.e., with exactly one non-zero entry corresponding to $x$'s the true class membership. \n",
        "\n",
        "Generally, we won't be making predictions, $\\hat{y}$, that have exactly one non-zero entry and instead, predict for each point, $x\\in X$, compute _probabilistic_ vectors, $\\hat{y}(x)\\in[0,1]^{|C|}$. Across the classes $c\\in C$, $x$'s measurable contribution:\n",
        "$$\n",
        "\\mathcal{J}\\left(y(x), \\hat{y}(x)\\right) = \\prod_{c\\in C}\\hat{y}(x\\mid c)^{y(x\\mid c)}\n",
        "$$\n",
        "\n",
        "can be factored in with others to form the overall multi-class likelihood:\n",
        "\n",
        "$$\n",
        "\\mathcal{J}(X) = \\prod_{x\\in X}\\mathcal{J}\\left(y(x), \\hat{y}(x)\\right)= \\prod_{x\\in X}\\prod_{c \\in C}  \\hat{y}(x\\mid c)^{y(x\\mid c)}\n",
        "$$\n",
        "\n",
        "which in general will increase with 'better' predictions. Essentially, known relationships between $x$ and $c$ are _indicated_ by $y(x\\mid c) = 1$, and a model is deemed 'better' when more of the indicated data appears likely under the expectation measured by $\\hat{y}(x\\mid c)$.\n",
        "\n",
        "### 2.2.2 Optimizing through cross-entropy error signals\n",
        "\n",
        "In practice and like other probabilistic framings, the likelihood $\\mathcal{J}(X)$ is computationally unstable as a result of numerous multiplication operations. As a result, the negative logarithm is generally taken and optimized:\n",
        "\n",
        "$$\n",
        "\\mathcal{L}(X) = -\\log\\mathcal{J}(X) = \\sum_{x\\in X}\\mathcal{L}\\left(y(x), \\hat{y}(x)\\right)= -\\sum_{x\\in X}\\sum_{c \\in C}  y(x\\mid c)\\log\\hat{y}(x\\mid c)\n",
        "$$\n",
        "\n",
        "and is often referred to as the _cross entropy_ of the prediction. The negative logarithm's monotonicity and smoothness ensure it's optimization result in the same objective extrema, but moreover, via the product and power rules we are granted access to an objective that is computationally stable through additive aggregation."
      ]
    },
    {
      "cell_type": "markdown",
      "metadata": {
        "id": "MQOKT7312wEP"
      },
      "source": [
        "#### 2.2.2.1 Learning over Cross-Entropy\n",
        "While we won't _always_ handle the calculation of gradients directly, the learning information that will be utilized from any objective function $\\mathcal{L}(X)$ will generally be found by first calculating the gradient of $\\mathcal{L}(X)$ along all model parameters. That is, since $\\hat{y}(x;\\Phi)$ will generally be a prediction that relies on many model parameters, $\\phi_i\\in\\Phi$, a common step in moving towards the computation of a DL system will generally entail formulating the objective function in terms of the model parameters as $\\mathcal{L}(X; \\Phi)$ and computing its gradient:\n",
        "$$\n",
        "\\nabla\\mathcal{L}(X; \\Phi) = \\left[\\mathcal{L}_{\\phi_1}(X;\\Phi), \\mathcal{L}_{\\phi_2}(X;\\Phi), \\cdots, \\mathcal{L}_{\\phi_{|\\Phi|}}(X;\\Phi)\\right]\n",
        "$$\n",
        "\n",
        "as a general strategy. In fact, we'll see this pattern of work in full effect in our first deep/neural model in __Chapter 3__, when we explore how CBOW and language modeling converge as the word2vec algorithm and allow scalable methods for representation learning, which we'll see to overcome many of the sparsity- and combintorality-related problems incurred via models of co-ocurrence, such as those explored in __Chapter 1__."
      ]
    },
    {
      "cell_type": "markdown",
      "metadata": {
        "id": "R8LAqUYwzMRJ"
      },
      "source": [
        "### 2.2.3 Perplexity as a performance measure\n",
        "Cross validations with BLEU and $F_1$ scores elucidate how well models perform on development-specific data and can be measured over out-of-domain sets to understand how well a deployment will function in a non-development scenario. But how would we understand how well a model is performing during deployment, when, perhaps it's not clear what the 'right' output should exactly be. \n",
        "\n",
        "For example, if our task is language generation for a chat bot, how could we know when that chat bot is more or less 'certain' of itself? Using BLEU or or other BLEU-like positive prediction/confusion matrix strategies will always require building a 'gold standard' collection of reference responses to specific input prompts. Moreover, as we see with BLEU&mdash;when the number of classes becomes large (e.g., the size of a vocabulary), macro- or micro-averaging $F_1$-like statistics often provides to coarse and task-specific a statsitic to be interpretably useful&mdash;after all, our use case in this discussion is to inform the _developer_ of the models current performing state, at _any_ given time of operation.\n",
        "\n",
        "All of this should motivate the question:\n",
        "> can't we just somehow use the probabilities, or, cross-entropy values we compute to score a prediction? \n",
        "\n",
        "So for example, even if we don't know what the $y$ value is, we still have a $\\hat{y}$ vector&mdash;can't we just use our 'best' choice, e.g., 'argmax' probability/entropy as a measure of certainty? \n",
        "\n",
        "Well, If it helps the learning, then certainly&mdash;the lower the entropy of the prediction, the morece certain a model is of its operation. However, people find it _hard_ to interpret logaritmicly-unitized information, i.e., in bits or nats, so the custom is to transform back to the event space of the probability distribution, with a measure called _perplexity_:\n",
        "$$\n",
        "\\mathcal{T}(X) = \n",
        "e^{\\mathcal{L}(X)} = \n",
        "e^{-\\log\\mathcal{J}(X)} = \n",
        "\\mathcal{J}(X)^{-1}\n",
        "$$\n",
        "\n",
        "\n",
        "Here, we use $\\mathcal{T}$, i.e., \"script-T\" to build the intuition that perplexity is always in units of _time_ with respect to the event space. In other words, since $\\mathcal{T}$ is the reciprocal of a probability, $\\mathcal{J}$, it\n",
        "> $\\mathcal{T}$: represents the number of predictions (events) required for the system to have made one correct guess.\n",
        "\n",
        "Note: the base of exponentiation is left as $e$ in the above. However in principle, the base should simply be whatever base _of logarithm_ is used in the computation of $\\mathcal{L}$ from $\\mathcal{J}$. _Provided the bases of the logarithm and exponent match, perplexity is always in the same event-space units_, regardles of choice of base.\n",
        "\n",
        "This means $\\mathcal{T}\\geq 1$, with $\\mathcal{T} = 1$ indicating a model driven to complete certainty. Note that while perplexity provides a different intuitive viewpoint into model performance, it is dynamically the exact same as entropy. In deployment, note that having $\\mathcal{T} = 1$/model certainty may not be a 'good thing' necessarily, e.g., as it could exhibit an extreme rigidity of operation. Likewise, a large value of perplexity could indicate poorly-concentrated decision making, i.e., with flat model-score distributions resulting in un-realistic predictions (if sampling, e.g., in language generation tasks).\n"
      ]
    },
    {
      "cell_type": "code",
      "metadata": {
        "id": "Ai2TGLBJ5KPP"
      },
      "source": [
        ""
      ],
      "execution_count": null,
      "outputs": []
    }
  ]
}